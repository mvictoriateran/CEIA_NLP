{
  "cells": [
    {
      "cell_type": "markdown",
      "metadata": {
        "id": "McArD4rSDR2K"
      },
      "source": [
        "### Consigna del desafío 1"
      ]
    },
    {
      "cell_type": "markdown",
      "metadata": {
        "id": "lJgf6GQIIEH1"
      },
      "source": [
        "**1**. Vectorizar documentos. Tomar 5 documentos al azar y medir similaridad con el resto de los documentos.\n",
        "Estudiar los 5 documentos más similares de cada uno analizar si tiene sentido\n",
        "la similaridad según el contenido del texto y la etiqueta de clasificación.\n",
        "\n",
        "**2**. Entrenar modelos de clasificación Naïve Bayes para maximizar el desempeño de clasificación\n",
        "(f1-score macro) en el conjunto de datos de test. Considerar cambiar parámteros\n",
        "de instanciación del vectorizador y los modelos y probar modelos de Naïve Bayes Multinomial\n",
        "y ComplementNB.\n",
        "\n",
        "**3**. Transponer la matriz documento-término. De esa manera se obtiene una matriz\n",
        "término-documento que puede ser interpretada como una colección de vectorización de palabras.\n",
        "Estudiar ahora similaridad entre palabras tomando 5 palabras y estudiando sus 5 más similares. **La elección de palabras no debe ser al azar para evitar la aparición de términos poco interpretables, elegirlas \"manualmente\"**.\n"
      ]
    },
    {
      "cell_type": "code",
      "execution_count": 1,
      "metadata": {
        "id": "oHy66jsuKe4e"
      },
      "outputs": [],
      "source": [
        "# Importo librerias\n",
        "from sklearn.feature_extraction.text import CountVectorizer, TfidfVectorizer\n",
        "from sklearn.metrics.pairwise import cosine_similarity\n",
        "from sklearn.naive_bayes import MultinomialNB, ComplementNB\n",
        "from sklearn.metrics import f1_score\n",
        "\n",
        "\n",
        "from sklearn.datasets import fetch_20newsgroups\n",
        "import numpy as np\n",
        "import pandas as pd"
      ]
    },
    {
      "cell_type": "code",
      "execution_count": 2,
      "metadata": {
        "id": "qI9FrurRKe4g"
      },
      "outputs": [],
      "source": [
        "# cargamos los datos (ya separados de forma predeterminada en train y test)\n",
        "newsgroups_train = fetch_20newsgroups(subset='train', remove=('headers', 'footers', 'quotes'))\n",
        "newsgroups_test = fetch_20newsgroups(subset='test', remove=('headers', 'footers', 'quotes'))"
      ]
    },
    {
      "cell_type": "code",
      "execution_count": 3,
      "metadata": {
        "colab": {
          "base_uri": "https://localhost:8080/",
          "height": 70
        },
        "id": "l947ViIvKe4h",
        "outputId": "95aef2d1-7222-4d8b-cd39-85a4b04facdd"
      },
      "outputs": [
        {
          "output_type": "execute_result",
          "data": {
            "text/plain": [
              "'I was wondering if anyone out there could enlighten me on this car I saw\\nthe other day. It was a 2-door sports car, looked to be from the late 60s/\\nearly 70s. It was called a Bricklin. The doors were really small. In addition,\\nthe front bumper was separate from the rest of the body. This is \\nall I know. If anyone can tellme a model name, engine specs, years\\nof production, where this car is made, history, or whatever info you\\nhave on this funky looking car, please e-mail.'"
            ],
            "application/vnd.google.colaboratory.intrinsic+json": {
              "type": "string"
            }
          },
          "metadata": {},
          "execution_count": 3
        }
      ],
      "source": [
        "#veo el primer documento\n",
        "newsgroups_train.data[0]"
      ]
    },
    {
      "cell_type": "code",
      "execution_count": 4,
      "metadata": {
        "colab": {
          "base_uri": "https://localhost:8080/"
        },
        "id": "CHXktPFKKe4i",
        "outputId": "d19d3349-754c-4081-d503-f1bae643bb99"
      },
      "outputs": [
        {
          "output_type": "stream",
          "name": "stdout",
          "text": [
            "clases [ 0  1  2  3  4  5  6  7  8  9 10 11 12 13 14 15 16 17 18 19]\n"
          ]
        },
        {
          "output_type": "execute_result",
          "data": {
            "text/plain": [
              "['alt.atheism',\n",
              " 'comp.graphics',\n",
              " 'comp.os.ms-windows.misc',\n",
              " 'comp.sys.ibm.pc.hardware',\n",
              " 'comp.sys.mac.hardware',\n",
              " 'comp.windows.x',\n",
              " 'misc.forsale',\n",
              " 'rec.autos',\n",
              " 'rec.motorcycles',\n",
              " 'rec.sport.baseball',\n",
              " 'rec.sport.hockey',\n",
              " 'sci.crypt',\n",
              " 'sci.electronics',\n",
              " 'sci.med',\n",
              " 'sci.space',\n",
              " 'soc.religion.christian',\n",
              " 'talk.politics.guns',\n",
              " 'talk.politics.mideast',\n",
              " 'talk.politics.misc',\n",
              " 'talk.religion.misc']"
            ]
          },
          "metadata": {},
          "execution_count": 4
        }
      ],
      "source": [
        "# hay 20 clases correspondientes a los 20 grupos de noticias\n",
        "print(f'clases {np.unique(newsgroups_test.target)}')\n",
        "newsgroups_test.target_names"
      ]
    },
    {
      "cell_type": "code",
      "execution_count": 5,
      "metadata": {
        "colab": {
          "base_uri": "https://localhost:8080/",
          "height": 742
        },
        "id": "m6a3YtGjKe4i",
        "outputId": "2d16b3e2-6377-466c-dc75-d0ffa0951a4a"
      },
      "outputs": [
        {
          "output_type": "execute_result",
          "data": {
            "text/plain": [
              "target\n",
              "0     0.042353\n",
              "1     0.051646\n",
              "2     0.052310\n",
              "3     0.052045\n",
              "4     0.051115\n",
              "5     0.052443\n",
              "6     0.051779\n",
              "7     0.052576\n",
              "8     0.052841\n",
              "9     0.052708\n",
              "10    0.052974\n",
              "11    0.052576\n",
              "12    0.052177\n",
              "13    0.052576\n",
              "14    0.052310\n",
              "15    0.052841\n",
              "16    0.048327\n",
              "17    0.049920\n",
              "18    0.041158\n",
              "19    0.033324\n",
              "Name: proportion, dtype: float64"
            ],
            "text/html": [
              "<div>\n",
              "<style scoped>\n",
              "    .dataframe tbody tr th:only-of-type {\n",
              "        vertical-align: middle;\n",
              "    }\n",
              "\n",
              "    .dataframe tbody tr th {\n",
              "        vertical-align: top;\n",
              "    }\n",
              "\n",
              "    .dataframe thead th {\n",
              "        text-align: right;\n",
              "    }\n",
              "</style>\n",
              "<table border=\"1\" class=\"dataframe\">\n",
              "  <thead>\n",
              "    <tr style=\"text-align: right;\">\n",
              "      <th></th>\n",
              "      <th>proportion</th>\n",
              "    </tr>\n",
              "    <tr>\n",
              "      <th>target</th>\n",
              "      <th></th>\n",
              "    </tr>\n",
              "  </thead>\n",
              "  <tbody>\n",
              "    <tr>\n",
              "      <th>0</th>\n",
              "      <td>0.042353</td>\n",
              "    </tr>\n",
              "    <tr>\n",
              "      <th>1</th>\n",
              "      <td>0.051646</td>\n",
              "    </tr>\n",
              "    <tr>\n",
              "      <th>2</th>\n",
              "      <td>0.052310</td>\n",
              "    </tr>\n",
              "    <tr>\n",
              "      <th>3</th>\n",
              "      <td>0.052045</td>\n",
              "    </tr>\n",
              "    <tr>\n",
              "      <th>4</th>\n",
              "      <td>0.051115</td>\n",
              "    </tr>\n",
              "    <tr>\n",
              "      <th>5</th>\n",
              "      <td>0.052443</td>\n",
              "    </tr>\n",
              "    <tr>\n",
              "      <th>6</th>\n",
              "      <td>0.051779</td>\n",
              "    </tr>\n",
              "    <tr>\n",
              "      <th>7</th>\n",
              "      <td>0.052576</td>\n",
              "    </tr>\n",
              "    <tr>\n",
              "      <th>8</th>\n",
              "      <td>0.052841</td>\n",
              "    </tr>\n",
              "    <tr>\n",
              "      <th>9</th>\n",
              "      <td>0.052708</td>\n",
              "    </tr>\n",
              "    <tr>\n",
              "      <th>10</th>\n",
              "      <td>0.052974</td>\n",
              "    </tr>\n",
              "    <tr>\n",
              "      <th>11</th>\n",
              "      <td>0.052576</td>\n",
              "    </tr>\n",
              "    <tr>\n",
              "      <th>12</th>\n",
              "      <td>0.052177</td>\n",
              "    </tr>\n",
              "    <tr>\n",
              "      <th>13</th>\n",
              "      <td>0.052576</td>\n",
              "    </tr>\n",
              "    <tr>\n",
              "      <th>14</th>\n",
              "      <td>0.052310</td>\n",
              "    </tr>\n",
              "    <tr>\n",
              "      <th>15</th>\n",
              "      <td>0.052841</td>\n",
              "    </tr>\n",
              "    <tr>\n",
              "      <th>16</th>\n",
              "      <td>0.048327</td>\n",
              "    </tr>\n",
              "    <tr>\n",
              "      <th>17</th>\n",
              "      <td>0.049920</td>\n",
              "    </tr>\n",
              "    <tr>\n",
              "      <th>18</th>\n",
              "      <td>0.041158</td>\n",
              "    </tr>\n",
              "    <tr>\n",
              "      <th>19</th>\n",
              "      <td>0.033324</td>\n",
              "    </tr>\n",
              "  </tbody>\n",
              "</table>\n",
              "</div><br><label><b>dtype:</b> float64</label>"
            ]
          },
          "metadata": {},
          "execution_count": 5
        }
      ],
      "source": [
        "#Reviso la distribución del target\n",
        "df_tgt = pd.DataFrame(newsgroups_test.target, columns=['target'])\n",
        "\n",
        "df_tgt['target'].value_counts(dropna=False, normalize =True).sort_index()"
      ]
    },
    {
      "cell_type": "code",
      "execution_count": 6,
      "metadata": {
        "id": "Gd_BiV8WKe4j"
      },
      "outputs": [],
      "source": [
        "# instancio varios vectorizadores\n",
        "\n",
        "tfidfvect = TfidfVectorizer()\n",
        "tfidfvect_m = TfidfVectorizer(min_df=2) # min_df: 2. para matener un término dentro del vocabulario debe aparecer al menos 2 veces\n",
        "countvect = CountVectorizer()"
      ]
    },
    {
      "cell_type": "code",
      "execution_count": 7,
      "metadata": {
        "colab": {
          "base_uri": "https://localhost:8080/"
        },
        "id": "OpD5QxPzKe4j",
        "outputId": "a961cf66-5316-4d0a-d5d8-f6fa95feb1cd"
      },
      "outputs": [
        {
          "output_type": "stream",
          "name": "stdout",
          "text": [
            "<class 'scipy.sparse._csr.csr_matrix'>\n",
            "shape: (11314, 101631)\n",
            "cantidad de documentos: 11314\n",
            "tamaño del vocabulario (dimensionalidad de los vectores): 101631\n"
          ]
        }
      ],
      "source": [
        "# fit sobre train del vectorizador TfidfVectorizer\n",
        "X_train_tfidf = tfidfvect.fit_transform(newsgroups_train.data)\n",
        "\n",
        "print(type(X_train_tfidf))\n",
        "print(f'shape: {X_train_tfidf.shape}')\n",
        "print(f'cantidad de documentos: {X_train_tfidf.shape[0]}')\n",
        "print(f'tamaño del vocabulario (dimensionalidad de los vectores): {X_train_tfidf.shape[1]}')"
      ]
    },
    {
      "cell_type": "code",
      "execution_count": 8,
      "metadata": {
        "colab": {
          "base_uri": "https://localhost:8080/"
        },
        "id": "cDrXvjIdKe4k",
        "outputId": "6abccc48-6a8a-46ef-e403-1b90ef599916"
      },
      "outputs": [
        {
          "output_type": "stream",
          "name": "stdout",
          "text": [
            "<class 'scipy.sparse._csr.csr_matrix'>\n",
            "shape: (11314, 39423)\n",
            "cantidad de documentos: 11314\n",
            "tamaño del vocabulario (dimensionalidad de los vectores): 39423\n"
          ]
        }
      ],
      "source": [
        "# fit sobre train del vectorizador TfidfVectorizer con min_df = 2\n",
        "X_train_tfidf_m = tfidfvect_m.fit_transform(newsgroups_train.data)\n",
        "\n",
        "print(type(X_train_tfidf_m))\n",
        "print(f'shape: {X_train_tfidf_m.shape}')\n",
        "print(f'cantidad de documentos: {X_train_tfidf_m.shape[0]}')\n",
        "print(f'tamaño del vocabulario (dimensionalidad de los vectores): {X_train_tfidf_m.shape[1]}')"
      ]
    },
    {
      "cell_type": "code",
      "execution_count": 9,
      "metadata": {
        "colab": {
          "base_uri": "https://localhost:8080/"
        },
        "id": "MfJb5i8oKe4k",
        "outputId": "2ced2bbc-e58d-417c-e5d3-9c6f06182f83"
      },
      "outputs": [
        {
          "output_type": "stream",
          "name": "stdout",
          "text": [
            "<class 'scipy.sparse._csr.csr_matrix'>\n",
            "shape: (11314, 101631)\n",
            "cantidad de documentos: 11314\n",
            "tamaño del vocabulario (dimensionalidad de los vectores): 101631\n"
          ]
        }
      ],
      "source": [
        "# fit sobre train del vectorizador CountVectorizer\n",
        "X_train_count = countvect.fit_transform(newsgroups_train.data)\n",
        "\n",
        "print(type(X_train_count))\n",
        "print(f'shape: {X_train_count.shape}')\n",
        "print(f'cantidad de documentos: {X_train_count.shape[0]}')\n",
        "print(f'tamaño del vocabulario (dimensionalidad de los vectores): {X_train_count.shape[1]}')"
      ]
    },
    {
      "cell_type": "code",
      "execution_count": 10,
      "metadata": {
        "id": "5UqWz21aKe4k"
      },
      "outputs": [],
      "source": [
        "y_train = newsgroups_train.target"
      ]
    },
    {
      "cell_type": "markdown",
      "metadata": {
        "id": "GLF2NQlMKe4k"
      },
      "source": [
        "**Punto 1**"
      ]
    },
    {
      "cell_type": "code",
      "execution_count": 11,
      "metadata": {
        "colab": {
          "base_uri": "https://localhost:8080/"
        },
        "id": "7J8N5P_QKe4l",
        "outputId": "550ee325-5c46-4e12-e25c-91dfa17b5876"
      },
      "outputs": [
        {
          "output_type": "stream",
          "name": "stdout",
          "text": [
            "idx: 2000\n",
            "rec.motorcycles\n",
            "idx: 4271\n",
            "talk.politics.misc\n",
            "idx: 9623\n",
            "talk.politics.mideast\n",
            "idx: 4253\n",
            "talk.politics.misc\n",
            "idx: 3596\n",
            "talk.politics.misc\n",
            "idx: 10229\n",
            "talk.religion.misc\n"
          ]
        }
      ],
      "source": [
        "idx = [2000]\n",
        "X_train = X_train_tfidf\n",
        "\n",
        "cossim = cosine_similarity(X_train[idx], X_train)[0]\n",
        "\n",
        "# veo el idx del documento y los 5 más similares\n",
        "mostsim = np.argsort(cossim)[::-1][0:6]\n",
        "\n",
        "# veo las clases:\n",
        "for i in mostsim:\n",
        "  print('idx:',i)\n",
        "  print(newsgroups_train.target_names[y_train[i]])"
      ]
    },
    {
      "cell_type": "markdown",
      "source": [
        "El documento 2000 corresponde a la clase 'rec.motorcycles' y ninguno de los documentos similares comparten esa clase. Los documentos que resultan ser similares pero con que tienen una clase distinta, se da porque los documentos comparten vocabulario con la clase del documento original.\n",
        "Además es notorio que los documentos sobre política tienen una extensión mayor y esto aumenta la chance de compartir términos con documentos de otras clases."
      ],
      "metadata": {
        "id": "SCvT-v3fPq5T"
      }
    },
    {
      "cell_type": "code",
      "execution_count": 12,
      "metadata": {
        "colab": {
          "base_uri": "https://localhost:8080/"
        },
        "id": "uyWta-mhKe4l",
        "outputId": "923a07de-a04c-4262-9709-506cd5b089c0"
      },
      "outputs": [
        {
          "output_type": "stream",
          "name": "stdout",
          "text": [
            "\n",
            "\n",
            "_Cycle World_ puts one out, but I'm sure it's not very objective.  Try talking\n",
            "with dealers and the people that hang out there, as well as us.  We love to\n",
            "give advice.\n",
            "\n",
            "\n",
            "Most of the bigger banks have a blue book which includes motos -- ask for the\n",
            "one with RVs in it.\n",
            "\n",
            "\n",
            "Couldn't help you here.\n",
            "\n",
            "\n",
            "You're reading it.\n",
            "\n",
            "----------------------------------------------------------------------------\n"
          ]
        }
      ],
      "source": [
        "print(newsgroups_train.data[2000])"
      ]
    },
    {
      "cell_type": "code",
      "execution_count": 13,
      "metadata": {
        "colab": {
          "base_uri": "https://localhost:8080/"
        },
        "id": "gzZ_85lJKe4l",
        "outputId": "b8a802d4-08f1-44a9-c204-6132dce1f00a"
      },
      "outputs": [
        {
          "output_type": "stream",
          "name": "stdout",
          "text": [
            "THE WHITE HOUSE\n",
            "\n",
            "                    Office of the Press Secretary\n",
            "______________________________________________________________\n",
            "For Immediate Release                             April 13, 1993     \n",
            "\n",
            "\t     \n",
            "                      REMARKS BY THE PRESIDENT,\n",
            "               SECRETARY OF EDUCATION RICHARD RILEY AND\n",
            "                   SECRETARY OF LABOR ROBERT REICH  IN \n",
            "                GOALS 2000 SATELLITE TOWN HALL MEETING\n",
            "\t     \n",
            "                     Chamber of Commerce Building\n",
            "                           Washington, D.C.   \n",
            "\n",
            "\n",
            "\n",
            "8:30 P.M. EDT\n",
            "\t     \n",
            "\t     \n",
            "\t     SECRETARY RILEY:  Good evening and welcome to all of you \n",
            "in the thousands of communities around the country that are taking \n",
            "part in this satellite town meeting for the month of April.\n",
            "\t     \n",
            "\t     You know, today is April 13th.  In 1743, Thomas \n",
            "Jefferson was born, 250 years ago.  I think that's appropriate to \n",
            "mention at the beginning of this meeting because since that time he \n",
            "has been, of course, a person who has been one that we've all \n",
            "followed in terms of our democracy and the importance of education \n",
            "here in this great country.  The success of our democracy according \n",
            "to Jefferson really depends upon the success of our educational \n",
            "system.\n",
            "\t     \n",
            "\t     His philosophy of government, his belief in the \n",
            "importance of education is also very meaningful to our special guest \n",
            "here this evening.  Tonight we're so pleased to have with us \n",
            "President Clinton.  He's come over from the White House to join us in \n",
            "the Chamber of Commerce studios.  \n",
            "\t     \n",
            "\t     Mr. President, it's good to have you.  We thank you for \n",
            "taking the time to visit with these communities here on the satellite \n",
            "network and we welcome you here this evening.\n",
            "\t     \n",
            "\t     Also we have with us Secretary of Labor Robert Reich.  \n",
            "And, Bob, it's certainly pleasant to have you with us this evening \n",
            "also.\n",
            "\t     \n",
            "\t     I have some questions for our two guests, and I'm sure \n",
            "many of you do, too.  So please call us if there's something that \n",
            "you'd like to ask.  The number is 1/800/368-5781 or 5782.  In \n",
            "Washington, D.C. the number is 202/463-3170 or 3171.\n",
            "\t     \n",
            "\t     I believe the President has a few words that he might \n",
            "want to share with us.  And, Mr. President, I'll ask you to do that \n",
            "at this time.  It's great to have you.\n",
            "\t     \n",
            "\t     THE PRESIDENT:  Thank you very much, Mr. Secretary.\n",
            "\t     \n",
            "\t     I'm glad to be here with my friends, Dick Riley and Bob \n",
            "Reich -- also members of my Cabinet -- at the headquarters of the \n",
            "Chamber of Commerce to support the effort that the Chamber is making, \n",
            "along with its Center for Work Force Preparation, to help to examine \n",
            "tonight the whole critical question of how to move our young people \n",
            "from school to the work place.\n",
            "\t     \n",
            "\t     I want to compliment the Chamber on all their efforts, \n",
            "recognizing that without an educated work force we can't grow this \n",
            "economy or remain competitive, and recognizing that we all have to \n",
            "work together -- business and government, labor and educators -- to \n",
            "make things happen.\n",
            "\t     \n",
            "\t     This satellite town meeting is a good example of that \n",
            "kind of working together.  And if you'll forgive me a little home \n",
            "state pride, I want to say a special word of thanks to the Wal-Mart \n",
            "Corporation, headquartered in Bentonville, Arkansas, for providing \n",
            "several hundred of the sites for this town meeting tonight.  I \n",
            "appreciate that a lot, as well as the sites that are provided for all \n",
            "the rest of you.\n",
            "\t     \n",
            "\t     I have tried as hard as I could to move toward \n",
            "constructive change for this country.  Secretary Riley talked about \n",
            "this being Thomas Jefferson's 250th birthday.  If Thomas Jefferson \n",
            "believed in anything, he believed in these three things:  first, in \n",
            "education; second, in real personal liberty, freedom of religion, \n",
            "freedom of speech, freedom of association, freedom of the press; and \n",
            "third, in the absolute imperative of changing as times change.  \n",
            "\t     \n",
            "\t     If you go to the Jefferson Memorial here in this \n",
            "beautiful city, which is now bedecked with all of its wonderful \n",
            "cherry blossoms, you will see Jefferson saying that we have to change \n",
            "with changing times.\n",
            "\t     \n",
            "\t     For us here in America, that means reducing our deficit \n",
            "and increasing our investment and putting our people first so that we \n",
            "can compete in the world.  We're here to talk about that tonight --\n",
            "about what we can do to educate and train our people better.  Unless \n",
            "we do that, none of the efforts that all the rest of us make in \n",
            "government, even to bring the budget into balance, even to increase \n",
            "our investment in other things which will grow jobs, will last in the \n",
            "long run.\n",
            "\t     \n",
            "\t     We also have to have people who can carry their load.  \n",
            "And in a world where the average young person will change jobs seven \n",
            "or eight times in a lifetime, that begins with the education system \n",
            "and continues into the work force where education must go on for a \n",
            "lifetime.  It's not just important what you know, but what you can \n",
            "learn.\n",
            "\t     \n",
            "\t     And if I might, I'd like to close just by emphasizing \n",
            "we're doing our best to try to have the most innovative partnership \n",
            "between the Labor Department and the Education Department and the \n",
            "private sector to build a good school-to-work transition.  And we're \n",
            "trying to get off to a good start this summer with a program that \n",
            "would create more than 700,000 new summer jobs, including many \n",
            "thousands that have a strong education component so our young people \n",
            "can be learning and working at the same time.\n",
            "\t     \n",
            "\t     Dick, I think I ought to stop there.  That's a good \n",
            "place we can begin, I think, the discussion.\n",
            "\t     \n",
            "\t     SECRETARY RILEY:  Thank you so much, Mr. President.\n",
            "\t     \n",
            "\t     Each month we get together and talk about ways that all \n",
            "citizens can work towards reaching the national education goals.  And \n",
            "tonight, we'll focus on goal five, and how communities such as yours \n",
            "can prepare students for this world of work.\n",
            "\t     \n",
            "\t     This week, the Education Department and the Labor \n",
            "Department are hosting a conference here in Washington, D.C. called \n",
            "Summer Challenge, a program of work and learning, to America's youth.  \n",
            "The aim is to use some special funds from President Clinton's \n",
            "proposed economic stimulus package to provide educationally-enriched \n",
            "jobs and summer school programs for young people in disadvantaged \n",
            "areas of the country.  \n",
            "\t     \n",
            "\t     Mr. President, let's talk a minute -- you alluded to it \n",
            "somewhat -- about the  Summer Youth Challenge.  Your program calls \n",
            "for more educational enrichment in the summer jobs.  And why in your \n",
            "words is that so important?\n",
            "\t     \n",
            "\t     THE PRESIDENT:  I think it's important for two reasons.  \n",
            "First of all, a lot of the young people we're trying to reach may \n",
            "have had trouble adjusting to school and learning.  And while we want \n",
            "them to have a good experience with a real job, we also want them to \n",
            "continue to learn during the summer because we know from a lot of \n",
            "research that a lot of kids that have trouble learning in school may \n",
            "forget as much as 30 percent of what they learned the previous year \n",
            "over the summertime.  And that is a very unproductive thing for \n",
            "schools to have to take up a lot of time teaching what they already \n",
            "taught before.\n",
            "\t     \n",
            "\t     Secondly, we want to help these young people progress, \n",
            "not only in terms of work, but in terms of learning.  We want to \n",
            "abolish the artificial dividing line between what is work and what is \n",
            "learning because we think that the best and most productive workers \n",
            "will have to be lifetime learners.  And we think that this experience \n",
            "could maybe drive that point home and prepare these young people to \n",
            "succeed in school, or at work, or in college as they go on.\n",
            "\t     \n",
            "\t     SECRETARY RILEY:  Well, I think the fact that these are \n",
            "disadvantaged kids -- that gap, that lag you mentioned as they go \n",
            "into the next year, is really even greater.  \n",
            "\t     \n",
            "\t     Secretary Reich, of course, you have training programs \n",
            "throughout the year.  And I wonder is you have any comment about this \n",
            "educational component of training.\n",
            "\t     \n",
            "\t     SECRETARY REICH:  Well, what we've learned, Mr. \n",
            "Secretary, is that for many young people, whether it's for the summer \n",
            "or for the year, actually on-the-job work experience combined with \n",
            "education is one of the best ways of learning.  Many young people, \n",
            "for example, have a lot -- they have a difficult time learning \n",
            "geometry.  But when they actually are there building something or \n",
            "working on something, and they can see the exact and direct \n",
            "application of geometry, they understand what it's used for.  And a \n",
            "lot of young people -- just that sense of connection between \n",
            "education and the world of work is terribly, terribly important.  \n",
            "It's important during the summer, but it's important for a lot of \n",
            "young people even beyond the summer.\n",
            "\t     \n",
            "\t     SECRETARY RILEY:  Thank you.  \n",
            "\t     \n",
            "\t     Mr. President, you've called for a youth apprenticeship \n",
            "program, school-to-work transition.  And I wonder if you would tell \n",
            "us a little bit about your concept of that and how you see it \n",
            "developing.\n",
            "\t     \n",
            "\t     THE PRESIDENT:  Well, first of all, let's talk about why \n",
            "it's important.  Most new jobs that will be created in this decade \n",
            "will not require a four-year college degree, but most of them will \n",
            "require some learning and skills that go well beyond what most people \n",
            "get in a high school diploma.  \n",
            "\t     \n",
            "\t     If you look at the last 10 years, the average salaries \n",
            "of young people that had at least two years of good post-high school \n",
            "education was a good salary that went up over the decade.  The young \n",
            "people who had less than that tended to have lower wages that did not \n",
            "go up, and in many cases in real terms fell over the decade, because \n",
            "they weren't productive, they weren't more valuable to their \n",
            "employers.\n",
            "\t     \n",
            "\t     So we think America has a big economic interest in \n",
            "trying to ensure that all the young people who get out of high school \n",
            "but don't go on to college make a transition to work, which includes \n",
            "two years of further training either in a community college, a \n",
            "vocational setting, or perhaps on the job.  And what I have done in \n",
            "this budget, as you know, is to give you and Secretary Reich some \n",
            "funds and some incentives to try to work in partnership with states \n",
            "and with the private sector to build these programs state-by-state in \n",
            "a way that would be customized essentially by the business community, \n",
            "based on the needs of the economy in any given area.  It could \n",
            "revolutionize long-term the quality of the American work force and \n",
            "the earnings of American workers.\n",
            "\t     \n",
            "\t     SECRETARY REICH:  I should add, Mr. President -- I think \n",
            "you know this from your experience in Arkansas -- and many of the \n",
            "people watching this program -- that the business community and \n",
            "educators, labor groups are already in many of our communities, many \n",
            "of our states, building a school-to-work transition program.  In \n",
            "fact, there's an awful lot of ferment, a lot of excitement.  The \n",
            "people watching this program probably are the ones who are most \n",
            "directly involved in that.  And more power to them.  Secretary Riley \n",
            "and I are going to do everything we can to build on the successes \n",
            "already out there.\n",
            "\t     \n",
            "\t     SECRETARY RILEY:  Bob, we're going to be talking tonight \n",
            "about youth apprenticeship and tech prep, the co-op learning  \n",
            "career academies.  And what features all those programs that deal \n",
            "with this subject -- what are some of the features that every one of \n",
            "these school-to-work programs might have that   are important?\n",
            "\t     \n",
            "\t     SECRETARY REICH:  Well, one thing that we've seen -- and \n",
            "you and I have been working at this for a long time, and you much \n",
            "longer than I -- we've seen that active involvement of the business \n",
            "community is absolutely essential.  And I'm so delighted that we're \n",
            "doing this in the headquarters of the Chamber of Commerce.  The \n",
            "Chamber of Commerce of the United States is committed to doing these \n",
            "kinds of programs -- training, education, retraining -- and we've \n",
            "aimed to work very closely with the Chamber.\n",
            "\t     \n",
            "\t     The business community is going to be actively engaged \n",
            "in developing almost an audit of the kind of jobs that are needed and \n",
            "helping the educators, community colleges, technical institutions \n",
            "develop curricula that are relevant for the jobs of the future.\n",
            "\t     \n",
            "\t     Communities have got to come together.  I mean, this is \n",
            "one of the most important things.  You've got to have all of these \n",
            "players in a community come together and work together and cooperate \n",
            "together.  You know, too often we have the educators over here and \n",
            "the business leaders over here, labor groups over here and everybody \n",
            "is talking, but they're not really working together in a common \n",
            "strategy.\n",
            "\t     \n",
            "\t     And the third and final ingredient I would say, Dick, \n",
            "would be a commitment to excellence -- a commitment both to academic \n",
            "excellence and also to skills development excellence.  This is not a \n",
            "tracking program we're talking about for kids who are not going to \n",
            "make it.  This is a program that every young person ought to be \n",
            "eligible for.  If they want to go on beyond that to four-year \n",
            "college, that's fine.  That ought to be permissible.  But we're \n",
            "talking about the foundation of learning about jobs, the foundation \n",
            "skills for on-the-job learning.\n",
            "\t     \n",
            "\t     And again, those are the critical components.  It's \n",
            "already being done.\n",
            "\t     \n",
            "\t     THE PRESIDENT:  I think -- if I might just interject one \n",
            "point based on my personal experience at home -- the business \n",
            "community has a critical role to play, not simply in saying here are \n",
            "the job skills that are needed and here's what ought to be taught, \n",
            "but also in monitoring that excellence.  If you have the right sort \n",
            "of partnership there, the people who are paying the taxes and who are \n",
            "going to then be hiring the workers are not going to permit the \n",
            "second-rate programs to survive if they have any way to shape and \n",
            "influence them.  So I think that's very important.\n",
            "\t     \n",
            "\t     And when we try to, if you will, fill in the blanks at \n",
            "the federal level, trying to set some standards and provide some \n",
            "funds, one of the things that we want to be sure and do is to make \n",
            "sure that the employer has a heavy amount of influence over the \n",
            "quality of these programs, because that's really what's going to \n",
            "determine whether the whole thing is worthwhile.\n",
            "\t     \n",
            "\t     SECRETARY RILEY:  That's great.  We've been talking, of \n",
            "course, about school-to-work and also the jobs and economic recovery \n",
            "program for this summer and fall.  But let's talk just a moment about \n",
            "long-term school reform.  It's something especially close to me.  Mr. \n",
            "President, I wonder if you would give us some of your ideas for the \n",
            "communities out here on Goals 2000 legislation that I think will be \n",
            "coming forth before too long.\n",
            "\t     \n",
            "\t     THE PRESIDENT:  Well, as you know, back when you and I \n",
            "were both governors, we spent a lot of time working on our public \n",
            "schools and we tried to be very candid with our people in saying that \n",
            "a lot of these things were going to take some time to materialize.  \n",
            "\t     \n",
            "\t     I had a hand in writing the National Education Goals \n",
            "that the governors drafted, along with representatives of President \n",
            "Bush's administration back in 1989.  And what we're going to try to \n",
            "do this year with your leadership is to introduce legislation in \n",
            "Congress that will actually define the things that the national \n",
            "government ought to do to try to help the local schools and the \n",
            "children of this country and the adult learners, too, meet those \n",
            "goals -- making sure that when -- by 2000, people show up for school \n",
            "ready to learn; that we get a 90 percent on-time high school \n",
            "graduation rate; that children at the 4th, 8th, and 12th grades are \n",
            "confident in the subjects they're supposed to know; that they are \n",
            "second to none in math and science; that are schools are safe, \n",
            "disciplined, and drug-free.  And, of course, the fifth goal --I took \n",
            "them out of line to say this the last -- is that we have a system of \n",
            "life-long learning in this country.\n",
            "\t     \n",
            "\t     And each one of those goals there's a national role, a \n",
            "state role, a school role, school district role, and a private sector \n",
            "role.  And what you've attempted to do in this bill you're going to \n",
            "introduce with me in the next few weeks is to define what our job is; \n",
            "and then to give the rest of America a way of defining what their job \n",
            "is and seeing whether we're actually meeting the standards of quality \n",
            "that we need to meet.\n",
            "\t     \n",
            "\t     It's very exciting.  So far as I know, nothing quite \n",
            "like it has ever been done in the form of federal legislation before.  \n",
            "Not mandating and telling people what they have to do with their \n",
            "money, but actually setting up a framework for excellence and \n",
            "partnerships so that we can do our job.  I'm really excited about it.\n",
            "\t     \n",
            "\t     SECRETARY RILEY:  Well, I am, too.  And I think really \n",
            "it will be an entirely new role for the federal government in terms \n",
            "of its relationship with states, serving as a partner really to \n",
            "support and facilitate and to help out in these education reform \n",
            "efforts, all driven by high standards.  That's the point.\n",
            "\t     \n",
            "\t     Bob, let me ask you one question, and then we'll get to \n",
            "the telephone calls.  It's about the same subject.  We have, of \n",
            "course, skills standards that are going to be part of Goals 2000, and \n",
            "I wonder if you would comment on that.\n",
            "\t     \n",
            "\t     SECRETARY REICH:  Well, you know, we have 75 percent of \n",
            "our young people who don't graduate from college.  Very often they \n",
            "don't have very many alternatives.  They do have a wonderful system \n",
            "of community colleges and technical institutions, but if we had \n",
            "national skill standards to which they could aspire and which \n",
            "employers would understand as a national credential, many of these \n",
            "young people would actually find that they were much more eligible \n",
            "for jobs.\n",
            "\t     \n",
            "\t     Everybody doesn't have to go to college.  Other \n",
            "countries you have smaller proportions of their population going to \n",
            "college, but you have a whole level of people who have certain \n",
            "technical, preprofessional skills.  We can do it in this country.  If \n",
            "you don't go to four-year college you're not a loser.  And we want to \n",
            "develop those national skill standards.  We're going to be working \n",
            "with the states, with the Education Department, with a lot of private \n",
            "industry in developing those standards.  And I think they will be the \n",
            "kinds of things that enable our vocational and technical and other \n",
            "institutions to rally around, as well as our business community.\n",
            "\t     \n",
            "\t     SECRETARY RILEY:  Well, that's great.  Why don't we go \n",
            "ahead and go to the telephone.  We have a call, I see -- Mayor Bruce \n",
            "Todd of Austin, Texas.\n",
            "\t     \n",
            "\t     Q\t  Yes, Mr. President and Mr. Secretary Reich and \n",
            "Riley, we certainly appreciate the opportunity to join you today.  We \n",
            "have some dedicated professionals and volunteers here in Austin who \n",
            "have heard what you have said and are very appreciative.  Let me \n",
            "simply say, amen to some of the comments made already.  We agree with \n",
            "much of the tone that the Clinton administration has taken, and are \n",
            "very supportive.  \n",
            "\t     \n",
            "\t     We have been successful here in Austin of tripling our \n",
            "summer employment program over the last four years.  We expect to \n",
            "have over 2,000 employed this year in the summertime; perhaps as much \n",
            "as 3,500 with the federal assistance.  \n",
            "\t     \n",
            "\t     Much of the question that we had designed you have \n",
            "answered in your opening comments, so we must be thinking alike.  But \n",
            "the question essentially involved what initiatives after Labor Day \n",
            "would be appropriate.  We know summertime is important.  Year-round \n",
            "is even more important.  And what kind of initiatives at the federal \n",
            "level might be proposed to meet the needs of the youth on a year-\n",
            "round basis?  And perhaps more importantly, how can families and the \n",
            "local community be more involved using the federal initiative? That's \n",
            "something that we believe is very important to success in this \n",
            "effort.\n",
            "\t     \n",
            "\t     SECRETARY RILEY:  Mr. President.\n",
            "\t     \n",
            "\t     THE PRESIDENT:  I think I'll give everybody a chance to \n",
            "answer the question, Bruce, but let me first thank you for calling, \n",
            "and thank you for all the great work that you're doing in Austin.  \n",
            "I've seen some of it and I've always been very impressed.  \n",
            "\t     \n",
            "\t     First, with regard to the summer program, we hope we can \n",
            "structure it in a way that will enable us to continue the summer \n",
            "program and that will move a lot of these young people back into \n",
            "schools under circumstances that might allow them to do some work in \n",
            "the private sector, too.  We hope that -- Secretary Reich is going to \n",
            "try to set up a system where we create a lot of private sector jobs \n",
            "to be matched with the public sector jobs this summer.  And we're \n",
            "working on that.\n",
            "\t     \n",
            "\t     Secondly, in the program that I have presented to the \n",
            "Congress over the next five years, what we are attempting to do is to \n",
            "build in an amount of investment that's quite substantial for job \n",
            "training programs, for school-to-work programs, all of which give \n",
            "heavy, heavy weight to local community input -- just the question you \n",
            "asked -- but do provide some federal investment dollars, which we \n",
            "hope you can put with local dollars to keep people working and being \n",
            "trained on a year-round basis.\n",
            "\t     \n",
            "\t     And I will say again, to echo what Secretary Reich said \n",
            "a moment ago, to try to break down the barrier between what is seen \n",
            "as work and what is seen as learning.  An awful lot of young people \n",
            "actually have quite high IQs, but actually learn so much better when \n",
            "they're doing than when they're reading or just listening.  So we \n",
            "hope that the community involvement part of it will be permanent, and \n",
            "we hope that if the whole budget passes -- and we do have 200 budget \n",
            "cuts and more than 200, actually, in the budget -- and some revenue \n",
            "raisers, and some new money for education and training, that we'll be \n",
            "able to do just what you seem to want based on your question.\n",
            "\t     \n",
            "\t     Bob, do you want to say anything?\n",
            "\t     \n",
            "\t     SECRETARY REICH:  Well, you took most of the words out \n",
            "of my mouth, Mr. President, as usual.  But let me just add one thing, \n",
            "and that is that one of the most important aspects of post-high \n",
            "school for a lot of young people who are not going on to college, in \n",
            "addition to the school-to-work program, simply is the availability of \n",
            "jobs.  And we've got to get this economy moving again, obviously.  \n",
            "It's terribly important to get this recovery program, to get the \n",
            "economy back on track.  That's sort of the prerequisite to everything \n",
            "else.  If we don't get the economy back on track -- we have -- I \n",
            "think this is the 16th -- correct me if I'm wrong, Mr. President -- I \n",
            "think is the 16th month we have had seven percent unemployment or \n",
            "greater.  This is a jobless recovery.  A lot of those kids are going \n",
            "to be getting out of school in June.  And even if we did everything \n",
            "right, they would have a very, very hard time getting jobs.\n",
            "\t     \n",
            "\t     SECRETARY RILEY:  Thank you both.  Of course, Goals 2000 \n",
            "will be a permanent, long-term thing that will certainly reach into \n",
            "next year.  It will involve, if passed -- and we certainly hope it \n",
            "will be -- action plans with every state where we can be working \n",
            "together to reach for the goals in a number of different ways.  And \n",
            "then the state, with all the various school districts, a very \n",
            "important part of that will be citizen and parent involvement.  And I \n",
            "think everybody will see a great energy out there, once we get that \n",
            "moving.\n",
            "\t     \n",
            "\t     The next call is Dr. Harry Heinemann, New York.  \n",
            "\t     \n",
            "\t     Doctor?\n",
            "\t     \n",
            "\t     Q\t  Good evening, Mr. Secretary.  It is a pleasure to \n",
            "be on with you this evening.  As you may know, bridging the school \n",
            "and work has been central to La Guardia's educational program since \n",
            "its inception in the 1970s, and that includes the college, the two \n",
            "alternative high schools that operate on our campus, and the linkages \n",
            "we have forged with the local schools.  We have found this to be an \n",
            "extremely effective learning strategy.\n",
            "\t     \n",
            "\t     And over the years, we've come to believe that there are \n",
            "several principles that are very important in bridging the school and \n",
            "work.  And these include integrating theory in the classroom with \n",
            "practice in the workplace, with providing all students early exposure \n",
            "to careers, as well as providing opportunities for them to reflect \n",
            "upon these experiences while they strengthen their skills; and \n",
            "lastly, the critical role of the liberal arts, particularly in the \n",
            "development of high performance competencies.  \n",
            "\t     \n",
            "\t     My question, then is:  How can the general education \n",
            "faculty and the academic curriculum be more closely integrated with \n",
            "transition to work experience?  And what mechanisms and strategies \n",
            "can you suggest to achieve this integration?\n",
            "\t     \n",
            "\t     SECRETARY RILEY:  Well, thank you very much.  I think -- \n",
            "and we'll get a response from you all on that, and very interesting \n",
            "work going on there.  We're going to have three people, our next \n",
            "guests on the program this evening, that will be some specialists   \n",
            "in that area that you're speaking, and I'll certainly pass that on to \n",
            "them and we can discuss it later.\n",
            "\t     \n",
            "\t     You all care to comment -- any comments you might have?\n",
            "\t     \n",
            "\t     THE PRESIDENT:  I'd just like to say, if I might, one \n",
            "thing.  I want to reemphasize this and I don't think I'm being as \n",
            "clear about it as I'd like, although I think at least one of the \n",
            "people who will be on the second panel will be able to say it more \n",
            "explicitly than I.  I think this whole concept of applied academics \n",
            "is very important.  And I think that we have to basically abolish \n",
            "what I consider to be a very artificial distinction between what is \n",
            "vocational learning and what is academic learning.\n",
            "\t     \n",
            "\t     I think we should keep the liberal arts going.  I think \n",
            "we should have a strong component for people who are in the \n",
            "vocational program.\n",
            "\t     \n",
            "\t     SECRETARY REICH:  It seems to me that we also need to \n",
            "rethink our entire tracking system, because a lot of these school and \n",
            "work combinations are important for mainstream students.  They're \n",
            "important for all students.  It's not just a special group of \n",
            "students that needs them.\n",
            "\t     \n",
            "\t     Some of the experiments that I've seen around the United \n",
            "States -- Dick, I'm sure you've seen them as well -- are mainstream \n",
            "experiments.  They're mainstreaming all the students.  At 11th and \n",
            "12th grades they're giving them a combined work and school experience \n",
            "and then a transition program.  And again, the kids can either go on \n",
            "to college if they want; they can go on to technical community; they \n",
            "can go on to an entirely -- a large variety of possibilities and \n",
            "career directions.\n",
            "\t     \n",
            "\t     But we have to get away from the stigmatizing that often \n",
            "goes on with young people who simply are doing job-related or work-\n",
            "related work within the classroom, within our schools.\n",
            "\t     \n",
            "\t     SECRETARY RILEY:  Thank you, very much.  I think that's \n",
            "going to be the last call that we have time for.  Mr. President, I \n",
            "think you've got to move on to another matter, and I want to thank \n",
            "you and Secretary Reich for being here.  We appreciate your time and \n",
            "your ideas, and it's been a tremendous help to us.  \n"
          ]
        }
      ],
      "source": [
        "print(newsgroups_train.data[4271])"
      ]
    },
    {
      "cell_type": "code",
      "source": [
        "idx = [8000]\n",
        "X_train = X_train_tfidf\n",
        "\n",
        "cossim = cosine_similarity(X_train[idx], X_train)[0]\n",
        "\n",
        "# veo el idx del documento y los 5 más similares\n",
        "mostsim = np.argsort(cossim)[::-1][0:6]\n",
        "\n",
        "# veo las clases:\n",
        "for i in mostsim:\n",
        "  print('idx:',i)\n",
        "  print(newsgroups_train.target_names[y_train[i]])"
      ],
      "metadata": {
        "colab": {
          "base_uri": "https://localhost:8080/"
        },
        "id": "T9X7W4TlL-3K",
        "outputId": "8578185d-c025-4a74-aa8d-8175ddef9f68"
      },
      "execution_count": 14,
      "outputs": [
        {
          "output_type": "stream",
          "name": "stdout",
          "text": [
            "idx: 8000\n",
            "talk.politics.misc\n",
            "idx: 6552\n",
            "talk.religion.misc\n",
            "idx: 9623\n",
            "talk.politics.mideast\n",
            "idx: 2240\n",
            "alt.atheism\n",
            "idx: 6894\n",
            "talk.politics.guns\n",
            "idx: 3902\n",
            "talk.religion.misc\n"
          ]
        }
      ]
    },
    {
      "cell_type": "markdown",
      "source": [
        "El documento 8000 corresponde a la clase 'talk.politics.misc' y dentro de los 5 documentos similares solo uno corresponde a esta misma clase. El resto de los documentos tiene una clase distinta y esto se debe a que los documentos comparten vocabulario con la clase del documento original."
      ],
      "metadata": {
        "id": "GiuQeSOSO_od"
      }
    },
    {
      "cell_type": "code",
      "source": [
        "idx = [6800]\n",
        "X_train = X_train_tfidf\n",
        "\n",
        "cossim = cosine_similarity(X_train[idx], X_train)[0]\n",
        "\n",
        "# veo el idx del documento y los 5 más similares\n",
        "mostsim = np.argsort(cossim)[::-1][0:6]\n",
        "\n",
        "# veo las clases:\n",
        "for i in mostsim:\n",
        "  print('idx:',i)\n",
        "  print(newsgroups_train.target_names[y_train[i]])"
      ],
      "metadata": {
        "colab": {
          "base_uri": "https://localhost:8080/"
        },
        "id": "pxS26dnUMDSF",
        "outputId": "18ca467b-70bc-45cf-b3ca-2adee8e7230a"
      },
      "execution_count": 15,
      "outputs": [
        {
          "output_type": "stream",
          "name": "stdout",
          "text": [
            "idx: 6800\n",
            "talk.politics.misc\n",
            "idx: 4435\n",
            "talk.politics.misc\n",
            "idx: 3061\n",
            "talk.politics.misc\n",
            "idx: 5856\n",
            "sci.crypt\n",
            "idx: 3746\n",
            "talk.politics.misc\n",
            "idx: 4253\n",
            "talk.politics.misc\n"
          ]
        }
      ]
    },
    {
      "cell_type": "markdown",
      "source": [
        "El documento 6800 corresponde a la clase 'talk.politics.misc' y 4 de los documentos más similares también. Solo 1 de los documentos tiene una clase distinta que es 'sci.crypt' y esto se debe a que el documento comparte vocabulario con los documentos de la clase 'talk.politics.misc'."
      ],
      "metadata": {
        "id": "CSSPsO9uNPUB"
      }
    },
    {
      "cell_type": "code",
      "source": [
        "idx = [4300]\n",
        "X_train = X_train_tfidf\n",
        "\n",
        "cossim = cosine_similarity(X_train[idx], X_train)[0]\n",
        "\n",
        "# veo el idx del documento y los 5 más similares\n",
        "mostsim = np.argsort(cossim)[::-1][0:6]\n",
        "\n",
        "# veo las clases:\n",
        "for i in mostsim:\n",
        "  print('idx:',i)\n",
        "  print(newsgroups_train.target_names[y_train[i]])"
      ],
      "metadata": {
        "colab": {
          "base_uri": "https://localhost:8080/"
        },
        "id": "aZVPbGo-MPKk",
        "outputId": "5aada67f-e7b1-4134-da95-cb95bd67799d"
      },
      "execution_count": 16,
      "outputs": [
        {
          "output_type": "stream",
          "name": "stdout",
          "text": [
            "idx: 4300\n",
            "sci.crypt\n",
            "idx: 6243\n",
            "sci.crypt\n",
            "idx: 10575\n",
            "sci.crypt\n",
            "idx: 2825\n",
            "sci.crypt\n",
            "idx: 2256\n",
            "sci.crypt\n",
            "idx: 11008\n",
            "sci.crypt\n"
          ]
        }
      ]
    },
    {
      "cell_type": "markdown",
      "source": [
        "El documento 4300 corresponde a la clase 'sci.crypt' y los 5 documentos más similares también."
      ],
      "metadata": {
        "id": "o1E9RYf3NEAZ"
      }
    },
    {
      "cell_type": "code",
      "source": [
        "idx = [1300]\n",
        "X_train = X_train_tfidf\n",
        "\n",
        "cossim = cosine_similarity(X_train[idx], X_train)[0]\n",
        "\n",
        "# veo el idx del documento y los 5 más similares\n",
        "mostsim = np.argsort(cossim)[::-1][0:6]\n",
        "\n",
        "# veo las clases:\n",
        "for i in mostsim:\n",
        "  print('idx:',i)\n",
        "  print(newsgroups_train.target_names[y_train[i]])"
      ],
      "metadata": {
        "colab": {
          "base_uri": "https://localhost:8080/"
        },
        "id": "kIcrLXlcMToX",
        "outputId": "340dd52c-966f-46cd-916a-89c001a0cfd9"
      },
      "execution_count": 17,
      "outputs": [
        {
          "output_type": "stream",
          "name": "stdout",
          "text": [
            "idx: 1300\n",
            "sci.med\n",
            "idx: 8550\n",
            "sci.med\n",
            "idx: 8660\n",
            "sci.med\n",
            "idx: 2189\n",
            "sci.med\n",
            "idx: 3808\n",
            "sci.med\n",
            "idx: 3652\n",
            "sci.med\n"
          ]
        }
      ]
    },
    {
      "cell_type": "markdown",
      "source": [
        "El documento 1300 corresponde a la clase 'sci.med' y los 5 documentos más similares también."
      ],
      "metadata": {
        "id": "MAH6yKVmMbus"
      }
    },
    {
      "cell_type": "markdown",
      "metadata": {
        "id": "tOEcdYWPKe4l"
      },
      "source": [
        "**Punto 2**"
      ]
    },
    {
      "cell_type": "code",
      "execution_count": 18,
      "metadata": {
        "colab": {
          "base_uri": "https://localhost:8080/"
        },
        "id": "5xbcs2GvKe4l",
        "outputId": "73c665df-f6df-4a1c-928c-463add330b86"
      },
      "outputs": [
        {
          "output_type": "stream",
          "name": "stdout",
          "text": [
            "0.5854345727938506\n"
          ]
        }
      ],
      "source": [
        "#Entreno un modelo MultinomialNB sobre el dataset de train vectorizado con TfidfVectorizer con los parámetros por default.\n",
        "\n",
        "#fit del modelo sobre train\n",
        "clf = MultinomialNB()\n",
        "clf.fit(X_train_tfidf, y_train)\n",
        "\n",
        "#aplico el transform del vectorizador fitteado en train\n",
        "X_test = tfidfvect.transform(newsgroups_test.data)\n",
        "y_test = newsgroups_test.target\n",
        "y_pred =  clf.predict(X_test)\n",
        "\n",
        "#calculo el f1_score macro\n",
        "f1_1 = f1_score(y_test, y_pred, average='macro').item()\n",
        "print(f1_1)"
      ]
    },
    {
      "cell_type": "code",
      "execution_count": 19,
      "metadata": {
        "colab": {
          "base_uri": "https://localhost:8080/"
        },
        "id": "tAIMaSUaKe4m",
        "outputId": "1fb4978e-8cd1-49b7-8143-4f3b7a581268"
      },
      "outputs": [
        {
          "output_type": "stream",
          "name": "stdout",
          "text": [
            "0.5970494639319617\n"
          ]
        }
      ],
      "source": [
        "#Entreno un modelo MultinomialNB sobre el dataset de train vectorizado con TfidfVectorizer con min_df = 2.\n",
        "\n",
        "#fit del modelo sobre train\n",
        "clf = MultinomialNB()\n",
        "clf.fit(X_train_tfidf_m, y_train)\n",
        "\n",
        "#aplico el transform del vectorizador fitteado en train\n",
        "X_test = tfidfvect_m.transform(newsgroups_test.data)\n",
        "y_test = newsgroups_test.target\n",
        "y_pred =  clf.predict(X_test)\n",
        "\n",
        "#calculo el f1_score macro\n",
        "f1_2 = f1_score(y_test, y_pred, average='macro').item()\n",
        "print(f1_2)"
      ]
    },
    {
      "cell_type": "code",
      "execution_count": 20,
      "metadata": {
        "colab": {
          "base_uri": "https://localhost:8080/"
        },
        "id": "8HISWTARKe4m",
        "outputId": "a95cdcdb-e9cf-4614-8be5-c026f4207ba3"
      },
      "outputs": [
        {
          "output_type": "stream",
          "name": "stdout",
          "text": [
            "0.5121480984265602\n"
          ]
        }
      ],
      "source": [
        "#Entreno un modelo MultinomialNB sobre el dataset de train vectorizado con CountVectorizer\n",
        "\n",
        "#fit del modelo sobre train\n",
        "clf = MultinomialNB()\n",
        "clf.fit(X_train_count, y_train)\n",
        "\n",
        "#aplico el transform del vectorizador fitteado en train\n",
        "X_test = countvect.transform(newsgroups_test.data)\n",
        "y_test = newsgroups_test.target\n",
        "y_pred =  clf.predict(X_test)\n",
        "\n",
        "f1_3 = f1_score(y_test, y_pred, average='macro').item()\n",
        "print(f1_3)"
      ]
    },
    {
      "cell_type": "code",
      "execution_count": 21,
      "metadata": {
        "colab": {
          "base_uri": "https://localhost:8080/"
        },
        "id": "Bw1nVhbnKe4m",
        "outputId": "c777ad86-922e-4fa1-bfb4-b668b1f9a05a"
      },
      "outputs": [
        {
          "output_type": "stream",
          "name": "stdout",
          "text": [
            "0.692953349950875\n"
          ]
        }
      ],
      "source": [
        "#Entreno un modelo ComplementNB sobre el dataset de train vectorizado con TfidfVectorizer con los parámetros por default.\n",
        "\n",
        "#fit del modelo sobre train\n",
        "clf = ComplementNB()\n",
        "clf.fit(X_train_tfidf, y_train)\n",
        "\n",
        "#aplico el transform del vectorizador fitteado en train\n",
        "X_test = tfidfvect.transform(newsgroups_test.data)\n",
        "y_test = newsgroups_test.target\n",
        "y_pred =  clf.predict(X_test)\n",
        "\n",
        "#calculo el f1_score macro\n",
        "f1_4 = f1_score(y_test, y_pred, average='macro').item()\n",
        "print(f1_4)"
      ]
    },
    {
      "cell_type": "code",
      "execution_count": 22,
      "metadata": {
        "colab": {
          "base_uri": "https://localhost:8080/"
        },
        "id": "x-tvhcOfKe4m",
        "outputId": "e5a407f2-712b-4715-b14d-46d9b330ada1"
      },
      "outputs": [
        {
          "output_type": "stream",
          "name": "stdout",
          "text": [
            "0.6934824308370665\n"
          ]
        }
      ],
      "source": [
        "#Entreno un modelo ComplementNB sobre el dataset de train vectorizado con TfidfVectorizer con min_df = 2.\n",
        "\n",
        "#fit del modelo sobre train\n",
        "clf = ComplementNB()\n",
        "clf.fit(X_train_tfidf_m, y_train)\n",
        "\n",
        "#aplico el transform del vectorizador fitteado en train\n",
        "X_test = tfidfvect_m.transform(newsgroups_test.data)\n",
        "y_test = newsgroups_test.target\n",
        "y_pred =  clf.predict(X_test)\n",
        "\n",
        "#calculo el f1_score macro\n",
        "f1_5 = f1_score(y_test, y_pred, average='macro').item()\n",
        "print(f1_5)"
      ]
    },
    {
      "cell_type": "code",
      "execution_count": 23,
      "metadata": {
        "colab": {
          "base_uri": "https://localhost:8080/"
        },
        "id": "AWG1uQTLKe4m",
        "outputId": "c6c53685-b36e-4de5-8cec-501271346f8a"
      },
      "outputs": [
        {
          "output_type": "stream",
          "name": "stdout",
          "text": [
            "0.637426504468489\n"
          ]
        }
      ],
      "source": [
        "#Entreno un modelo ComplementNB sobre el dataset de train vectorizado con CountVectorizer\n",
        "\n",
        "#fit del modelo sobre train\n",
        "clf = ComplementNB()\n",
        "clf.fit(X_train_count, y_train)\n",
        "\n",
        "#aplico el transform del vectorizador fitteado en train\n",
        "X_test = countvect.transform(newsgroups_test.data)\n",
        "y_test = newsgroups_test.target\n",
        "y_pred =  clf.predict(X_test)\n",
        "\n",
        "#calculo el f1_score macro\n",
        "f1_6 = f1_score(y_test, y_pred, average='macro').item()\n",
        "print(f1_6)"
      ]
    },
    {
      "cell_type": "code",
      "source": [
        "#Resumen de los resultados obtenidos\n",
        "data = {\n",
        "    \"Vectorizer\": [\n",
        "        \"TfidfVectorizer\",\n",
        "        \"TfidfVectorizer (min_df=2)\",\n",
        "        \"CountVectorizer\"\n",
        "    ],\n",
        "    \"MultinomialNB\": [\n",
        "        round(f1_1, 4),\n",
        "        round(f1_2, 4),\n",
        "        round(f1_3, 4)\n",
        "    ],\n",
        "    \"ComplementNB\": [\n",
        "        round(f1_4, 4),\n",
        "        round(f1_5, 4),\n",
        "        round(f1_6, 4)\n",
        "    ]\n",
        "}\n",
        "\n",
        "resumen_f1_score = pd.DataFrame(data)\n",
        "resumen_f1_score"
      ],
      "metadata": {
        "colab": {
          "base_uri": "https://localhost:8080/",
          "height": 143
        },
        "id": "WIk04IOPT6xy",
        "outputId": "ff1313c0-a719-4233-c36b-f6afc7a0c16e"
      },
      "execution_count": 24,
      "outputs": [
        {
          "output_type": "execute_result",
          "data": {
            "text/plain": [
              "                   Vectorizer  MultinomialNB  ComplementNB\n",
              "0             TfidfVectorizer         0.5854        0.6930\n",
              "1  TfidfVectorizer (min_df=2)         0.5970        0.6935\n",
              "2             CountVectorizer         0.5121        0.6374"
            ],
            "text/html": [
              "\n",
              "  <div id=\"df-1410d76e-12e0-4c4e-9457-67f313cca567\" class=\"colab-df-container\">\n",
              "    <div>\n",
              "<style scoped>\n",
              "    .dataframe tbody tr th:only-of-type {\n",
              "        vertical-align: middle;\n",
              "    }\n",
              "\n",
              "    .dataframe tbody tr th {\n",
              "        vertical-align: top;\n",
              "    }\n",
              "\n",
              "    .dataframe thead th {\n",
              "        text-align: right;\n",
              "    }\n",
              "</style>\n",
              "<table border=\"1\" class=\"dataframe\">\n",
              "  <thead>\n",
              "    <tr style=\"text-align: right;\">\n",
              "      <th></th>\n",
              "      <th>Vectorizer</th>\n",
              "      <th>MultinomialNB</th>\n",
              "      <th>ComplementNB</th>\n",
              "    </tr>\n",
              "  </thead>\n",
              "  <tbody>\n",
              "    <tr>\n",
              "      <th>0</th>\n",
              "      <td>TfidfVectorizer</td>\n",
              "      <td>0.5854</td>\n",
              "      <td>0.6930</td>\n",
              "    </tr>\n",
              "    <tr>\n",
              "      <th>1</th>\n",
              "      <td>TfidfVectorizer (min_df=2)</td>\n",
              "      <td>0.5970</td>\n",
              "      <td>0.6935</td>\n",
              "    </tr>\n",
              "    <tr>\n",
              "      <th>2</th>\n",
              "      <td>CountVectorizer</td>\n",
              "      <td>0.5121</td>\n",
              "      <td>0.6374</td>\n",
              "    </tr>\n",
              "  </tbody>\n",
              "</table>\n",
              "</div>\n",
              "    <div class=\"colab-df-buttons\">\n",
              "\n",
              "  <div class=\"colab-df-container\">\n",
              "    <button class=\"colab-df-convert\" onclick=\"convertToInteractive('df-1410d76e-12e0-4c4e-9457-67f313cca567')\"\n",
              "            title=\"Convert this dataframe to an interactive table.\"\n",
              "            style=\"display:none;\">\n",
              "\n",
              "  <svg xmlns=\"http://www.w3.org/2000/svg\" height=\"24px\" viewBox=\"0 -960 960 960\">\n",
              "    <path d=\"M120-120v-720h720v720H120Zm60-500h600v-160H180v160Zm220 220h160v-160H400v160Zm0 220h160v-160H400v160ZM180-400h160v-160H180v160Zm440 0h160v-160H620v160ZM180-180h160v-160H180v160Zm440 0h160v-160H620v160Z\"/>\n",
              "  </svg>\n",
              "    </button>\n",
              "\n",
              "  <style>\n",
              "    .colab-df-container {\n",
              "      display:flex;\n",
              "      gap: 12px;\n",
              "    }\n",
              "\n",
              "    .colab-df-convert {\n",
              "      background-color: #E8F0FE;\n",
              "      border: none;\n",
              "      border-radius: 50%;\n",
              "      cursor: pointer;\n",
              "      display: none;\n",
              "      fill: #1967D2;\n",
              "      height: 32px;\n",
              "      padding: 0 0 0 0;\n",
              "      width: 32px;\n",
              "    }\n",
              "\n",
              "    .colab-df-convert:hover {\n",
              "      background-color: #E2EBFA;\n",
              "      box-shadow: 0px 1px 2px rgba(60, 64, 67, 0.3), 0px 1px 3px 1px rgba(60, 64, 67, 0.15);\n",
              "      fill: #174EA6;\n",
              "    }\n",
              "\n",
              "    .colab-df-buttons div {\n",
              "      margin-bottom: 4px;\n",
              "    }\n",
              "\n",
              "    [theme=dark] .colab-df-convert {\n",
              "      background-color: #3B4455;\n",
              "      fill: #D2E3FC;\n",
              "    }\n",
              "\n",
              "    [theme=dark] .colab-df-convert:hover {\n",
              "      background-color: #434B5C;\n",
              "      box-shadow: 0px 1px 3px 1px rgba(0, 0, 0, 0.15);\n",
              "      filter: drop-shadow(0px 1px 2px rgba(0, 0, 0, 0.3));\n",
              "      fill: #FFFFFF;\n",
              "    }\n",
              "  </style>\n",
              "\n",
              "    <script>\n",
              "      const buttonEl =\n",
              "        document.querySelector('#df-1410d76e-12e0-4c4e-9457-67f313cca567 button.colab-df-convert');\n",
              "      buttonEl.style.display =\n",
              "        google.colab.kernel.accessAllowed ? 'block' : 'none';\n",
              "\n",
              "      async function convertToInteractive(key) {\n",
              "        const element = document.querySelector('#df-1410d76e-12e0-4c4e-9457-67f313cca567');\n",
              "        const dataTable =\n",
              "          await google.colab.kernel.invokeFunction('convertToInteractive',\n",
              "                                                    [key], {});\n",
              "        if (!dataTable) return;\n",
              "\n",
              "        const docLinkHtml = 'Like what you see? Visit the ' +\n",
              "          '<a target=\"_blank\" href=https://colab.research.google.com/notebooks/data_table.ipynb>data table notebook</a>'\n",
              "          + ' to learn more about interactive tables.';\n",
              "        element.innerHTML = '';\n",
              "        dataTable['output_type'] = 'display_data';\n",
              "        await google.colab.output.renderOutput(dataTable, element);\n",
              "        const docLink = document.createElement('div');\n",
              "        docLink.innerHTML = docLinkHtml;\n",
              "        element.appendChild(docLink);\n",
              "      }\n",
              "    </script>\n",
              "  </div>\n",
              "\n",
              "\n",
              "<div id=\"df-e350522b-8b29-4943-98ce-1a88aec7968b\">\n",
              "  <button class=\"colab-df-quickchart\" onclick=\"quickchart('df-e350522b-8b29-4943-98ce-1a88aec7968b')\"\n",
              "            title=\"Suggest charts\"\n",
              "            style=\"display:none;\">\n",
              "\n",
              "<svg xmlns=\"http://www.w3.org/2000/svg\" height=\"24px\"viewBox=\"0 0 24 24\"\n",
              "     width=\"24px\">\n",
              "    <g>\n",
              "        <path d=\"M19 3H5c-1.1 0-2 .9-2 2v14c0 1.1.9 2 2 2h14c1.1 0 2-.9 2-2V5c0-1.1-.9-2-2-2zM9 17H7v-7h2v7zm4 0h-2V7h2v10zm4 0h-2v-4h2v4z\"/>\n",
              "    </g>\n",
              "</svg>\n",
              "  </button>\n",
              "\n",
              "<style>\n",
              "  .colab-df-quickchart {\n",
              "      --bg-color: #E8F0FE;\n",
              "      --fill-color: #1967D2;\n",
              "      --hover-bg-color: #E2EBFA;\n",
              "      --hover-fill-color: #174EA6;\n",
              "      --disabled-fill-color: #AAA;\n",
              "      --disabled-bg-color: #DDD;\n",
              "  }\n",
              "\n",
              "  [theme=dark] .colab-df-quickchart {\n",
              "      --bg-color: #3B4455;\n",
              "      --fill-color: #D2E3FC;\n",
              "      --hover-bg-color: #434B5C;\n",
              "      --hover-fill-color: #FFFFFF;\n",
              "      --disabled-bg-color: #3B4455;\n",
              "      --disabled-fill-color: #666;\n",
              "  }\n",
              "\n",
              "  .colab-df-quickchart {\n",
              "    background-color: var(--bg-color);\n",
              "    border: none;\n",
              "    border-radius: 50%;\n",
              "    cursor: pointer;\n",
              "    display: none;\n",
              "    fill: var(--fill-color);\n",
              "    height: 32px;\n",
              "    padding: 0;\n",
              "    width: 32px;\n",
              "  }\n",
              "\n",
              "  .colab-df-quickchart:hover {\n",
              "    background-color: var(--hover-bg-color);\n",
              "    box-shadow: 0 1px 2px rgba(60, 64, 67, 0.3), 0 1px 3px 1px rgba(60, 64, 67, 0.15);\n",
              "    fill: var(--button-hover-fill-color);\n",
              "  }\n",
              "\n",
              "  .colab-df-quickchart-complete:disabled,\n",
              "  .colab-df-quickchart-complete:disabled:hover {\n",
              "    background-color: var(--disabled-bg-color);\n",
              "    fill: var(--disabled-fill-color);\n",
              "    box-shadow: none;\n",
              "  }\n",
              "\n",
              "  .colab-df-spinner {\n",
              "    border: 2px solid var(--fill-color);\n",
              "    border-color: transparent;\n",
              "    border-bottom-color: var(--fill-color);\n",
              "    animation:\n",
              "      spin 1s steps(1) infinite;\n",
              "  }\n",
              "\n",
              "  @keyframes spin {\n",
              "    0% {\n",
              "      border-color: transparent;\n",
              "      border-bottom-color: var(--fill-color);\n",
              "      border-left-color: var(--fill-color);\n",
              "    }\n",
              "    20% {\n",
              "      border-color: transparent;\n",
              "      border-left-color: var(--fill-color);\n",
              "      border-top-color: var(--fill-color);\n",
              "    }\n",
              "    30% {\n",
              "      border-color: transparent;\n",
              "      border-left-color: var(--fill-color);\n",
              "      border-top-color: var(--fill-color);\n",
              "      border-right-color: var(--fill-color);\n",
              "    }\n",
              "    40% {\n",
              "      border-color: transparent;\n",
              "      border-right-color: var(--fill-color);\n",
              "      border-top-color: var(--fill-color);\n",
              "    }\n",
              "    60% {\n",
              "      border-color: transparent;\n",
              "      border-right-color: var(--fill-color);\n",
              "    }\n",
              "    80% {\n",
              "      border-color: transparent;\n",
              "      border-right-color: var(--fill-color);\n",
              "      border-bottom-color: var(--fill-color);\n",
              "    }\n",
              "    90% {\n",
              "      border-color: transparent;\n",
              "      border-bottom-color: var(--fill-color);\n",
              "    }\n",
              "  }\n",
              "</style>\n",
              "\n",
              "  <script>\n",
              "    async function quickchart(key) {\n",
              "      const quickchartButtonEl =\n",
              "        document.querySelector('#' + key + ' button');\n",
              "      quickchartButtonEl.disabled = true;  // To prevent multiple clicks.\n",
              "      quickchartButtonEl.classList.add('colab-df-spinner');\n",
              "      try {\n",
              "        const charts = await google.colab.kernel.invokeFunction(\n",
              "            'suggestCharts', [key], {});\n",
              "      } catch (error) {\n",
              "        console.error('Error during call to suggestCharts:', error);\n",
              "      }\n",
              "      quickchartButtonEl.classList.remove('colab-df-spinner');\n",
              "      quickchartButtonEl.classList.add('colab-df-quickchart-complete');\n",
              "    }\n",
              "    (() => {\n",
              "      let quickchartButtonEl =\n",
              "        document.querySelector('#df-e350522b-8b29-4943-98ce-1a88aec7968b button');\n",
              "      quickchartButtonEl.style.display =\n",
              "        google.colab.kernel.accessAllowed ? 'block' : 'none';\n",
              "    })();\n",
              "  </script>\n",
              "</div>\n",
              "\n",
              "  <div id=\"id_ed6011f0-f4ae-497a-8eb6-5ac36290c76b\">\n",
              "    <style>\n",
              "      .colab-df-generate {\n",
              "        background-color: #E8F0FE;\n",
              "        border: none;\n",
              "        border-radius: 50%;\n",
              "        cursor: pointer;\n",
              "        display: none;\n",
              "        fill: #1967D2;\n",
              "        height: 32px;\n",
              "        padding: 0 0 0 0;\n",
              "        width: 32px;\n",
              "      }\n",
              "\n",
              "      .colab-df-generate:hover {\n",
              "        background-color: #E2EBFA;\n",
              "        box-shadow: 0px 1px 2px rgba(60, 64, 67, 0.3), 0px 1px 3px 1px rgba(60, 64, 67, 0.15);\n",
              "        fill: #174EA6;\n",
              "      }\n",
              "\n",
              "      [theme=dark] .colab-df-generate {\n",
              "        background-color: #3B4455;\n",
              "        fill: #D2E3FC;\n",
              "      }\n",
              "\n",
              "      [theme=dark] .colab-df-generate:hover {\n",
              "        background-color: #434B5C;\n",
              "        box-shadow: 0px 1px 3px 1px rgba(0, 0, 0, 0.15);\n",
              "        filter: drop-shadow(0px 1px 2px rgba(0, 0, 0, 0.3));\n",
              "        fill: #FFFFFF;\n",
              "      }\n",
              "    </style>\n",
              "    <button class=\"colab-df-generate\" onclick=\"generateWithVariable('resumen_f1_score')\"\n",
              "            title=\"Generate code using this dataframe.\"\n",
              "            style=\"display:none;\">\n",
              "\n",
              "  <svg xmlns=\"http://www.w3.org/2000/svg\" height=\"24px\"viewBox=\"0 0 24 24\"\n",
              "       width=\"24px\">\n",
              "    <path d=\"M7,19H8.4L18.45,9,17,7.55,7,17.6ZM5,21V16.75L18.45,3.32a2,2,0,0,1,2.83,0l1.4,1.43a1.91,1.91,0,0,1,.58,1.4,1.91,1.91,0,0,1-.58,1.4L9.25,21ZM18.45,9,17,7.55Zm-12,3A5.31,5.31,0,0,0,4.9,8.1,5.31,5.31,0,0,0,1,6.5,5.31,5.31,0,0,0,4.9,4.9,5.31,5.31,0,0,0,6.5,1,5.31,5.31,0,0,0,8.1,4.9,5.31,5.31,0,0,0,12,6.5,5.46,5.46,0,0,0,6.5,12Z\"/>\n",
              "  </svg>\n",
              "    </button>\n",
              "    <script>\n",
              "      (() => {\n",
              "      const buttonEl =\n",
              "        document.querySelector('#id_ed6011f0-f4ae-497a-8eb6-5ac36290c76b button.colab-df-generate');\n",
              "      buttonEl.style.display =\n",
              "        google.colab.kernel.accessAllowed ? 'block' : 'none';\n",
              "\n",
              "      buttonEl.onclick = () => {\n",
              "        google.colab.notebook.generateWithVariable('resumen_f1_score');\n",
              "      }\n",
              "      })();\n",
              "    </script>\n",
              "  </div>\n",
              "\n",
              "    </div>\n",
              "  </div>\n"
            ],
            "application/vnd.google.colaboratory.intrinsic+json": {
              "type": "dataframe",
              "variable_name": "resumen_f1_score",
              "summary": "{\n  \"name\": \"resumen_f1_score\",\n  \"rows\": 3,\n  \"fields\": [\n    {\n      \"column\": \"Vectorizer\",\n      \"properties\": {\n        \"dtype\": \"string\",\n        \"num_unique_values\": 3,\n        \"samples\": [\n          \"TfidfVectorizer\",\n          \"TfidfVectorizer (min_df=2)\",\n          \"CountVectorizer\"\n        ],\n        \"semantic_type\": \"\",\n        \"description\": \"\"\n      }\n    },\n    {\n      \"column\": \"MultinomialNB\",\n      \"properties\": {\n        \"dtype\": \"number\",\n        \"std\": 0.04603524012464074,\n        \"min\": 0.5121,\n        \"max\": 0.597,\n        \"num_unique_values\": 3,\n        \"samples\": [\n          0.5854,\n          0.597,\n          0.5121\n        ],\n        \"semantic_type\": \"\",\n        \"description\": \"\"\n      }\n    },\n    {\n      \"column\": \"ComplementNB\",\n      \"properties\": {\n        \"dtype\": \"number\",\n        \"std\": 0.032245981661802973,\n        \"min\": 0.6374,\n        \"max\": 0.6935,\n        \"num_unique_values\": 3,\n        \"samples\": [\n          0.693,\n          0.6935,\n          0.6374\n        ],\n        \"semantic_type\": \"\",\n        \"description\": \"\"\n      }\n    }\n  ]\n}"
            }
          },
          "metadata": {},
          "execution_count": 24
        }
      ]
    },
    {
      "cell_type": "markdown",
      "source": [
        "Sobre el modelo que alcanzó el mejor f1_score macro, modifiqué el hiperparámetro alpha.\n",
        "Este hiperparámetro es el valor que se asigna para los términos que no se encuentran dentro del vocabulario, y por default este valor es igual a 1. Me parecía interesante ver el impacto de darle un valor menor a 1 a estos términos.\n"
      ],
      "metadata": {
        "id": "C4z8dD0_VKGB"
      }
    },
    {
      "cell_type": "code",
      "execution_count": 25,
      "metadata": {
        "colab": {
          "base_uri": "https://localhost:8080/"
        },
        "id": "24pwCqsmKe4n",
        "outputId": "48bf0939-9547-44b5-d980-223978b3c77f"
      },
      "outputs": [
        {
          "output_type": "execute_result",
          "data": {
            "text/plain": [
              "0.6980382854233241"
            ]
          },
          "metadata": {},
          "execution_count": 25
        }
      ],
      "source": [
        "\n",
        "clf = ComplementNB(alpha=0.5)\n",
        "clf.fit(X_train_tfidf_m, y_train)\n",
        "\n",
        "#aplico el transform del vectorizador fitteado en train\n",
        "X_test = tfidfvect_m.transform(newsgroups_test.data)\n",
        "y_test = newsgroups_test.target\n",
        "y_pred =  clf.predict(X_test)\n",
        "\n",
        "#calculo el f1_score macro\n",
        "f1_score(y_test, y_pred, average='macro').item()"
      ]
    },
    {
      "cell_type": "markdown",
      "source": [
        "El mayor f1_score macro (0.6980) se obtuvo entrando un modelo ComplementNB con un alpha de 0.5,sobre un dataset vectorizado con TfidfVectorizer con el hiperparámetro min_df igual a 2.\n"
      ],
      "metadata": {
        "id": "J_9Mgdx9SRp_"
      }
    },
    {
      "cell_type": "markdown",
      "metadata": {
        "id": "EoypRs3WKe4n"
      },
      "source": [
        "**Punto 3**"
      ]
    },
    {
      "cell_type": "code",
      "execution_count": 26,
      "metadata": {
        "id": "EDQhQj6OKe4n"
      },
      "outputs": [],
      "source": [
        "# transpongo la matriz documento-termino para tener en las filas los vectores asociados a cada término.\n",
        "X_train_tfidf_m_transposed = X_train_tfidf_m.transpose()"
      ]
    },
    {
      "cell_type": "code",
      "execution_count": 27,
      "metadata": {
        "colab": {
          "base_uri": "https://localhost:8080/"
        },
        "id": "hGoCRisaKe4n",
        "outputId": "1af68e01-a2e7-49c5-cbac-19ccfa9b7486"
      },
      "outputs": [
        {
          "output_type": "execute_result",
          "data": {
            "text/plain": [
              "array(['00', '000', '0000', ..., 'zyra', 'zyxel', 'zz'], dtype=object)"
            ]
          },
          "metadata": {},
          "execution_count": 27
        }
      ],
      "source": [
        "column_names = tfidfvect_m.get_feature_names_out()\n",
        "column_names"
      ]
    },
    {
      "cell_type": "code",
      "execution_count": 28,
      "metadata": {
        "colab": {
          "base_uri": "https://localhost:8080/"
        },
        "id": "TPqRucLBKe4n",
        "outputId": "dfbf53f7-69c9-43f5-c37a-d246f6f71174"
      },
      "outputs": [
        {
          "output_type": "execute_result",
          "data": {
            "text/plain": [
              "[(8366, 'car')]"
            ]
          },
          "metadata": {},
          "execution_count": 28
        }
      ],
      "source": [
        "check_word_in_vocabulary = [x for x in enumerate(column_names) if 'car' in x]\n",
        "check_word_in_vocabulary"
      ]
    },
    {
      "cell_type": "code",
      "execution_count": 29,
      "metadata": {
        "colab": {
          "base_uri": "https://localhost:8080/"
        },
        "id": "rtXBttltKe4n",
        "outputId": "1ff243bd-42d8-4307-c3c8-6e0e2ff8812d"
      },
      "outputs": [
        {
          "output_type": "stream",
          "name": "stdout",
          "text": [
            "idx: 8366 word: car\n",
            "idx: 8445 word: cars\n",
            "idx: 9157 word: civic\n",
            "idx: 11381 word: dealer\n",
            "idx: 26193 word: owner\n",
            "idx: 21713 word: loan\n"
          ]
        }
      ],
      "source": [
        "idx = [8366]\n",
        "\n",
        "cossim = cosine_similarity(X_train_tfidf_m_transposed[idx], X_train_tfidf_m_transposed)[0]\n",
        "\n",
        "idx2word = {v: k for k,v in tfidfvect_m.vocabulary_.items()}\n",
        "\n",
        "# veo el término original y los 5 más similares:\n",
        "mostsim = np.argsort(cossim)[::-1][0:6]\n",
        "\n",
        "for i in mostsim:\n",
        "  print('idx:',i, 'word:', idx2word[i])\n",
        ""
      ]
    },
    {
      "cell_type": "code",
      "source": [
        "check_word_in_vocabulary = [x for x in enumerate(column_names) if 'man' in x]\n",
        "check_word_in_vocabulary"
      ],
      "metadata": {
        "colab": {
          "base_uri": "https://localhost:8080/"
        },
        "id": "qgZ9fCd-Weyx",
        "outputId": "49fca0c2-1303-430c-82db-cdc7548e2d52"
      },
      "execution_count": 30,
      "outputs": [
        {
          "output_type": "execute_result",
          "data": {
            "text/plain": [
              "[(22396, 'man')]"
            ]
          },
          "metadata": {},
          "execution_count": 30
        }
      ]
    },
    {
      "cell_type": "code",
      "source": [
        "idx = [22396]\n",
        "\n",
        "cossim = cosine_similarity(X_train_tfidf_m_transposed[idx], X_train_tfidf_m_transposed)[0]\n",
        "\n",
        "idx2word = {v: k for k,v in tfidfvect_m.vocabulary_.items()}\n",
        "\n",
        "# veo el término original y los 5 más similares:\n",
        "mostsim = np.argsort(cossim)[::-1][0:6]\n",
        "\n",
        "for i in mostsim:\n",
        "  print('idx:',i, 'word:', idx2word[i])\n",
        ""
      ],
      "metadata": {
        "colab": {
          "base_uri": "https://localhost:8080/"
        },
        "id": "u6WpAhV8Wzh1",
        "outputId": "f7b427eb-900b-4830-d517-c0ed543c620c"
      },
      "execution_count": 31,
      "outputs": [
        {
          "output_type": "stream",
          "name": "stdout",
          "text": [
            "idx: 22396 word: man\n",
            "idx: 31908 word: shintoism\n",
            "idx: 10022 word: confucianism\n",
            "idx: 39350 word: zoerasterism\n",
            "idx: 28341 word: prupose\n",
            "idx: 22391 word: mammal\n"
          ]
        }
      ]
    },
    {
      "cell_type": "code",
      "source": [
        "check_word_in_vocabulary = [x for x in enumerate(column_names) if 'country' in x]\n",
        "check_word_in_vocabulary"
      ],
      "metadata": {
        "colab": {
          "base_uri": "https://localhost:8080/"
        },
        "id": "LIhbs5sJXEzJ",
        "outputId": "2b6437e4-6e91-4da9-dc55-39bdb8dc8818"
      },
      "execution_count": 32,
      "outputs": [
        {
          "output_type": "execute_result",
          "data": {
            "text/plain": [
              "[(10538, 'country')]"
            ]
          },
          "metadata": {},
          "execution_count": 32
        }
      ]
    },
    {
      "cell_type": "code",
      "source": [
        "idx = [10538]\n",
        "\n",
        "cossim = cosine_similarity(X_train_tfidf_m_transposed[idx], X_train_tfidf_m_transposed)[0]\n",
        "\n",
        "idx2word = {v: k for k,v in tfidfvect_m.vocabulary_.items()}\n",
        "\n",
        "# veo el término original y los 5 más similares:\n",
        "mostsim = np.argsort(cossim)[::-1][0:6]\n",
        "\n",
        "for i in mostsim:\n",
        "  print('idx:',i, 'word:', idx2word[i])"
      ],
      "metadata": {
        "colab": {
          "base_uri": "https://localhost:8080/"
        },
        "id": "iuMrIjWsXImS",
        "outputId": "100b4ffe-aa98-437a-c271-f8f11d295746"
      },
      "execution_count": 33,
      "outputs": [
        {
          "output_type": "stream",
          "name": "stdout",
          "text": [
            "idx: 10538 word: country\n",
            "idx: 7426 word: borden\n",
            "idx: 8715 word: cess\n",
            "idx: 29553 word: regan\n",
            "idx: 6592 word: bastards\n",
            "idx: 975 word: 1993apr24\n"
          ]
        }
      ]
    },
    {
      "cell_type": "code",
      "source": [
        "check_word_in_vocabulary = [x for x in enumerate(column_names) if 'god' in x]\n",
        "check_word_in_vocabulary"
      ],
      "metadata": {
        "colab": {
          "base_uri": "https://localhost:8080/"
        },
        "id": "ipnWE9dzXK8T",
        "outputId": "78c5c02f-ac1c-4699-885b-2aa382fae12c"
      },
      "execution_count": 34,
      "outputs": [
        {
          "output_type": "execute_result",
          "data": {
            "text/plain": [
              "[(16573, 'god')]"
            ]
          },
          "metadata": {},
          "execution_count": 34
        }
      ]
    },
    {
      "cell_type": "code",
      "source": [
        "idx = [16573]\n",
        "\n",
        "cossim = cosine_similarity(X_train_tfidf_m_transposed[idx], X_train_tfidf_m_transposed)[0]\n",
        "\n",
        "idx2word = {v: k for k,v in tfidfvect_m.vocabulary_.items()}\n",
        "\n",
        "# veo el término original y los 5 más similares:\n",
        "mostsim = np.argsort(cossim)[::-1][0:6]\n",
        "\n",
        "for i in mostsim:\n",
        "  print('idx:',i, 'word:', idx2word[i])"
      ],
      "metadata": {
        "colab": {
          "base_uri": "https://localhost:8080/"
        },
        "id": "DxZphyWTXTrF",
        "outputId": "9b8083c1-8c26-48db-bc6b-23551d3bc747"
      },
      "execution_count": 35,
      "outputs": [
        {
          "output_type": "stream",
          "name": "stdout",
          "text": [
            "idx: 16573 word: god\n",
            "idx: 19974 word: jesus\n",
            "idx: 6987 word: bible\n",
            "idx: 34847 word: that\n",
            "idx: 14440 word: existence\n",
            "idx: 9018 word: christ\n"
          ]
        }
      ]
    },
    {
      "cell_type": "code",
      "source": [
        "check_word_in_vocabulary = [x for x in enumerate(column_names) if 'hardware' in x]\n",
        "check_word_in_vocabulary"
      ],
      "metadata": {
        "colab": {
          "base_uri": "https://localhost:8080/"
        },
        "id": "hBQEMTiKXg4X",
        "outputId": "41ab2b8d-b265-4000-ae98-eb8c31cb763e"
      },
      "execution_count": 36,
      "outputs": [
        {
          "output_type": "execute_result",
          "data": {
            "text/plain": [
              "[(17313, 'hardware')]"
            ]
          },
          "metadata": {},
          "execution_count": 36
        }
      ]
    },
    {
      "cell_type": "code",
      "source": [
        "idx = [17313]\n",
        "\n",
        "cossim = cosine_similarity(X_train_tfidf_m_transposed[idx], X_train_tfidf_m_transposed)[0]\n",
        "\n",
        "idx2word = {v: k for k,v in tfidfvect_m.vocabulary_.items()}\n",
        "\n",
        "# veo el término original y los 5 más similares:\n",
        "mostsim = np.argsort(cossim)[::-1][0:6]\n",
        "\n",
        "for i in mostsim:\n",
        "  print('idx:',i, 'word:', idx2word[i])"
      ],
      "metadata": {
        "colab": {
          "base_uri": "https://localhost:8080/"
        },
        "id": "9kKV5t_oXjya",
        "outputId": "69b72b5f-66f6-4068-8469-5fd8ee3de575"
      },
      "execution_count": 37,
      "outputs": [
        {
          "output_type": "stream",
          "name": "stdout",
          "text": [
            "idx: 17313 word: hardware\n",
            "idx: 36157 word: unconditionally\n",
            "idx: 17250 word: handshaking\n",
            "idx: 32633 word: software\n",
            "idx: 31362 word: scrolloff\n",
            "idx: 1350 word: 24xmode\n"
          ]
        }
      ]
    },
    {
      "cell_type": "markdown",
      "source": [
        "\n",
        "Los resultados obtenidos al transponer la matriz documento-término y calcular la similitud coseno entre los términos muestran que las similitudes halladas no se fundamentan exclusivamente en sinónimos o palabras afines, sino en la coocurrencia de términos dentro de un mismo documento. Sin embargo existen casos en que los términos similares en su mayoría son palabras afines (ejemplo 'cars'), pero no se ve esto en general para el resto de los términos. Por ejemplo, los términos relacionados con 'god' tienden a concentrarse en el ámbito de la religión."
      ],
      "metadata": {
        "id": "aI3zPSAHXsp5"
      }
    }
  ],
  "metadata": {
    "colab": {
      "provenance": []
    },
    "kernelspec": {
      "display_name": "VisionPorComputadora",
      "language": "python",
      "name": "python3"
    },
    "language_info": {
      "codemirror_mode": {
        "name": "ipython",
        "version": 3
      },
      "file_extension": ".py",
      "mimetype": "text/x-python",
      "name": "python",
      "nbconvert_exporter": "python",
      "pygments_lexer": "ipython3",
      "version": "3.10.14"
    }
  },
  "nbformat": 4,
  "nbformat_minor": 0
}