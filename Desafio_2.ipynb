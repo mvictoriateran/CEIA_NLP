{
  "nbformat": 4,
  "nbformat_minor": 0,
  "metadata": {
    "colab": {
      "provenance": []
    },
    "kernelspec": {
      "name": "python3",
      "display_name": "Python 3"
    },
    "language_info": {
      "name": "python"
    }
  },
  "cells": [
    {
      "cell_type": "code",
      "source": [
        "import pandas as pd\n",
        "import matplotlib.pyplot as plt\n",
        "import seaborn as sns\n",
        "from sklearn.metrics import pairwise\n",
        "\n",
        "import multiprocessing\n",
        "from gensim.models import Word2Vec\n",
        "\n",
        "from nltk.corpus import gutenberg\n",
        "import nltk\n",
        "nltk.download('gutenberg')\n",
        "import nltk\n",
        "nltk.download('punkt')"
      ],
      "metadata": {
        "colab": {
          "base_uri": "https://localhost:8080/"
        },
        "id": "x8wSSORDbvfR",
        "outputId": "08cbb4eb-2596-483b-fc89-02cf7494ea6e"
      },
      "execution_count": 1,
      "outputs": [
        {
          "output_type": "stream",
          "name": "stderr",
          "text": [
            "[nltk_data] Downloading package gutenberg to /root/nltk_data...\n",
            "[nltk_data]   Package gutenberg is already up-to-date!\n",
            "[nltk_data] Downloading package punkt to /root/nltk_data...\n",
            "[nltk_data]   Package punkt is already up-to-date!\n"
          ]
        },
        {
          "output_type": "execute_result",
          "data": {
            "text/plain": [
              "True"
            ]
          },
          "metadata": {},
          "execution_count": 1
        }
      ]
    },
    {
      "cell_type": "markdown",
      "source": [
        "**Importo el corpus con el que se va a trabajar: Moby dick.**\n",
        "\n",
        "Se definen los documentos como cada oración del corpus."
      ],
      "metadata": {
        "id": "eZx4irxYJt41"
      }
    },
    {
      "cell_type": "code",
      "source": [
        "gutenberg.fileids()"
      ],
      "metadata": {
        "colab": {
          "base_uri": "https://localhost:8080/"
        },
        "id": "WBbwoXQD4AbR",
        "outputId": "b1d30116-b399-446d-ea44-76bf8dd54349"
      },
      "execution_count": 2,
      "outputs": [
        {
          "output_type": "execute_result",
          "data": {
            "text/plain": [
              "['austen-emma.txt',\n",
              " 'austen-persuasion.txt',\n",
              " 'austen-sense.txt',\n",
              " 'bible-kjv.txt',\n",
              " 'blake-poems.txt',\n",
              " 'bryant-stories.txt',\n",
              " 'burgess-busterbrown.txt',\n",
              " 'carroll-alice.txt',\n",
              " 'chesterton-ball.txt',\n",
              " 'chesterton-brown.txt',\n",
              " 'chesterton-thursday.txt',\n",
              " 'edgeworth-parents.txt',\n",
              " 'melville-moby_dick.txt',\n",
              " 'milton-paradise.txt',\n",
              " 'shakespeare-caesar.txt',\n",
              " 'shakespeare-hamlet.txt',\n",
              " 'shakespeare-macbeth.txt',\n",
              " 'whitman-leaves.txt']"
            ]
          },
          "metadata": {},
          "execution_count": 2
        }
      ]
    },
    {
      "cell_type": "code",
      "source": [
        "moby_dick = gutenberg.sents('melville-moby_dick.txt')\n"
      ],
      "metadata": {
        "id": "zXnpGuT64PUH"
      },
      "execution_count": 3,
      "outputs": []
    },
    {
      "cell_type": "code",
      "source": [
        "display(moby_dick)"
      ],
      "metadata": {
        "colab": {
          "base_uri": "https://localhost:8080/",
          "height": 34
        },
        "id": "_vex_nqy5JjU",
        "outputId": "f684a6ab-bde5-415b-bfc7-1878fcad07fe"
      },
      "execution_count": 4,
      "outputs": [
        {
          "output_type": "display_data",
          "data": {
            "text/plain": [
              "[['[', 'Moby', 'Dick', 'by', 'Herman', 'Melville', '1851', ']'], ['ETYMOLOGY', '.'], ...]"
            ]
          },
          "metadata": {}
        }
      ]
    },
    {
      "cell_type": "code",
      "source": [
        "len(moby_dick)"
      ],
      "metadata": {
        "colab": {
          "base_uri": "https://localhost:8080/"
        },
        "id": "r-h2xFNf6IKE",
        "outputId": "31d03159-ee45-424c-8011-a6e8d3478067"
      },
      "execution_count": 5,
      "outputs": [
        {
          "output_type": "execute_result",
          "data": {
            "text/plain": [
              "10059"
            ]
          },
          "metadata": {},
          "execution_count": 5
        }
      ]
    },
    {
      "cell_type": "code",
      "source": [
        "# Convierto cada sublista (oración) en una cadena de texto\n",
        "sents_text = [' '.join(sentence) for sentence in moby_dick]\n",
        "\n",
        "df = pd.DataFrame(sents_text, columns=['Lines'])\n",
        "df"
      ],
      "metadata": {
        "colab": {
          "base_uri": "https://localhost:8080/",
          "height": 423
        },
        "id": "xM1Deb2l5lIa",
        "outputId": "d91cfc16-4ca2-4db1-d1d8-8985ca6db134"
      },
      "execution_count": 6,
      "outputs": [
        {
          "output_type": "execute_result",
          "data": {
            "text/plain": [
              "                                                   Lines\n",
              "0                  [ Moby Dick by Herman Melville 1851 ]\n",
              "1                                            ETYMOLOGY .\n",
              "2      ( Supplied by a Late Consumptive Usher to a Gr...\n",
              "3      The pale Usher -- threadbare in coat , heart ,...\n",
              "4      He was ever dusting his old lexicons and gramm...\n",
              "...                                                  ...\n",
              "10054  Till , gaining that vital centre , the black b...\n",
              "10055  Buoyed up by that coffin , for almost one whol...\n",
              "10056  The unharming sharks , they glided by as if wi...\n",
              "10057  On the second day , a sail drew near , nearer ...\n",
              "10058  It was the devious - cruising Rachel , that in...\n",
              "\n",
              "[10059 rows x 1 columns]"
            ],
            "text/html": [
              "\n",
              "  <div id=\"df-ae5d61e5-23b0-4812-9802-21fd0aa665e7\" class=\"colab-df-container\">\n",
              "    <div>\n",
              "<style scoped>\n",
              "    .dataframe tbody tr th:only-of-type {\n",
              "        vertical-align: middle;\n",
              "    }\n",
              "\n",
              "    .dataframe tbody tr th {\n",
              "        vertical-align: top;\n",
              "    }\n",
              "\n",
              "    .dataframe thead th {\n",
              "        text-align: right;\n",
              "    }\n",
              "</style>\n",
              "<table border=\"1\" class=\"dataframe\">\n",
              "  <thead>\n",
              "    <tr style=\"text-align: right;\">\n",
              "      <th></th>\n",
              "      <th>Lines</th>\n",
              "    </tr>\n",
              "  </thead>\n",
              "  <tbody>\n",
              "    <tr>\n",
              "      <th>0</th>\n",
              "      <td>[ Moby Dick by Herman Melville 1851 ]</td>\n",
              "    </tr>\n",
              "    <tr>\n",
              "      <th>1</th>\n",
              "      <td>ETYMOLOGY .</td>\n",
              "    </tr>\n",
              "    <tr>\n",
              "      <th>2</th>\n",
              "      <td>( Supplied by a Late Consumptive Usher to a Gr...</td>\n",
              "    </tr>\n",
              "    <tr>\n",
              "      <th>3</th>\n",
              "      <td>The pale Usher -- threadbare in coat , heart ,...</td>\n",
              "    </tr>\n",
              "    <tr>\n",
              "      <th>4</th>\n",
              "      <td>He was ever dusting his old lexicons and gramm...</td>\n",
              "    </tr>\n",
              "    <tr>\n",
              "      <th>...</th>\n",
              "      <td>...</td>\n",
              "    </tr>\n",
              "    <tr>\n",
              "      <th>10054</th>\n",
              "      <td>Till , gaining that vital centre , the black b...</td>\n",
              "    </tr>\n",
              "    <tr>\n",
              "      <th>10055</th>\n",
              "      <td>Buoyed up by that coffin , for almost one whol...</td>\n",
              "    </tr>\n",
              "    <tr>\n",
              "      <th>10056</th>\n",
              "      <td>The unharming sharks , they glided by as if wi...</td>\n",
              "    </tr>\n",
              "    <tr>\n",
              "      <th>10057</th>\n",
              "      <td>On the second day , a sail drew near , nearer ...</td>\n",
              "    </tr>\n",
              "    <tr>\n",
              "      <th>10058</th>\n",
              "      <td>It was the devious - cruising Rachel , that in...</td>\n",
              "    </tr>\n",
              "  </tbody>\n",
              "</table>\n",
              "<p>10059 rows × 1 columns</p>\n",
              "</div>\n",
              "    <div class=\"colab-df-buttons\">\n",
              "\n",
              "  <div class=\"colab-df-container\">\n",
              "    <button class=\"colab-df-convert\" onclick=\"convertToInteractive('df-ae5d61e5-23b0-4812-9802-21fd0aa665e7')\"\n",
              "            title=\"Convert this dataframe to an interactive table.\"\n",
              "            style=\"display:none;\">\n",
              "\n",
              "  <svg xmlns=\"http://www.w3.org/2000/svg\" height=\"24px\" viewBox=\"0 -960 960 960\">\n",
              "    <path d=\"M120-120v-720h720v720H120Zm60-500h600v-160H180v160Zm220 220h160v-160H400v160Zm0 220h160v-160H400v160ZM180-400h160v-160H180v160Zm440 0h160v-160H620v160ZM180-180h160v-160H180v160Zm440 0h160v-160H620v160Z\"/>\n",
              "  </svg>\n",
              "    </button>\n",
              "\n",
              "  <style>\n",
              "    .colab-df-container {\n",
              "      display:flex;\n",
              "      gap: 12px;\n",
              "    }\n",
              "\n",
              "    .colab-df-convert {\n",
              "      background-color: #E8F0FE;\n",
              "      border: none;\n",
              "      border-radius: 50%;\n",
              "      cursor: pointer;\n",
              "      display: none;\n",
              "      fill: #1967D2;\n",
              "      height: 32px;\n",
              "      padding: 0 0 0 0;\n",
              "      width: 32px;\n",
              "    }\n",
              "\n",
              "    .colab-df-convert:hover {\n",
              "      background-color: #E2EBFA;\n",
              "      box-shadow: 0px 1px 2px rgba(60, 64, 67, 0.3), 0px 1px 3px 1px rgba(60, 64, 67, 0.15);\n",
              "      fill: #174EA6;\n",
              "    }\n",
              "\n",
              "    .colab-df-buttons div {\n",
              "      margin-bottom: 4px;\n",
              "    }\n",
              "\n",
              "    [theme=dark] .colab-df-convert {\n",
              "      background-color: #3B4455;\n",
              "      fill: #D2E3FC;\n",
              "    }\n",
              "\n",
              "    [theme=dark] .colab-df-convert:hover {\n",
              "      background-color: #434B5C;\n",
              "      box-shadow: 0px 1px 3px 1px rgba(0, 0, 0, 0.15);\n",
              "      filter: drop-shadow(0px 1px 2px rgba(0, 0, 0, 0.3));\n",
              "      fill: #FFFFFF;\n",
              "    }\n",
              "  </style>\n",
              "\n",
              "    <script>\n",
              "      const buttonEl =\n",
              "        document.querySelector('#df-ae5d61e5-23b0-4812-9802-21fd0aa665e7 button.colab-df-convert');\n",
              "      buttonEl.style.display =\n",
              "        google.colab.kernel.accessAllowed ? 'block' : 'none';\n",
              "\n",
              "      async function convertToInteractive(key) {\n",
              "        const element = document.querySelector('#df-ae5d61e5-23b0-4812-9802-21fd0aa665e7');\n",
              "        const dataTable =\n",
              "          await google.colab.kernel.invokeFunction('convertToInteractive',\n",
              "                                                    [key], {});\n",
              "        if (!dataTable) return;\n",
              "\n",
              "        const docLinkHtml = 'Like what you see? Visit the ' +\n",
              "          '<a target=\"_blank\" href=https://colab.research.google.com/notebooks/data_table.ipynb>data table notebook</a>'\n",
              "          + ' to learn more about interactive tables.';\n",
              "        element.innerHTML = '';\n",
              "        dataTable['output_type'] = 'display_data';\n",
              "        await google.colab.output.renderOutput(dataTable, element);\n",
              "        const docLink = document.createElement('div');\n",
              "        docLink.innerHTML = docLinkHtml;\n",
              "        element.appendChild(docLink);\n",
              "      }\n",
              "    </script>\n",
              "  </div>\n",
              "\n",
              "\n",
              "<div id=\"df-211bed38-532f-479c-b671-a5a81df04459\">\n",
              "  <button class=\"colab-df-quickchart\" onclick=\"quickchart('df-211bed38-532f-479c-b671-a5a81df04459')\"\n",
              "            title=\"Suggest charts\"\n",
              "            style=\"display:none;\">\n",
              "\n",
              "<svg xmlns=\"http://www.w3.org/2000/svg\" height=\"24px\"viewBox=\"0 0 24 24\"\n",
              "     width=\"24px\">\n",
              "    <g>\n",
              "        <path d=\"M19 3H5c-1.1 0-2 .9-2 2v14c0 1.1.9 2 2 2h14c1.1 0 2-.9 2-2V5c0-1.1-.9-2-2-2zM9 17H7v-7h2v7zm4 0h-2V7h2v10zm4 0h-2v-4h2v4z\"/>\n",
              "    </g>\n",
              "</svg>\n",
              "  </button>\n",
              "\n",
              "<style>\n",
              "  .colab-df-quickchart {\n",
              "      --bg-color: #E8F0FE;\n",
              "      --fill-color: #1967D2;\n",
              "      --hover-bg-color: #E2EBFA;\n",
              "      --hover-fill-color: #174EA6;\n",
              "      --disabled-fill-color: #AAA;\n",
              "      --disabled-bg-color: #DDD;\n",
              "  }\n",
              "\n",
              "  [theme=dark] .colab-df-quickchart {\n",
              "      --bg-color: #3B4455;\n",
              "      --fill-color: #D2E3FC;\n",
              "      --hover-bg-color: #434B5C;\n",
              "      --hover-fill-color: #FFFFFF;\n",
              "      --disabled-bg-color: #3B4455;\n",
              "      --disabled-fill-color: #666;\n",
              "  }\n",
              "\n",
              "  .colab-df-quickchart {\n",
              "    background-color: var(--bg-color);\n",
              "    border: none;\n",
              "    border-radius: 50%;\n",
              "    cursor: pointer;\n",
              "    display: none;\n",
              "    fill: var(--fill-color);\n",
              "    height: 32px;\n",
              "    padding: 0;\n",
              "    width: 32px;\n",
              "  }\n",
              "\n",
              "  .colab-df-quickchart:hover {\n",
              "    background-color: var(--hover-bg-color);\n",
              "    box-shadow: 0 1px 2px rgba(60, 64, 67, 0.3), 0 1px 3px 1px rgba(60, 64, 67, 0.15);\n",
              "    fill: var(--button-hover-fill-color);\n",
              "  }\n",
              "\n",
              "  .colab-df-quickchart-complete:disabled,\n",
              "  .colab-df-quickchart-complete:disabled:hover {\n",
              "    background-color: var(--disabled-bg-color);\n",
              "    fill: var(--disabled-fill-color);\n",
              "    box-shadow: none;\n",
              "  }\n",
              "\n",
              "  .colab-df-spinner {\n",
              "    border: 2px solid var(--fill-color);\n",
              "    border-color: transparent;\n",
              "    border-bottom-color: var(--fill-color);\n",
              "    animation:\n",
              "      spin 1s steps(1) infinite;\n",
              "  }\n",
              "\n",
              "  @keyframes spin {\n",
              "    0% {\n",
              "      border-color: transparent;\n",
              "      border-bottom-color: var(--fill-color);\n",
              "      border-left-color: var(--fill-color);\n",
              "    }\n",
              "    20% {\n",
              "      border-color: transparent;\n",
              "      border-left-color: var(--fill-color);\n",
              "      border-top-color: var(--fill-color);\n",
              "    }\n",
              "    30% {\n",
              "      border-color: transparent;\n",
              "      border-left-color: var(--fill-color);\n",
              "      border-top-color: var(--fill-color);\n",
              "      border-right-color: var(--fill-color);\n",
              "    }\n",
              "    40% {\n",
              "      border-color: transparent;\n",
              "      border-right-color: var(--fill-color);\n",
              "      border-top-color: var(--fill-color);\n",
              "    }\n",
              "    60% {\n",
              "      border-color: transparent;\n",
              "      border-right-color: var(--fill-color);\n",
              "    }\n",
              "    80% {\n",
              "      border-color: transparent;\n",
              "      border-right-color: var(--fill-color);\n",
              "      border-bottom-color: var(--fill-color);\n",
              "    }\n",
              "    90% {\n",
              "      border-color: transparent;\n",
              "      border-bottom-color: var(--fill-color);\n",
              "    }\n",
              "  }\n",
              "</style>\n",
              "\n",
              "  <script>\n",
              "    async function quickchart(key) {\n",
              "      const quickchartButtonEl =\n",
              "        document.querySelector('#' + key + ' button');\n",
              "      quickchartButtonEl.disabled = true;  // To prevent multiple clicks.\n",
              "      quickchartButtonEl.classList.add('colab-df-spinner');\n",
              "      try {\n",
              "        const charts = await google.colab.kernel.invokeFunction(\n",
              "            'suggestCharts', [key], {});\n",
              "      } catch (error) {\n",
              "        console.error('Error during call to suggestCharts:', error);\n",
              "      }\n",
              "      quickchartButtonEl.classList.remove('colab-df-spinner');\n",
              "      quickchartButtonEl.classList.add('colab-df-quickchart-complete');\n",
              "    }\n",
              "    (() => {\n",
              "      let quickchartButtonEl =\n",
              "        document.querySelector('#df-211bed38-532f-479c-b671-a5a81df04459 button');\n",
              "      quickchartButtonEl.style.display =\n",
              "        google.colab.kernel.accessAllowed ? 'block' : 'none';\n",
              "    })();\n",
              "  </script>\n",
              "</div>\n",
              "\n",
              "  <div id=\"id_0acb4de3-8301-4844-bbfe-d0c8d7a9fcfe\">\n",
              "    <style>\n",
              "      .colab-df-generate {\n",
              "        background-color: #E8F0FE;\n",
              "        border: none;\n",
              "        border-radius: 50%;\n",
              "        cursor: pointer;\n",
              "        display: none;\n",
              "        fill: #1967D2;\n",
              "        height: 32px;\n",
              "        padding: 0 0 0 0;\n",
              "        width: 32px;\n",
              "      }\n",
              "\n",
              "      .colab-df-generate:hover {\n",
              "        background-color: #E2EBFA;\n",
              "        box-shadow: 0px 1px 2px rgba(60, 64, 67, 0.3), 0px 1px 3px 1px rgba(60, 64, 67, 0.15);\n",
              "        fill: #174EA6;\n",
              "      }\n",
              "\n",
              "      [theme=dark] .colab-df-generate {\n",
              "        background-color: #3B4455;\n",
              "        fill: #D2E3FC;\n",
              "      }\n",
              "\n",
              "      [theme=dark] .colab-df-generate:hover {\n",
              "        background-color: #434B5C;\n",
              "        box-shadow: 0px 1px 3px 1px rgba(0, 0, 0, 0.15);\n",
              "        filter: drop-shadow(0px 1px 2px rgba(0, 0, 0, 0.3));\n",
              "        fill: #FFFFFF;\n",
              "      }\n",
              "    </style>\n",
              "    <button class=\"colab-df-generate\" onclick=\"generateWithVariable('df')\"\n",
              "            title=\"Generate code using this dataframe.\"\n",
              "            style=\"display:none;\">\n",
              "\n",
              "  <svg xmlns=\"http://www.w3.org/2000/svg\" height=\"24px\"viewBox=\"0 0 24 24\"\n",
              "       width=\"24px\">\n",
              "    <path d=\"M7,19H8.4L18.45,9,17,7.55,7,17.6ZM5,21V16.75L18.45,3.32a2,2,0,0,1,2.83,0l1.4,1.43a1.91,1.91,0,0,1,.58,1.4,1.91,1.91,0,0,1-.58,1.4L9.25,21ZM18.45,9,17,7.55Zm-12,3A5.31,5.31,0,0,0,4.9,8.1,5.31,5.31,0,0,0,1,6.5,5.31,5.31,0,0,0,4.9,4.9,5.31,5.31,0,0,0,6.5,1,5.31,5.31,0,0,0,8.1,4.9,5.31,5.31,0,0,0,12,6.5,5.46,5.46,0,0,0,6.5,12Z\"/>\n",
              "  </svg>\n",
              "    </button>\n",
              "    <script>\n",
              "      (() => {\n",
              "      const buttonEl =\n",
              "        document.querySelector('#id_0acb4de3-8301-4844-bbfe-d0c8d7a9fcfe button.colab-df-generate');\n",
              "      buttonEl.style.display =\n",
              "        google.colab.kernel.accessAllowed ? 'block' : 'none';\n",
              "\n",
              "      buttonEl.onclick = () => {\n",
              "        google.colab.notebook.generateWithVariable('df');\n",
              "      }\n",
              "      })();\n",
              "    </script>\n",
              "  </div>\n",
              "\n",
              "    </div>\n",
              "  </div>\n"
            ],
            "application/vnd.google.colaboratory.intrinsic+json": {
              "type": "dataframe",
              "variable_name": "df",
              "summary": "{\n  \"name\": \"df\",\n  \"rows\": 10059,\n  \"fields\": [\n    {\n      \"column\": \"Lines\",\n      \"properties\": {\n        \"dtype\": \"string\",\n        \"num_unique_values\": 9838,\n        \"samples\": [\n          \"But ploughed up to the primary rock of the matter , the two great principles laid down in the twin whaling laws previously quoted , and applied and elucidated by Lord Ellenborough in the above cited case ; these two laws touching Fast - Fish and Loose - Fish , I say , will , on reflection , be found the fundamentals of all human jurisprudence ; for notwithstanding its complicated tracery of sculpture , the Temple of the Law , like the Temple of the Philistines , has but two props to stand on .\",\n          \"Lit up by the moon , it looked celestial ; seemed some plumed and glittering god uprising from the sea .\",\n          \"spite of million villains , this makes me a bigot in the fadeless fidelity of man !-- and a black !\"\n        ],\n        \"semantic_type\": \"\",\n        \"description\": \"\"\n      }\n    }\n  ]\n}"
            }
          },
          "metadata": {},
          "execution_count": 6
        }
      ]
    },
    {
      "cell_type": "code",
      "source": [
        "# cuento la cantidad de términos por documento\n",
        "df['Word Count'] = df['Lines'].apply(lambda x: len(x.split()))\n",
        "df['Word Count'].describe()"
      ],
      "metadata": {
        "colab": {
          "base_uri": "https://localhost:8080/",
          "height": 334
        },
        "id": "PAIgPjQtAISw",
        "outputId": "864488f6-670b-4975-89d2-8fe9d27e8cf4"
      },
      "execution_count": 7,
      "outputs": [
        {
          "output_type": "execute_result",
          "data": {
            "text/plain": [
              "count    10059.000000\n",
              "mean        25.932896\n",
              "std         23.915727\n",
              "min          1.000000\n",
              "25%          9.000000\n",
              "50%         20.000000\n",
              "75%         36.000000\n",
              "max        542.000000\n",
              "Name: Word Count, dtype: float64"
            ],
            "text/html": [
              "<div>\n",
              "<style scoped>\n",
              "    .dataframe tbody tr th:only-of-type {\n",
              "        vertical-align: middle;\n",
              "    }\n",
              "\n",
              "    .dataframe tbody tr th {\n",
              "        vertical-align: top;\n",
              "    }\n",
              "\n",
              "    .dataframe thead th {\n",
              "        text-align: right;\n",
              "    }\n",
              "</style>\n",
              "<table border=\"1\" class=\"dataframe\">\n",
              "  <thead>\n",
              "    <tr style=\"text-align: right;\">\n",
              "      <th></th>\n",
              "      <th>Word Count</th>\n",
              "    </tr>\n",
              "  </thead>\n",
              "  <tbody>\n",
              "    <tr>\n",
              "      <th>count</th>\n",
              "      <td>10059.000000</td>\n",
              "    </tr>\n",
              "    <tr>\n",
              "      <th>mean</th>\n",
              "      <td>25.932896</td>\n",
              "    </tr>\n",
              "    <tr>\n",
              "      <th>std</th>\n",
              "      <td>23.915727</td>\n",
              "    </tr>\n",
              "    <tr>\n",
              "      <th>min</th>\n",
              "      <td>1.000000</td>\n",
              "    </tr>\n",
              "    <tr>\n",
              "      <th>25%</th>\n",
              "      <td>9.000000</td>\n",
              "    </tr>\n",
              "    <tr>\n",
              "      <th>50%</th>\n",
              "      <td>20.000000</td>\n",
              "    </tr>\n",
              "    <tr>\n",
              "      <th>75%</th>\n",
              "      <td>36.000000</td>\n",
              "    </tr>\n",
              "    <tr>\n",
              "      <th>max</th>\n",
              "      <td>542.000000</td>\n",
              "    </tr>\n",
              "  </tbody>\n",
              "</table>\n",
              "</div><br><label><b>dtype:</b> float64</label>"
            ]
          },
          "metadata": {},
          "execution_count": 7
        }
      ]
    },
    {
      "cell_type": "code",
      "source": [
        "df"
      ],
      "metadata": {
        "colab": {
          "base_uri": "https://localhost:8080/",
          "height": 423
        },
        "id": "ZdEQ-_kGCko5",
        "outputId": "be52cece-4ed4-498c-eac5-c076fac71aea"
      },
      "execution_count": 8,
      "outputs": [
        {
          "output_type": "execute_result",
          "data": {
            "text/plain": [
              "                                                   Lines  Word Count\n",
              "0                  [ Moby Dick by Herman Melville 1851 ]           8\n",
              "1                                            ETYMOLOGY .           2\n",
              "2      ( Supplied by a Late Consumptive Usher to a Gr...          12\n",
              "3      The pale Usher -- threadbare in coat , heart ,...          20\n",
              "4      He was ever dusting his old lexicons and gramm...          31\n",
              "...                                                  ...         ...\n",
              "10054  Till , gaining that vital centre , the black b...          57\n",
              "10055  Buoyed up by that coffin , for almost one whol...          23\n",
              "10056  The unharming sharks , they glided by as if wi...          25\n",
              "10057  On the second day , a sail drew near , nearer ...          19\n",
              "10058  It was the devious - cruising Rachel , that in...          23\n",
              "\n",
              "[10059 rows x 2 columns]"
            ],
            "text/html": [
              "\n",
              "  <div id=\"df-659ab636-626c-4d44-a683-dfe860bc7454\" class=\"colab-df-container\">\n",
              "    <div>\n",
              "<style scoped>\n",
              "    .dataframe tbody tr th:only-of-type {\n",
              "        vertical-align: middle;\n",
              "    }\n",
              "\n",
              "    .dataframe tbody tr th {\n",
              "        vertical-align: top;\n",
              "    }\n",
              "\n",
              "    .dataframe thead th {\n",
              "        text-align: right;\n",
              "    }\n",
              "</style>\n",
              "<table border=\"1\" class=\"dataframe\">\n",
              "  <thead>\n",
              "    <tr style=\"text-align: right;\">\n",
              "      <th></th>\n",
              "      <th>Lines</th>\n",
              "      <th>Word Count</th>\n",
              "    </tr>\n",
              "  </thead>\n",
              "  <tbody>\n",
              "    <tr>\n",
              "      <th>0</th>\n",
              "      <td>[ Moby Dick by Herman Melville 1851 ]</td>\n",
              "      <td>8</td>\n",
              "    </tr>\n",
              "    <tr>\n",
              "      <th>1</th>\n",
              "      <td>ETYMOLOGY .</td>\n",
              "      <td>2</td>\n",
              "    </tr>\n",
              "    <tr>\n",
              "      <th>2</th>\n",
              "      <td>( Supplied by a Late Consumptive Usher to a Gr...</td>\n",
              "      <td>12</td>\n",
              "    </tr>\n",
              "    <tr>\n",
              "      <th>3</th>\n",
              "      <td>The pale Usher -- threadbare in coat , heart ,...</td>\n",
              "      <td>20</td>\n",
              "    </tr>\n",
              "    <tr>\n",
              "      <th>4</th>\n",
              "      <td>He was ever dusting his old lexicons and gramm...</td>\n",
              "      <td>31</td>\n",
              "    </tr>\n",
              "    <tr>\n",
              "      <th>...</th>\n",
              "      <td>...</td>\n",
              "      <td>...</td>\n",
              "    </tr>\n",
              "    <tr>\n",
              "      <th>10054</th>\n",
              "      <td>Till , gaining that vital centre , the black b...</td>\n",
              "      <td>57</td>\n",
              "    </tr>\n",
              "    <tr>\n",
              "      <th>10055</th>\n",
              "      <td>Buoyed up by that coffin , for almost one whol...</td>\n",
              "      <td>23</td>\n",
              "    </tr>\n",
              "    <tr>\n",
              "      <th>10056</th>\n",
              "      <td>The unharming sharks , they glided by as if wi...</td>\n",
              "      <td>25</td>\n",
              "    </tr>\n",
              "    <tr>\n",
              "      <th>10057</th>\n",
              "      <td>On the second day , a sail drew near , nearer ...</td>\n",
              "      <td>19</td>\n",
              "    </tr>\n",
              "    <tr>\n",
              "      <th>10058</th>\n",
              "      <td>It was the devious - cruising Rachel , that in...</td>\n",
              "      <td>23</td>\n",
              "    </tr>\n",
              "  </tbody>\n",
              "</table>\n",
              "<p>10059 rows × 2 columns</p>\n",
              "</div>\n",
              "    <div class=\"colab-df-buttons\">\n",
              "\n",
              "  <div class=\"colab-df-container\">\n",
              "    <button class=\"colab-df-convert\" onclick=\"convertToInteractive('df-659ab636-626c-4d44-a683-dfe860bc7454')\"\n",
              "            title=\"Convert this dataframe to an interactive table.\"\n",
              "            style=\"display:none;\">\n",
              "\n",
              "  <svg xmlns=\"http://www.w3.org/2000/svg\" height=\"24px\" viewBox=\"0 -960 960 960\">\n",
              "    <path d=\"M120-120v-720h720v720H120Zm60-500h600v-160H180v160Zm220 220h160v-160H400v160Zm0 220h160v-160H400v160ZM180-400h160v-160H180v160Zm440 0h160v-160H620v160ZM180-180h160v-160H180v160Zm440 0h160v-160H620v160Z\"/>\n",
              "  </svg>\n",
              "    </button>\n",
              "\n",
              "  <style>\n",
              "    .colab-df-container {\n",
              "      display:flex;\n",
              "      gap: 12px;\n",
              "    }\n",
              "\n",
              "    .colab-df-convert {\n",
              "      background-color: #E8F0FE;\n",
              "      border: none;\n",
              "      border-radius: 50%;\n",
              "      cursor: pointer;\n",
              "      display: none;\n",
              "      fill: #1967D2;\n",
              "      height: 32px;\n",
              "      padding: 0 0 0 0;\n",
              "      width: 32px;\n",
              "    }\n",
              "\n",
              "    .colab-df-convert:hover {\n",
              "      background-color: #E2EBFA;\n",
              "      box-shadow: 0px 1px 2px rgba(60, 64, 67, 0.3), 0px 1px 3px 1px rgba(60, 64, 67, 0.15);\n",
              "      fill: #174EA6;\n",
              "    }\n",
              "\n",
              "    .colab-df-buttons div {\n",
              "      margin-bottom: 4px;\n",
              "    }\n",
              "\n",
              "    [theme=dark] .colab-df-convert {\n",
              "      background-color: #3B4455;\n",
              "      fill: #D2E3FC;\n",
              "    }\n",
              "\n",
              "    [theme=dark] .colab-df-convert:hover {\n",
              "      background-color: #434B5C;\n",
              "      box-shadow: 0px 1px 3px 1px rgba(0, 0, 0, 0.15);\n",
              "      filter: drop-shadow(0px 1px 2px rgba(0, 0, 0, 0.3));\n",
              "      fill: #FFFFFF;\n",
              "    }\n",
              "  </style>\n",
              "\n",
              "    <script>\n",
              "      const buttonEl =\n",
              "        document.querySelector('#df-659ab636-626c-4d44-a683-dfe860bc7454 button.colab-df-convert');\n",
              "      buttonEl.style.display =\n",
              "        google.colab.kernel.accessAllowed ? 'block' : 'none';\n",
              "\n",
              "      async function convertToInteractive(key) {\n",
              "        const element = document.querySelector('#df-659ab636-626c-4d44-a683-dfe860bc7454');\n",
              "        const dataTable =\n",
              "          await google.colab.kernel.invokeFunction('convertToInteractive',\n",
              "                                                    [key], {});\n",
              "        if (!dataTable) return;\n",
              "\n",
              "        const docLinkHtml = 'Like what you see? Visit the ' +\n",
              "          '<a target=\"_blank\" href=https://colab.research.google.com/notebooks/data_table.ipynb>data table notebook</a>'\n",
              "          + ' to learn more about interactive tables.';\n",
              "        element.innerHTML = '';\n",
              "        dataTable['output_type'] = 'display_data';\n",
              "        await google.colab.output.renderOutput(dataTable, element);\n",
              "        const docLink = document.createElement('div');\n",
              "        docLink.innerHTML = docLinkHtml;\n",
              "        element.appendChild(docLink);\n",
              "      }\n",
              "    </script>\n",
              "  </div>\n",
              "\n",
              "\n",
              "<div id=\"df-e3ee8470-efe5-4023-b189-f35146facbed\">\n",
              "  <button class=\"colab-df-quickchart\" onclick=\"quickchart('df-e3ee8470-efe5-4023-b189-f35146facbed')\"\n",
              "            title=\"Suggest charts\"\n",
              "            style=\"display:none;\">\n",
              "\n",
              "<svg xmlns=\"http://www.w3.org/2000/svg\" height=\"24px\"viewBox=\"0 0 24 24\"\n",
              "     width=\"24px\">\n",
              "    <g>\n",
              "        <path d=\"M19 3H5c-1.1 0-2 .9-2 2v14c0 1.1.9 2 2 2h14c1.1 0 2-.9 2-2V5c0-1.1-.9-2-2-2zM9 17H7v-7h2v7zm4 0h-2V7h2v10zm4 0h-2v-4h2v4z\"/>\n",
              "    </g>\n",
              "</svg>\n",
              "  </button>\n",
              "\n",
              "<style>\n",
              "  .colab-df-quickchart {\n",
              "      --bg-color: #E8F0FE;\n",
              "      --fill-color: #1967D2;\n",
              "      --hover-bg-color: #E2EBFA;\n",
              "      --hover-fill-color: #174EA6;\n",
              "      --disabled-fill-color: #AAA;\n",
              "      --disabled-bg-color: #DDD;\n",
              "  }\n",
              "\n",
              "  [theme=dark] .colab-df-quickchart {\n",
              "      --bg-color: #3B4455;\n",
              "      --fill-color: #D2E3FC;\n",
              "      --hover-bg-color: #434B5C;\n",
              "      --hover-fill-color: #FFFFFF;\n",
              "      --disabled-bg-color: #3B4455;\n",
              "      --disabled-fill-color: #666;\n",
              "  }\n",
              "\n",
              "  .colab-df-quickchart {\n",
              "    background-color: var(--bg-color);\n",
              "    border: none;\n",
              "    border-radius: 50%;\n",
              "    cursor: pointer;\n",
              "    display: none;\n",
              "    fill: var(--fill-color);\n",
              "    height: 32px;\n",
              "    padding: 0;\n",
              "    width: 32px;\n",
              "  }\n",
              "\n",
              "  .colab-df-quickchart:hover {\n",
              "    background-color: var(--hover-bg-color);\n",
              "    box-shadow: 0 1px 2px rgba(60, 64, 67, 0.3), 0 1px 3px 1px rgba(60, 64, 67, 0.15);\n",
              "    fill: var(--button-hover-fill-color);\n",
              "  }\n",
              "\n",
              "  .colab-df-quickchart-complete:disabled,\n",
              "  .colab-df-quickchart-complete:disabled:hover {\n",
              "    background-color: var(--disabled-bg-color);\n",
              "    fill: var(--disabled-fill-color);\n",
              "    box-shadow: none;\n",
              "  }\n",
              "\n",
              "  .colab-df-spinner {\n",
              "    border: 2px solid var(--fill-color);\n",
              "    border-color: transparent;\n",
              "    border-bottom-color: var(--fill-color);\n",
              "    animation:\n",
              "      spin 1s steps(1) infinite;\n",
              "  }\n",
              "\n",
              "  @keyframes spin {\n",
              "    0% {\n",
              "      border-color: transparent;\n",
              "      border-bottom-color: var(--fill-color);\n",
              "      border-left-color: var(--fill-color);\n",
              "    }\n",
              "    20% {\n",
              "      border-color: transparent;\n",
              "      border-left-color: var(--fill-color);\n",
              "      border-top-color: var(--fill-color);\n",
              "    }\n",
              "    30% {\n",
              "      border-color: transparent;\n",
              "      border-left-color: var(--fill-color);\n",
              "      border-top-color: var(--fill-color);\n",
              "      border-right-color: var(--fill-color);\n",
              "    }\n",
              "    40% {\n",
              "      border-color: transparent;\n",
              "      border-right-color: var(--fill-color);\n",
              "      border-top-color: var(--fill-color);\n",
              "    }\n",
              "    60% {\n",
              "      border-color: transparent;\n",
              "      border-right-color: var(--fill-color);\n",
              "    }\n",
              "    80% {\n",
              "      border-color: transparent;\n",
              "      border-right-color: var(--fill-color);\n",
              "      border-bottom-color: var(--fill-color);\n",
              "    }\n",
              "    90% {\n",
              "      border-color: transparent;\n",
              "      border-bottom-color: var(--fill-color);\n",
              "    }\n",
              "  }\n",
              "</style>\n",
              "\n",
              "  <script>\n",
              "    async function quickchart(key) {\n",
              "      const quickchartButtonEl =\n",
              "        document.querySelector('#' + key + ' button');\n",
              "      quickchartButtonEl.disabled = true;  // To prevent multiple clicks.\n",
              "      quickchartButtonEl.classList.add('colab-df-spinner');\n",
              "      try {\n",
              "        const charts = await google.colab.kernel.invokeFunction(\n",
              "            'suggestCharts', [key], {});\n",
              "      } catch (error) {\n",
              "        console.error('Error during call to suggestCharts:', error);\n",
              "      }\n",
              "      quickchartButtonEl.classList.remove('colab-df-spinner');\n",
              "      quickchartButtonEl.classList.add('colab-df-quickchart-complete');\n",
              "    }\n",
              "    (() => {\n",
              "      let quickchartButtonEl =\n",
              "        document.querySelector('#df-e3ee8470-efe5-4023-b189-f35146facbed button');\n",
              "      quickchartButtonEl.style.display =\n",
              "        google.colab.kernel.accessAllowed ? 'block' : 'none';\n",
              "    })();\n",
              "  </script>\n",
              "</div>\n",
              "\n",
              "  <div id=\"id_f10a08ea-62a7-4761-8ae4-ca5f79a38d13\">\n",
              "    <style>\n",
              "      .colab-df-generate {\n",
              "        background-color: #E8F0FE;\n",
              "        border: none;\n",
              "        border-radius: 50%;\n",
              "        cursor: pointer;\n",
              "        display: none;\n",
              "        fill: #1967D2;\n",
              "        height: 32px;\n",
              "        padding: 0 0 0 0;\n",
              "        width: 32px;\n",
              "      }\n",
              "\n",
              "      .colab-df-generate:hover {\n",
              "        background-color: #E2EBFA;\n",
              "        box-shadow: 0px 1px 2px rgba(60, 64, 67, 0.3), 0px 1px 3px 1px rgba(60, 64, 67, 0.15);\n",
              "        fill: #174EA6;\n",
              "      }\n",
              "\n",
              "      [theme=dark] .colab-df-generate {\n",
              "        background-color: #3B4455;\n",
              "        fill: #D2E3FC;\n",
              "      }\n",
              "\n",
              "      [theme=dark] .colab-df-generate:hover {\n",
              "        background-color: #434B5C;\n",
              "        box-shadow: 0px 1px 3px 1px rgba(0, 0, 0, 0.15);\n",
              "        filter: drop-shadow(0px 1px 2px rgba(0, 0, 0, 0.3));\n",
              "        fill: #FFFFFF;\n",
              "      }\n",
              "    </style>\n",
              "    <button class=\"colab-df-generate\" onclick=\"generateWithVariable('df')\"\n",
              "            title=\"Generate code using this dataframe.\"\n",
              "            style=\"display:none;\">\n",
              "\n",
              "  <svg xmlns=\"http://www.w3.org/2000/svg\" height=\"24px\"viewBox=\"0 0 24 24\"\n",
              "       width=\"24px\">\n",
              "    <path d=\"M7,19H8.4L18.45,9,17,7.55,7,17.6ZM5,21V16.75L18.45,3.32a2,2,0,0,1,2.83,0l1.4,1.43a1.91,1.91,0,0,1,.58,1.4,1.91,1.91,0,0,1-.58,1.4L9.25,21ZM18.45,9,17,7.55Zm-12,3A5.31,5.31,0,0,0,4.9,8.1,5.31,5.31,0,0,0,1,6.5,5.31,5.31,0,0,0,4.9,4.9,5.31,5.31,0,0,0,6.5,1,5.31,5.31,0,0,0,8.1,4.9,5.31,5.31,0,0,0,12,6.5,5.46,5.46,0,0,0,6.5,12Z\"/>\n",
              "  </svg>\n",
              "    </button>\n",
              "    <script>\n",
              "      (() => {\n",
              "      const buttonEl =\n",
              "        document.querySelector('#id_f10a08ea-62a7-4761-8ae4-ca5f79a38d13 button.colab-df-generate');\n",
              "      buttonEl.style.display =\n",
              "        google.colab.kernel.accessAllowed ? 'block' : 'none';\n",
              "\n",
              "      buttonEl.onclick = () => {\n",
              "        google.colab.notebook.generateWithVariable('df');\n",
              "      }\n",
              "      })();\n",
              "    </script>\n",
              "  </div>\n",
              "\n",
              "    </div>\n",
              "  </div>\n"
            ],
            "application/vnd.google.colaboratory.intrinsic+json": {
              "type": "dataframe",
              "variable_name": "df",
              "summary": "{\n  \"name\": \"df\",\n  \"rows\": 10059,\n  \"fields\": [\n    {\n      \"column\": \"Lines\",\n      \"properties\": {\n        \"dtype\": \"string\",\n        \"num_unique_values\": 9838,\n        \"samples\": [\n          \"But ploughed up to the primary rock of the matter , the two great principles laid down in the twin whaling laws previously quoted , and applied and elucidated by Lord Ellenborough in the above cited case ; these two laws touching Fast - Fish and Loose - Fish , I say , will , on reflection , be found the fundamentals of all human jurisprudence ; for notwithstanding its complicated tracery of sculpture , the Temple of the Law , like the Temple of the Philistines , has but two props to stand on .\",\n          \"Lit up by the moon , it looked celestial ; seemed some plumed and glittering god uprising from the sea .\",\n          \"spite of million villains , this makes me a bigot in the fadeless fidelity of man !-- and a black !\"\n        ],\n        \"semantic_type\": \"\",\n        \"description\": \"\"\n      }\n    },\n    {\n      \"column\": \"Word Count\",\n      \"properties\": {\n        \"dtype\": \"number\",\n        \"std\": 23,\n        \"min\": 1,\n        \"max\": 542,\n        \"num_unique_values\": 163,\n        \"samples\": [\n          254,\n          80,\n          121\n        ],\n        \"semantic_type\": \"\",\n        \"description\": \"\"\n      }\n    }\n  ]\n}"
            }
          },
          "metadata": {},
          "execution_count": 8
        }
      ]
    },
    {
      "cell_type": "code",
      "source": [
        "df[df['Word Count']==542]['Lines'].item()"
      ],
      "metadata": {
        "colab": {
          "base_uri": "https://localhost:8080/",
          "height": 122
        },
        "id": "pPLnkRuHAx1-",
        "outputId": "171c920c-fa8f-477d-d57e-5c7b3126fd82"
      },
      "execution_count": 9,
      "outputs": [
        {
          "output_type": "execute_result",
          "data": {
            "text/plain": [
              "'Though in many natural objects , whiteness refiningly enhances beauty , as if imparting some special virtue of its own , as in marbles , japonicas , and pearls ; and though various nations have in some way recognised a certain royal preeminence in this hue ; even the barbaric , grand old kings of Pegu placing the title \" Lord of the White Elephants \" above all their other magniloquent ascriptions of dominion ; and the modern kings of Siam unfurling the same snow - white quadruped in the royal standard ; and the Hanoverian flag bearing the one figure of a snow - white charger ; and the great Austrian Empire , Caesarian , heir to overlording Rome , having for the imperial colour the same imperial hue ; and though this pre - eminence in it applies to the human race itself , giving the white man ideal mastership over every dusky tribe ; and though , besides , all this , whiteness has been even made significant of gladness , for among the Romans a white stone marked a joyful day ; and though in other mortal sympathies and symbolizings , this same hue is made the emblem of many touching , noble things -- the innocence of brides , the benignity of age ; though among the Red Men of America the giving of the white belt of wampum was the deepest pledge of honour ; though in many climes , whiteness typifies the majesty of Justice in the ermine of the Judge , and contributes to the daily state of kings and queens drawn by milk - white steeds ; though even in the higher mysteries of the most august religions it has been made the symbol of the divine spotlessness and power ; by the Persian fire worshippers , the white forked flame being held the holiest on the altar ; and in the Greek mythologies , Great Jove himself being made incarnate in a snow - white bull ; and though to the noble Iroquois , the midwinter sacrifice of the sacred White Dog was by far the holiest festival of their theology , that spotless , faithful creature being held the purest envoy they could send to the Great Spirit with the annual tidings of their own fidelity ; and though directly from the Latin word for white , all Christian priests derive the name of one part of their sacred vesture , the alb or tunic , worn beneath the cassock ; and though among the holy pomps of the Romish faith , white is specially employed in the celebration of the Passion of our Lord ; though in the Vision of St . John , white robes are given to the redeemed , and the four - and - twenty elders stand clothed in white before the great - white throne , and the Holy One that sitteth there white like wool ; yet for all these accumulated associations , with whatever is sweet , and honourable , and sublime , there yet lurks an elusive something in the innermost idea of this hue , which strikes more of panic to the soul than that redness which affrights in blood .'"
            ],
            "application/vnd.google.colaboratory.intrinsic+json": {
              "type": "string"
            }
          },
          "metadata": {},
          "execution_count": 9
        }
      ]
    },
    {
      "cell_type": "markdown",
      "source": [
        "**Creo los tokens de los documentos**"
      ],
      "metadata": {
        "id": "EbupMcEzKK5C"
      }
    },
    {
      "cell_type": "code",
      "source": [
        "from tensorflow.keras.preprocessing.text import text_to_word_sequence\n",
        "\n",
        "sentence_tokens = []\n",
        "# Transforma los documentos en tokens\n",
        "for _, row in df[:None].iterrows():\n",
        "    sentence_tokens.append(text_to_word_sequence(row[0]))"
      ],
      "metadata": {
        "colab": {
          "base_uri": "https://localhost:8080/"
        },
        "id": "IsPlNuPhcaWe",
        "outputId": "a487bb8e-ab2c-4b17-bfc7-cc73812b3d35"
      },
      "execution_count": 10,
      "outputs": [
        {
          "output_type": "stream",
          "name": "stderr",
          "text": [
            "<ipython-input-10-39e9bdf37753>:6: FutureWarning: Series.__getitem__ treating keys as positions is deprecated. In a future version, integer keys will always be treated as labels (consistent with DataFrame behavior). To access a value by position, use `ser.iloc[pos]`\n",
            "  sentence_tokens.append(text_to_word_sequence(row[0]))\n"
          ]
        }
      ]
    },
    {
      "cell_type": "code",
      "source": [
        "# reviso el documento 1000\n",
        "df.iloc[1000,0]"
      ],
      "metadata": {
        "colab": {
          "base_uri": "https://localhost:8080/",
          "height": 35
        },
        "id": "As3jGN1S9ooq",
        "outputId": "24d3e6a4-c425-460a-f917-9cca37e3cecd"
      },
      "execution_count": 11,
      "outputs": [
        {
          "output_type": "execute_result",
          "data": {
            "text/plain": [
              "'But he swiftly calls away the Captain from that scent .'"
            ],
            "application/vnd.google.colaboratory.intrinsic+json": {
              "type": "string"
            }
          },
          "metadata": {},
          "execution_count": 11
        }
      ]
    },
    {
      "cell_type": "code",
      "source": [
        "# al pasar a token se pasan los terminos a minúscula y se quitan los signos de puntuación\n",
        "sentence_tokens[1000]"
      ],
      "metadata": {
        "colab": {
          "base_uri": "https://localhost:8080/"
        },
        "id": "uL_Uqa1ogQoA",
        "outputId": "58051690-6044-42d4-8f65-4dc570016eac"
      },
      "execution_count": 12,
      "outputs": [
        {
          "output_type": "execute_result",
          "data": {
            "text/plain": [
              "['but',\n",
              " 'he',\n",
              " 'swiftly',\n",
              " 'calls',\n",
              " 'away',\n",
              " 'the',\n",
              " 'captain',\n",
              " 'from',\n",
              " 'that',\n",
              " 'scent']"
            ]
          },
          "metadata": {},
          "execution_count": 12
        }
      ]
    },
    {
      "cell_type": "markdown",
      "source": [
        "**Creo los vectores (word2vec)**"
      ],
      "metadata": {
        "id": "eSPiiNncKY5K"
      }
    },
    {
      "cell_type": "code",
      "source": [
        "from gensim.models.callbacks import CallbackAny2Vec\n",
        "# Durante el entrenamiento gensim por defecto no informa el \"loss\" en cada época\n",
        "# Sobrecargamos el callback para poder tener esta información\n",
        "class callback(CallbackAny2Vec):\n",
        "    \"\"\"\n",
        "    Callback to print loss after each epoch\n",
        "    \"\"\"\n",
        "    def __init__(self):\n",
        "        self.epoch = 0\n",
        "\n",
        "    def on_epoch_end(self, model):\n",
        "        loss = model.get_latest_training_loss()\n",
        "        if self.epoch == 0:\n",
        "            print('Loss after epoch {}: {}'.format(self.epoch, loss))\n",
        "        else:\n",
        "            print('Loss after epoch {}: {}'.format(self.epoch, loss- self.loss_previous_step))\n",
        "        self.epoch += 1\n",
        "        self.loss_previous_step = loss"
      ],
      "metadata": {
        "id": "FWRnvik4hr8t"
      },
      "execution_count": 13,
      "outputs": []
    },
    {
      "cell_type": "code",
      "source": [
        "# Modelo Word2Vec para entrenar los embeddings\n",
        "w2v_model = Word2Vec(min_count=10,           # frecuencia mínima de palabra para incluirla en el vocabulario\n",
        "                     window=3,              # cant de palabras antes y desp de la predicha\n",
        "                     vector_size=100,        # dimensionalidad de los vectores\n",
        "                     negative=20,           # cantidad de negative samples... 0 es no se usa\n",
        "                     workers=1,             # si tienen más cores pueden cambiar este valor\n",
        "                     sg=1)                  # modelo 0:CBOW  1:skipgram"
      ],
      "metadata": {
        "id": "ETvQsQv7nRaY"
      },
      "execution_count": 14,
      "outputs": []
    },
    {
      "cell_type": "code",
      "source": [
        "# Obtener el vocabulario con los tokens\n",
        "w2v_model.build_vocab(sentence_tokens)"
      ],
      "metadata": {
        "id": "5FO0Hcf2nZhD"
      },
      "execution_count": 15,
      "outputs": []
    },
    {
      "cell_type": "code",
      "source": [
        "# Cantidad de filas/docs encontradas en el corpus\n",
        "print(\"Cantidad de docs en el corpus:\", w2v_model.corpus_count)"
      ],
      "metadata": {
        "colab": {
          "base_uri": "https://localhost:8080/"
        },
        "id": "0-KuEeiLndTk",
        "outputId": "ca3c20b9-216e-4256-cebb-0e20e5ae161b"
      },
      "execution_count": 16,
      "outputs": [
        {
          "output_type": "stream",
          "name": "stdout",
          "text": [
            "Cantidad de docs en el corpus: 10059\n"
          ]
        }
      ]
    },
    {
      "cell_type": "code",
      "source": [
        "# Cantidad de words encontradas en el corpus (vocabulario)\n",
        "print(\"Cantidad de words distintas en el corpus:\", len(w2v_model.wv.index_to_key))"
      ],
      "metadata": {
        "colab": {
          "base_uri": "https://localhost:8080/"
        },
        "id": "iURO9zXnnfZ2",
        "outputId": "537e6dea-57f7-427e-b330-591caed5ac75"
      },
      "execution_count": 17,
      "outputs": [
        {
          "output_type": "stream",
          "name": "stdout",
          "text": [
            "Cantidad de words distintas en el corpus: 2182\n"
          ]
        }
      ]
    },
    {
      "cell_type": "markdown",
      "source": [
        "**Entreno los embeddings**"
      ],
      "metadata": {
        "id": "NL5chKD8K1-W"
      }
    },
    {
      "cell_type": "code",
      "source": [
        "# Entrenamos el modelo\n",
        "w2v_model.train(sentence_tokens,\n",
        "                 total_examples=w2v_model.corpus_count,\n",
        "                 epochs=20,\n",
        "                 compute_loss = True,\n",
        "                 callbacks=[callback()]\n",
        "                 )"
      ],
      "metadata": {
        "colab": {
          "base_uri": "https://localhost:8080/"
        },
        "id": "9VrH1XyTnj6u",
        "outputId": "59bc7c22-a9e6-4e83-ba92-f31b114aba9f"
      },
      "execution_count": 18,
      "outputs": [
        {
          "output_type": "stream",
          "name": "stdout",
          "text": [
            "Loss after epoch 0: 1850854.0\n",
            "Loss after epoch 1: 1400180.75\n",
            "Loss after epoch 2: 1333825.25\n",
            "Loss after epoch 3: 1270523.5\n",
            "Loss after epoch 4: 1268850.5\n",
            "Loss after epoch 5: 1260306.5\n",
            "Loss after epoch 6: 1220263.5\n",
            "Loss after epoch 7: 1215999.0\n",
            "Loss after epoch 8: 1208010.0\n",
            "Loss after epoch 9: 1204279.0\n",
            "Loss after epoch 10: 1196057.0\n",
            "Loss after epoch 11: 1190996.0\n",
            "Loss after epoch 12: 1183495.0\n",
            "Loss after epoch 13: 1162316.0\n",
            "Loss after epoch 14: 1155714.0\n",
            "Loss after epoch 15: 1156758.0\n",
            "Loss after epoch 16: 1153658.0\n",
            "Loss after epoch 17: 1155272.0\n",
            "Loss after epoch 18: 1151618.0\n",
            "Loss after epoch 19: 1150954.0\n"
          ]
        },
        {
          "output_type": "execute_result",
          "data": {
            "text/plain": [
              "(2548614, 4430820)"
            ]
          },
          "metadata": {},
          "execution_count": 18
        }
      ]
    },
    {
      "cell_type": "markdown",
      "source": [
        "**Visualizo en 2D y 3D los vectores**"
      ],
      "metadata": {
        "id": "Azov6CK1LF33"
      }
    },
    {
      "cell_type": "code",
      "source": [
        "from sklearn.decomposition import IncrementalPCA\n",
        "from sklearn.manifold import TSNE\n",
        "import numpy as np\n",
        "\n",
        "def reduce_dimensions(model, num_dimensions = 2 ):\n",
        "\n",
        "    vectors = np.asarray(model.wv.vectors)\n",
        "    labels = np.asarray(model.wv.index_to_key)\n",
        "\n",
        "    tsne = TSNE(n_components=num_dimensions, random_state=0)\n",
        "    vectors = tsne.fit_transform(vectors)\n",
        "\n",
        "    return vectors, labels"
      ],
      "metadata": {
        "id": "sXgWQ122EARG"
      },
      "execution_count": 19,
      "outputs": []
    },
    {
      "cell_type": "code",
      "source": [
        "# Grafico los embedddings en 2D\n",
        "import plotly.graph_objects as go\n",
        "import plotly.express as px\n",
        "\n",
        "vecs, labels = reduce_dimensions(w2v_model)\n",
        "\n",
        "MAX_WORDS=200\n",
        "fig = px.scatter(x=vecs[:MAX_WORDS,0], y=vecs[:MAX_WORDS,1], text=labels[:MAX_WORDS])\n",
        "fig.show(renderer=\"colab\")"
      ],
      "metadata": {
        "colab": {
          "base_uri": "https://localhost:8080/",
          "height": 542
        },
        "id": "J49o1o_SEDHE",
        "outputId": "7f9b99c0-0c30-40cb-a2cf-7cad2538d8ca"
      },
      "execution_count": 20,
      "outputs": [
        {
          "output_type": "display_data",
          "data": {
            "text/html": [
              "<html>\n",
              "<head><meta charset=\"utf-8\" /></head>\n",
              "<body>\n",
              "    <div>            <script src=\"https://cdnjs.cloudflare.com/ajax/libs/mathjax/2.7.5/MathJax.js?config=TeX-AMS-MML_SVG\"></script><script type=\"text/javascript\">if (window.MathJax && window.MathJax.Hub && window.MathJax.Hub.Config) {window.MathJax.Hub.Config({SVG: {font: \"STIX-Web\"}});}</script>                <script type=\"text/javascript\">window.PlotlyConfig = {MathJaxConfig: 'local'};</script>\n",
              "        <script charset=\"utf-8\" src=\"https://cdn.plot.ly/plotly-2.35.2.min.js\"></script>                <div id=\"ef545b99-1a3c-445e-9963-0346b3e103a5\" class=\"plotly-graph-div\" style=\"height:525px; width:100%;\"></div>            <script type=\"text/javascript\">                                    window.PLOTLYENV=window.PLOTLYENV || {};                                    if (document.getElementById(\"ef545b99-1a3c-445e-9963-0346b3e103a5\")) {                    Plotly.newPlot(                        \"ef545b99-1a3c-445e-9963-0346b3e103a5\",                        [{\"hovertemplate\":\"x=%{x}\\u003cbr\\u003ey=%{y}\\u003cbr\\u003etext=%{text}\\u003cextra\\u003e\\u003c\\u002fextra\\u003e\",\"legendgroup\":\"\",\"marker\":{\"color\":\"#636efa\",\"symbol\":\"circle\"},\"mode\":\"markers+text\",\"name\":\"\",\"orientation\":\"v\",\"showlegend\":false,\"text\":[\"the\",\"of\",\"and\",\"a\",\"to\",\"in\",\"that\",\"'\",\"his\",\"it\",\"i\",\"he\",\"but\",\"s\",\"as\",\"is\",\"with\",\"was\",\"for\",\"all\",\"this\",\"at\",\"whale\",\"by\",\"not\",\"from\",\"him\",\"so\",\"on\",\"be\",\"one\",\"you\",\"there\",\"now\",\"had\",\"have\",\"or\",\"were\",\"they\",\"which\",\"like\",\"me\",\"then\",\"their\",\"some\",\"what\",\"when\",\"are\",\"an\",\"my\",\"no\",\"upon\",\"out\",\"man\",\"into\",\"up\",\"ship\",\"ahab\",\"more\",\"if\",\"them\",\"ye\",\"we\",\"sea\",\"old\",\"would\",\"other\",\"been\",\"over\",\"these\",\"will\",\"though\",\"down\",\"its\",\"only\",\"such\",\"who\",\"yet\",\"head\",\"boat\",\"time\",\"long\",\"her\",\"captain\",\"any\",\"here\",\"very\",\"still\",\"about\",\"than\",\"do\",\"great\",\"those\",\"said\",\"before\",\"two\",\"has\",\"t\",\"seemed\",\"must\",\"most\",\"white\",\"last\",\"see\",\"thou\",\"way\",\"after\",\"whales\",\"again\",\"did\",\"stubb\",\"how\",\"queequeg\",\"your\",\"little\",\"round\",\"while\",\"three\",\"say\",\"sperm\",\"men\",\"may\",\"can\",\"first\",\"through\",\"every\",\"well\",\"us\",\"being\",\"much\",\"off\",\"where\",\"good\",\"could\",\"hand\",\"same\",\"side\",\"our\",\"ever\",\"never\",\"own\",\"himself\",\"look\",\"starbuck\",\"deck\",\"almost\",\"go\",\"even\",\"water\",\"thing\",\"too\",\"away\",\"should\",\"might\",\"come\",\"made\",\"day\",\"world\",\"sir\",\"life\",\"chapter\",\"pequod\",\"fish\",\"among\",\"many\",\"far\",\"seen\",\"back\",\"line\",\"let\",\"nor\",\"eyes\",\"without\",\"oh\",\"cried\",\"aye\",\"sort\",\"know\",\"god\",\"right\",\"night\",\"thought\",\"once\",\"part\",\"boats\",\"air\",\"crew\",\"don\",\"whole\",\"take\",\"half\",\"tell\",\"against\",\"thus\",\"things\",\"thee\",\"whaling\",\"soon\",\"came\",\"hands\"],\"x\":[-5.204974,-5.792035,-4.4868507,4.663772,5.519352,-5.63617,4.830069,25.720379,-8.178337,5.0384,16.239353,4.8502183,6.9938536,25.748697,-12.862458,-2.5521317,-4.513382,-2.4184396,6.146588,-5.844522,4.8555446,-2.6088793,-22.34359,-6.9708967,6.87648,-0.5362813,6.853561,5.309489,-1.318446,-11.807192,-3.1680267,23.72388,14.986301,15.288503,4.9686522,2.2398381,-12.070611,1.2679712,-18.8046,-10.109624,-11.09847,9.210821,11.833385,-14.697988,-12.028396,10.242759,1.4703788,-14.415974,4.1496,14.470508,4.206223,2.9929166,7.5706844,14.693811,1.3756973,11.143218,0.54772437,8.370453,-3.6509078,7.545734,3.4022167,19.756413,9.527832,-11.264988,5.3404675,6.4292297,-13.088808,-16.90487,-5.0149884,-13.079999,10.612711,-0.8536978,8.77385,-6.944188,-3.8365314,0.9568711,5.981477,1.7845604,-0.06696492,6.3455534,-9.600398,-4.971736,-10.510715,2.6987877,-7.1379056,15.032848,6.5771046,-4.2248363,19.777151,-2.9743927,11.1004,-20.291456,-13.389767,17.449398,10.8861265,-7.513649,5.993166,23.691647,-1.4397572,8.880184,-6.2840967,-10.817165,-2.487154,13.820297,19.184883,21.427599,-3.255584,-19.597902,10.437659,16.585968,19.746733,6.151983,9.57229,17.674131,3.7115667,-3.2993631,-3.874955,-23.7937,13.625692,-22.180231,8.818432,-9.884754,10.044554,-3.9645839,-9.722651,-2.6799676,3.6851144,11.040217,-2.2976718,6.5824575,-3.8449614,19.835957,25.670006,8.57014,11.937796,-4.9263616,-3.057659,-16.749863,5.7357287,16.121834,1.9347035,6.8086424,15.713631,19.066063,5.7249002,-2.6088822,21.67076,-11.092651,-8.809993,-8.612035,26.852165,11.289276,9.086306,-9.306766,19.423983,-10.054204,-21.327116,1.0733964,17.77179,3.4918532,-23.625229,1.3806436,-20.665733,-16.032887,-17.365122,-15.431571,11.99969,13.61829,-2.2698183,18.834627,-7.7964005,11.560068,0.14922653,16.811333,16.854002,16.088318,-1.6903278,13.789952,15.335131,22.350323,-20.802748,4.2222557,2.4293046,-5.9236164,-7.509404,-8.037179,7.4632773,23.837791,-7.623679,11.617481,-10.862738,14.391733,6.664607,1.9657805,-11.245626,17.26859,-14.560758,9.457635,15.596028,8.487872],\"xaxis\":\"x\",\"y\":[3.2415032,3.3970854,3.6489413,-3.6911898,-6.4223685,3.320198,-5.612687,-2.4983242,1.4127614,-5.242954,-12.488857,-5.061689,-9.622474,-2.4687538,-9.011135,-8.534675,3.6626377,-8.121719,-4.7434354,2.3289557,-5.8265643,4.984602,-3.720986,-1.3736875,-10.812559,6.0208497,-6.2495613,-7.7760105,4.0601883,-20.884422,-3.6258194,-3.376008,0.29055643,0.9243502,0.08978943,-8.143546,-2.174137,-0.18696916,21.20762,-4.3915043,17.726543,-13.054347,7.2698603,8.066929,-2.9799106,-13.140367,1.3676612,-4.7095823,-4.4432487,-10.170249,-18.655787,4.0058527,5.331368,-3.8826382,12.500022,9.961419,3.0051348,3.3360975,-21.50252,-13.507005,-1.1984987,-7.4546657,-22.815214,5.489085,-1.9990038,-17.998806,0.4764171,-10.028244,13.919334,-7.3370104,-20.757626,-9.910648,8.134151,-2.2780836,-9.071244,-10.298936,-1.1547652,-10.136968,21.973204,9.56878,-6.940049,5.7370896,22.12202,1.782889,-23.24825,-0.44004023,-24.162466,7.112918,-8.325204,-22.131092,-13.638653,14.614843,-5.5059404,6.8819904,8.402765,5.9035296,0.01733296,-8.158799,-3.2055786,-3.8495553,-13.619701,15.328084,0.8183858,-11.939005,-15.57347,8.740821,2.5882583,-12.676512,6.797361,-19.406515,7.636867,-8.452364,1.9091778,-13.094083,-3.6389713,18.14582,5.5555534,4.3687754,-12.943442,-2.3866348,-20.728312,-18.334486,-18.75206,-9.418138,7.0832486,1.8946266,-5.3992324,-6.277367,-9.210241,-19.031954,4.028286,14.415034,-5.7915397,-18.605024,14.4873085,-8.593292,19.58368,-0.81976694,-10.321477,-17.099218,-18.966488,1.8802257,15.008507,7.371678,12.851503,-2.076345,-4.0026307,-9.629603,12.809587,-16.10768,0.12573536,11.904486,-10.775386,-17.585682,-1.7379413,-7.8004174,5.0494046,-25.518847,-7.783382,-12.825295,-5.3115788,1.9155334,-12.324502,-2.2106576,-1.9672694,-7.226482,5.8275986,19.734663,16.484474,-5.226207,-24.531462,21.244198,-3.1604793,-7.5371423,7.7158484,6.4238863,-25.409403,-15.423389,-7.937612,6.054895,5.930005,-19.860022,5.59921,-12.520806,17.589178,10.69854,0.08601172,-8.457116,-8.47129,-5.3822026,11.614204,-13.609113,10.1844225,0.96104044,-18.03548,-15.516871,-6.470496,5.9632196,9.3299265,10.74065],\"yaxis\":\"y\",\"type\":\"scatter\"}],                        {\"template\":{\"data\":{\"histogram2dcontour\":[{\"type\":\"histogram2dcontour\",\"colorbar\":{\"outlinewidth\":0,\"ticks\":\"\"},\"colorscale\":[[0.0,\"#0d0887\"],[0.1111111111111111,\"#46039f\"],[0.2222222222222222,\"#7201a8\"],[0.3333333333333333,\"#9c179e\"],[0.4444444444444444,\"#bd3786\"],[0.5555555555555556,\"#d8576b\"],[0.6666666666666666,\"#ed7953\"],[0.7777777777777778,\"#fb9f3a\"],[0.8888888888888888,\"#fdca26\"],[1.0,\"#f0f921\"]]}],\"choropleth\":[{\"type\":\"choropleth\",\"colorbar\":{\"outlinewidth\":0,\"ticks\":\"\"}}],\"histogram2d\":[{\"type\":\"histogram2d\",\"colorbar\":{\"outlinewidth\":0,\"ticks\":\"\"},\"colorscale\":[[0.0,\"#0d0887\"],[0.1111111111111111,\"#46039f\"],[0.2222222222222222,\"#7201a8\"],[0.3333333333333333,\"#9c179e\"],[0.4444444444444444,\"#bd3786\"],[0.5555555555555556,\"#d8576b\"],[0.6666666666666666,\"#ed7953\"],[0.7777777777777778,\"#fb9f3a\"],[0.8888888888888888,\"#fdca26\"],[1.0,\"#f0f921\"]]}],\"heatmap\":[{\"type\":\"heatmap\",\"colorbar\":{\"outlinewidth\":0,\"ticks\":\"\"},\"colorscale\":[[0.0,\"#0d0887\"],[0.1111111111111111,\"#46039f\"],[0.2222222222222222,\"#7201a8\"],[0.3333333333333333,\"#9c179e\"],[0.4444444444444444,\"#bd3786\"],[0.5555555555555556,\"#d8576b\"],[0.6666666666666666,\"#ed7953\"],[0.7777777777777778,\"#fb9f3a\"],[0.8888888888888888,\"#fdca26\"],[1.0,\"#f0f921\"]]}],\"heatmapgl\":[{\"type\":\"heatmapgl\",\"colorbar\":{\"outlinewidth\":0,\"ticks\":\"\"},\"colorscale\":[[0.0,\"#0d0887\"],[0.1111111111111111,\"#46039f\"],[0.2222222222222222,\"#7201a8\"],[0.3333333333333333,\"#9c179e\"],[0.4444444444444444,\"#bd3786\"],[0.5555555555555556,\"#d8576b\"],[0.6666666666666666,\"#ed7953\"],[0.7777777777777778,\"#fb9f3a\"],[0.8888888888888888,\"#fdca26\"],[1.0,\"#f0f921\"]]}],\"contourcarpet\":[{\"type\":\"contourcarpet\",\"colorbar\":{\"outlinewidth\":0,\"ticks\":\"\"}}],\"contour\":[{\"type\":\"contour\",\"colorbar\":{\"outlinewidth\":0,\"ticks\":\"\"},\"colorscale\":[[0.0,\"#0d0887\"],[0.1111111111111111,\"#46039f\"],[0.2222222222222222,\"#7201a8\"],[0.3333333333333333,\"#9c179e\"],[0.4444444444444444,\"#bd3786\"],[0.5555555555555556,\"#d8576b\"],[0.6666666666666666,\"#ed7953\"],[0.7777777777777778,\"#fb9f3a\"],[0.8888888888888888,\"#fdca26\"],[1.0,\"#f0f921\"]]}],\"surface\":[{\"type\":\"surface\",\"colorbar\":{\"outlinewidth\":0,\"ticks\":\"\"},\"colorscale\":[[0.0,\"#0d0887\"],[0.1111111111111111,\"#46039f\"],[0.2222222222222222,\"#7201a8\"],[0.3333333333333333,\"#9c179e\"],[0.4444444444444444,\"#bd3786\"],[0.5555555555555556,\"#d8576b\"],[0.6666666666666666,\"#ed7953\"],[0.7777777777777778,\"#fb9f3a\"],[0.8888888888888888,\"#fdca26\"],[1.0,\"#f0f921\"]]}],\"mesh3d\":[{\"type\":\"mesh3d\",\"colorbar\":{\"outlinewidth\":0,\"ticks\":\"\"}}],\"scatter\":[{\"fillpattern\":{\"fillmode\":\"overlay\",\"size\":10,\"solidity\":0.2},\"type\":\"scatter\"}],\"parcoords\":[{\"type\":\"parcoords\",\"line\":{\"colorbar\":{\"outlinewidth\":0,\"ticks\":\"\"}}}],\"scatterpolargl\":[{\"type\":\"scatterpolargl\",\"marker\":{\"colorbar\":{\"outlinewidth\":0,\"ticks\":\"\"}}}],\"bar\":[{\"error_x\":{\"color\":\"#2a3f5f\"},\"error_y\":{\"color\":\"#2a3f5f\"},\"marker\":{\"line\":{\"color\":\"#E5ECF6\",\"width\":0.5},\"pattern\":{\"fillmode\":\"overlay\",\"size\":10,\"solidity\":0.2}},\"type\":\"bar\"}],\"scattergeo\":[{\"type\":\"scattergeo\",\"marker\":{\"colorbar\":{\"outlinewidth\":0,\"ticks\":\"\"}}}],\"scatterpolar\":[{\"type\":\"scatterpolar\",\"marker\":{\"colorbar\":{\"outlinewidth\":0,\"ticks\":\"\"}}}],\"histogram\":[{\"marker\":{\"pattern\":{\"fillmode\":\"overlay\",\"size\":10,\"solidity\":0.2}},\"type\":\"histogram\"}],\"scattergl\":[{\"type\":\"scattergl\",\"marker\":{\"colorbar\":{\"outlinewidth\":0,\"ticks\":\"\"}}}],\"scatter3d\":[{\"type\":\"scatter3d\",\"line\":{\"colorbar\":{\"outlinewidth\":0,\"ticks\":\"\"}},\"marker\":{\"colorbar\":{\"outlinewidth\":0,\"ticks\":\"\"}}}],\"scattermapbox\":[{\"type\":\"scattermapbox\",\"marker\":{\"colorbar\":{\"outlinewidth\":0,\"ticks\":\"\"}}}],\"scatterternary\":[{\"type\":\"scatterternary\",\"marker\":{\"colorbar\":{\"outlinewidth\":0,\"ticks\":\"\"}}}],\"scattercarpet\":[{\"type\":\"scattercarpet\",\"marker\":{\"colorbar\":{\"outlinewidth\":0,\"ticks\":\"\"}}}],\"carpet\":[{\"aaxis\":{\"endlinecolor\":\"#2a3f5f\",\"gridcolor\":\"white\",\"linecolor\":\"white\",\"minorgridcolor\":\"white\",\"startlinecolor\":\"#2a3f5f\"},\"baxis\":{\"endlinecolor\":\"#2a3f5f\",\"gridcolor\":\"white\",\"linecolor\":\"white\",\"minorgridcolor\":\"white\",\"startlinecolor\":\"#2a3f5f\"},\"type\":\"carpet\"}],\"table\":[{\"cells\":{\"fill\":{\"color\":\"#EBF0F8\"},\"line\":{\"color\":\"white\"}},\"header\":{\"fill\":{\"color\":\"#C8D4E3\"},\"line\":{\"color\":\"white\"}},\"type\":\"table\"}],\"barpolar\":[{\"marker\":{\"line\":{\"color\":\"#E5ECF6\",\"width\":0.5},\"pattern\":{\"fillmode\":\"overlay\",\"size\":10,\"solidity\":0.2}},\"type\":\"barpolar\"}],\"pie\":[{\"automargin\":true,\"type\":\"pie\"}]},\"layout\":{\"autotypenumbers\":\"strict\",\"colorway\":[\"#636efa\",\"#EF553B\",\"#00cc96\",\"#ab63fa\",\"#FFA15A\",\"#19d3f3\",\"#FF6692\",\"#B6E880\",\"#FF97FF\",\"#FECB52\"],\"font\":{\"color\":\"#2a3f5f\"},\"hovermode\":\"closest\",\"hoverlabel\":{\"align\":\"left\"},\"paper_bgcolor\":\"white\",\"plot_bgcolor\":\"#E5ECF6\",\"polar\":{\"bgcolor\":\"#E5ECF6\",\"angularaxis\":{\"gridcolor\":\"white\",\"linecolor\":\"white\",\"ticks\":\"\"},\"radialaxis\":{\"gridcolor\":\"white\",\"linecolor\":\"white\",\"ticks\":\"\"}},\"ternary\":{\"bgcolor\":\"#E5ECF6\",\"aaxis\":{\"gridcolor\":\"white\",\"linecolor\":\"white\",\"ticks\":\"\"},\"baxis\":{\"gridcolor\":\"white\",\"linecolor\":\"white\",\"ticks\":\"\"},\"caxis\":{\"gridcolor\":\"white\",\"linecolor\":\"white\",\"ticks\":\"\"}},\"coloraxis\":{\"colorbar\":{\"outlinewidth\":0,\"ticks\":\"\"}},\"colorscale\":{\"sequential\":[[0.0,\"#0d0887\"],[0.1111111111111111,\"#46039f\"],[0.2222222222222222,\"#7201a8\"],[0.3333333333333333,\"#9c179e\"],[0.4444444444444444,\"#bd3786\"],[0.5555555555555556,\"#d8576b\"],[0.6666666666666666,\"#ed7953\"],[0.7777777777777778,\"#fb9f3a\"],[0.8888888888888888,\"#fdca26\"],[1.0,\"#f0f921\"]],\"sequentialminus\":[[0.0,\"#0d0887\"],[0.1111111111111111,\"#46039f\"],[0.2222222222222222,\"#7201a8\"],[0.3333333333333333,\"#9c179e\"],[0.4444444444444444,\"#bd3786\"],[0.5555555555555556,\"#d8576b\"],[0.6666666666666666,\"#ed7953\"],[0.7777777777777778,\"#fb9f3a\"],[0.8888888888888888,\"#fdca26\"],[1.0,\"#f0f921\"]],\"diverging\":[[0,\"#8e0152\"],[0.1,\"#c51b7d\"],[0.2,\"#de77ae\"],[0.3,\"#f1b6da\"],[0.4,\"#fde0ef\"],[0.5,\"#f7f7f7\"],[0.6,\"#e6f5d0\"],[0.7,\"#b8e186\"],[0.8,\"#7fbc41\"],[0.9,\"#4d9221\"],[1,\"#276419\"]]},\"xaxis\":{\"gridcolor\":\"white\",\"linecolor\":\"white\",\"ticks\":\"\",\"title\":{\"standoff\":15},\"zerolinecolor\":\"white\",\"automargin\":true,\"zerolinewidth\":2},\"yaxis\":{\"gridcolor\":\"white\",\"linecolor\":\"white\",\"ticks\":\"\",\"title\":{\"standoff\":15},\"zerolinecolor\":\"white\",\"automargin\":true,\"zerolinewidth\":2},\"scene\":{\"xaxis\":{\"backgroundcolor\":\"#E5ECF6\",\"gridcolor\":\"white\",\"linecolor\":\"white\",\"showbackground\":true,\"ticks\":\"\",\"zerolinecolor\":\"white\",\"gridwidth\":2},\"yaxis\":{\"backgroundcolor\":\"#E5ECF6\",\"gridcolor\":\"white\",\"linecolor\":\"white\",\"showbackground\":true,\"ticks\":\"\",\"zerolinecolor\":\"white\",\"gridwidth\":2},\"zaxis\":{\"backgroundcolor\":\"#E5ECF6\",\"gridcolor\":\"white\",\"linecolor\":\"white\",\"showbackground\":true,\"ticks\":\"\",\"zerolinecolor\":\"white\",\"gridwidth\":2}},\"shapedefaults\":{\"line\":{\"color\":\"#2a3f5f\"}},\"annotationdefaults\":{\"arrowcolor\":\"#2a3f5f\",\"arrowhead\":0,\"arrowwidth\":1},\"geo\":{\"bgcolor\":\"white\",\"landcolor\":\"#E5ECF6\",\"subunitcolor\":\"white\",\"showland\":true,\"showlakes\":true,\"lakecolor\":\"white\"},\"title\":{\"x\":0.05},\"mapbox\":{\"style\":\"light\"}}},\"xaxis\":{\"anchor\":\"y\",\"domain\":[0.0,1.0],\"title\":{\"text\":\"x\"}},\"yaxis\":{\"anchor\":\"x\",\"domain\":[0.0,1.0],\"title\":{\"text\":\"y\"}},\"legend\":{\"tracegroupgap\":0},\"margin\":{\"t\":60}},                        {\"responsive\": true}                    ).then(function(){\n",
              "                            \n",
              "var gd = document.getElementById('ef545b99-1a3c-445e-9963-0346b3e103a5');\n",
              "var x = new MutationObserver(function (mutations, observer) {{\n",
              "        var display = window.getComputedStyle(gd).display;\n",
              "        if (!display || display === 'none') {{\n",
              "            console.log([gd, 'removed!']);\n",
              "            Plotly.purge(gd);\n",
              "            observer.disconnect();\n",
              "        }}\n",
              "}});\n",
              "\n",
              "// Listen for the removal of the full notebook cells\n",
              "var notebookContainer = gd.closest('#notebook-container');\n",
              "if (notebookContainer) {{\n",
              "    x.observe(notebookContainer, {childList: true});\n",
              "}}\n",
              "\n",
              "// Listen for the clearing of the current output cell\n",
              "var outputEl = gd.closest('.output');\n",
              "if (outputEl) {{\n",
              "    x.observe(outputEl, {childList: true});\n",
              "}}\n",
              "\n",
              "                        })                };                            </script>        </div>\n",
              "</body>\n",
              "</html>"
            ]
          },
          "metadata": {}
        }
      ]
    },
    {
      "cell_type": "code",
      "source": [
        "# Grafico los embedddings en 3D\n",
        "\n",
        "vecs, labels = reduce_dimensions(w2v_model,3)\n",
        "\n",
        "fig = px.scatter_3d(x=vecs[:MAX_WORDS,0], y=vecs[:MAX_WORDS,1], z=vecs[:MAX_WORDS,2],text=labels[:MAX_WORDS])\n",
        "fig.update_traces(marker_size = 2)\n",
        "fig.show(renderer=\"colab\")"
      ],
      "metadata": {
        "colab": {
          "base_uri": "https://localhost:8080/",
          "height": 542
        },
        "id": "U8dpBxE-EFGo",
        "outputId": "709d351a-6762-442c-a426-d8d3584c3cda"
      },
      "execution_count": 21,
      "outputs": [
        {
          "output_type": "display_data",
          "data": {
            "text/html": [
              "<html>\n",
              "<head><meta charset=\"utf-8\" /></head>\n",
              "<body>\n",
              "    <div>            <script src=\"https://cdnjs.cloudflare.com/ajax/libs/mathjax/2.7.5/MathJax.js?config=TeX-AMS-MML_SVG\"></script><script type=\"text/javascript\">if (window.MathJax && window.MathJax.Hub && window.MathJax.Hub.Config) {window.MathJax.Hub.Config({SVG: {font: \"STIX-Web\"}});}</script>                <script type=\"text/javascript\">window.PlotlyConfig = {MathJaxConfig: 'local'};</script>\n",
              "        <script charset=\"utf-8\" src=\"https://cdn.plot.ly/plotly-2.35.2.min.js\"></script>                <div id=\"11c879b4-26ce-483f-a45c-76c05b373940\" class=\"plotly-graph-div\" style=\"height:525px; width:100%;\"></div>            <script type=\"text/javascript\">                                    window.PLOTLYENV=window.PLOTLYENV || {};                                    if (document.getElementById(\"11c879b4-26ce-483f-a45c-76c05b373940\")) {                    Plotly.newPlot(                        \"11c879b4-26ce-483f-a45c-76c05b373940\",                        [{\"hovertemplate\":\"x=%{x}\\u003cbr\\u003ey=%{y}\\u003cbr\\u003ez=%{z}\\u003cbr\\u003etext=%{text}\\u003cextra\\u003e\\u003c\\u002fextra\\u003e\",\"legendgroup\":\"\",\"marker\":{\"color\":\"#636efa\",\"symbol\":\"circle\",\"size\":2},\"mode\":\"markers+text\",\"name\":\"\",\"scene\":\"scene\",\"showlegend\":false,\"text\":[\"the\",\"of\",\"and\",\"a\",\"to\",\"in\",\"that\",\"'\",\"his\",\"it\",\"i\",\"he\",\"but\",\"s\",\"as\",\"is\",\"with\",\"was\",\"for\",\"all\",\"this\",\"at\",\"whale\",\"by\",\"not\",\"from\",\"him\",\"so\",\"on\",\"be\",\"one\",\"you\",\"there\",\"now\",\"had\",\"have\",\"or\",\"were\",\"they\",\"which\",\"like\",\"me\",\"then\",\"their\",\"some\",\"what\",\"when\",\"are\",\"an\",\"my\",\"no\",\"upon\",\"out\",\"man\",\"into\",\"up\",\"ship\",\"ahab\",\"more\",\"if\",\"them\",\"ye\",\"we\",\"sea\",\"old\",\"would\",\"other\",\"been\",\"over\",\"these\",\"will\",\"though\",\"down\",\"its\",\"only\",\"such\",\"who\",\"yet\",\"head\",\"boat\",\"time\",\"long\",\"her\",\"captain\",\"any\",\"here\",\"very\",\"still\",\"about\",\"than\",\"do\",\"great\",\"those\",\"said\",\"before\",\"two\",\"has\",\"t\",\"seemed\",\"must\",\"most\",\"white\",\"last\",\"see\",\"thou\",\"way\",\"after\",\"whales\",\"again\",\"did\",\"stubb\",\"how\",\"queequeg\",\"your\",\"little\",\"round\",\"while\",\"three\",\"say\",\"sperm\",\"men\",\"may\",\"can\",\"first\",\"through\",\"every\",\"well\",\"us\",\"being\",\"much\",\"off\",\"where\",\"good\",\"could\",\"hand\",\"same\",\"side\",\"our\",\"ever\",\"never\",\"own\",\"himself\",\"look\",\"starbuck\",\"deck\",\"almost\",\"go\",\"even\",\"water\",\"thing\",\"too\",\"away\",\"should\",\"might\",\"come\",\"made\",\"day\",\"world\",\"sir\",\"life\",\"chapter\",\"pequod\",\"fish\",\"among\",\"many\",\"far\",\"seen\",\"back\",\"line\",\"let\",\"nor\",\"eyes\",\"without\",\"oh\",\"cried\",\"aye\",\"sort\",\"know\",\"god\",\"right\",\"night\",\"thought\",\"once\",\"part\",\"boats\",\"air\",\"crew\",\"don\",\"whole\",\"take\",\"half\",\"tell\",\"against\",\"thus\",\"things\",\"thee\",\"whaling\",\"soon\",\"came\",\"hands\"],\"x\":[-6.528057,-8.981758,-7.612331,0.9222028,15.883641,-6.3825874,18.56832,-10.2406845,-36.33595,17.524977,14.68846,16.610445,18.375385,-11.315382,19.37327,27.60189,-8.889723,26.781094,19.277122,-10.145747,21.182732,-1.6507745,-2.9908671,22.941172,9.164909,-3.947962,9.712294,36.052025,-2.9255269,12.694844,28.623907,10.592997,-8.174437,-6.932695,15.169061,17.604616,11.482996,11.236715,20.642544,28.136389,10.63111,18.701859,-2.6451893,24.80713,15.605662,13.862915,-7.426774,25.729816,20.167786,-20.85722,29.234505,12.561831,-14.235073,-21.612085,5.597086,-19.959818,-29.448278,-13.441361,24.520462,10.264723,6.6284366,-3.8830233,25.052238,13.515818,-2.2798047,25.731548,-1.5979447,7.5737166,-3.450483,-2.641598,10.894512,27.2559,-0.20936319,22.699068,16.059748,18.783308,-7.7605968,15.133555,-25.205187,2.1611302,30.983593,-6.619426,5.6502237,-12.16317,34.570007,-12.429942,35.130356,-38.829872,-1.9807767,19.749954,9.894448,-15.081065,-7.0367103,-15.002179,-6.567139,-2.653192,-4.0028872,-3.448904,25.09327,-2.9719083,22.8849,2.8059452,3.543553,9.721714,-19.202251,11.317391,12.075426,-6.6421943,-2.286172,21.331032,-23.0294,36.13342,-26.405422,-24.468573,-23.444427,-17.576675,18.279049,0.71892846,5.5866523,-3.771435,-16.896534,19.217035,14.573283,8.256794,12.939467,22.329988,8.104429,12.497792,26.179485,26.737322,28.39984,16.870743,-3.3717043,29.798044,-17.960022,8.947631,-19.157177,-20.480068,-1.6385931,29.483679,-6.812395,-19.525158,-31.844723,-21.116392,-7.1582265,15.335553,-3.4166765,35.006294,15.129245,10.086326,4.0632515,-16.216503,29.83106,5.893815,0.067885,30.869469,5.056877,32.125977,0.14933498,5.2302594,-6.9865026,-11.154015,34.974636,-16.684692,-16.129362,28.27676,11.772406,-35.546394,-12.057122,-1.306533,36.160156,-19.786682,15.082332,-12.015488,-14.322452,-9.491323,36.456635,7.689241,-10.654214,-26.801374,3.7303452,20.81579,-38.494827,22.816137,-2.9655716,9.481192,-29.334196,-2.9853554,28.094528,4.244982,-34.928345,9.351344,-7.1988354,-4.852294,18.746212,-12.356294,-6.583432,5.688878,4.522786,-18.364355],\"y\":[5.4973273,7.7070355,3.4058871,-9.79485,-13.767987,9.005486,-16.255072,-38.51651,2.6545131,-16.462679,-34.80246,-13.415111,-28.479776,-38.490906,-4.848761,-20.500607,1.2641437,-18.630648,-22.778997,4.2773695,-17.942202,4.0739436,-2.0533679,22.563768,-12.321147,-7.006283,-16.675787,-4.569188,3.4239535,14.589975,16.928324,-36.274338,-11.169776,-12.479689,-13.159804,-25.09438,32.07695,-6.1478066,-15.287697,20.38316,19.890894,-22.990137,-15.449778,-8.91549,28.46343,-20.089338,5.0998216,-25.546045,-16.563972,-18.991974,-1.5812616,-19.235796,-19.982536,-7.795425,3.1125162,-14.339913,7.0685425,-20.154684,-12.51665,-15.049948,-15.322227,-27.76118,29.37952,24.357674,-6.5890675,-14.75944,23.204643,21.124447,12.98202,13.132976,-24.8671,17.597279,-13.483656,14.907326,8.762375,-2.2689142,-4.817817,-1.9356055,6.050149,-17.034445,-6.8261905,23.30182,35.593216,3.5368962,5.1094637,-10.9405,-0.6871835,-0.453835,-29.997684,-14.732914,-23.40304,5.564377,13.7717,-30.008745,-6.720361,27.808466,23.128483,-38.4497,-6.03301,-16.531837,7.465875,22.331192,7.7116523,-22.959751,-19.69116,-7.8865986,30.619461,9.02077,-18.766342,-29.960192,-24.53678,-5.467137,-19.002302,-21.772524,-2.4476993,14.548663,-6.737635,30.12925,-23.954739,2.7054317,5.630975,8.366083,-23.24969,32.23177,3.8110442,18.092796,-4.08436,-31.010498,-13.2801695,-19.18147,21.055525,-18.221127,-31.128073,-11.17246,-5.4954014,8.325962,15.625918,13.893616,-6.462039,-24.906088,-9.0464,-19.143778,-18.910734,-22.061256,-17.406954,-0.9518482,-36.918274,13.301284,8.369773,4.853667,-11.578291,-9.449513,-17.591152,7.1930523,-28.187975,-2.1056833,25.791494,20.441807,-25.434036,-7.5682535,-2.807097,-1.0229412,17.412226,13.889175,18.84291,7.3241334,-21.667295,6.468109,14.285185,-29.182446,3.642929,-12.770024,-6.496259,-21.081266,-29.227337,-29.76666,-14.458031,-27.929514,-15.771595,-12.700788,19.77594,-21.673456,-4.5084224,11.7387,29.613226,10.539452,-0.5928244,-37.611053,24.288317,-24.114668,11.8316765,-30.524506,-9.653744,4.4740424,11.706001,-24.288795,0.57056046,-17.628283,-1.8389277,-21.145277],\"z\":[-0.06256957,0.30980965,1.1055832,-3.9004047,12.181342,0.3796298,8.841457,3.0218174,4.715682,5.851256,-4.9480247,7.047488,8.243359,4.9337907,1.8081306,12.383833,1.7288657,14.111803,12.960304,-3.8324103,8.602869,-3.4473808,-15.830901,-3.8075926,-8.65955,16.190128,5.5914407,-6.887398,6.6379304,-30.867546,-0.9596747,3.1450837,-0.34501898,3.4481173,18.270422,-13.54339,-14.182373,8.010511,3.4761724,-6.5421534,33.65256,5.4778132,8.112591,24.948633,-13.787125,-12.394729,-7.1382246,11.543645,14.091025,-10.830467,-0.64770085,17.273642,21.232115,-15.072561,32.404476,25.546423,-12.062055,7.476882,-23.466518,-4.0668716,12.22345,-6.160141,-7.4273453,24.761892,-1.4661965,-6.5575294,-4.5939617,-21.508436,31.10385,-16.476416,-24.196695,-12.588261,11.712985,8.818061,-3.576425,-9.010076,-8.968901,-4.718128,13.461664,34.392876,7.402297,3.1684847,18.145567,-11.097273,-9.524882,-2.4514139,-5.8881636,11.966896,-9.920004,-20.18137,-6.718503,-2.6263056,-15.085792,12.719623,1.9639556,-2.4790542,-32.62602,-8.326224,3.6935518,3.3137817,-17.659456,17.17212,-3.795913,-1.8630198,-24.28062,3.1966224,3.8312483,-22.519535,18.415724,-11.478274,8.662339,-1.4519982,12.6321535,-8.051083,5.9047327,30.903053,23.8691,0.1340995,-0.89740044,-35.175266,-13.082745,-29.994566,-18.171726,-20.895452,27.26185,16.87626,-4.425875,11.179457,3.6749218,-8.605542,15.779174,10.256209,-21.654512,-0.40176266,14.937756,-5.1855927,19.24357,-12.750575,-13.525245,-2.0001335,-25.20514,5.0421557,8.153087,11.597509,29.832933,23.533792,-1.0765454,-0.54734355,29.612555,-20.174082,-1.9970827,11.099129,-3.6946182,-28.702818,11.503684,20.735594,-5.7368484,5.1172185,-4.8431163,-15.993781,-38.260597,-11.817636,-6.5283923,-18.689928,-17.74975,-10.1141205,23.964073,11.096564,24.137083,0.60432833,-15.857374,33.315193,5.4518676,-9.766918,18.632488,16.006926,-5.5280943,-12.033734,-20.322887,-3.577482,-3.3806486,-18.076416,-0.20240735,-14.876151,17.518648,20.882841,-14.736642,-13.326514,-0.122215785,5.8853602,5.4223747,-3.2800164,14.608447,-10.54956,-26.861313,-23.565508,-23.675024,17.040325,36.534397,27.227234],\"type\":\"scatter3d\"}],                        {\"template\":{\"data\":{\"histogram2dcontour\":[{\"type\":\"histogram2dcontour\",\"colorbar\":{\"outlinewidth\":0,\"ticks\":\"\"},\"colorscale\":[[0.0,\"#0d0887\"],[0.1111111111111111,\"#46039f\"],[0.2222222222222222,\"#7201a8\"],[0.3333333333333333,\"#9c179e\"],[0.4444444444444444,\"#bd3786\"],[0.5555555555555556,\"#d8576b\"],[0.6666666666666666,\"#ed7953\"],[0.7777777777777778,\"#fb9f3a\"],[0.8888888888888888,\"#fdca26\"],[1.0,\"#f0f921\"]]}],\"choropleth\":[{\"type\":\"choropleth\",\"colorbar\":{\"outlinewidth\":0,\"ticks\":\"\"}}],\"histogram2d\":[{\"type\":\"histogram2d\",\"colorbar\":{\"outlinewidth\":0,\"ticks\":\"\"},\"colorscale\":[[0.0,\"#0d0887\"],[0.1111111111111111,\"#46039f\"],[0.2222222222222222,\"#7201a8\"],[0.3333333333333333,\"#9c179e\"],[0.4444444444444444,\"#bd3786\"],[0.5555555555555556,\"#d8576b\"],[0.6666666666666666,\"#ed7953\"],[0.7777777777777778,\"#fb9f3a\"],[0.8888888888888888,\"#fdca26\"],[1.0,\"#f0f921\"]]}],\"heatmap\":[{\"type\":\"heatmap\",\"colorbar\":{\"outlinewidth\":0,\"ticks\":\"\"},\"colorscale\":[[0.0,\"#0d0887\"],[0.1111111111111111,\"#46039f\"],[0.2222222222222222,\"#7201a8\"],[0.3333333333333333,\"#9c179e\"],[0.4444444444444444,\"#bd3786\"],[0.5555555555555556,\"#d8576b\"],[0.6666666666666666,\"#ed7953\"],[0.7777777777777778,\"#fb9f3a\"],[0.8888888888888888,\"#fdca26\"],[1.0,\"#f0f921\"]]}],\"heatmapgl\":[{\"type\":\"heatmapgl\",\"colorbar\":{\"outlinewidth\":0,\"ticks\":\"\"},\"colorscale\":[[0.0,\"#0d0887\"],[0.1111111111111111,\"#46039f\"],[0.2222222222222222,\"#7201a8\"],[0.3333333333333333,\"#9c179e\"],[0.4444444444444444,\"#bd3786\"],[0.5555555555555556,\"#d8576b\"],[0.6666666666666666,\"#ed7953\"],[0.7777777777777778,\"#fb9f3a\"],[0.8888888888888888,\"#fdca26\"],[1.0,\"#f0f921\"]]}],\"contourcarpet\":[{\"type\":\"contourcarpet\",\"colorbar\":{\"outlinewidth\":0,\"ticks\":\"\"}}],\"contour\":[{\"type\":\"contour\",\"colorbar\":{\"outlinewidth\":0,\"ticks\":\"\"},\"colorscale\":[[0.0,\"#0d0887\"],[0.1111111111111111,\"#46039f\"],[0.2222222222222222,\"#7201a8\"],[0.3333333333333333,\"#9c179e\"],[0.4444444444444444,\"#bd3786\"],[0.5555555555555556,\"#d8576b\"],[0.6666666666666666,\"#ed7953\"],[0.7777777777777778,\"#fb9f3a\"],[0.8888888888888888,\"#fdca26\"],[1.0,\"#f0f921\"]]}],\"surface\":[{\"type\":\"surface\",\"colorbar\":{\"outlinewidth\":0,\"ticks\":\"\"},\"colorscale\":[[0.0,\"#0d0887\"],[0.1111111111111111,\"#46039f\"],[0.2222222222222222,\"#7201a8\"],[0.3333333333333333,\"#9c179e\"],[0.4444444444444444,\"#bd3786\"],[0.5555555555555556,\"#d8576b\"],[0.6666666666666666,\"#ed7953\"],[0.7777777777777778,\"#fb9f3a\"],[0.8888888888888888,\"#fdca26\"],[1.0,\"#f0f921\"]]}],\"mesh3d\":[{\"type\":\"mesh3d\",\"colorbar\":{\"outlinewidth\":0,\"ticks\":\"\"}}],\"scatter\":[{\"fillpattern\":{\"fillmode\":\"overlay\",\"size\":10,\"solidity\":0.2},\"type\":\"scatter\"}],\"parcoords\":[{\"type\":\"parcoords\",\"line\":{\"colorbar\":{\"outlinewidth\":0,\"ticks\":\"\"}}}],\"scatterpolargl\":[{\"type\":\"scatterpolargl\",\"marker\":{\"colorbar\":{\"outlinewidth\":0,\"ticks\":\"\"}}}],\"bar\":[{\"error_x\":{\"color\":\"#2a3f5f\"},\"error_y\":{\"color\":\"#2a3f5f\"},\"marker\":{\"line\":{\"color\":\"#E5ECF6\",\"width\":0.5},\"pattern\":{\"fillmode\":\"overlay\",\"size\":10,\"solidity\":0.2}},\"type\":\"bar\"}],\"scattergeo\":[{\"type\":\"scattergeo\",\"marker\":{\"colorbar\":{\"outlinewidth\":0,\"ticks\":\"\"}}}],\"scatterpolar\":[{\"type\":\"scatterpolar\",\"marker\":{\"colorbar\":{\"outlinewidth\":0,\"ticks\":\"\"}}}],\"histogram\":[{\"marker\":{\"pattern\":{\"fillmode\":\"overlay\",\"size\":10,\"solidity\":0.2}},\"type\":\"histogram\"}],\"scattergl\":[{\"type\":\"scattergl\",\"marker\":{\"colorbar\":{\"outlinewidth\":0,\"ticks\":\"\"}}}],\"scatter3d\":[{\"type\":\"scatter3d\",\"line\":{\"colorbar\":{\"outlinewidth\":0,\"ticks\":\"\"}},\"marker\":{\"colorbar\":{\"outlinewidth\":0,\"ticks\":\"\"}}}],\"scattermapbox\":[{\"type\":\"scattermapbox\",\"marker\":{\"colorbar\":{\"outlinewidth\":0,\"ticks\":\"\"}}}],\"scatterternary\":[{\"type\":\"scatterternary\",\"marker\":{\"colorbar\":{\"outlinewidth\":0,\"ticks\":\"\"}}}],\"scattercarpet\":[{\"type\":\"scattercarpet\",\"marker\":{\"colorbar\":{\"outlinewidth\":0,\"ticks\":\"\"}}}],\"carpet\":[{\"aaxis\":{\"endlinecolor\":\"#2a3f5f\",\"gridcolor\":\"white\",\"linecolor\":\"white\",\"minorgridcolor\":\"white\",\"startlinecolor\":\"#2a3f5f\"},\"baxis\":{\"endlinecolor\":\"#2a3f5f\",\"gridcolor\":\"white\",\"linecolor\":\"white\",\"minorgridcolor\":\"white\",\"startlinecolor\":\"#2a3f5f\"},\"type\":\"carpet\"}],\"table\":[{\"cells\":{\"fill\":{\"color\":\"#EBF0F8\"},\"line\":{\"color\":\"white\"}},\"header\":{\"fill\":{\"color\":\"#C8D4E3\"},\"line\":{\"color\":\"white\"}},\"type\":\"table\"}],\"barpolar\":[{\"marker\":{\"line\":{\"color\":\"#E5ECF6\",\"width\":0.5},\"pattern\":{\"fillmode\":\"overlay\",\"size\":10,\"solidity\":0.2}},\"type\":\"barpolar\"}],\"pie\":[{\"automargin\":true,\"type\":\"pie\"}]},\"layout\":{\"autotypenumbers\":\"strict\",\"colorway\":[\"#636efa\",\"#EF553B\",\"#00cc96\",\"#ab63fa\",\"#FFA15A\",\"#19d3f3\",\"#FF6692\",\"#B6E880\",\"#FF97FF\",\"#FECB52\"],\"font\":{\"color\":\"#2a3f5f\"},\"hovermode\":\"closest\",\"hoverlabel\":{\"align\":\"left\"},\"paper_bgcolor\":\"white\",\"plot_bgcolor\":\"#E5ECF6\",\"polar\":{\"bgcolor\":\"#E5ECF6\",\"angularaxis\":{\"gridcolor\":\"white\",\"linecolor\":\"white\",\"ticks\":\"\"},\"radialaxis\":{\"gridcolor\":\"white\",\"linecolor\":\"white\",\"ticks\":\"\"}},\"ternary\":{\"bgcolor\":\"#E5ECF6\",\"aaxis\":{\"gridcolor\":\"white\",\"linecolor\":\"white\",\"ticks\":\"\"},\"baxis\":{\"gridcolor\":\"white\",\"linecolor\":\"white\",\"ticks\":\"\"},\"caxis\":{\"gridcolor\":\"white\",\"linecolor\":\"white\",\"ticks\":\"\"}},\"coloraxis\":{\"colorbar\":{\"outlinewidth\":0,\"ticks\":\"\"}},\"colorscale\":{\"sequential\":[[0.0,\"#0d0887\"],[0.1111111111111111,\"#46039f\"],[0.2222222222222222,\"#7201a8\"],[0.3333333333333333,\"#9c179e\"],[0.4444444444444444,\"#bd3786\"],[0.5555555555555556,\"#d8576b\"],[0.6666666666666666,\"#ed7953\"],[0.7777777777777778,\"#fb9f3a\"],[0.8888888888888888,\"#fdca26\"],[1.0,\"#f0f921\"]],\"sequentialminus\":[[0.0,\"#0d0887\"],[0.1111111111111111,\"#46039f\"],[0.2222222222222222,\"#7201a8\"],[0.3333333333333333,\"#9c179e\"],[0.4444444444444444,\"#bd3786\"],[0.5555555555555556,\"#d8576b\"],[0.6666666666666666,\"#ed7953\"],[0.7777777777777778,\"#fb9f3a\"],[0.8888888888888888,\"#fdca26\"],[1.0,\"#f0f921\"]],\"diverging\":[[0,\"#8e0152\"],[0.1,\"#c51b7d\"],[0.2,\"#de77ae\"],[0.3,\"#f1b6da\"],[0.4,\"#fde0ef\"],[0.5,\"#f7f7f7\"],[0.6,\"#e6f5d0\"],[0.7,\"#b8e186\"],[0.8,\"#7fbc41\"],[0.9,\"#4d9221\"],[1,\"#276419\"]]},\"xaxis\":{\"gridcolor\":\"white\",\"linecolor\":\"white\",\"ticks\":\"\",\"title\":{\"standoff\":15},\"zerolinecolor\":\"white\",\"automargin\":true,\"zerolinewidth\":2},\"yaxis\":{\"gridcolor\":\"white\",\"linecolor\":\"white\",\"ticks\":\"\",\"title\":{\"standoff\":15},\"zerolinecolor\":\"white\",\"automargin\":true,\"zerolinewidth\":2},\"scene\":{\"xaxis\":{\"backgroundcolor\":\"#E5ECF6\",\"gridcolor\":\"white\",\"linecolor\":\"white\",\"showbackground\":true,\"ticks\":\"\",\"zerolinecolor\":\"white\",\"gridwidth\":2},\"yaxis\":{\"backgroundcolor\":\"#E5ECF6\",\"gridcolor\":\"white\",\"linecolor\":\"white\",\"showbackground\":true,\"ticks\":\"\",\"zerolinecolor\":\"white\",\"gridwidth\":2},\"zaxis\":{\"backgroundcolor\":\"#E5ECF6\",\"gridcolor\":\"white\",\"linecolor\":\"white\",\"showbackground\":true,\"ticks\":\"\",\"zerolinecolor\":\"white\",\"gridwidth\":2}},\"shapedefaults\":{\"line\":{\"color\":\"#2a3f5f\"}},\"annotationdefaults\":{\"arrowcolor\":\"#2a3f5f\",\"arrowhead\":0,\"arrowwidth\":1},\"geo\":{\"bgcolor\":\"white\",\"landcolor\":\"#E5ECF6\",\"subunitcolor\":\"white\",\"showland\":true,\"showlakes\":true,\"lakecolor\":\"white\"},\"title\":{\"x\":0.05},\"mapbox\":{\"style\":\"light\"}}},\"scene\":{\"domain\":{\"x\":[0.0,1.0],\"y\":[0.0,1.0]},\"xaxis\":{\"title\":{\"text\":\"x\"}},\"yaxis\":{\"title\":{\"text\":\"y\"}},\"zaxis\":{\"title\":{\"text\":\"z\"}}},\"legend\":{\"tracegroupgap\":0},\"margin\":{\"t\":60}},                        {\"responsive\": true}                    ).then(function(){\n",
              "                            \n",
              "var gd = document.getElementById('11c879b4-26ce-483f-a45c-76c05b373940');\n",
              "var x = new MutationObserver(function (mutations, observer) {{\n",
              "        var display = window.getComputedStyle(gd).display;\n",
              "        if (!display || display === 'none') {{\n",
              "            console.log([gd, 'removed!']);\n",
              "            Plotly.purge(gd);\n",
              "            observer.disconnect();\n",
              "        }}\n",
              "}});\n",
              "\n",
              "// Listen for the removal of the full notebook cells\n",
              "var notebookContainer = gd.closest('#notebook-container');\n",
              "if (notebookContainer) {{\n",
              "    x.observe(notebookContainer, {childList: true});\n",
              "}}\n",
              "\n",
              "// Listen for the clearing of the current output cell\n",
              "var outputEl = gd.closest('.output');\n",
              "if (outputEl) {{\n",
              "    x.observe(outputEl, {childList: true});\n",
              "}}\n",
              "\n",
              "                        })                };                            </script>        </div>\n",
              "</body>\n",
              "</html>"
            ]
          },
          "metadata": {}
        }
      ]
    },
    {
      "cell_type": "markdown",
      "source": [
        "**Reviso las palabras que más se relacionan**"
      ],
      "metadata": {
        "id": "k6gWKt0tK-AA"
      }
    },
    {
      "cell_type": "code",
      "source": [
        "# palabras similares a sea\n",
        "w2v_model.wv.most_similar(positive=[\"sea\"], topn=10)"
      ],
      "metadata": {
        "colab": {
          "base_uri": "https://localhost:8080/"
        },
        "id": "Mpkp_QGinqVZ",
        "outputId": "357c84a6-ee25-4730-f717-6824f913c468"
      },
      "execution_count": 22,
      "outputs": [
        {
          "output_type": "execute_result",
          "data": {
            "text/plain": [
              "[('seas', 0.5173842906951904),\n",
              " ('east', 0.5150328874588013),\n",
              " ('waves', 0.5071187019348145),\n",
              " ('deep', 0.5063601732254028),\n",
              " ('gently', 0.49953919649124146),\n",
              " ('japan', 0.4967133402824402),\n",
              " ('direful', 0.4952948987483978),\n",
              " ('gloom', 0.49054834246635437),\n",
              " ('mild', 0.48889032006263733),\n",
              " ('eternal', 0.48806139826774597)]"
            ]
          },
          "metadata": {},
          "execution_count": 22
        }
      ]
    },
    {
      "cell_type": "markdown",
      "source": [
        "Dentro de los términos más similares a 'sea' se encuentran palabras afines como 'seas','waves' y otras palabras que se encuentran cercanas en el texto como los adjetivos 'deep','gently'."
      ],
      "metadata": {
        "id": "JgmKfvmMpcJa"
      }
    },
    {
      "cell_type": "code",
      "source": [
        "# palabras similares a captain\n",
        "w2v_model.wv.most_similar(positive=[\"captain\"], topn=10)"
      ],
      "metadata": {
        "colab": {
          "base_uri": "https://localhost:8080/"
        },
        "id": "9Kro0Ruxh_hB",
        "outputId": "7f7d740b-2d5e-4cfb-8902-4e3a2b2191bb"
      },
      "execution_count": 23,
      "outputs": [
        {
          "output_type": "execute_result",
          "data": {
            "text/plain": [
              "[('moody', 0.6033666133880615),\n",
              " ('peleg', 0.5972371697425842),\n",
              " ('officers', 0.5786779522895813),\n",
              " ('bunger', 0.5492300391197205),\n",
              " ('guernsey', 0.5191786885261536),\n",
              " ('bildad', 0.5177071690559387),\n",
              " ('entitled', 0.5148871541023254),\n",
              " ('crazy', 0.5133281946182251),\n",
              " ('pirates', 0.5103671550750732),\n",
              " ('gabriel', 0.5001288056373596)]"
            ]
          },
          "metadata": {},
          "execution_count": 23
        }
      ]
    },
    {
      "cell_type": "markdown",
      "source": [
        "Dentro de los términos más similares a 'captain' se encuentran las siguientes relaciones: personajes que interactúan con 'captain' (Peleg), adjetivos que podrían describir al termino orginal ('crazy','moody')."
      ],
      "metadata": {
        "id": "ESPW03B_qN0B"
      }
    },
    {
      "cell_type": "markdown",
      "source": [
        "**Realizo un test de analogía**"
      ],
      "metadata": {
        "id": "X3-0ukfPJmjP"
      }
    },
    {
      "cell_type": "code",
      "source": [
        "# Armamos una función para graficar la matriz de similaridad\n",
        "def plot_matrix_distance(words, dist):\n",
        "    fig = plt.figure(figsize=(16,9))\n",
        "    ax = fig.add_subplot()\n",
        "    sns.heatmap(dist, xticklabels=words, yticklabels=words,\n",
        "                annot=True, fmt=\".2f\", cmap=\"YlGnBu\", ax=ax, mask=np.triu(dist))\n",
        "    plt.show()"
      ],
      "metadata": {
        "id": "IKO2K9eWGUjd"
      },
      "execution_count": 24,
      "outputs": []
    },
    {
      "cell_type": "code",
      "source": [
        "#defino los términos para hacer el test de analogía\n",
        "test_words = ['ahab', 'captain', 'moby', 'whale']\n",
        "\n",
        "# guardo los vectores de embedding de cada término\n",
        "test_emb = []\n",
        "for word in test_words:\n",
        "    test_emb.append(w2v_model.wv.get_vector(word))\n",
        "\n",
        "test_emb"
      ],
      "metadata": {
        "colab": {
          "base_uri": "https://localhost:8080/"
        },
        "id": "aAILNhJDG4fL",
        "outputId": "33fc1082-2c2c-4f56-954d-0c8870e175aa"
      },
      "execution_count": 25,
      "outputs": [
        {
          "output_type": "execute_result",
          "data": {
            "text/plain": [
              "[array([-0.55664355,  0.5101493 , -0.23039569, -0.2863757 , -0.03368931,\n",
              "        -0.8833513 , -0.07120524,  0.24784094, -0.42982098, -0.6968426 ,\n",
              "         0.55970806, -0.2694288 ,  0.28853044,  0.340807  ,  0.08057203,\n",
              "         0.44135633,  0.6472549 ,  0.2486604 , -0.1093259 , -0.86056894,\n",
              "         0.38907593, -0.36370832, -0.19460112, -0.2866007 , -0.41603348,\n",
              "        -0.64862794, -0.17852528,  0.80634195,  0.41341648,  0.378848  ,\n",
              "         0.20045534,  0.43512622,  0.5324589 ,  0.49643415,  0.37231007,\n",
              "        -0.0184677 , -0.01807797, -0.23003565, -0.26902097, -0.31987652,\n",
              "        -0.1624845 , -0.01510811,  0.20323619,  0.41722062, -0.11617213,\n",
              "        -0.28886053, -0.354706  ,  0.21804753, -0.02659857,  0.27377778,\n",
              "         0.22602735, -0.04591743,  0.06947017,  0.21591008,  0.16685002,\n",
              "         0.298058  , -0.24423254, -0.22411536, -0.18028766, -0.00150895,\n",
              "         0.14162995,  0.00610645,  0.31901804, -0.17917188, -0.00136917,\n",
              "         0.3301794 , -0.08069116,  0.47309932, -0.09090204,  0.15478322,\n",
              "        -0.42275777, -0.03881996,  0.07675727, -0.47926873,  0.44957504,\n",
              "         0.30100843,  0.10730492, -0.48600668, -0.3707577 , -0.5209207 ,\n",
              "        -0.3772897 , -0.0218162 , -0.18208463,  0.4267564 , -0.42278025,\n",
              "         0.15990615, -0.11966445, -0.04361156,  0.001578  ,  0.652216  ,\n",
              "         0.6673751 , -0.14411697, -0.55536026,  0.21958226,  0.30058604,\n",
              "         0.39397964,  0.24086946,  0.42604426, -0.15486407,  0.11160717],\n",
              "       dtype=float32),\n",
              " array([ 3.11737806e-01,  3.32213193e-01, -5.41212320e-01,  2.57691741e-01,\n",
              "         1.80916250e-01, -5.05106390e-01, -3.99891794e-01, -7.13125542e-02,\n",
              "        -2.80666649e-01, -9.81428381e-03,  2.64838576e-01, -5.57533979e-01,\n",
              "        -1.16779223e-01,  4.82131362e-01,  2.07903206e-01, -4.95380342e-01,\n",
              "         2.27270395e-01, -4.73677367e-01,  8.30885172e-02, -1.14546072e+00,\n",
              "         1.69429138e-01,  1.95172846e-01, -5.95237203e-02, -5.75573385e-01,\n",
              "        -4.10313725e-01, -2.36809224e-01, -3.07694942e-01,  4.26212549e-01,\n",
              "         2.30558157e-01, -3.23926598e-01,  8.11705738e-02,  8.22212756e-01,\n",
              "        -2.50630587e-01, -6.67314887e-01, -1.29851624e-01,  5.68310082e-01,\n",
              "        -8.87195468e-02,  8.23015943e-02, -3.78854185e-01,  9.60030884e-04,\n",
              "         1.98479831e-01, -3.49345021e-02,  3.51398200e-01,  4.45715517e-01,\n",
              "         2.82997452e-02, -5.15797317e-01, -3.90067905e-01, -1.02848873e-01,\n",
              "         7.57442534e-01,  1.08237095e-01,  1.41345397e-01,  1.14439368e-01,\n",
              "         7.64380634e-01,  6.54824853e-01, -3.19542676e-01,  3.50267470e-01,\n",
              "        -5.66038080e-02, -3.24509218e-02, -4.87623960e-01,  1.15922719e-01,\n",
              "         1.11109659e-01,  3.57981235e-01,  4.13789153e-01,  3.11752915e-01,\n",
              "        -4.27302390e-01, -1.67651504e-01, -6.02542698e-01,  3.16586941e-01,\n",
              "        -2.83591419e-01,  8.31152201e-02,  4.16177720e-01,  4.20610249e-01,\n",
              "        -8.41175795e-01,  1.17189534e-01,  2.54072130e-01, -4.66945320e-02,\n",
              "         4.17764783e-01,  1.78567275e-01,  2.52803177e-01, -1.70728356e-01,\n",
              "        -5.50602794e-01,  2.57602215e-01, -2.88339257e-01,  9.02591050e-02,\n",
              "        -5.76945007e-01, -6.85544610e-02,  2.15723649e-01, -1.37762010e-01,\n",
              "         4.97639567e-01,  4.15742159e-01,  3.20041090e-01,  1.09299701e-02,\n",
              "        -8.33636045e-01, -4.42161322e-01, -4.37065447e-03,  5.47848821e-01,\n",
              "         4.43222642e-01,  1.78529735e-04, -1.78914860e-01,  4.65490550e-01],\n",
              "       dtype=float32),\n",
              " array([ 0.09015131,  0.64462346,  0.35151684, -0.04274407, -0.6880939 ,\n",
              "        -0.03032875,  0.11734802,  0.39500797,  0.39393997, -0.67592657,\n",
              "        -0.02394625, -0.4278515 ,  0.80312383,  0.15917017, -0.05283431,\n",
              "         0.5205027 , -0.40711793,  0.10881516,  0.60918576, -0.43471575,\n",
              "         0.5271983 ,  0.38918906,  0.44293454, -0.17448084, -0.43197706,\n",
              "        -0.09876717, -0.7881168 ,  0.04965892, -0.08844075, -0.3645335 ,\n",
              "        -0.10416505, -0.03918231,  0.12586156,  0.28479782, -0.04442426,\n",
              "        -0.27713946, -0.40809458, -0.1308933 , -0.45022148,  0.09457393,\n",
              "         0.6854882 , -1.1909127 ,  0.6297403 ,  0.64857835, -0.34766254,\n",
              "         0.00290073, -0.36670065, -0.38803914,  0.10479783, -0.15484431,\n",
              "         0.08800894, -0.2288983 , -0.4333977 , -0.21562986,  0.47056413,\n",
              "        -0.28447482,  0.27631474,  0.53270465,  0.04358239,  0.36189494,\n",
              "        -0.9962007 ,  0.41735712,  0.637473  ,  0.07485269, -0.8649395 ,\n",
              "         0.12592585, -0.5703909 , -0.01885546, -0.35206944,  0.701235  ,\n",
              "        -0.4159403 ,  0.05373485, -0.09264249, -0.13734083, -0.10599185,\n",
              "        -0.11342908,  0.14298809,  0.10785559, -0.19257104,  0.34895128,\n",
              "        -0.06675883, -0.17028953,  0.199946  , -0.01920096,  0.00557455,\n",
              "        -0.22809985,  0.11149078,  0.32781622,  0.8970958 ,  1.1787717 ,\n",
              "         0.6468498 , -0.1626633 , -0.02291166,  0.16572988, -0.36189052,\n",
              "        -0.07494406,  0.9439556 ,  0.2295486 ,  0.34229475, -0.12506142],\n",
              "       dtype=float32),\n",
              " array([-0.10025437,  0.35025024, -0.20237032,  0.707571  , -0.14426605,\n",
              "        -0.20139594, -0.1916619 ,  0.06744414, -0.35741213, -0.32418564,\n",
              "         0.18067521, -0.48176762,  0.0748854 ,  0.45781928,  0.9237178 ,\n",
              "         0.22091584, -0.13023369,  0.22814758,  0.5560664 , -0.37594646,\n",
              "         0.32288525,  0.3131712 ,  0.04883349, -0.02762054,  0.18380433,\n",
              "         0.1761952 , -0.3291672 ,  0.3002284 ,  0.35471734, -0.10028303,\n",
              "        -0.01723518,  0.5143637 , -0.08002979, -0.71895355,  0.15949558,\n",
              "         0.26377335,  0.413159  ,  0.0357141 , -0.4365794 ,  0.4505845 ,\n",
              "         0.10964281, -0.45004973,  0.01554477, -0.14701653, -0.00580048,\n",
              "        -0.11322107, -0.14853339, -0.1286628 , -0.19212227,  0.13688739,\n",
              "         0.6158867 , -0.14438528, -0.207022  ,  0.04708834,  0.31189105,\n",
              "         0.34349734, -0.03822437, -0.03071331,  0.06007846, -0.17577201,\n",
              "        -0.5728509 ,  0.15008725,  0.36315447,  0.26745722,  0.22603099,\n",
              "         0.17003204, -0.08865119,  0.23140414, -0.5981151 ,  0.5668407 ,\n",
              "        -0.7598355 , -0.04966122, -0.10152666, -0.33997378, -0.12008293,\n",
              "         0.07180163, -0.14468685,  0.10527287, -0.12795527, -0.07298237,\n",
              "        -0.11714904,  0.34531623,  0.42773783, -0.44371372, -0.15933928,\n",
              "        -0.05192627,  0.4833938 , -0.16254234,  0.14832786,  0.22985825,\n",
              "         0.41360253, -0.27195972, -0.4325358 ,  0.10972769,  0.34494054,\n",
              "        -0.5704202 ,  0.24163127,  0.1121473 , -0.0953225 ,  0.43621498],\n",
              "       dtype=float32)]"
            ]
          },
          "metadata": {},
          "execution_count": 25
        }
      ]
    },
    {
      "cell_type": "code",
      "source": [
        "# hago un nuevo vector\n",
        "# si se cumple el test 'ahab' - 'captain' + 'whale' debería ser similar a 'moby'\n",
        "new_word = test_emb[0] - test_emb[1] + test_emb[3]\n",
        "new_word"
      ],
      "metadata": {
        "colab": {
          "base_uri": "https://localhost:8080/"
        },
        "id": "_5HH3Kv9G2xT",
        "outputId": "d44fe051-c184-4f7b-caca-d20a84c0342f"
      },
      "execution_count": 26,
      "outputs": [
        {
          "output_type": "execute_result",
          "data": {
            "text/plain": [
              "array([-0.96863574,  0.5281863 ,  0.10844633,  0.16350359, -0.3588716 ,\n",
              "       -0.57964087,  0.13702467,  0.38659763, -0.50656646, -1.011214  ,\n",
              "        0.4755447 , -0.19366243,  0.48019508,  0.3164949 ,  0.7963866 ,\n",
              "        1.1576525 ,  0.2897508 ,  0.95048535,  0.363652  , -0.09105468,\n",
              "        0.542532  , -0.24570996, -0.08624391,  0.26135212,  0.17808458,\n",
              "       -0.23562351, -0.19999753,  0.6803578 ,  0.53757566,  0.60249156,\n",
              "        0.10204959,  0.12727717,  0.70305973,  0.44479543,  0.6616573 ,\n",
              "       -0.32300445,  0.4838006 , -0.27662316, -0.3267462 ,  0.12974796,\n",
              "       -0.25132152, -0.43022335, -0.13261724, -0.17551142, -0.15027234,\n",
              "        0.11371572, -0.11317147,  0.19223359, -0.9761634 ,  0.30242807,\n",
              "        0.7005687 , -0.30474207, -0.9019325 , -0.39182645,  0.7982837 ,\n",
              "        0.29128787, -0.2258531 , -0.22237773,  0.36741477, -0.29320368,\n",
              "       -0.5423306 , -0.20178752,  0.26838335, -0.22346756,  0.6519642 ,\n",
              "        0.66786295,  0.43320036,  0.3879165 , -0.4054257 ,  0.6385087 ,\n",
              "       -1.598771  , -0.50909144,  0.81640637, -0.936432  ,  0.07541998,\n",
              "        0.4195046 , -0.4551467 , -0.5593011 , -0.75151616, -0.4231747 ,\n",
              "        0.05616404,  0.06589782,  0.53399247, -0.10721642, -0.00517452,\n",
              "        0.17653434,  0.1480057 , -0.06839189, -0.3477337 ,  0.4663321 ,\n",
              "        0.7609365 , -0.42700666, -0.15426001,  0.77147126,  0.6498972 ,\n",
              "       -0.7242894 ,  0.03927809,  0.53801304, -0.07127172,  0.0823316 ],\n",
              "      dtype=float32)"
            ]
          },
          "metadata": {},
          "execution_count": 26
        }
      ]
    },
    {
      "cell_type": "code",
      "source": [
        "# agrego el nuevo término y calculo la similaridad coseno\n",
        "new_words = test_words + ['new_whale']\n",
        "\n",
        "new_emb = np.append(test_emb, new_word.reshape(1, -1), axis=0)\n",
        "\n",
        "dist = pairwise.cosine_similarity(new_emb, new_emb)\n",
        "\n",
        "plot_matrix_distance(new_words, dist)"
      ],
      "metadata": {
        "colab": {
          "base_uri": "https://localhost:8080/",
          "height": 753
        },
        "id": "uZYHXxiVHKcE",
        "outputId": "eb578330-f239-485d-df97-d7f1d02c06d5"
      },
      "execution_count": 27,
      "outputs": [
        {
          "output_type": "display_data",
          "data": {
            "text/plain": [
              "<Figure size 1600x900 with 2 Axes>"
            ],
            "image/png": "[encoded data removed]"
          },
          "metadata": {}
        }
      ]
    },
    {
      "cell_type": "markdown",
      "source": [
        "Para evaluar la calidad de los embeddings entrenados, se plantea un test de analogías que busca validar la siguiente relación: \"Ahab es a captain lo que Moby es a whale\".\n",
        "\n",
        "Al analizar los resultados de la similitud de los vectores, se observa que excluyendo a 'Ahab', por ser el primer término en el cálculo del nuevo vector, los términos con mayor similitud son 'whale' y 'Moby'.\n",
        "\n",
        "Esto sugiere que el modelo ha capturado adecuadamente las relaciones semánticas en el texto."
      ],
      "metadata": {
        "id": "Nz1P9dTKrwf9"
      }
    },
    {
      "cell_type": "code",
      "source": [
        "#Reviso las palabras más similares a la nueva creada para realizar el test de analogía y veo que dentro de las primeras se encuentra 'whale' y 'ahab'\n",
        "w2v_model.wv.most_similar(new_word)"
      ],
      "metadata": {
        "colab": {
          "base_uri": "https://localhost:8080/"
        },
        "id": "4zPnD1ovIjAg",
        "outputId": "b2f5a59c-4f55-4783-c7c7-0026a67aa528"
      },
      "execution_count": 28,
      "outputs": [
        {
          "output_type": "execute_result",
          "data": {
            "text/plain": [
              "[('whale', 0.5876461863517761),\n",
              " ('ahab', 0.5824490785598755),\n",
              " ('beneath', 0.4300469756126404),\n",
              " ('horizontal', 0.42681002616882324),\n",
              " ('sperm', 0.4224664866924286),\n",
              " ('mystic', 0.4104028642177582),\n",
              " ('uncommon', 0.40301015973091125),\n",
              " ('elephant', 0.40240854024887085),\n",
              " ('motion', 0.3978797495365143),\n",
              " ('hump', 0.39650291204452515)]"
            ]
          },
          "metadata": {},
          "execution_count": 28
        }
      ]
    },
    {
      "cell_type": "code",
      "source": [],
      "metadata": {
        "id": "iujak7RdtbkJ"
      },
      "execution_count": null,
      "outputs": []
    },
    {
      "cell_type": "markdown",
      "source": [],
      "metadata": {
        "id": "oRTSaJoltTS0"
      }
    }
  ]
}