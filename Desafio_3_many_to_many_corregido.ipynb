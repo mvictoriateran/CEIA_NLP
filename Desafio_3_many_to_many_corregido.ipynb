{
  "cells": [
    {
      "cell_type": "markdown",
      "metadata": {
        "id": "Iv5PEwGzZA9-"
      },
      "source": [
        "### Desafio 3\n",
        "Modelo many to many usando la novela Persuasion de Austen como corpus.\n"
      ]
    },
    {
      "cell_type": "code",
      "execution_count": null,
      "metadata": {
        "id": "Y-QdFbHZYj7C"
      },
      "outputs": [],
      "source": [
        "import random\n",
        "import io\n",
        "import pickle\n",
        "\n",
        "import numpy as np\n",
        "import pandas as pd\n",
        "import matplotlib.pyplot as plt\n",
        "from sklearn.model_selection import train_test_split\n",
        "\n",
        "from tensorflow import keras\n",
        "from tensorflow.keras import layers\n",
        "from keras.utils import to_categorical\n",
        "from keras.models import Sequential\n",
        "from keras.layers import Dense, LSTM, Embedding, Dropout, Bidirectional\n",
        "from tensorflow.keras.losses import SparseCategoricalCrossentropy"
      ]
    },
    {
      "cell_type": "markdown",
      "metadata": {
        "id": "xTvXlEKQZdqx"
      },
      "source": [
        "### Datos\n"
      ]
    },
    {
      "cell_type": "code",
      "source": [
        "from nltk.corpus import gutenberg\n",
        "import nltk\n",
        "nltk.download('gutenberg')\n",
        "import nltk\n",
        "nltk.download('punkt')\n",
        "import nltk\n",
        "nltk.download('punkt_tab')"
      ],
      "metadata": {
        "id": "USmNYqfFSjKe",
        "colab": {
          "base_uri": "https://localhost:8080/"
        },
        "outputId": "08242d6d-2a7a-47c8-9cf7-182cbe2be5ca"
      },
      "execution_count": null,
      "outputs": [
        {
          "output_type": "stream",
          "name": "stderr",
          "text": [
            "[nltk_data] Downloading package gutenberg to /root/nltk_data...\n",
            "[nltk_data]   Package gutenberg is already up-to-date!\n",
            "[nltk_data] Downloading package punkt to /root/nltk_data...\n",
            "[nltk_data]   Package punkt is already up-to-date!\n",
            "[nltk_data] Downloading package punkt_tab to /root/nltk_data...\n",
            "[nltk_data]   Package punkt_tab is already up-to-date!\n"
          ]
        },
        {
          "output_type": "execute_result",
          "data": {
            "text/plain": [
              "True"
            ]
          },
          "metadata": {},
          "execution_count": 2
        }
      ]
    },
    {
      "cell_type": "code",
      "source": [
        "nombres_libros = gutenberg.fileids()\n",
        "print(\"Libros disponibles en el corpus de Gutenberg:\")\n",
        "for libro in nombres_libros:\n",
        "    print(libro)"
      ],
      "metadata": {
        "colab": {
          "base_uri": "https://localhost:8080/"
        },
        "id": "u5rR8ZklC5Kw",
        "outputId": "457cc5bd-2d2a-4875-8601-095243589ed1"
      },
      "execution_count": null,
      "outputs": [
        {
          "output_type": "stream",
          "name": "stdout",
          "text": [
            "Libros disponibles en el corpus de Gutenberg:\n",
            "austen-emma.txt\n",
            "austen-persuasion.txt\n",
            "austen-sense.txt\n",
            "bible-kjv.txt\n",
            "blake-poems.txt\n",
            "bryant-stories.txt\n",
            "burgess-busterbrown.txt\n",
            "carroll-alice.txt\n",
            "chesterton-ball.txt\n",
            "chesterton-brown.txt\n",
            "chesterton-thursday.txt\n",
            "edgeworth-parents.txt\n",
            "melville-moby_dick.txt\n",
            "milton-paradise.txt\n",
            "shakespeare-caesar.txt\n",
            "shakespeare-hamlet.txt\n",
            "shakespeare-macbeth.txt\n",
            "whitman-leaves.txt\n"
          ]
        }
      ]
    },
    {
      "cell_type": "code",
      "execution_count": null,
      "metadata": {
        "id": "IkdPfrQJZdB5"
      },
      "outputs": [],
      "source": [
        "book = gutenberg.sents('austen-persuasion.txt')"
      ]
    },
    {
      "cell_type": "code",
      "execution_count": null,
      "metadata": {
        "id": "6j-3nQ4lZjfb",
        "colab": {
          "base_uri": "https://localhost:8080/"
        },
        "outputId": "88fbe684-1048-454b-992d-17182398c233"
      },
      "outputs": [
        {
          "output_type": "execute_result",
          "data": {
            "text/plain": [
              "3747"
            ]
          },
          "metadata": {},
          "execution_count": 5
        }
      ],
      "source": [
        "len(book)"
      ]
    },
    {
      "cell_type": "code",
      "execution_count": null,
      "metadata": {
        "id": "Gb39v3PaZmRH",
        "colab": {
          "base_uri": "https://localhost:8080/",
          "height": 206
        },
        "outputId": "390e0b21-eb10-4df0-d403-06314e87c698"
      },
      "outputs": [
        {
          "output_type": "execute_result",
          "data": {
            "text/plain": [
              "                                               Lines\n",
              "0                 [ Persuasion by Jane Austen 1818 ]\n",
              "1                                          Chapter 1\n",
              "2  Sir Walter Elliot , of Kellynch Hall , in Some...\n",
              "3  This was the page at which the favourite volum...\n",
              "4                        \" ELLIOT OF KELLYNCH HALL ."
            ],
            "text/html": [
              "\n",
              "  <div id=\"df-11b840b2-18b6-439e-bb0d-7c7dd4ab8180\" class=\"colab-df-container\">\n",
              "    <div>\n",
              "<style scoped>\n",
              "    .dataframe tbody tr th:only-of-type {\n",
              "        vertical-align: middle;\n",
              "    }\n",
              "\n",
              "    .dataframe tbody tr th {\n",
              "        vertical-align: top;\n",
              "    }\n",
              "\n",
              "    .dataframe thead th {\n",
              "        text-align: right;\n",
              "    }\n",
              "</style>\n",
              "<table border=\"1\" class=\"dataframe\">\n",
              "  <thead>\n",
              "    <tr style=\"text-align: right;\">\n",
              "      <th></th>\n",
              "      <th>Lines</th>\n",
              "    </tr>\n",
              "  </thead>\n",
              "  <tbody>\n",
              "    <tr>\n",
              "      <th>0</th>\n",
              "      <td>[ Persuasion by Jane Austen 1818 ]</td>\n",
              "    </tr>\n",
              "    <tr>\n",
              "      <th>1</th>\n",
              "      <td>Chapter 1</td>\n",
              "    </tr>\n",
              "    <tr>\n",
              "      <th>2</th>\n",
              "      <td>Sir Walter Elliot , of Kellynch Hall , in Some...</td>\n",
              "    </tr>\n",
              "    <tr>\n",
              "      <th>3</th>\n",
              "      <td>This was the page at which the favourite volum...</td>\n",
              "    </tr>\n",
              "    <tr>\n",
              "      <th>4</th>\n",
              "      <td>\" ELLIOT OF KELLYNCH HALL .</td>\n",
              "    </tr>\n",
              "  </tbody>\n",
              "</table>\n",
              "</div>\n",
              "    <div class=\"colab-df-buttons\">\n",
              "\n",
              "  <div class=\"colab-df-container\">\n",
              "    <button class=\"colab-df-convert\" onclick=\"convertToInteractive('df-11b840b2-18b6-439e-bb0d-7c7dd4ab8180')\"\n",
              "            title=\"Convert this dataframe to an interactive table.\"\n",
              "            style=\"display:none;\">\n",
              "\n",
              "  <svg xmlns=\"http://www.w3.org/2000/svg\" height=\"24px\" viewBox=\"0 -960 960 960\">\n",
              "    <path d=\"M120-120v-720h720v720H120Zm60-500h600v-160H180v160Zm220 220h160v-160H400v160Zm0 220h160v-160H400v160ZM180-400h160v-160H180v160Zm440 0h160v-160H620v160ZM180-180h160v-160H180v160Zm440 0h160v-160H620v160Z\"/>\n",
              "  </svg>\n",
              "    </button>\n",
              "\n",
              "  <style>\n",
              "    .colab-df-container {\n",
              "      display:flex;\n",
              "      gap: 12px;\n",
              "    }\n",
              "\n",
              "    .colab-df-convert {\n",
              "      background-color: #E8F0FE;\n",
              "      border: none;\n",
              "      border-radius: 50%;\n",
              "      cursor: pointer;\n",
              "      display: none;\n",
              "      fill: #1967D2;\n",
              "      height: 32px;\n",
              "      padding: 0 0 0 0;\n",
              "      width: 32px;\n",
              "    }\n",
              "\n",
              "    .colab-df-convert:hover {\n",
              "      background-color: #E2EBFA;\n",
              "      box-shadow: 0px 1px 2px rgba(60, 64, 67, 0.3), 0px 1px 3px 1px rgba(60, 64, 67, 0.15);\n",
              "      fill: #174EA6;\n",
              "    }\n",
              "\n",
              "    .colab-df-buttons div {\n",
              "      margin-bottom: 4px;\n",
              "    }\n",
              "\n",
              "    [theme=dark] .colab-df-convert {\n",
              "      background-color: #3B4455;\n",
              "      fill: #D2E3FC;\n",
              "    }\n",
              "\n",
              "    [theme=dark] .colab-df-convert:hover {\n",
              "      background-color: #434B5C;\n",
              "      box-shadow: 0px 1px 3px 1px rgba(0, 0, 0, 0.15);\n",
              "      filter: drop-shadow(0px 1px 2px rgba(0, 0, 0, 0.3));\n",
              "      fill: #FFFFFF;\n",
              "    }\n",
              "  </style>\n",
              "\n",
              "    <script>\n",
              "      const buttonEl =\n",
              "        document.querySelector('#df-11b840b2-18b6-439e-bb0d-7c7dd4ab8180 button.colab-df-convert');\n",
              "      buttonEl.style.display =\n",
              "        google.colab.kernel.accessAllowed ? 'block' : 'none';\n",
              "\n",
              "      async function convertToInteractive(key) {\n",
              "        const element = document.querySelector('#df-11b840b2-18b6-439e-bb0d-7c7dd4ab8180');\n",
              "        const dataTable =\n",
              "          await google.colab.kernel.invokeFunction('convertToInteractive',\n",
              "                                                    [key], {});\n",
              "        if (!dataTable) return;\n",
              "\n",
              "        const docLinkHtml = 'Like what you see? Visit the ' +\n",
              "          '<a target=\"_blank\" href=https://colab.research.google.com/notebooks/data_table.ipynb>data table notebook</a>'\n",
              "          + ' to learn more about interactive tables.';\n",
              "        element.innerHTML = '';\n",
              "        dataTable['output_type'] = 'display_data';\n",
              "        await google.colab.output.renderOutput(dataTable, element);\n",
              "        const docLink = document.createElement('div');\n",
              "        docLink.innerHTML = docLinkHtml;\n",
              "        element.appendChild(docLink);\n",
              "      }\n",
              "    </script>\n",
              "  </div>\n",
              "\n",
              "\n",
              "<div id=\"df-db335a85-d174-425a-9b31-6a4542d8d2e2\">\n",
              "  <button class=\"colab-df-quickchart\" onclick=\"quickchart('df-db335a85-d174-425a-9b31-6a4542d8d2e2')\"\n",
              "            title=\"Suggest charts\"\n",
              "            style=\"display:none;\">\n",
              "\n",
              "<svg xmlns=\"http://www.w3.org/2000/svg\" height=\"24px\"viewBox=\"0 0 24 24\"\n",
              "     width=\"24px\">\n",
              "    <g>\n",
              "        <path d=\"M19 3H5c-1.1 0-2 .9-2 2v14c0 1.1.9 2 2 2h14c1.1 0 2-.9 2-2V5c0-1.1-.9-2-2-2zM9 17H7v-7h2v7zm4 0h-2V7h2v10zm4 0h-2v-4h2v4z\"/>\n",
              "    </g>\n",
              "</svg>\n",
              "  </button>\n",
              "\n",
              "<style>\n",
              "  .colab-df-quickchart {\n",
              "      --bg-color: #E8F0FE;\n",
              "      --fill-color: #1967D2;\n",
              "      --hover-bg-color: #E2EBFA;\n",
              "      --hover-fill-color: #174EA6;\n",
              "      --disabled-fill-color: #AAA;\n",
              "      --disabled-bg-color: #DDD;\n",
              "  }\n",
              "\n",
              "  [theme=dark] .colab-df-quickchart {\n",
              "      --bg-color: #3B4455;\n",
              "      --fill-color: #D2E3FC;\n",
              "      --hover-bg-color: #434B5C;\n",
              "      --hover-fill-color: #FFFFFF;\n",
              "      --disabled-bg-color: #3B4455;\n",
              "      --disabled-fill-color: #666;\n",
              "  }\n",
              "\n",
              "  .colab-df-quickchart {\n",
              "    background-color: var(--bg-color);\n",
              "    border: none;\n",
              "    border-radius: 50%;\n",
              "    cursor: pointer;\n",
              "    display: none;\n",
              "    fill: var(--fill-color);\n",
              "    height: 32px;\n",
              "    padding: 0;\n",
              "    width: 32px;\n",
              "  }\n",
              "\n",
              "  .colab-df-quickchart:hover {\n",
              "    background-color: var(--hover-bg-color);\n",
              "    box-shadow: 0 1px 2px rgba(60, 64, 67, 0.3), 0 1px 3px 1px rgba(60, 64, 67, 0.15);\n",
              "    fill: var(--button-hover-fill-color);\n",
              "  }\n",
              "\n",
              "  .colab-df-quickchart-complete:disabled,\n",
              "  .colab-df-quickchart-complete:disabled:hover {\n",
              "    background-color: var(--disabled-bg-color);\n",
              "    fill: var(--disabled-fill-color);\n",
              "    box-shadow: none;\n",
              "  }\n",
              "\n",
              "  .colab-df-spinner {\n",
              "    border: 2px solid var(--fill-color);\n",
              "    border-color: transparent;\n",
              "    border-bottom-color: var(--fill-color);\n",
              "    animation:\n",
              "      spin 1s steps(1) infinite;\n",
              "  }\n",
              "\n",
              "  @keyframes spin {\n",
              "    0% {\n",
              "      border-color: transparent;\n",
              "      border-bottom-color: var(--fill-color);\n",
              "      border-left-color: var(--fill-color);\n",
              "    }\n",
              "    20% {\n",
              "      border-color: transparent;\n",
              "      border-left-color: var(--fill-color);\n",
              "      border-top-color: var(--fill-color);\n",
              "    }\n",
              "    30% {\n",
              "      border-color: transparent;\n",
              "      border-left-color: var(--fill-color);\n",
              "      border-top-color: var(--fill-color);\n",
              "      border-right-color: var(--fill-color);\n",
              "    }\n",
              "    40% {\n",
              "      border-color: transparent;\n",
              "      border-right-color: var(--fill-color);\n",
              "      border-top-color: var(--fill-color);\n",
              "    }\n",
              "    60% {\n",
              "      border-color: transparent;\n",
              "      border-right-color: var(--fill-color);\n",
              "    }\n",
              "    80% {\n",
              "      border-color: transparent;\n",
              "      border-right-color: var(--fill-color);\n",
              "      border-bottom-color: var(--fill-color);\n",
              "    }\n",
              "    90% {\n",
              "      border-color: transparent;\n",
              "      border-bottom-color: var(--fill-color);\n",
              "    }\n",
              "  }\n",
              "</style>\n",
              "\n",
              "  <script>\n",
              "    async function quickchart(key) {\n",
              "      const quickchartButtonEl =\n",
              "        document.querySelector('#' + key + ' button');\n",
              "      quickchartButtonEl.disabled = true;  // To prevent multiple clicks.\n",
              "      quickchartButtonEl.classList.add('colab-df-spinner');\n",
              "      try {\n",
              "        const charts = await google.colab.kernel.invokeFunction(\n",
              "            'suggestCharts', [key], {});\n",
              "      } catch (error) {\n",
              "        console.error('Error during call to suggestCharts:', error);\n",
              "      }\n",
              "      quickchartButtonEl.classList.remove('colab-df-spinner');\n",
              "      quickchartButtonEl.classList.add('colab-df-quickchart-complete');\n",
              "    }\n",
              "    (() => {\n",
              "      let quickchartButtonEl =\n",
              "        document.querySelector('#df-db335a85-d174-425a-9b31-6a4542d8d2e2 button');\n",
              "      quickchartButtonEl.style.display =\n",
              "        google.colab.kernel.accessAllowed ? 'block' : 'none';\n",
              "    })();\n",
              "  </script>\n",
              "</div>\n",
              "\n",
              "    </div>\n",
              "  </div>\n"
            ],
            "application/vnd.google.colaboratory.intrinsic+json": {
              "type": "dataframe",
              "variable_name": "df",
              "summary": "{\n  \"name\": \"df\",\n  \"rows\": 3747,\n  \"fields\": [\n    {\n      \"column\": \"Lines\",\n      \"properties\": {\n        \"dtype\": \"string\",\n        \"num_unique_values\": 3692,\n        \"samples\": [\n          \"Little Charles does not mind a word I say , and Walter is growing quite as bad .\\\"\",\n          \"He would gladly weaken , by any fair means , whatever feelings or speculations concerning him might exist ; and he went , therefore , to his brother ' s , meaning after a while to return to Kellynch , and act as circumstances might require .\",\n          \"), they happened to say , that her brother , Captain Wentworth , is just returned to England , or paid off , or something , and is coming to see them almost directly ; and most unluckily it came into mamma ' s head , when they were gone , that Wentworth , or something very like it , was the name of poor Richard ' s captain at one time ; I do not know when or where , but a great while before he died , poor fellow !\"\n        ],\n        \"semantic_type\": \"\",\n        \"description\": \"\"\n      }\n    }\n  ]\n}"
            }
          },
          "metadata": {},
          "execution_count": 6
        }
      ],
      "source": [
        "# Convierto cada sublista (oración) en una cadena de texto\n",
        "sents_text = [' '.join(sentence) for sentence in book]\n",
        "\n",
        "df = pd.DataFrame(sents_text, columns=['Lines'])\n",
        "df.head()"
      ]
    },
    {
      "cell_type": "code",
      "execution_count": null,
      "metadata": {
        "id": "riT898QlZnmF",
        "colab": {
          "base_uri": "https://localhost:8080/"
        },
        "outputId": "d37ba9be-8503-411c-ff2d-ade908f6a7bc"
      },
      "outputs": [
        {
          "output_type": "stream",
          "name": "stdout",
          "text": [
            "Cantidad de documentos: 3747\n"
          ]
        }
      ],
      "source": [
        "print(\"Cantidad de documentos:\", df.shape[0])"
      ]
    },
    {
      "cell_type": "markdown",
      "metadata": {
        "id": "cP1JdiOIKQWi"
      },
      "source": [
        "### Elegir el tamaño del contexto"
      ]
    },
    {
      "cell_type": "code",
      "execution_count": null,
      "metadata": {
        "id": "m5FeTaGvbDbw"
      },
      "outputs": [],
      "source": [
        "# Usaremos las utilidades de procesamiento de textos y secuencias de Keras\n",
        "from tensorflow.keras.preprocessing.text import Tokenizer # equivalente a ltokenizer de nltk\n",
        "from tensorflow.keras.preprocessing.text import text_to_word_sequence # equivalente a word_tokenize de nltk\n",
        "from tensorflow.keras.utils import pad_sequences # se utilizará para padding\n"
      ]
    },
    {
      "cell_type": "code",
      "execution_count": null,
      "metadata": {
        "id": "jveeyMVKHn9J",
        "collapsed": true
      },
      "outputs": [],
      "source": [
        "# cada verso lo guardamos en una lista\n",
        "text = list(df.iloc[:,0])"
      ]
    },
    {
      "cell_type": "code",
      "execution_count": null,
      "metadata": {
        "id": "CMu9CX34J8RQ"
      },
      "outputs": [],
      "source": [
        "# segmentamos el texto con la utilidad de Keras\n",
        "segmented_sentences = [text_to_word_sequence(sentence) for sentence in text]"
      ]
    },
    {
      "cell_type": "code",
      "execution_count": null,
      "metadata": {
        "id": "neCJEVNvkkjE",
        "colab": {
          "base_uri": "https://localhost:8080/",
          "height": 35
        },
        "outputId": "8c95e61d-9984-44b7-d945-b344f800c747"
      },
      "outputs": [
        {
          "output_type": "execute_result",
          "data": {
            "text/plain": [
              "'[ Persuasion by Jane Austen 1818 ]'"
            ],
            "application/vnd.google.colaboratory.intrinsic+json": {
              "type": "string"
            }
          },
          "metadata": {},
          "execution_count": 11
        }
      ],
      "source": [
        "text[0]"
      ]
    },
    {
      "cell_type": "code",
      "execution_count": null,
      "metadata": {
        "id": "duxuc-DVkcpP",
        "colab": {
          "base_uri": "https://localhost:8080/"
        },
        "outputId": "6e50a3a1-8123-49da-998b-ebcbda7aeeed"
      },
      "outputs": [
        {
          "output_type": "execute_result",
          "data": {
            "text/plain": [
              "['persuasion', 'by', 'jane', 'austen', '1818']"
            ]
          },
          "metadata": {},
          "execution_count": 12
        }
      ],
      "source": [
        "segmented_sentences[0]"
      ]
    },
    {
      "cell_type": "code",
      "execution_count": null,
      "metadata": {
        "id": "x35rV7QZH49n"
      },
      "outputs": [],
      "source": [
        "# calculamos la longitud de cada secuencia\n",
        "length_sentences = [len(sentence) for sentence in segmented_sentences]"
      ]
    },
    {
      "cell_type": "code",
      "execution_count": null,
      "metadata": {
        "id": "R8P8vDXRII4c",
        "colab": {
          "base_uri": "https://localhost:8080/",
          "height": 569
        },
        "outputId": "30fa0993-3867-4e9b-a8de-c7c165f2a5a2"
      },
      "outputs": [
        {
          "output_type": "execute_result",
          "data": {
            "text/plain": [
              "(array([1.264e+03, 9.790e+02, 5.470e+02, 3.610e+02, 2.110e+02, 1.470e+02,\n",
              "        8.700e+01, 5.700e+01, 3.300e+01, 2.100e+01, 1.600e+01, 5.000e+00,\n",
              "        6.000e+00, 3.000e+00, 3.000e+00, 3.000e+00, 2.000e+00, 0.000e+00,\n",
              "        1.000e+00, 1.000e+00]),\n",
              " array([  1.  ,  10.65,  20.3 ,  29.95,  39.6 ,  49.25,  58.9 ,  68.55,\n",
              "         78.2 ,  87.85,  97.5 , 107.15, 116.8 , 126.45, 136.1 , 145.75,\n",
              "        155.4 , 165.05, 174.7 , 184.35, 194.  ]),\n",
              " <BarContainer object of 20 artists>)"
            ]
          },
          "metadata": {},
          "execution_count": 14
        },
        {
          "output_type": "display_data",
          "data": {
            "text/plain": [
              "<Figure size 640x480 with 1 Axes>"
            ],
            "image/png": "[encoded data removed]"
          },
          "metadata": {}
        }
      ],
      "source": [
        "# podemos ver su distribución\n",
        "plt.hist(length_sentences,bins=20)"
      ]
    },
    {
      "cell_type": "code",
      "source": [
        "plt.hist(length_sentences, bins=100)\n",
        "plt.xlabel('Longitud de secuencia')\n",
        "plt.ylabel('Frecuencia')\n",
        "plt.xlim(0, 100)\n",
        "plt.xticks(range(0, 101, 10))\n",
        "\n",
        "plt.show()"
      ],
      "metadata": {
        "colab": {
          "base_uri": "https://localhost:8080/",
          "height": 449
        },
        "id": "5j7Ju8MmUgdS",
        "outputId": "26ac64a9-6d4d-4500-fd04-9f53435d8fe7"
      },
      "execution_count": null,
      "outputs": [
        {
          "output_type": "display_data",
          "data": {
            "text/plain": [
              "<Figure size 640x480 with 1 Axes>"
            ],
            "image/png": "[encoded data removed]"
          },
          "metadata": {}
        }
      ]
    },
    {
      "cell_type": "code",
      "execution_count": null,
      "metadata": {
        "id": "wumBNwdjJM3j",
        "colab": {
          "base_uri": "https://localhost:8080/"
        },
        "outputId": "e25b3824-53db-4acf-a617-76977a54bb4e"
      },
      "outputs": [
        {
          "output_type": "stream",
          "name": "stdout",
          "text": [
            "max_context_size: 49\n"
          ]
        }
      ],
      "source": [
        "# a partir de la distribución de longitudes de secuencias elegimos algún criterio\n",
        "# para determinar el máximo tamaño de contexto. En este caso es un percentil, pero\n",
        "# otros criterios también pueden ser válidos con la justificación adecuada.\n",
        "# También puede ser una selección \"a mano\"\n",
        "\n",
        "# el -1 es porque el último token será el target\n",
        "max_context_size = int(np.percentile(length_sentences, 90)-1)\n",
        "\n",
        "# max_context_size = int(np.ceil(np.mean(length_sentences))) # criterio de media\n",
        "# max_context_size = int(np.ceil(np.median(length_sentences))) # criterio de mediana\n",
        "print(f'max_context_size: {max_context_size}')"
      ]
    },
    {
      "cell_type": "code",
      "source": [
        "# max_context_size = p 0.75\n",
        "max_context_size = int(np.percentile(length_sentences, 75)-1)\n",
        "print(f'max_context_size: {max_context_size}')"
      ],
      "metadata": {
        "id": "X6DqsbnpSuUU",
        "colab": {
          "base_uri": "https://localhost:8080/"
        },
        "outputId": "d465f35e-ac96-4c27-b0a0-5d42e50a03d8"
      },
      "execution_count": null,
      "outputs": [
        {
          "output_type": "stream",
          "name": "stdout",
          "text": [
            "max_context_size: 29\n"
          ]
        }
      ]
    },
    {
      "cell_type": "code",
      "source": [
        "# Elimino registros que quedaron vacios\n",
        "print(len(segmented_sentences))\n",
        "segmented_sentences = [sentence for sentence in segmented_sentences if len(sentence) > 0]\n",
        "\n",
        "print(len(segmented_sentences))"
      ],
      "metadata": {
        "id": "YOL25OQHSwwB",
        "colab": {
          "base_uri": "https://localhost:8080/"
        },
        "outputId": "da091bcf-f4f0-4134-970f-6d5ad7dcc78f"
      },
      "execution_count": null,
      "outputs": [
        {
          "output_type": "stream",
          "name": "stdout",
          "text": [
            "3747\n",
            "3747\n"
          ]
        }
      ]
    },
    {
      "cell_type": "markdown",
      "metadata": {
        "id": "2oIUjVU0LB0r"
      },
      "source": [
        "###  Tokenizar"
      ]
    },
    {
      "cell_type": "code",
      "execution_count": null,
      "metadata": {
        "id": "_XKQIpRiLNbg"
      },
      "outputs": [],
      "source": [
        "# instanciamos el tokenizador\n",
        "tok = Tokenizer()\n",
        "\n",
        "# El tokenizer \"aprende\" las palabras que se usaran\n",
        "# Se construye (fit) una vez por proyecto, se aplica N veces (tal cual un encoder)\n",
        "# El token 0 es reservado y no es asignado. Se utiliza para designar a palabras\n",
        "# fuera del vocabulario aprendido\n",
        "tok.fit_on_texts(segmented_sentences)\n",
        "\n",
        "# Convertimos las palabras a números\n",
        "# entran palabras -> salen números\n",
        "tokenized_sentences = tok.texts_to_sequences(segmented_sentences)"
      ]
    },
    {
      "cell_type": "code",
      "execution_count": null,
      "metadata": {
        "id": "AK2wfHyslrTz",
        "colab": {
          "base_uri": "https://localhost:8080/"
        },
        "outputId": "8f4e12c8-efc9-4bfb-8e03-029a983b179e"
      },
      "outputs": [
        {
          "output_type": "execute_result",
          "data": {
            "text/plain": [
              "[1091, 35, 3253, 3254, 3255]"
            ]
          },
          "metadata": {},
          "execution_count": 20
        }
      ],
      "source": [
        "tokenized_sentences[0]"
      ]
    },
    {
      "cell_type": "code",
      "execution_count": null,
      "metadata": {
        "id": "s-93u9lxlwlP",
        "colab": {
          "base_uri": "https://localhost:8080/"
        },
        "outputId": "51d5e274-85f5-47c7-87ca-0b5a40616c82"
      },
      "outputs": [
        {
          "output_type": "execute_result",
          "data": {
            "text/plain": [
              "['persuasion', 'by', 'jane', 'austen', '1818']"
            ]
          },
          "metadata": {},
          "execution_count": 21
        }
      ],
      "source": [
        "segmented_sentences[0]"
      ]
    },
    {
      "cell_type": "markdown",
      "metadata": {
        "id": "pfpYcaypKcI9"
      },
      "source": [
        "### Organizando y estructurando el dataset"
      ]
    },
    {
      "cell_type": "code",
      "execution_count": null,
      "metadata": {
        "id": "cSeqVGyV_wz5"
      },
      "outputs": [],
      "source": [
        "tokenized_sentences_train, tokenized_sentences_val, _, _ = train_test_split(tokenized_sentences, tokenized_sentences, test_size=0.15, random_state=42)"
      ]
    },
    {
      "cell_type": "code",
      "source": [
        "len(tokenized_sentences_train)"
      ],
      "metadata": {
        "colab": {
          "base_uri": "https://localhost:8080/"
        },
        "id": "t1o7iB9Uc6LX",
        "outputId": "68436dde-70cb-40ab-f7e9-747f5992fd09"
      },
      "execution_count": null,
      "outputs": [
        {
          "output_type": "execute_result",
          "data": {
            "text/plain": [
              "3184"
            ]
          },
          "metadata": {},
          "execution_count": 23
        }
      ]
    },
    {
      "cell_type": "code",
      "source": [
        "len(tokenized_sentences_val)"
      ],
      "metadata": {
        "colab": {
          "base_uri": "https://localhost:8080/"
        },
        "id": "eCry2NiccuSf",
        "outputId": "8d761153-95b1-4c0a-baba-83f5fd744aae"
      },
      "execution_count": null,
      "outputs": [
        {
          "output_type": "execute_result",
          "data": {
            "text/plain": [
              "563"
            ]
          },
          "metadata": {},
          "execution_count": 24
        }
      ]
    },
    {
      "cell_type": "markdown",
      "source": [
        "Split de las oraciones que tienen tamaño mayor al contexto máximo, para generar más secuencias de entrenamiento."
      ],
      "metadata": {
        "id": "JTDS00w9bJew"
      }
    },
    {
      "cell_type": "code",
      "source": [
        "from keras.preprocessing.sequence import pad_sequences\n",
        "\n",
        "tok_sent = []\n",
        "\n",
        "for sent in tokenized_sentences_train:\n",
        "    # si la secuencia tiene más términos que el tamaño de contexto máximo,\n",
        "    # armo varias sub-secuencias de tamaño máximo\n",
        "    if len(sent) > (max_context_size + 1):\n",
        "        extra = len(sent) - (max_context_size + 1) + 1\n",
        "        for i in range(extra):\n",
        "            tok_sent.append(sent[i:i + max_context_size + 1])\n",
        "    else:  # si la secuencia tiene menos términos el tamaño de contexto máximo, aplico padding pre\n",
        "        # Rellenamos la secuencia al tamaño de contexto máximo con padding 'pre'\n",
        "        padded_sent = pad_sequences([sent], maxlen=max_context_size + 1, padding='pre', truncating='pre')\n",
        "        tok_sent.append(padded_sent[0])\n",
        "\n",
        "len(tok_sent)"
      ],
      "metadata": {
        "id": "8AMzQC3ktEpJ",
        "colab": {
          "base_uri": "https://localhost:8080/"
        },
        "outputId": "d1f9a030-a696-4945-ba56-888d42dcd451"
      },
      "execution_count": null,
      "outputs": [
        {
          "output_type": "execute_result",
          "data": {
            "text/plain": [
              "20074"
            ]
          },
          "metadata": {},
          "execution_count": 25
        }
      ]
    },
    {
      "cell_type": "code",
      "source": [
        "tok_sent_augm = []\n",
        "\n",
        "\n",
        "for sent in tok_sent:\n",
        "    # Si 'sent' es ya de longitud 31, simplemente la agregamos\n",
        "    if len(sent) == max_context_size+1:\n",
        "        tok_sent_augm.append(sent)\n",
        "\n",
        "# Convertimos la lista de oraciones a un arreglo de numpy\n",
        "train_seqs = np.array(tok_sent_augm)\n",
        "\n",
        "\n",
        "print(train_seqs.shape)"
      ],
      "metadata": {
        "colab": {
          "base_uri": "https://localhost:8080/"
        },
        "id": "E_2e2iUEbobS",
        "outputId": "f3a268af-9e60-4d57-f759-117439678781"
      },
      "execution_count": null,
      "outputs": [
        {
          "output_type": "stream",
          "name": "stdout",
          "text": [
            "(20074, 30)\n"
          ]
        }
      ]
    },
    {
      "cell_type": "code",
      "execution_count": null,
      "metadata": {
        "id": "yprwJHiMBQIS"
      },
      "outputs": [],
      "source": [
        "# y de aquí sacamos las entradas y los targets que consumirá nuestro sistema en\n",
        "# tiempo de entrenamiento\n",
        "X = train_seqs[:,:-1]\n",
        "y = train_seqs[:,1:]"
      ]
    },
    {
      "cell_type": "markdown",
      "metadata": {
        "id": "YxuKNI05Ttct"
      },
      "source": [
        "Nótese que estamos estructurando el problema de aprendizaje como *many-to-many*:\n",
        "\n",
        "Entrada: secuencia de tokens [$x_0$, $x_1$, ..., $x_N$]\n",
        "\n",
        "Target: secuencia de tokens [$x_1$, $x_2$, ..., $x_{N+1}$]\n",
        "\n",
        "De manera que la red tiene que aprender que su salida deben ser los tokens desplazados en una posición y un nuevo token predicho (el N+1).\n",
        "\n",
        "La ventaja de estructurar el aprendizaje de esta manera es que para cada token de target se propaga una señal de gradiente por el grafo de cómputo recurrente, que es mejor que estructurar el problema como *many-to-one* en donde sólo una señal de gradiente se propaga."
      ]
    },
    {
      "cell_type": "code",
      "execution_count": null,
      "metadata": {
        "id": "KFAyA4zCWE-5",
        "colab": {
          "base_uri": "https://localhost:8080/"
        },
        "outputId": "25351872-0c5c-42c1-b9c6-4f19c94645a2"
      },
      "outputs": [
        {
          "output_type": "execute_result",
          "data": {
            "text/plain": [
              "(20074, 29)"
            ]
          },
          "metadata": {},
          "execution_count": 28
        }
      ],
      "source": [
        "y.shape"
      ]
    },
    {
      "cell_type": "code",
      "execution_count": null,
      "metadata": {
        "id": "1D9ESMGyB_QD",
        "colab": {
          "base_uri": "https://localhost:8080/"
        },
        "outputId": "1186f9c1-fe8b-47ab-aa1d-565fdbcf4721"
      },
      "outputs": [
        {
          "output_type": "execute_result",
          "data": {
            "text/plain": [
              "{1: 'the',\n",
              " 2: 'to',\n",
              " 3: 'and',\n",
              " 4: 'of',\n",
              " 5: 'a',\n",
              " 6: 'in',\n",
              " 7: 'was',\n",
              " 8: 'her',\n",
              " 9: 'had',\n",
              " 10: 'she',\n",
              " 11: 'i',\n",
              " 12: 'it',\n",
              " 13: 'he',\n",
              " 14: 'be',\n",
              " 15: 'not',\n",
              " 16: 'that',\n",
              " 17: 'as',\n",
              " 18: 'for',\n",
              " 19: 'but',\n",
              " 20: 'his',\n",
              " 21: 'with',\n",
              " 22: 'you',\n",
              " 23: 'have',\n",
              " 24: \"'\",\n",
              " 25: 'at',\n",
              " 26: 'all',\n",
              " 27: 'anne',\n",
              " 28: 'been',\n",
              " 29: 's',\n",
              " 30: 'him',\n",
              " 31: 'could',\n",
              " 32: 'very',\n",
              " 33: 'they',\n",
              " 34: 'were',\n",
              " 35: 'by',\n",
              " 36: 'which',\n",
              " 37: 'is',\n",
              " 38: 'on',\n",
              " 39: 'so',\n",
              " 40: 'no',\n",
              " 41: 'would',\n",
              " 42: 'captain',\n",
              " 43: 'from',\n",
              " 44: 'their',\n",
              " 45: 'mrs',\n",
              " 46: 'elliot',\n",
              " 47: 'there',\n",
              " 48: 'or',\n",
              " 49: 'more',\n",
              " 50: 'them',\n",
              " 51: 'mr',\n",
              " 52: 'this',\n",
              " 53: 'an',\n",
              " 54: 'than',\n",
              " 55: 'one',\n",
              " 56: 'must',\n",
              " 57: 'when',\n",
              " 58: 'my',\n",
              " 59: 'being',\n",
              " 60: 'only',\n",
              " 61: 'wentworth',\n",
              " 62: 'lady',\n",
              " 63: 'such',\n",
              " 64: 'do',\n",
              " 65: 'much',\n",
              " 66: 'if',\n",
              " 67: 'any',\n",
              " 68: 'what',\n",
              " 69: 'who',\n",
              " 70: 'should',\n",
              " 71: 'me',\n",
              " 72: 'good',\n",
              " 73: 'little',\n",
              " 74: 'said',\n",
              " 75: 'will',\n",
              " 76: 'charles',\n",
              " 77: 'might',\n",
              " 78: 'own',\n",
              " 79: 'well',\n",
              " 80: 'did',\n",
              " 81: 'herself',\n",
              " 82: 'now',\n",
              " 83: 'never',\n",
              " 84: 'we',\n",
              " 85: 'time',\n",
              " 86: 'sir',\n",
              " 87: 'think',\n",
              " 88: 'russell',\n",
              " 89: 'are',\n",
              " 90: 'other',\n",
              " 91: 'walter',\n",
              " 92: 'nothing',\n",
              " 93: 'mary',\n",
              " 94: 'am',\n",
              " 95: 'some',\n",
              " 96: 'man',\n",
              " 97: 'again',\n",
              " 98: 'musgrove',\n",
              " 99: 'great',\n",
              " 100: 'too',\n",
              " 101: 'know',\n",
              " 102: 'how',\n",
              " 103: 'miss',\n",
              " 104: 'your',\n",
              " 105: 'most',\n",
              " 106: 'see',\n",
              " 107: 'soon',\n",
              " 108: 'though',\n",
              " 109: 'father',\n",
              " 110: 'before',\n",
              " 111: 'two',\n",
              " 112: 'first',\n",
              " 113: 'quite',\n",
              " 114: 'louisa',\n",
              " 115: 'always',\n",
              " 116: 'without',\n",
              " 117: 'can',\n",
              " 118: 'every',\n",
              " 119: 'bath',\n",
              " 120: 'has',\n",
              " 121: 'into',\n",
              " 122: 'about',\n",
              " 123: 'after',\n",
              " 124: 'made',\n",
              " 125: 'himself',\n",
              " 126: 'long',\n",
              " 127: 'out',\n",
              " 128: 'house',\n",
              " 129: 'say',\n",
              " 130: 'seemed',\n",
              " 131: 'having',\n",
              " 132: 'up',\n",
              " 133: 'thought',\n",
              " 134: 'elizabeth',\n",
              " 135: 'however',\n",
              " 136: 'last',\n",
              " 137: 'make',\n",
              " 138: 'go',\n",
              " 139: 'place',\n",
              " 140: 'may',\n",
              " 141: 'better',\n",
              " 142: 'many',\n",
              " 143: 'over',\n",
              " 144: 'same',\n",
              " 145: 'young',\n",
              " 146: 'found',\n",
              " 147: 'friend',\n",
              " 148: 'home',\n",
              " 149: 'sister',\n",
              " 150: 'room',\n",
              " 151: 'like',\n",
              " 152: 'family',\n",
              " 153: 'felt',\n",
              " 154: 'give',\n",
              " 155: 'away',\n",
              " 156: 'way',\n",
              " 157: 'ever',\n",
              " 158: 'uppercross',\n",
              " 159: 'day',\n",
              " 160: 'come',\n",
              " 161: 'feelings',\n",
              " 162: 'harville',\n",
              " 163: 'still',\n",
              " 164: 'done',\n",
              " 165: 'henrietta',\n",
              " 166: 'kellynch',\n",
              " 167: 'sure',\n",
              " 168: 'its',\n",
              " 169: 'those',\n",
              " 170: 'upon',\n",
              " 171: 'enough',\n",
              " 172: 'even',\n",
              " 173: 'moment',\n",
              " 174: 'then',\n",
              " 175: 'benwick',\n",
              " 176: 'while',\n",
              " 177: 'back',\n",
              " 178: 'off',\n",
              " 179: 'admiral',\n",
              " 180: 'came',\n",
              " 181: 'smith',\n",
              " 182: 'woman',\n",
              " 183: 'lyme',\n",
              " 184: 'just',\n",
              " 185: 'another',\n",
              " 186: 'clay',\n",
              " 187: 'present',\n",
              " 188: 'our',\n",
              " 189: 'going',\n",
              " 190: 'heard',\n",
              " 191: 'mind',\n",
              " 192: 'happy',\n",
              " 193: 'something',\n",
              " 194: 'indeed',\n",
              " 195: 'here',\n",
              " 196: 'few',\n",
              " 197: 'party',\n",
              " 198: 'acquaintance',\n",
              " 199: 'down',\n",
              " 200: 'knew',\n",
              " 201: 'almost',\n",
              " 202: 'rather',\n",
              " 203: 'half',\n",
              " 204: 'morning',\n",
              " 205: 'years',\n",
              " 206: 'seen',\n",
              " 207: 'yet',\n",
              " 208: 'croft',\n",
              " 209: 'wish',\n",
              " 210: 'once',\n",
              " 211: 'perhaps',\n",
              " 212: 'shall',\n",
              " 213: 'dear',\n",
              " 214: 'look',\n",
              " 215: 'oh',\n",
              " 216: 'between',\n",
              " 217: 'poor',\n",
              " 218: 'evening',\n",
              " 219: 'together',\n",
              " 220: 'others',\n",
              " 221: 'hope',\n",
              " 222: 'these',\n",
              " 223: 'ought',\n",
              " 224: 'till',\n",
              " 225: 'gone',\n",
              " 226: 'take',\n",
              " 227: 'saw',\n",
              " 228: 'where',\n",
              " 229: 'character',\n",
              " 230: 'life',\n",
              " 231: 'known',\n",
              " 232: 'anything',\n",
              " 233: 'left',\n",
              " 234: 'believe',\n",
              " 235: 'certainly',\n",
              " 236: 'us',\n",
              " 237: 'yes',\n",
              " 238: 'old',\n",
              " 239: 'side',\n",
              " 240: 'short',\n",
              " 241: 'cried',\n",
              " 242: 'leave',\n",
              " 243: 'wife',\n",
              " 244: 'since',\n",
              " 245: 'near',\n",
              " 246: 'possible',\n",
              " 247: 'deal',\n",
              " 248: 'looking',\n",
              " 249: 'best',\n",
              " 250: 'under',\n",
              " 251: 'feel',\n",
              " 252: 'interest',\n",
              " 253: 'really',\n",
              " 254: 'right',\n",
              " 255: 'everything',\n",
              " 256: 'perfectly',\n",
              " 257: 'manner',\n",
              " 258: 'each',\n",
              " 259: 'mother',\n",
              " 260: 'does',\n",
              " 261: 'least',\n",
              " 262: 'next',\n",
              " 263: 'whole',\n",
              " 264: 'part',\n",
              " 265: 'cannot',\n",
              " 266: 'looked',\n",
              " 267: 'course',\n",
              " 268: 'love',\n",
              " 269: 'heart',\n",
              " 270: 'three',\n",
              " 271: 'thing',\n",
              " 272: 'name',\n",
              " 273: 'spirits',\n",
              " 274: 'sort',\n",
              " 275: 'musgroves',\n",
              " 276: 'nor',\n",
              " 277: 'passed',\n",
              " 278: 'idea',\n",
              " 279: 'both',\n",
              " 280: 'hardly',\n",
              " 281: 'people',\n",
              " 282: 'pleasure',\n",
              " 283: 'among',\n",
              " 284: 'hear',\n",
              " 285: 'agreeable',\n",
              " 286: 'hayter',\n",
              " 287: 'themselves',\n",
              " 288: 'seeing',\n",
              " 289: 'visit',\n",
              " 290: 'company',\n",
              " 291: 'account',\n",
              " 292: 'feeling',\n",
              " 293: 'afterwards',\n",
              " 294: 'world',\n",
              " 295: 'either',\n",
              " 296: 'ill',\n",
              " 297: 'get',\n",
              " 298: 'children',\n",
              " 299: 'head',\n",
              " 300: 'whom',\n",
              " 301: 'walk',\n",
              " 302: 'country',\n",
              " 303: 'received',\n",
              " 304: 'husband',\n",
              " 305: 'through',\n",
              " 306: 'change',\n",
              " 307: 'general',\n",
              " 308: 'wallis',\n",
              " 309: 'hour',\n",
              " 310: 'fine',\n",
              " 311: 'brought',\n",
              " 312: 'given',\n",
              " 313: 'consequence',\n",
              " 314: 'eyes',\n",
              " 315: 'brother',\n",
              " 316: 'coming',\n",
              " 317: 'manners',\n",
              " 318: 'wanted',\n",
              " 319: 'glad',\n",
              " 320: 'began',\n",
              " 321: 'determined',\n",
              " 322: 'tell',\n",
              " 323: 'letter',\n",
              " 324: 'end',\n",
              " 325: 'person',\n",
              " 326: 'object',\n",
              " 327: 'word',\n",
              " 328: 'talked',\n",
              " 329: 'far',\n",
              " 330: 'set',\n",
              " 331: 'gentleman',\n",
              " 332: 'men',\n",
              " 333: 'towards',\n",
              " 334: 'whether',\n",
              " 335: 'happiness',\n",
              " 336: 'shepherd',\n",
              " 337: 'state',\n",
              " 338: 'put',\n",
              " 339: 'replied',\n",
              " 340: 'spoke',\n",
              " 341: 'want',\n",
              " 342: 'answer',\n",
              " 343: 'myself',\n",
              " 344: 'friends',\n",
              " 345: 'called',\n",
              " 346: 'less',\n",
              " 347: 'often',\n",
              " 348: 'obliged',\n",
              " 349: 'able',\n",
              " 350: 'went',\n",
              " 351: 'full',\n",
              " 352: 'conversation',\n",
              " 353: 'strong',\n",
              " 354: 'fortune',\n",
              " 355: 'immediately',\n",
              " 356: 'gave',\n",
              " 357: 'point',\n",
              " 358: 'hours',\n",
              " 359: 'talk',\n",
              " 360: 'understand',\n",
              " 361: 'camden',\n",
              " 362: 'hall',\n",
              " 363: 'pretty',\n",
              " 364: 'therefore',\n",
              " 365: 'thinking',\n",
              " 366: 'doing',\n",
              " 367: 'wished',\n",
              " 368: 'use',\n",
              " 369: 'walked',\n",
              " 370: 'former',\n",
              " 371: 'bad',\n",
              " 372: 'return',\n",
              " 373: 'cousin',\n",
              " 374: 'dalrymple',\n",
              " 375: 'high',\n",
              " 376: 'year',\n",
              " 377: 'situation',\n",
              " 378: 'sensible',\n",
              " 379: 'marriage',\n",
              " 380: 'met',\n",
              " 381: 'else',\n",
              " 382: 'subject',\n",
              " 383: 'against',\n",
              " 384: 'let',\n",
              " 385: 'returned',\n",
              " 386: 'attention',\n",
              " 387: 'acquainted',\n",
              " 388: 'beginning',\n",
              " 389: 'new',\n",
              " 390: 'considered',\n",
              " 391: 'marry',\n",
              " 392: 'early',\n",
              " 393: 'different',\n",
              " 394: 'longer',\n",
              " 395: 'used',\n",
              " 396: 'doubt',\n",
              " 397: 'taken',\n",
              " 398: 'because',\n",
              " 399: 'speak',\n",
              " 400: 'asked',\n",
              " 401: 'told',\n",
              " 402: 'carriage',\n",
              " 403: 'week',\n",
              " 404: 'ladies',\n",
              " 405: 'minutes',\n",
              " 406: 'street',\n",
              " 407: 'attachment',\n",
              " 408: 'neither',\n",
              " 409: 'case',\n",
              " 410: 'regard',\n",
              " 411: 'business',\n",
              " 412: 'assure',\n",
              " 413: 'circumstances',\n",
              " 414: 'saying',\n",
              " 415: 'past',\n",
              " 416: 'stay',\n",
              " 417: 'nature',\n",
              " 418: 'forward',\n",
              " 419: 'child',\n",
              " 420: 'chapter',\n",
              " 421: 'married',\n",
              " 422: 'appearance',\n",
              " 423: 'taking',\n",
              " 424: 'worth',\n",
              " 425: 'suppose',\n",
              " 426: 'worse',\n",
              " 427: 'added',\n",
              " 428: 'taste',\n",
              " 429: 'degree',\n",
              " 430: 'true',\n",
              " 431: 'days',\n",
              " 432: 'likely',\n",
              " 433: 'meet',\n",
              " 434: 'talking',\n",
              " 435: 'crofts',\n",
              " 436: 'eye',\n",
              " 437: 'engagement',\n",
              " 438: 'opinion',\n",
              " 439: 'things',\n",
              " 440: 'morrow',\n",
              " 441: 'night',\n",
              " 442: 'daughter',\n",
              " 443: 'words',\n",
              " 444: 'satisfied',\n",
              " 445: 'making',\n",
              " 446: 'hand',\n",
              " 447: 'beyond',\n",
              " 448: 'surprise',\n",
              " 449: 'find',\n",
              " 450: 'mean',\n",
              " 451: 'sight',\n",
              " 452: 'frederick',\n",
              " 453: 'door',\n",
              " 454: 'colonel',\n",
              " 455: 'usual',\n",
              " 456: 'settled',\n",
              " 457: 'four',\n",
              " 458: 'women',\n",
              " 459: 'excellent',\n",
              " 460: 'real',\n",
              " 461: 'face',\n",
              " 462: 'equal',\n",
              " 463: 'within',\n",
              " 464: 'question',\n",
              " 465: 'decided',\n",
              " 466: 'knowledge',\n",
              " 467: 'living',\n",
              " 468: 'advantage',\n",
              " 469: 'care',\n",
              " 470: 'ready',\n",
              " 471: 'cottage',\n",
              " 472: 'turned',\n",
              " 473: 'whose',\n",
              " 474: 'matter',\n",
              " 475: 'help',\n",
              " 476: 'twenty',\n",
              " 477: 'speaking',\n",
              " 478: 'walking',\n",
              " 479: 'open',\n",
              " 480: 'match',\n",
              " 481: 'reason',\n",
              " 482: 'got',\n",
              " 483: 'kind',\n",
              " 484: 'spoken',\n",
              " 485: 'means',\n",
              " 486: 'anybody',\n",
              " 487: 'believed',\n",
              " 488: 'comfort',\n",
              " 489: 'particularly',\n",
              " 490: 'sea',\n",
              " 491: 'natural',\n",
              " 492: 'alone',\n",
              " 493: 'bear',\n",
              " 494: 'meeting',\n",
              " 495: 'hands',\n",
              " 496: 'influence',\n",
              " 497: 'understanding',\n",
              " 498: 'none',\n",
              " 499: 'rest',\n",
              " 500: 'health',\n",
              " 501: 'lived',\n",
              " 502: 'pain',\n",
              " 503: 'understood',\n",
              " 504: 'already',\n",
              " 505: 'need',\n",
              " 506: 'sorry',\n",
              " 507: 'air',\n",
              " 508: 'call',\n",
              " 509: 'pleased',\n",
              " 510: 'why',\n",
              " 511: 'appeared',\n",
              " 512: 'concert',\n",
              " 513: 'took',\n",
              " 514: 'handsome',\n",
              " 515: 'delighted',\n",
              " 516: 'conduct',\n",
              " 517: 'giving',\n",
              " 518: 'value',\n",
              " 519: 'nobody',\n",
              " 520: 'large',\n",
              " 521: 'sometimes',\n",
              " 522: 'self',\n",
              " 523: 'engaged',\n",
              " 524: 'style',\n",
              " 525: 'notice',\n",
              " 526: 'supposed',\n",
              " 527: 'dinner',\n",
              " 528: 'voice',\n",
              " 529: 'cousins',\n",
              " 530: 'wonder',\n",
              " 531: 'lost',\n",
              " 532: 'terms',\n",
              " 533: 'generally',\n",
              " 534: 'everybody',\n",
              " 535: 'drawing',\n",
              " 536: 'rooms',\n",
              " 537: 'expected',\n",
              " 538: 'money',\n",
              " 539: 'small',\n",
              " 540: 'serious',\n",
              " 541: 'anxious',\n",
              " 542: 'tone',\n",
              " 543: 'suffering',\n",
              " 544: 'circumstance',\n",
              " 545: 'disposed',\n",
              " 546: 'imagine',\n",
              " 547: 'fellow',\n",
              " 548: 'hoped',\n",
              " 549: 'window',\n",
              " 550: 'probably',\n",
              " 551: 'also',\n",
              " 552: 'finding',\n",
              " 553: 'harvilles',\n",
              " 554: 'respect',\n",
              " 555: 'son',\n",
              " 556: 'second',\n",
              " 557: 'favour',\n",
              " 558: 'observed',\n",
              " 559: 'pride',\n",
              " 560: 'proper',\n",
              " 561: 'kept',\n",
              " 562: 'hearing',\n",
              " 563: 'sense',\n",
              " 564: 'sisters',\n",
              " 565: 'entirely',\n",
              " 566: 'warm',\n",
              " 567: 'months',\n",
              " 568: 'curiosity',\n",
              " 569: 'turn',\n",
              " 570: 'waiting',\n",
              " 571: 'completely',\n",
              " 572: 'view',\n",
              " 573: 'history',\n",
              " 574: 'extremely',\n",
              " 575: 'loved',\n",
              " 576: 'ago',\n",
              " 577: 'meant',\n",
              " 578: 'vain',\n",
              " 579: 'drew',\n",
              " 580: 'description',\n",
              " 581: 'particular',\n",
              " 582: 'times',\n",
              " 583: 'caught',\n",
              " 584: 'common',\n",
              " 585: 'reached',\n",
              " 586: 'farther',\n",
              " 587: 'perfect',\n",
              " 588: 'listened',\n",
              " 589: 'seem',\n",
              " 590: 'late',\n",
              " 591: 'meaning',\n",
              " 592: 'nurse',\n",
              " 593: 'followed',\n",
              " 594: 'seat',\n",
              " 595: 'youth',\n",
              " 596: 'kindness',\n",
              " 597: 'highly',\n",
              " 598: 'distress',\n",
              " 599: 'liked',\n",
              " 600: 'table',\n",
              " 601: 'town',\n",
              " 602: 'instead',\n",
              " 603: 'period',\n",
              " 604: 'claims',\n",
              " 605: 'fact',\n",
              " 606: 'remain',\n",
              " 607: 'agreed',\n",
              " 608: 'staying',\n",
              " 609: 'trying',\n",
              " 610: 'behind',\n",
              " 611: 'attending',\n",
              " 612: 'profession',\n",
              " 613: 'afraid',\n",
              " 614: 'proof',\n",
              " 615: 'answered',\n",
              " 616: 'smallest',\n",
              " 617: 'continued',\n",
              " 618: 'remember',\n",
              " 619: 'nearly',\n",
              " 620: 'allowed',\n",
              " 621: 'quiet',\n",
              " 622: 'knowing',\n",
              " 623: 'round',\n",
              " 624: 'aware',\n",
              " 625: 'low',\n",
              " 626: 'impossible',\n",
              " 627: 'exactly',\n",
              " 628: 'buildings',\n",
              " 629: 'countenance',\n",
              " 630: 'improved',\n",
              " 631: 'looks',\n",
              " 632: 'girls',\n",
              " 633: 'honour',\n",
              " 634: 'neighbourhood',\n",
              " 635: 'london',\n",
              " 636: 'consciousness',\n",
              " 637: 'fully',\n",
              " 638: 'evil',\n",
              " 639: 'future',\n",
              " 640: 'boy',\n",
              " 641: 'property',\n",
              " 642: 'justice',\n",
              " 643: 'difference',\n",
              " 644: 'struck',\n",
              " 645: 'live',\n",
              " 646: 'persuaded',\n",
              " 647: 'friendship',\n",
              " 648: 'turning',\n",
              " 649: 'getting',\n",
              " 650: 'keep',\n",
              " 651: 'truth',\n",
              " 652: 'trouble',\n",
              " 653: 'besides',\n",
              " 654: 'easy',\n",
              " 655: 'necessary',\n",
              " 656: 'introduced',\n",
              " 657: 'comfortable',\n",
              " 658: 'agitation',\n",
              " 659: 'ashamed',\n",
              " 660: 'sent',\n",
              " 661: 'yourself',\n",
              " 662: 'yesterday',\n",
              " 663: 'sit',\n",
              " 664: 'sat',\n",
              " 665: 'breakfast',\n",
              " 666: 'glance',\n",
              " 667: 'instantly',\n",
              " 668: 'cobb',\n",
              " 669: 'pity',\n",
              " 670: 'read',\n",
              " 671: 'heir',\n",
              " 672: 'mentioned',\n",
              " 673: 'altogether',\n",
              " 674: 'personal',\n",
              " 675: 'society',\n",
              " 676: 'fair',\n",
              " 677: 'sake',\n",
              " 678: 'enjoyment',\n",
              " 679: 'danger',\n",
              " 680: 'especially',\n",
              " 681: 'became',\n",
              " 682: 'power',\n",
              " 683: 'hint',\n",
              " 684: 'due',\n",
              " 685: 'clear',\n",
              " 686: 'itself',\n",
              " 687: 'duty',\n",
              " 688: 'severe',\n",
              " 689: 'appear',\n",
              " 690: 'fixed',\n",
              " 691: 'bring',\n",
              " 692: 'navy',\n",
              " 693: 'tenant',\n",
              " 694: 'yours',\n",
              " 695: 'extraordinary',\n",
              " 696: 'greater',\n",
              " 697: 'forget',\n",
              " 698: 'cold',\n",
              " 699: 'become',\n",
              " 700: 'along',\n",
              " 701: 'share',\n",
              " 702: 'admitted',\n",
              " 703: 'opportunity',\n",
              " 704: 'invitation',\n",
              " 705: 'pleasant',\n",
              " 706: 'occupied',\n",
              " 707: 'listen',\n",
              " 708: 'play',\n",
              " 709: 'strength',\n",
              " 710: 'dare',\n",
              " 711: 'calling',\n",
              " 712: 'dine',\n",
              " 713: 'tried',\n",
              " 714: 'smile',\n",
              " 715: 'interesting',\n",
              " 716: 'moments',\n",
              " 717: 'inn',\n",
              " 718: 'regret',\n",
              " 719: 'stood',\n",
              " 720: 'eldest',\n",
              " 721: 'remained',\n",
              " 722: 'placed',\n",
              " 723: 'ten',\n",
              " 724: 'begun',\n",
              " 725: 'growing',\n",
              " 726: 'certain',\n",
              " 727: 'plan',\n",
              " 728: 'difficulties',\n",
              " 729: 'miles',\n",
              " 730: 'desirable',\n",
              " 731: 'surprised',\n",
              " 732: 'around',\n",
              " 733: 'consider',\n",
              " 734: 'wishing',\n",
              " 735: 'recollect',\n",
              " 736: 'wait',\n",
              " 737: 'spirit',\n",
              " 738: 'temper',\n",
              " 739: 'putting',\n",
              " 740: 'exceedingly',\n",
              " 741: 'altered',\n",
              " 742: 'truly',\n",
              " 743: 'pass',\n",
              " 744: 'sick',\n",
              " 745: 'occasion',\n",
              " 746: 'eight',\n",
              " 747: 'directly',\n",
              " 748: 'letters',\n",
              " 749: 'six',\n",
              " 750: 'board',\n",
              " 751: 'five',\n",
              " 752: 'promised',\n",
              " 753: 'leaving',\n",
              " 754: 'smiling',\n",
              " 755: 'thank',\n",
              " 756: 'mention',\n",
              " 757: 'carteret',\n",
              " 758: 'domestic',\n",
              " 759: 'dignity',\n",
              " 760: 'baronet',\n",
              " 761: 'rank',\n",
              " 762: 'required',\n",
              " 763: 'indulgence',\n",
              " 764: 'death',\n",
              " 765: 'age',\n",
              " 766: 'importance',\n",
              " 767: 'anxiety',\n",
              " 768: 'scarcely',\n",
              " 769: 'warmth',\n",
              " 770: 'spring',\n",
              " 771: 'rich',\n",
              " 772: 'hints',\n",
              " 773: 'spend',\n",
              " 774: 'sound',\n",
              " 775: 'horses',\n",
              " 776: 'wishes',\n",
              " 777: 'inclination',\n",
              " 778: 'satisfaction',\n",
              " 779: 'school',\n",
              " 780: 'fond',\n",
              " 781: 'pleasing',\n",
              " 782: 'spite',\n",
              " 783: 'shut',\n",
              " 784: 'confidence',\n",
              " 785: 'observe',\n",
              " 786: 'gentlemen',\n",
              " 787: 'depend',\n",
              " 788: 'reply',\n",
              " 789: 'bringing',\n",
              " 790: 'weather',\n",
              " 791: 'effect',\n",
              " 792: 'returning',\n",
              " 793: 'mere',\n",
              " 794: 'intercourse',\n",
              " 795: 'silence',\n",
              " 796: 'resolution',\n",
              " 797: 'differently',\n",
              " 798: 'opinions',\n",
              " 799: 'nice',\n",
              " 800: 'happened',\n",
              " 801: 'seems',\n",
              " 802: 'creature',\n",
              " 803: 'occurred',\n",
              " 804: 'elegant',\n",
              " 805: 'direction',\n",
              " 806: 'hers',\n",
              " 807: 'declare',\n",
              " 808: 'chance',\n",
              " 809: 'instant',\n",
              " 810: 'eager',\n",
              " 811: 'written',\n",
              " 812: 'useful',\n",
              " 813: 'silent',\n",
              " 814: 'servant',\n",
              " 815: 'sitting',\n",
              " 816: 'ma',\n",
              " 817: 'considering',\n",
              " 818: 'winthrop',\n",
              " 819: 'shirley',\n",
              " 820: 'arm',\n",
              " 821: 'lodgings',\n",
              " 822: 'card',\n",
              " 823: 'amusement',\n",
              " 824: 'admiration',\n",
              " 825: 'opened',\n",
              " 826: 'birth',\n",
              " 827: 'vanity',\n",
              " 828: 'beauty',\n",
              " 829: 'constant',\n",
              " 830: 'indifference',\n",
              " 831: 'daughters',\n",
              " 832: 'rights',\n",
              " 833: 'god',\n",
              " 834: 'girl',\n",
              " 835: 'merely',\n",
              " 836: 'charm',\n",
              " 837: 'credit',\n",
              " 838: 'weeks',\n",
              " 839: 'properly',\n",
              " 840: 'books',\n",
              " 841: 'forced',\n",
              " 842: 'invited',\n",
              " 843: 'several',\n",
              " 844: 'summer',\n",
              " 845: 'sentiments',\n",
              " 846: 'confess',\n",
              " 847: 'expect',\n",
              " 848: 'ideas',\n",
              " 849: 'seven',\n",
              " 850: 'affected',\n",
              " 851: 'painful',\n",
              " 852: 'sooner',\n",
              " 853: 'winter',\n",
              " 854: 'lately',\n",
              " 855: 'reach',\n",
              " 856: 'peace',\n",
              " 857: 'wanting',\n",
              " 858: 'order',\n",
              " 859: 'mine',\n",
              " 860: 'fit',\n",
              " 861: 'nay',\n",
              " 862: 'service',\n",
              " 863: 'report',\n",
              " 864: 'gratitude',\n",
              " 865: 'connexion',\n",
              " 866: 'actually',\n",
              " 867: 'astonishment',\n",
              " 868: 'produced',\n",
              " 869: 'tenderness',\n",
              " 870: 'continually',\n",
              " 871: 'wrong',\n",
              " 872: 'misery',\n",
              " 873: 'ended',\n",
              " 874: 'suspense',\n",
              " 875: 'superiority',\n",
              " 876: 'humour',\n",
              " 877: 'autumn',\n",
              " 878: 'begin',\n",
              " 879: 'happen',\n",
              " 880: 'excepting',\n",
              " 881: 'joined',\n",
              " 882: 'avoid',\n",
              " 883: 'suffer',\n",
              " 884: 're',\n",
              " 885: 'evidently',\n",
              " 886: 'join',\n",
              " 887: 'ask',\n",
              " 888: 'fancied',\n",
              " 889: 'dr',\n",
              " 890: 'promise',\n",
              " 891: 'evident',\n",
              " 892: 'smiled',\n",
              " 893: 'sensations',\n",
              " 894: 'november',\n",
              " 895: 'month',\n",
              " 896: 'lord',\n",
              " 897: 'blessing',\n",
              " 898: 'inferior',\n",
              " 899: 'claim',\n",
              " 900: 'superior',\n",
              " 901: 'quit',\n",
              " 902: 'intimate',\n",
              " 903: 'village',\n",
              " 904: 'widow',\n",
              " 905: 'features',\n",
              " 906: 'excite',\n",
              " 907: 'work',\n",
              " 908: 'follow',\n",
              " 909: 'closed',\n",
              " 910: 'following',\n",
              " 911: 'equally',\n",
              " 912: 'interval',\n",
              " 913: 'admit',\n",
              " 914: 'solicitude',\n",
              " 915: 'thoughts',\n",
              " 916: 'views',\n",
              " 917: 'recommend',\n",
              " 918: 'quick',\n",
              " 919: 'capable',\n",
              " 920: 'complete',\n",
              " 921: 'distance',\n",
              " 922: 'dreadful',\n",
              " 923: 'suit',\n",
              " 924: 'secret',\n",
              " 925: 'intimacy',\n",
              " 926: 'affection',\n",
              " 927: 'dangerous',\n",
              " 928: 'companion',\n",
              " 929: 'removal',\n",
              " 930: 'war',\n",
              " 931: 'matters',\n",
              " 932: 'thus',\n",
              " 933: 'venture',\n",
              " 934: 'safe',\n",
              " 935: 'pause',\n",
              " 936: 'hard',\n",
              " 937: 'allow',\n",
              " 938: 'persons',\n",
              " 939: 'convinced',\n",
              " 940: 'fell',\n",
              " 941: 'possibility',\n",
              " 942: 'contrary',\n",
              " 943: 'ay',\n",
              " 944: 'highest',\n",
              " 945: 'hopes',\n",
              " 946: 'imagined',\n",
              " 947: 'except',\n",
              " 948: 'cheerful',\n",
              " 949: 'nerves',\n",
              " 950: 'recollection',\n",
              " 951: 'proved',\n",
              " 952: 'compliments',\n",
              " 953: 'divided',\n",
              " 954: 'absence',\n",
              " 955: 'warmly',\n",
              " 956: 'fall',\n",
              " 957: 'escape',\n",
              " 958: 'arrived',\n",
              " 959: 'soul',\n",
              " 960: 'stopped',\n",
              " 961: 'enquiries',\n",
              " 962: 'subjects',\n",
              " 963: 'dress',\n",
              " 964: 'otherwise',\n",
              " 965: 'listening',\n",
              " 966: 'indifferent',\n",
              " 967: 'mamma',\n",
              " 968: 'visited',\n",
              " 969: 'anywhere',\n",
              " 970: 'necessity',\n",
              " 971: 'thirty',\n",
              " 972: 'forgotten',\n",
              " 973: 'praise',\n",
              " 974: 'arrival',\n",
              " 975: 'send',\n",
              " 976: 'attend',\n",
              " 977: 'motive',\n",
              " 978: 'quietly',\n",
              " 979: 'try',\n",
              " 980: 'desire',\n",
              " 981: 'ah',\n",
              " 982: 'entered',\n",
              " 983: 'comprehend',\n",
              " 984: 'pray',\n",
              " 985: 'suffered',\n",
              " 986: 'tired',\n",
              " 987: 'attentions',\n",
              " 988: 'sounds',\n",
              " 989: 'mistaken',\n",
              " 990: 'afford',\n",
              " 991: 'hill',\n",
              " 992: 'move',\n",
              " 993: 'news',\n",
              " 994: 'rain',\n",
              " 995: 'welcome',\n",
              " 996: 'book',\n",
              " 997: 'roused',\n",
              " 998: 'affairs',\n",
              " 999: 'changed',\n",
              " 1000: 'favourite',\n",
              " ...}"
            ]
          },
          "metadata": {},
          "execution_count": 29
        }
      ],
      "source": [
        "# Palabras del vocabulario\n",
        "tok.index_word"
      ]
    },
    {
      "cell_type": "code",
      "execution_count": null,
      "metadata": {
        "id": "WtzINYjWCMf1",
        "colab": {
          "base_uri": "https://localhost:8080/"
        },
        "outputId": "4f76ca54-5536-4839-cae9-1fd7d75e3386"
      },
      "outputs": [
        {
          "output_type": "execute_result",
          "data": {
            "text/plain": [
              "5778"
            ]
          },
          "metadata": {},
          "execution_count": 30
        }
      ],
      "source": [
        "# Cantidad de palabras en el vocabulario\n",
        "vocab_size = len(tok.word_counts)\n",
        "vocab_size"
      ]
    },
    {
      "cell_type": "code",
      "source": [
        "# El índice para cada palabra\n",
        "# El sistema las ordena de las más populares a las menos populares\n",
        "print(tok.word_index)"
      ],
      "metadata": {
        "colab": {
          "base_uri": "https://localhost:8080/"
        },
        "id": "zZzv9pQ-VaMo",
        "outputId": "3279e46b-5f47-4962-e84d-1025f54f4e38"
      },
      "execution_count": null,
      "outputs": [
        {
          "output_type": "stream",
          "name": "stdout",
          "text": [
            "{'the': 1, 'to': 2, 'and': 3, 'of': 4, 'a': 5, 'in': 6, 'was': 7, 'her': 8, 'had': 9, 'she': 10, 'i': 11, 'it': 12, 'he': 13, 'be': 14, 'not': 15, 'that': 16, 'as': 17, 'for': 18, 'but': 19, 'his': 20, 'with': 21, 'you': 22, 'have': 23, \"'\": 24, 'at': 25, 'all': 26, 'anne': 27, 'been': 28, 's': 29, 'him': 30, 'could': 31, 'very': 32, 'they': 33, 'were': 34, 'by': 35, 'which': 36, 'is': 37, 'on': 38, 'so': 39, 'no': 40, 'would': 41, 'captain': 42, 'from': 43, 'their': 44, 'mrs': 45, 'elliot': 46, 'there': 47, 'or': 48, 'more': 49, 'them': 50, 'mr': 51, 'this': 52, 'an': 53, 'than': 54, 'one': 55, 'must': 56, 'when': 57, 'my': 58, 'being': 59, 'only': 60, 'wentworth': 61, 'lady': 62, 'such': 63, 'do': 64, 'much': 65, 'if': 66, 'any': 67, 'what': 68, 'who': 69, 'should': 70, 'me': 71, 'good': 72, 'little': 73, 'said': 74, 'will': 75, 'charles': 76, 'might': 77, 'own': 78, 'well': 79, 'did': 80, 'herself': 81, 'now': 82, 'never': 83, 'we': 84, 'time': 85, 'sir': 86, 'think': 87, 'russell': 88, 'are': 89, 'other': 90, 'walter': 91, 'nothing': 92, 'mary': 93, 'am': 94, 'some': 95, 'man': 96, 'again': 97, 'musgrove': 98, 'great': 99, 'too': 100, 'know': 101, 'how': 102, 'miss': 103, 'your': 104, 'most': 105, 'see': 106, 'soon': 107, 'though': 108, 'father': 109, 'before': 110, 'two': 111, 'first': 112, 'quite': 113, 'louisa': 114, 'always': 115, 'without': 116, 'can': 117, 'every': 118, 'bath': 119, 'has': 120, 'into': 121, 'about': 122, 'after': 123, 'made': 124, 'himself': 125, 'long': 126, 'out': 127, 'house': 128, 'say': 129, 'seemed': 130, 'having': 131, 'up': 132, 'thought': 133, 'elizabeth': 134, 'however': 135, 'last': 136, 'make': 137, 'go': 138, 'place': 139, 'may': 140, 'better': 141, 'many': 142, 'over': 143, 'same': 144, 'young': 145, 'found': 146, 'friend': 147, 'home': 148, 'sister': 149, 'room': 150, 'like': 151, 'family': 152, 'felt': 153, 'give': 154, 'away': 155, 'way': 156, 'ever': 157, 'uppercross': 158, 'day': 159, 'come': 160, 'feelings': 161, 'harville': 162, 'still': 163, 'done': 164, 'henrietta': 165, 'kellynch': 166, 'sure': 167, 'its': 168, 'those': 169, 'upon': 170, 'enough': 171, 'even': 172, 'moment': 173, 'then': 174, 'benwick': 175, 'while': 176, 'back': 177, 'off': 178, 'admiral': 179, 'came': 180, 'smith': 181, 'woman': 182, 'lyme': 183, 'just': 184, 'another': 185, 'clay': 186, 'present': 187, 'our': 188, 'going': 189, 'heard': 190, 'mind': 191, 'happy': 192, 'something': 193, 'indeed': 194, 'here': 195, 'few': 196, 'party': 197, 'acquaintance': 198, 'down': 199, 'knew': 200, 'almost': 201, 'rather': 202, 'half': 203, 'morning': 204, 'years': 205, 'seen': 206, 'yet': 207, 'croft': 208, 'wish': 209, 'once': 210, 'perhaps': 211, 'shall': 212, 'dear': 213, 'look': 214, 'oh': 215, 'between': 216, 'poor': 217, 'evening': 218, 'together': 219, 'others': 220, 'hope': 221, 'these': 222, 'ought': 223, 'till': 224, 'gone': 225, 'take': 226, 'saw': 227, 'where': 228, 'character': 229, 'life': 230, 'known': 231, 'anything': 232, 'left': 233, 'believe': 234, 'certainly': 235, 'us': 236, 'yes': 237, 'old': 238, 'side': 239, 'short': 240, 'cried': 241, 'leave': 242, 'wife': 243, 'since': 244, 'near': 245, 'possible': 246, 'deal': 247, 'looking': 248, 'best': 249, 'under': 250, 'feel': 251, 'interest': 252, 'really': 253, 'right': 254, 'everything': 255, 'perfectly': 256, 'manner': 257, 'each': 258, 'mother': 259, 'does': 260, 'least': 261, 'next': 262, 'whole': 263, 'part': 264, 'cannot': 265, 'looked': 266, 'course': 267, 'love': 268, 'heart': 269, 'three': 270, 'thing': 271, 'name': 272, 'spirits': 273, 'sort': 274, 'musgroves': 275, 'nor': 276, 'passed': 277, 'idea': 278, 'both': 279, 'hardly': 280, 'people': 281, 'pleasure': 282, 'among': 283, 'hear': 284, 'agreeable': 285, 'hayter': 286, 'themselves': 287, 'seeing': 288, 'visit': 289, 'company': 290, 'account': 291, 'feeling': 292, 'afterwards': 293, 'world': 294, 'either': 295, 'ill': 296, 'get': 297, 'children': 298, 'head': 299, 'whom': 300, 'walk': 301, 'country': 302, 'received': 303, 'husband': 304, 'through': 305, 'change': 306, 'general': 307, 'wallis': 308, 'hour': 309, 'fine': 310, 'brought': 311, 'given': 312, 'consequence': 313, 'eyes': 314, 'brother': 315, 'coming': 316, 'manners': 317, 'wanted': 318, 'glad': 319, 'began': 320, 'determined': 321, 'tell': 322, 'letter': 323, 'end': 324, 'person': 325, 'object': 326, 'word': 327, 'talked': 328, 'far': 329, 'set': 330, 'gentleman': 331, 'men': 332, 'towards': 333, 'whether': 334, 'happiness': 335, 'shepherd': 336, 'state': 337, 'put': 338, 'replied': 339, 'spoke': 340, 'want': 341, 'answer': 342, 'myself': 343, 'friends': 344, 'called': 345, 'less': 346, 'often': 347, 'obliged': 348, 'able': 349, 'went': 350, 'full': 351, 'conversation': 352, 'strong': 353, 'fortune': 354, 'immediately': 355, 'gave': 356, 'point': 357, 'hours': 358, 'talk': 359, 'understand': 360, 'camden': 361, 'hall': 362, 'pretty': 363, 'therefore': 364, 'thinking': 365, 'doing': 366, 'wished': 367, 'use': 368, 'walked': 369, 'former': 370, 'bad': 371, 'return': 372, 'cousin': 373, 'dalrymple': 374, 'high': 375, 'year': 376, 'situation': 377, 'sensible': 378, 'marriage': 379, 'met': 380, 'else': 381, 'subject': 382, 'against': 383, 'let': 384, 'returned': 385, 'attention': 386, 'acquainted': 387, 'beginning': 388, 'new': 389, 'considered': 390, 'marry': 391, 'early': 392, 'different': 393, 'longer': 394, 'used': 395, 'doubt': 396, 'taken': 397, 'because': 398, 'speak': 399, 'asked': 400, 'told': 401, 'carriage': 402, 'week': 403, 'ladies': 404, 'minutes': 405, 'street': 406, 'attachment': 407, 'neither': 408, 'case': 409, 'regard': 410, 'business': 411, 'assure': 412, 'circumstances': 413, 'saying': 414, 'past': 415, 'stay': 416, 'nature': 417, 'forward': 418, 'child': 419, 'chapter': 420, 'married': 421, 'appearance': 422, 'taking': 423, 'worth': 424, 'suppose': 425, 'worse': 426, 'added': 427, 'taste': 428, 'degree': 429, 'true': 430, 'days': 431, 'likely': 432, 'meet': 433, 'talking': 434, 'crofts': 435, 'eye': 436, 'engagement': 437, 'opinion': 438, 'things': 439, 'morrow': 440, 'night': 441, 'daughter': 442, 'words': 443, 'satisfied': 444, 'making': 445, 'hand': 446, 'beyond': 447, 'surprise': 448, 'find': 449, 'mean': 450, 'sight': 451, 'frederick': 452, 'door': 453, 'colonel': 454, 'usual': 455, 'settled': 456, 'four': 457, 'women': 458, 'excellent': 459, 'real': 460, 'face': 461, 'equal': 462, 'within': 463, 'question': 464, 'decided': 465, 'knowledge': 466, 'living': 467, 'advantage': 468, 'care': 469, 'ready': 470, 'cottage': 471, 'turned': 472, 'whose': 473, 'matter': 474, 'help': 475, 'twenty': 476, 'speaking': 477, 'walking': 478, 'open': 479, 'match': 480, 'reason': 481, 'got': 482, 'kind': 483, 'spoken': 484, 'means': 485, 'anybody': 486, 'believed': 487, 'comfort': 488, 'particularly': 489, 'sea': 490, 'natural': 491, 'alone': 492, 'bear': 493, 'meeting': 494, 'hands': 495, 'influence': 496, 'understanding': 497, 'none': 498, 'rest': 499, 'health': 500, 'lived': 501, 'pain': 502, 'understood': 503, 'already': 504, 'need': 505, 'sorry': 506, 'air': 507, 'call': 508, 'pleased': 509, 'why': 510, 'appeared': 511, 'concert': 512, 'took': 513, 'handsome': 514, 'delighted': 515, 'conduct': 516, 'giving': 517, 'value': 518, 'nobody': 519, 'large': 520, 'sometimes': 521, 'self': 522, 'engaged': 523, 'style': 524, 'notice': 525, 'supposed': 526, 'dinner': 527, 'voice': 528, 'cousins': 529, 'wonder': 530, 'lost': 531, 'terms': 532, 'generally': 533, 'everybody': 534, 'drawing': 535, 'rooms': 536, 'expected': 537, 'money': 538, 'small': 539, 'serious': 540, 'anxious': 541, 'tone': 542, 'suffering': 543, 'circumstance': 544, 'disposed': 545, 'imagine': 546, 'fellow': 547, 'hoped': 548, 'window': 549, 'probably': 550, 'also': 551, 'finding': 552, 'harvilles': 553, 'respect': 554, 'son': 555, 'second': 556, 'favour': 557, 'observed': 558, 'pride': 559, 'proper': 560, 'kept': 561, 'hearing': 562, 'sense': 563, 'sisters': 564, 'entirely': 565, 'warm': 566, 'months': 567, 'curiosity': 568, 'turn': 569, 'waiting': 570, 'completely': 571, 'view': 572, 'history': 573, 'extremely': 574, 'loved': 575, 'ago': 576, 'meant': 577, 'vain': 578, 'drew': 579, 'description': 580, 'particular': 581, 'times': 582, 'caught': 583, 'common': 584, 'reached': 585, 'farther': 586, 'perfect': 587, 'listened': 588, 'seem': 589, 'late': 590, 'meaning': 591, 'nurse': 592, 'followed': 593, 'seat': 594, 'youth': 595, 'kindness': 596, 'highly': 597, 'distress': 598, 'liked': 599, 'table': 600, 'town': 601, 'instead': 602, 'period': 603, 'claims': 604, 'fact': 605, 'remain': 606, 'agreed': 607, 'staying': 608, 'trying': 609, 'behind': 610, 'attending': 611, 'profession': 612, 'afraid': 613, 'proof': 614, 'answered': 615, 'smallest': 616, 'continued': 617, 'remember': 618, 'nearly': 619, 'allowed': 620, 'quiet': 621, 'knowing': 622, 'round': 623, 'aware': 624, 'low': 625, 'impossible': 626, 'exactly': 627, 'buildings': 628, 'countenance': 629, 'improved': 630, 'looks': 631, 'girls': 632, 'honour': 633, 'neighbourhood': 634, 'london': 635, 'consciousness': 636, 'fully': 637, 'evil': 638, 'future': 639, 'boy': 640, 'property': 641, 'justice': 642, 'difference': 643, 'struck': 644, 'live': 645, 'persuaded': 646, 'friendship': 647, 'turning': 648, 'getting': 649, 'keep': 650, 'truth': 651, 'trouble': 652, 'besides': 653, 'easy': 654, 'necessary': 655, 'introduced': 656, 'comfortable': 657, 'agitation': 658, 'ashamed': 659, 'sent': 660, 'yourself': 661, 'yesterday': 662, 'sit': 663, 'sat': 664, 'breakfast': 665, 'glance': 666, 'instantly': 667, 'cobb': 668, 'pity': 669, 'read': 670, 'heir': 671, 'mentioned': 672, 'altogether': 673, 'personal': 674, 'society': 675, 'fair': 676, 'sake': 677, 'enjoyment': 678, 'danger': 679, 'especially': 680, 'became': 681, 'power': 682, 'hint': 683, 'due': 684, 'clear': 685, 'itself': 686, 'duty': 687, 'severe': 688, 'appear': 689, 'fixed': 690, 'bring': 691, 'navy': 692, 'tenant': 693, 'yours': 694, 'extraordinary': 695, 'greater': 696, 'forget': 697, 'cold': 698, 'become': 699, 'along': 700, 'share': 701, 'admitted': 702, 'opportunity': 703, 'invitation': 704, 'pleasant': 705, 'occupied': 706, 'listen': 707, 'play': 708, 'strength': 709, 'dare': 710, 'calling': 711, 'dine': 712, 'tried': 713, 'smile': 714, 'interesting': 715, 'moments': 716, 'inn': 717, 'regret': 718, 'stood': 719, 'eldest': 720, 'remained': 721, 'placed': 722, 'ten': 723, 'begun': 724, 'growing': 725, 'certain': 726, 'plan': 727, 'difficulties': 728, 'miles': 729, 'desirable': 730, 'surprised': 731, 'around': 732, 'consider': 733, 'wishing': 734, 'recollect': 735, 'wait': 736, 'spirit': 737, 'temper': 738, 'putting': 739, 'exceedingly': 740, 'altered': 741, 'truly': 742, 'pass': 743, 'sick': 744, 'occasion': 745, 'eight': 746, 'directly': 747, 'letters': 748, 'six': 749, 'board': 750, 'five': 751, 'promised': 752, 'leaving': 753, 'smiling': 754, 'thank': 755, 'mention': 756, 'carteret': 757, 'domestic': 758, 'dignity': 759, 'baronet': 760, 'rank': 761, 'required': 762, 'indulgence': 763, 'death': 764, 'age': 765, 'importance': 766, 'anxiety': 767, 'scarcely': 768, 'warmth': 769, 'spring': 770, 'rich': 771, 'hints': 772, 'spend': 773, 'sound': 774, 'horses': 775, 'wishes': 776, 'inclination': 777, 'satisfaction': 778, 'school': 779, 'fond': 780, 'pleasing': 781, 'spite': 782, 'shut': 783, 'confidence': 784, 'observe': 785, 'gentlemen': 786, 'depend': 787, 'reply': 788, 'bringing': 789, 'weather': 790, 'effect': 791, 'returning': 792, 'mere': 793, 'intercourse': 794, 'silence': 795, 'resolution': 796, 'differently': 797, 'opinions': 798, 'nice': 799, 'happened': 800, 'seems': 801, 'creature': 802, 'occurred': 803, 'elegant': 804, 'direction': 805, 'hers': 806, 'declare': 807, 'chance': 808, 'instant': 809, 'eager': 810, 'written': 811, 'useful': 812, 'silent': 813, 'servant': 814, 'sitting': 815, 'ma': 816, 'considering': 817, 'winthrop': 818, 'shirley': 819, 'arm': 820, 'lodgings': 821, 'card': 822, 'amusement': 823, 'admiration': 824, 'opened': 825, 'birth': 826, 'vanity': 827, 'beauty': 828, 'constant': 829, 'indifference': 830, 'daughters': 831, 'rights': 832, 'god': 833, 'girl': 834, 'merely': 835, 'charm': 836, 'credit': 837, 'weeks': 838, 'properly': 839, 'books': 840, 'forced': 841, 'invited': 842, 'several': 843, 'summer': 844, 'sentiments': 845, 'confess': 846, 'expect': 847, 'ideas': 848, 'seven': 849, 'affected': 850, 'painful': 851, 'sooner': 852, 'winter': 853, 'lately': 854, 'reach': 855, 'peace': 856, 'wanting': 857, 'order': 858, 'mine': 859, 'fit': 860, 'nay': 861, 'service': 862, 'report': 863, 'gratitude': 864, 'connexion': 865, 'actually': 866, 'astonishment': 867, 'produced': 868, 'tenderness': 869, 'continually': 870, 'wrong': 871, 'misery': 872, 'ended': 873, 'suspense': 874, 'superiority': 875, 'humour': 876, 'autumn': 877, 'begin': 878, 'happen': 879, 'excepting': 880, 'joined': 881, 'avoid': 882, 'suffer': 883, 're': 884, 'evidently': 885, 'join': 886, 'ask': 887, 'fancied': 888, 'dr': 889, 'promise': 890, 'evident': 891, 'smiled': 892, 'sensations': 893, 'november': 894, 'month': 895, 'lord': 896, 'blessing': 897, 'inferior': 898, 'claim': 899, 'superior': 900, 'quit': 901, 'intimate': 902, 'village': 903, 'widow': 904, 'features': 905, 'excite': 906, 'work': 907, 'follow': 908, 'closed': 909, 'following': 910, 'equally': 911, 'interval': 912, 'admit': 913, 'solicitude': 914, 'thoughts': 915, 'views': 916, 'recommend': 917, 'quick': 918, 'capable': 919, 'complete': 920, 'distance': 921, 'dreadful': 922, 'suit': 923, 'secret': 924, 'intimacy': 925, 'affection': 926, 'dangerous': 927, 'companion': 928, 'removal': 929, 'war': 930, 'matters': 931, 'thus': 932, 'venture': 933, 'safe': 934, 'pause': 935, 'hard': 936, 'allow': 937, 'persons': 938, 'convinced': 939, 'fell': 940, 'possibility': 941, 'contrary': 942, 'ay': 943, 'highest': 944, 'hopes': 945, 'imagined': 946, 'except': 947, 'cheerful': 948, 'nerves': 949, 'recollection': 950, 'proved': 951, 'compliments': 952, 'divided': 953, 'absence': 954, 'warmly': 955, 'fall': 956, 'escape': 957, 'arrived': 958, 'soul': 959, 'stopped': 960, 'enquiries': 961, 'subjects': 962, 'dress': 963, 'otherwise': 964, 'listening': 965, 'indifferent': 966, 'mamma': 967, 'visited': 968, 'anywhere': 969, 'necessity': 970, 'thirty': 971, 'forgotten': 972, 'praise': 973, 'arrival': 974, 'send': 975, 'attend': 976, 'motive': 977, 'quietly': 978, 'try': 979, 'desire': 980, 'ah': 981, 'entered': 982, 'comprehend': 983, 'pray': 984, 'suffered': 985, 'tired': 986, 'attentions': 987, 'sounds': 988, 'mistaken': 989, 'afford': 990, 'hill': 991, 'move': 992, 'news': 993, 'rain': 994, 'welcome': 995, 'book': 996, 'roused': 997, 'affairs': 998, 'changed': 999, 'favourite': 1000, 'arms': 1001, 'principal': 1002, 'deserved': 1003, 'judgement': 1004, 'whatever': 1005, 'public': 1006, 'dark': 1007, 'reading': 1008, 'possession': 1009, 'law': 1010, 'shewn': 1011, 'event': 1012, 'line': 1013, 'ceased': 1014, 'acknowledged': 1015, 'circle': 1016, 'loss': 1017, 'hold': 1018, 'notions': 1019, 'scheme': 1020, 'persuade': 1021, 'families': 1022, 'pay': 1023, 'act': 1024, 'judge': 1025, 'spent': 1026, 'interrupted': 1027, 'civility': 1028, 'greatest': 1029, 'beg': 1030, 'bless': 1031, 'curate': 1032, 'standing': 1033, 'picture': 1034, 'body': 1035, 'immediate': 1036, 'furniture': 1037, 'monkford': 1038, 'names': 1039, 'number': 1040, 'cheeks': 1041, 'fail': 1042, 'gradually': 1043, 'receive': 1044, 'theirs': 1045, 'earlier': 1046, 'distinguished': 1047, 'exertion': 1048, 'conviction': 1049, 'parties': 1050, 'previously': 1051, 'convey': 1052, 'habit': 1053, 'consequently': 1054, 'burst': 1055, 'observation': 1056, 'enjoy': 1057, 'confusion': 1058, 'tolerable': 1059, 'maid': 1060, 'observing': 1061, 'increased': 1062, 'exclaimed': 1063, 'expression': 1064, 'form': 1065, 'minute': 1066, 'emotion': 1067, 'laconia': 1068, 'impression': 1069, 'setting': 1070, 'aunt': 1071, 'ease': 1072, 'story': 1073, 'shewed': 1074, 'acknowledge': 1075, 'thousand': 1076, 'deep': 1077, 'proud': 1078, 'purpose': 1079, 'pardon': 1080, 'steps': 1081, 'reflection': 1082, 'spot': 1083, 'fallen': 1084, 'gratification': 1085, 'lives': 1086, 'astonished': 1087, 'recovering': 1088, 'marrying': 1089, 'writing': 1090, 'persuasion': 1091, 'died': 1092, 'held': 1093, 'amiable': 1094, 'authority': 1095, 'settle': 1096, 'close': 1097, 'neighbours': 1098, 'steady': 1099, 'remaining': 1100, 'elegance': 1101, 'fancy': 1102, 'bloom': 1103, 'admire': 1104, 'nine': 1105, 'foot': 1106, 'mistress': 1107, 'decision': 1108, 'younger': 1109, 'honours': 1110, 'sought': 1111, 'expressed': 1112, 'habits': 1113, 'seriously': 1114, 'proposed': 1115, 'opposition': 1116, 'rational': 1117, 'principle': 1118, 'secure': 1119, 'difficulty': 1120, 'gentle': 1121, 'quarter': 1122, 'support': 1123, 'important': 1124, 'lose': 1125, 'passing': 1126, 'intention': 1127, 'clever': 1128, 'choice': 1129, 'rate': 1130, 'during': 1131, 'agree': 1132, 'sweet': 1133, 'grounds': 1134, 'plain': 1135, 'sailors': 1136, 'says': 1137, 'heaven': 1138, 'indies': 1139, 'eagerly': 1140, 'infinitely': 1141, 'note': 1142, 'sigh': 1143, 'felicity': 1144, 'connexions': 1145, 'horror': 1146, 'light': 1147, 'sufficient': 1148, 'command': 1149, 'apparent': 1150, 'unable': 1151, 'excuse': 1152, 'improvement': 1153, 'catch': 1154, 'considerable': 1155, 'sofa': 1156, 'sudden': 1157, 'boys': 1158, 'music': 1159, 'intended': 1160, 'knows': 1161, 'illness': 1162, 'conscious': 1163, 'friendly': 1164, 'dancing': 1165, 'comes': 1166, 'watch': 1167, 'carried': 1168, 'laughing': 1169, 'courage': 1170, 'suddenly': 1171, 'visits': 1172, 'thrown': 1173, 'companions': 1174, 'learnt': 1175, 'parted': 1176, 'repeated': 1177, 'ourselves': 1178, 'luck': 1179, 'excessively': 1180, 'smiles': 1181, 'disposition': 1182, 'broken': 1183, 'plymouth': 1184, 'momentary': 1185, 'speech': 1186, 'collected': 1187, 'prevent': 1188, 'moved': 1189, 'safely': 1190, 'delightful': 1191, 'decidedly': 1192, 'whenever': 1193, 'struggle': 1194, 'refused': 1195, 'excited': 1196, 'entering': 1197, 'led': 1198, 'accident': 1199, 'recovered': 1200, 'concerned': 1201, 'glow': 1202, 'laura': 1203, 'westgate': 1204, 'rooke': 1205, 'chair': 1206, 'distressed': 1207, 'naturally': 1208, 'failed': 1209, 'born': 1210, 'james': 1211, 'precisely': 1212, 'information': 1213, 'rise': 1214, 'fifty': 1215, 'humoured': 1216, 'happiest': 1217, 'thirteen': 1218, 'explanation': 1219, 'private': 1220, 'single': 1221, 'succeeded': 1222, 'happily': 1223, 'totally': 1224, 'remembrance': 1225, 'presented': 1226, 'youngest': 1227, 'moreover': 1228, 'disappointed': 1229, 'introduction': 1230, 'independence': 1231, 'twice': 1232, 'apparently': 1233, 'belonged': 1234, 'alarm': 1235, 'cut': 1236, 'borne': 1237, 'estate': 1238, 'consideration': 1239, 'attentive': 1240, 'obliging': 1241, 'higher': 1242, 'convince': 1243, 'makes': 1244, 'worst': 1245, 'conscience': 1246, 'servants': 1247, 'latter': 1248, 'attended': 1249, 'opposite': 1250, 'material': 1251, 'induced': 1252, 'fortitude': 1253, 'caution': 1254, 'earnest': 1255, 'arrangements': 1256, 'distant': 1257, 'naval': 1258, 'lucky': 1259, 'greatly': 1260, 'add': 1261, 'save': 1262, 'sailor': 1263, 'ways': 1264, 'supposing': 1265, 'grant': 1266, 'established': 1267, 'points': 1268, 'lines': 1269, 'forty': 1270, 'easily': 1271, 'wretched': 1272, 'regular': 1273, 'pursuits': 1274, 'officer': 1275, 'taunton': 1276, 'suited': 1277, 'odd': 1278, 'formed': 1279, 'proceed': 1280, 'wise': 1281, 'offer': 1282, 'cool': 1283, 'intelligence': 1284, 'deeply': 1285, 'receiving': 1286, 'exquisite': 1287, 'consent': 1288, 'nineteen': 1289, 'interference': 1290, 'ship': 1291, 'station': 1292, 'comparison': 1293, 'memory': 1294, 'thoroughly': 1295, 'cure': 1296, 'enter': 1297, 'probable': 1298, 'folly': 1299, 'human': 1300, 'england': 1301, 'daily': 1302, 'declared': 1303, 'cordiality': 1304, 'hurried': 1305, 'christmas': 1306, 'sad': 1307, 'readily': 1308, 'feared': 1309, 'freckles': 1310, 'absurd': 1311, 'beautiful': 1312, 'rendered': 1313, 'hopeless': 1314, 'draw': 1315, 'precious': 1316, 'accordingly': 1317, 'houses': 1318, 'hurry': 1319, 'cheerfulness': 1320, 'mutual': 1321, 'learn': 1322, 'elliots': 1323, 'papa': 1324, 'grace': 1325, 'language': 1326, 'sending': 1327, 't': 1328, 'communication': 1329, 'thinks': 1330, 'nursery': 1331, 'respects': 1332, 'proceeded': 1333, 'wild': 1334, 'occasionally': 1335, 'sentiment': 1336, 'paid': 1337, 'unfeeling': 1338, 'dick': 1339, 'dead': 1340, 'relief': 1341, 'recollected': 1342, 'impatient': 1343, 'amused': 1344, 'cause': 1345, 'kindly': 1346, 'events': 1347, 'inconvenient': 1348, 'supply': 1349, 'renewed': 1350, 'asp': 1351, 'west': 1352, 'distinguish': 1353, 'corner': 1354, 'recommendation': 1355, 'accommodations': 1356, 'conveyed': 1357, 'north': 1358, 'politeness': 1359, 'education': 1360, 'lively': 1361, 'above': 1362, 'quitting': 1363, 'composure': 1364, 'particulars': 1365, 'recover': 1366, 'arranged': 1367, 'accept': 1368, 'drawn': 1369, 'scenes': 1370, 'fresh': 1371, 'run': 1372, 'hedge': 1373, 'space': 1374, 'effects': 1375, 'careless': 1376, 'sophy': 1377, 'suspect': 1378, 'mourning': 1379, 'quitted': 1380, 'delight': 1381, 'ventured': 1382, 'agony': 1383, 'various': 1384, 'twelve': 1385, 'write': 1386, 'surgeon': 1387, 'assistance': 1388, 'delay': 1389, 'essential': 1390, 'recovery': 1391, 'telling': 1392, 'pretend': 1393, 'streets': 1394, 'risk': 1395, 'decent': 1396, 'impressions': 1397, 'hearted': 1398, 'guess': 1399, 'union': 1400, 'occupation': 1401, 'contempt': 1402, 'esq': 1403, 'respectable': 1404, 'office': 1405, 'respectability': 1406, 'advice': 1407, 'apology': 1408, 'continuing': 1409, 'becoming': 1410, 'convenience': 1411, 'valued': 1412, 'alliance': 1413, 'connected': 1414, 'fool': 1415, 'increase': 1416, 'leading': 1417, 'chaise': 1418, 'travelled': 1419, 'approach': 1420, 'rejoiced': 1421, 'black': 1422, 'hereafter': 1423, 'prosperity': 1424, 'scene': 1425, 'residence': 1426, 'abroad': 1427, 'drive': 1428, 'income': 1429, 'attempt': 1430, 'occur': 1431, 'finally': 1432, 'lessening': 1433, 'civil': 1434, 'offering': 1435, 'reference': 1436, 'strict': 1437, 'compassion': 1438, 'influenced': 1439, 'submitted': 1440, 'paper': 1441, 'lessened': 1442, 'acting': 1443, 'inclined': 1444, 'success': 1445, 'involved': 1446, 'scruple': 1447, 'fate': 1448, 'preferred': 1449, 'advantages': 1450, 'spending': 1451, 'mistake': 1452, 'lodge': 1453, 'trial': 1454, 'stronger': 1455, 'heads': 1456, 'dared': 1457, 'offered': 1458, 'complaisance': 1459, 'carry': 1460, 'included': 1461, 'experience': 1462, 'tenants': 1463, 'free': 1464, 'suggest': 1465, 'difficult': 1466, 'chose': 1467, 'careful': 1468, 'valuable': 1469, 'jealous': 1470, 'belonging': 1471, 'objection': 1472, 'active': 1473, 'injury': 1474, 'honourable': 1475, 'places': 1476, 'concerns': 1477, 'connection': 1478, 'white': 1479, 'resident': 1480, 'hundred': 1481, 'curacy': 1482, 'zeal': 1483, 'supplied': 1484, 'uttered': 1485, 'employed': 1486, 'gentleness': 1487, 'attraction': 1488, 'applied': 1489, 'uncertain': 1490, 'grieved': 1491, 'prevented': 1492, 'belief': 1493, 'peculiar': 1494, 'willing': 1495, 'constancy': 1496, 'blame': 1497, 'happier': 1498, 'maintaining': 1499, 'assisted': 1500, 'drove': 1501, 'arrangement': 1502, 'unwell': 1503, 'startled': 1504, 'merits': 1505, 'absolutely': 1506, 'deserted': 1507, 'journey': 1508, 'mansion': 1509, 'mile': 1510, 'running': 1511, 'shooting': 1512, 'noise': 1513, 'grown': 1514, 'addition': 1515, 'undoubtedly': 1516, 'powers': 1517, 'usefulness': 1518, 'benefit': 1519, 'couple': 1520, 'don': 1521, 'wherever': 1522, 'ruin': 1523, 'dined': 1524, 'jealousy': 1525, 'played': 1526, 'sensation': 1527, 'mortification': 1528, 'master': 1529, 'bright': 1530, 'related': 1531, 'reasonable': 1532, 'edward': 1533, 'certainty': 1534, 'richard': 1535, 'piece': 1536, 'shore': 1537, 'cared': 1538, 'rid': 1539, 'strongest': 1540, 'express': 1541, 'joy': 1542, 'bed': 1543, 'stir': 1544, 'tuesday': 1545, 'waited': 1546, 'slight': 1547, 'later': 1548, 'gratified': 1549, 'bow': 1550, 'footing': 1551, 'cleared': 1552, 'alas': 1553, 'wound': 1554, 'composed': 1555, 'attached': 1556, 'described': 1557, 'hearts': 1558, 'strangers': 1559, 'accounts': 1560, 'appointment': 1561, 'wants': 1562, 'lovely': 1563, 'gallantry': 1564, 'assist': 1565, 'hayters': 1566, 'doors': 1567, 'compared': 1568, 'pounds': 1569, 'please': 1570, 'liking': 1571, 'presently': 1572, 'attempts': 1573, 'angry': 1574, 'entrance': 1575, 'evils': 1576, 'admired': 1577, 'worthy': 1578, 'tender': 1579, 'somewhere': 1580, 'animation': 1581, 'unjust': 1582, 'spread': 1583, 'church': 1584, 'conclusion': 1585, 'relation': 1586, 'ground': 1587, 'poetry': 1588, 'concern': 1589, 'lower': 1590, 'preparing': 1591, 'restored': 1592, 'propriety': 1593, 'somebody': 1594, 'raised': 1595, 'intervals': 1596, 'shocked': 1597, 'calm': 1598, 'stand': 1599, 'gay': 1600, 'reconciliation': 1601, 'result': 1602, 'fortnight': 1603, 'decide': 1604, 'eagerness': 1605, 'formerly': 1606, 'neglect': 1607, 'marlborough': 1608, 'assured': 1609, 'worldly': 1610, 'earnestly': 1611, 'relationship': 1612, 'selfishness': 1613, 'explain': 1614, 'relations': 1615, 'liberty': 1616, 'sees': 1617, 'enquiry': 1618, 'milsom': 1619, 'italian': 1620, 'cruel': 1621, 'box': 1622, 'pen': 1623, 'somersetshire': 1624, 'consolation': 1625, 'earliest': 1626, 'volume': 1627, 'park': 1628, 'county': 1629, 'adding': 1630, 'exertions': 1631, 'forming': 1632, 'william': 1633, 'united': 1634, 'owed': 1635, 'duties': 1636, 'attach': 1637, 'silly': 1638, 'deserving': 1639, 'anxiously': 1640, 'applications': 1641, 'tempted': 1642, 'acquired': 1643, 'artificial': 1644, 'sweetness': 1645, 'weight': 1646, 'rapid': 1647, 'dining': 1648, 'opening': 1649, 'blood': 1650, 'disappointment': 1651, 'modest': 1652, 'encouraged': 1653, 'marked': 1654, 'consulted': 1655, 'unworthy': 1656, 'informed': 1657, 'agitations': 1658, 'accomplishments': 1659, 'article': 1660, 'unnecessary': 1661, 'measures': 1662, 'propose': 1663, 'comforts': 1664, 'cautious': 1665, 'disagreeable': 1666, 'begged': 1667, 'possessed': 1668, 'exact': 1669, 'calculations': 1670, 'proceeding': 1671, 'list': 1672, 'restrictions': 1673, 'choose': 1674, 'comparatively': 1675, 'convenient': 1676, 'settling': 1677, 'oppose': 1678, 'improve': 1679, 'repeatedly': 1680, 'selfish': 1681, 'bestow': 1682, 'estimate': 1683, 'officers': 1684, 'remark': 1685, 'driven': 1686, 'cases': 1687, 'instances': 1688, 'eat': 1689, 'baldwin': 1690, 'rough': 1691, 'seldom': 1692, 'worn': 1693, 'clergyman': 1694, 'application': 1695, 'hastened': 1696, 'owner': 1697, 'livery': 1698, 'hearty': 1699, 'behaviour': 1700, 'eloquent': 1701, 'pointing': 1702, 'appeal': 1703, 'fix': 1704, 'precedence': 1705, 'seek': 1706, 'arose': 1707, 'stranger': 1708, 'sunk': 1709, 'dependence': 1710, 'powerful': 1711, 'imprudence': 1712, 'principally': 1713, 'parting': 1714, 'removed': 1715, 'fears': 1716, 'actual': 1717, 'path': 1718, 'employ': 1719, 'gained': 1720, 'distrust': 1721, 'learned': 1722, 'grew': 1723, 'older': 1724, 'recollections': 1725, 'stroll': 1726, 'calmness': 1727, 'grateful': 1728, 'trust': 1729, 'delicacy': 1730, 'awkwardness': 1731, 'flattered': 1732, 'polished': 1733, 'harm': 1734, 'preceding': 1735, 'september': 1736, 'grieving': 1737, 'entreated': 1738, 'possibly': 1739, 'reproach': 1740, 'suspicion': 1741, 'suspected': 1742, 'unhappy': 1743, 'melancholy': 1744, 'solitude': 1745, 'fancying': 1746, 'unfit': 1747, 'enquired': 1748, 'wrote': 1749, 'busy': 1750, 'remarkable': 1751, 'patience': 1752, 'ceremony': 1753, 'believing': 1754, 'fashioned': 1755, 'harp': 1756, 'hospitable': 1757, 'creatures': 1758, 'pleasantly': 1759, 'total': 1760, 'occupying': 1761, 'separate': 1762, 'prospect': 1763, 'dread': 1764, 'shame': 1765, 'exert': 1766, 'hate': 1767, 'partiality': 1768, 'inviting': 1769, 'oftener': 1770, 'jemima': 1771, 'tells': 1772, 'employment': 1773, 'parents': 1774, 'performance': 1775, 'visitors': 1776, 'depended': 1777, 'compliment': 1778, 'touch': 1779, 'driving': 1780, 'animated': 1781, 'complexion': 1782, 'explained': 1783, 'c': 1784, 'regretted': 1785, 'liable': 1786, 'disinterested': 1787, 'bent': 1788, 'shew': 1789, 'alarming': 1790, 'invite': 1791, 'invitations': 1792, 'ascertain': 1793, 'talks': 1794, 'hysterical': 1795, 'belong': 1796, 'alarmed': 1797, 'stairs': 1798, 'sincerity': 1799, 'charming': 1800, 'finish': 1801, 'changes': 1802, 'third': 1803, 'spared': 1804, 'destroyed': 1805, 'glowing': 1806, 'rejoice': 1807, 'forgiven': 1808, 'endure': 1809, 'weakness': 1810, 'asking': 1811, 'meetings': 1812, 'forth': 1813, 'whisper': 1814, 'overcome': 1815, 'commanded': 1816, 'phoo': 1817, 'vexed': 1818, 'sincere': 1819, 'forgot': 1820, 'class': 1821, 'fast': 1822, 'pains': 1823, 'kindest': 1824, 'alive': 1825, 'mental': 1826, 'figure': 1827, 'water': 1828, 'blessed': 1829, 'inconvenience': 1830, 'separation': 1831, 'services': 1832, 'doubtful': 1833, 'nonsense': 1834, 'unless': 1835, 'staid': 1836, 'absent': 1837, 'secured': 1838, 'politely': 1839, 'straight': 1840, 'watching': 1841, 'trifle': 1842, 'longed': 1843, 'produce': 1844, 'communicated': 1845, 'season': 1846, 'yard': 1847, 'leaning': 1848, 'unpleasant': 1849, 'nut': 1850, 'weak': 1851, 'motion': 1852, 'complain': 1853, 'lane': 1854, 'declined': 1855, 'calmer': 1856, 'witnessed': 1857, 'merit': 1858, 'curricle': 1859, 'fanny': 1860, 'curious': 1861, 'openness': 1862, 'expectation': 1863, 'interchange': 1864, 'civilities': 1865, 'presence': 1866, 'intimately': 1867, 'fearing': 1868, 'scrupulous': 1869, 'shop': 1870, 'wind': 1871, 'quickly': 1872, 'compare': 1873, 'watched': 1874, 'waiter': 1875, 'strike': 1876, 'polite': 1877, 'fairly': 1878, 'alike': 1879, 'pavement': 1880, 'sinking': 1881, 'escaped': 1882, 'distressing': 1883, 'irresistible': 1884, 'expressions': 1885, 'judged': 1886, 'announced': 1887, 'encouraging': 1888, 'solitary': 1889, 'filled': 1890, 'leisure': 1891, 'remembered': 1892, 'frightful': 1893, 'goodness': 1894, 'fault': 1895, 'holidays': 1896, 'ceaseless': 1897, 'rivers': 1898, 'cards': 1899, 'favourable': 1900, 'surely': 1901, 'embarrassed': 1902, 'knock': 1903, 'stop': 1904, 'remembering': 1905, 'alacrity': 1906, 'sensibility': 1907, 'dowager': 1908, 'viscountess': 1909, 'dalrymples': 1910, 'fixing': 1911, 'hamilton': 1912, 'takes': 1913, 'intelligent': 1914, 'succeeding': 1915, 'suspecting': 1916, 'perceive': 1917, 'boat': 1918, 'daring': 1919, 'deficient': 1920, 'mischief': 1921, 'blush': 1922, 'arrive': 1923, 'song': 1924, 'nearer': 1925, 'prove': 1926, '1': 1927, 'idle': 1928, 'unwelcome': 1929, 'june': 1930, '5': 1931, 'originally': 1932, 'date': 1933, 'ancient': 1934, 'presumptive': 1935, 'remarkably': 1936, 'pardoned': 1937, 'softened': 1938, 'seventeen': 1939, 'fourteen': 1940, 'awful': 1941, 'guidance': 1942, 'principles': 1943, 'provided': 1944, 'apt': 1945, 'height': 1946, 'delicate': 1947, 'faded': 1948, 'esteem': 1949, 'happens': 1950, 'excused': 1951, 'deemed': 1952, 'amidst': 1953, 'ball': 1954, 'regrets': 1955, 'apprehensions': 1956, 'solicited': 1957, 'supported': 1958, 'seeking': 1959, 'allowance': 1960, 'disapprobation': 1961, 'attempted': 1962, 'noticed': 1963, 'awkward': 1964, 'wearing': 1965, 'cares': 1966, 'alloy': 1967, 'utility': 1968, 'economy': 1969, 'dreadfully': 1970, 'retrench': 1971, 'ardour': 1972, 'female': 1973, 'unfortunate': 1974, 'expenses': 1975, 'involving': 1976, 'prompted': 1977, 'slightest': 1978, 'resolute': 1979, 'adopted': 1980, 'abilities': 1981, 'instance': 1982, 'solicitous': 1983, 'correct': 1984, 'neighbour': 1985, 'entitled': 1986, 'quicker': 1987, 'knocked': 1988, 'alter': 1989, 'hospitality': 1990, 'model': 1991, 'dislike': 1992, 'happening': 1993, 'avoided': 1994, 'breathed': 1995, 'design': 1996, 'dropped': 1997, 'supposition': 1998, 'additional': 1999, 'art': 2000, 'previous': 2001, 'injustice': 2002, 'endeavoured': 2003, 'pursued': 2004, 'suitable': 2005, 'laid': 2006, 'prize': 2007, 'laughed': 2008, 'wit': 2009, 'unquestionably': 2010, 'rising': 2011, 'liberality': 2012, 'flower': 2013, 'coolly': 2014, 'range': 2015, 'garden': 2016, 'distinction': 2017, 'raising': 2018, 'disgust': 2019, 'st': 2020, 'colour': 2021, 'basil': 2022, 'grow': 2023, 'professions': 2024, 'lot': 2025, 'blessings': 2026, 'utmost': 2027, 'cease': 2028, 'conference': 2029, 'suspicious': 2030, 'east': 2031, 'stationed': 2032, 'rent': 2033, 'fetch': 2034, 'questions': 2035, 'amongst': 2036, 'consult': 2037, 'breaking': 2038, 'misled': 2039, 'wonders': 2040, 'nobility': 2041, 'dwell': 2042, 'extreme': 2043, 'bid': 2044, 'nation': 2045, 'listener': 2046, 'parent': 2047, 'encounter': 2048, 'perfection': 2049, 'accepted': 2050, 'professed': 2051, 'involve': 2052, 'affluence': 2053, 'throwing': 2054, 'bewitching': 2055, 'aggravation': 2056, 'withstand': 2057, 'improper': 2058, 'prudent': 2059, 'chief': 2060, 'lasting': 2061, 'novelty': 2062, 'discretion': 2063, 'affections': 2064, 'alluded': 2065, 'guided': 2066, 'similar': 2067, 'calculated': 2068, 'step': 2069, 'newspapers': 2070, 'insult': 2071, 'providence': 2072, 'continual': 2073, 'discussion': 2074, 'whispered': 2075, 'appointed': 2076, 'fire': 2077, 'michaelmas': 2078, 'removing': 2079, 'unwilling': 2080, 'engagements': 2081, 'complaints': 2082, 'entreaty': 2083, 'claimed': 2084, 'wondered': 2085, 'sore': 2086, 'remarks': 2087, 'reverse': 2088, 'condition': 2089, 'tolerably': 2090, 'safety': 2091, 'reconcile': 2092, 'observant': 2093, 'prepared': 2094, 'afflicted': 2095, 'tranquillity': 2096, 'stage': 2097, 'english': 2098, 'containing': 2099, 'farm': 2100, 'windows': 2101, 'indisposition': 2102, 'appearing': 2103, 'thursday': 2104, 'ring': 2105, 'clock': 2106, 'cheerfully': 2107, 'horse': 2108, 'unkind': 2109, 'parish': 2110, 'concluded': 2111, 'strange': 2112, 'sits': 2113, 'imprudent': 2114, 'endeavour': 2115, 'parlour': 2116, 'piano': 2117, 'minds': 2118, 'thousands': 2119, 'fashionable': 2120, 'merry': 2121, 'faces': 2122, 'saved': 2123, 'amiss': 2124, 'treated': 2125, 'submit': 2126, 'sympathy': 2127, 'resolve': 2128, 'game': 2129, 'engage': 2130, 'fitting': 2131, 'ere': 2132, 'imagination': 2133, 'contemplation': 2134, 'bore': 2135, 'practice': 2136, 'faith': 2137, 'practicable': 2138, 'spoilt': 2139, 'troublesome': 2140, 'checking': 2141, 'upper': 2142, 'dressing': 2143, 'mentioning': 2144, 'doubts': 2145, 'asunder': 2146, 'singing': 2147, 'pleasures': 2148, 'preferring': 2149, 'post': 2150, 'recommended': 2151, 'beloved': 2152, 'prospects': 2153, 'limbs': 2154, 'tall': 2155, 'bias': 2156, 'moving': 2157, 'expecting': 2158, 'engrossed': 2159, 'recollecting': 2160, 'worked': 2161, 'thick': 2162, 'removals': 2163, 'frigate': 2164, 'ships': 2165, 'grief': 2166, 'repeating': 2167, 'insensible': 2168, 'inevitably': 2169, 'midst': 2170, 'afternoon': 2171, 'examined': 2172, 'robinson': 2173, 'grave': 2174, 'ran': 2175, 'recent': 2176, 'hence': 2177, 'shock': 2178, 'nursing': 2179, 'scruples': 2180, 'exist': 2181, 'seeming': 2182, 'preparation': 2183, 'mark': 2184, 'nervous': 2185, 'speed': 2186, 'fifteen': 2187, 'named': 2188, 'descriptions': 2189, 'perpetual': 2190, 'discerned': 2191, 'ignorance': 2192, 'questioned': 2193, 'learning': 2194, 'accommodation': 2195, 'spare': 2196, 'suppressed': 2197, 'relieved': 2198, 'bottom': 2199, 'fellows': 2200, 'sloop': 2201, 'fashion': 2202, 'foul': 2203, 'passage': 2204, 'exclamations': 2205, 'gibraltar': 2206, 'somewhat': 2207, 'size': 2208, 'sorrow': 2209, 'affliction': 2210, 'sacrifices': 2211, 'portsmouth': 2212, 'thankful': 2213, 'confined': 2214, 'sickness': 2215, 'deference': 2216, 'playing': 2217, 'arriving': 2218, 'shropshire': 2219, 'reception': 2220, 'charms': 2221, 'everywhere': 2222, 'retired': 2223, 'chosen': 2224, 'pleasanter': 2225, 'positive': 2226, 'prefer': 2227, 'probability': 2228, 'affectionate': 2229, 'sufferings': 2230, 'interested': 2231, 'nearest': 2232, 'engaging': 2233, 'invalid': 2234, 'released': 2235, 'satisfy': 2236, 'patient': 2237, 'shake': 2238, 'ordered': 2239, 'stepping': 2240, 'enabled': 2241, 'regretting': 2242, 'accepting': 2243, 'across': 2244, 'chat': 2245, 'enthusiasm': 2246, 'catching': 2247, 'analogy': 2248, 'declining': 2249, 'gate': 2250, 'stile': 2251, 'adjoining': 2252, 'row': 2253, 'confirm': 2254, 'resist': 2255, 'yielding': 2256, 'emotions': 2257, 'minutiae': 2258, 'lament': 2259, 'instinctively': 2260, 'perception': 2261, 'resentment': 2262, 'impulse': 2263, 'prevailed': 2264, 'answers': 2265, 'yarmouth': 2266, 'unaffected': 2267, 'keener': 2268, 'approached': 2269, 'frequent': 2270, 'honoured': 2271, 'thither': 2272, 'sands': 2273, 'varieties': 2274, 'scattered': 2275, 'wonderful': 2276, 'wondering': 2277, 'admiring': 2278, 'grandeur': 2279, 'unlike': 2280, 'dinners': 2281, 'display': 2282, 'increasing': 2283, 'amusing': 2284, 'repose': 2285, 'bound': 2286, 'furnish': 2287, 'apologies': 2288, 'shy': 2289, 'restraints': 2290, 'enjoyed': 2291, 'examples': 2292, 'implied': 2293, 'procure': 2294, 'resignation': 2295, 'attendance': 2296, 'courteous': 2297, 'chamber': 2298, 'readiness': 2299, 'rapidity': 2300, 'hanging': 2301, 'interview': 2302, 'direct': 2303, 'keeping': 2304, 'byron': 2305, 'cape': 2306, 'grappler': 2307, 'gladly': 2308, 'senses': 2309, 'suggested': 2310, 'hung': 2311, 'animate': 2312, 'gently': 2313, 'helpless': 2314, 'beneath': 2315, 'fear': 2316, 'fervent': 2317, 'conceived': 2318, 'reflect': 2319, 'judging': 2320, 'shrink': 2321, 'objects': 2322, 'road': 2323, 'addressed': 2324, 'lessen': 2325, 'brothers': 2326, 'glasses': 2327, 'comparing': 2328, 'ascertained': 2329, 'snug': 2330, 'formal': 2331, 'joint': 2332, 'drop': 2333, 'fearful': 2334, 'press': 2335, 'paying': 2336, 'noises': 2337, 'progress': 2338, 'folding': 2339, 'relative': 2340, 'gain': 2341, 'richer': 2342, 'addresses': 2343, 'excellence': 2344, 'operation': 2345, 'addressing': 2346, 'gowland': 2347, 'excusable': 2348, 'wiser': 2349, 'sighed': 2350, 'indignation': 2351, 'absolute': 2352, 'preserve': 2353, 'buy': 2354, 'recently': 2355, 'appears': 2356, 'shook': 2357, 'plenty': 2358, 'existence': 2359, 'schoolfellow': 2360, 'affectionately': 2361, 'communicate': 2362, 'unfairly': 2363, 'belmont': 2364, 'christian': 2365, 'breathe': 2366, 'confused': 2367, 'overpowering': 2368, 'portion': 2369, 'curtains': 2370, 'waste': 2371, 'octagon': 2372, 'agitated': 2373, 'group': 2374, 'penance': 2375, 'demands': 2376, 'disappeared': 2377, 'surrounded': 2378, 'bench': 2379, 'gravely': 2380, 'intelligible': 2381, 'monday': 2382, 'message': 2383, 'thoughtful': 2384, 'double': 2385, 'holds': 2386, 'hastily': 2387, 'hart': 2388, 'deserve': 2389, 'protested': 2390, 'sex': 2391, 'baronetage': 2392, 'limited': 2393, 'arising': 2394, 'creations': 2395, 'page': 2396, 'july': 2397, '15': 2398, 'south': 2399, 'august': 2400, '9': 2401, '20': 2402, 'paragraph': 2403, '16': 2404, 'somerset': 2405, 'representing': 2406, 'successive': 2407, 'concluding': 2408, 'motto': 2409, 'grandson': 2410, 'baronetcy': 2411, 'warmest': 2412, 'devotion': 2413, 'concealed': 2414, 'sixteen': 2415, 'charge': 2416, 'relied': 2417, 'anticipated': 2418, 'widower': 2419, 'needs': 2420, 'requires': 2421, 'disappointments': 2422, 'thin': 2423, 'handsomer': 2424, 'forgetting': 2425, 'blooming': 2426, 'coarse': 2427, 'temples': 2428, 'presiding': 2429, 'directing': 2430, 'laying': 2431, 'revolving': 2432, 'afforded': 2433, 'twelvemonth': 2434, 'averted': 2435, 'study': 2436, 'confirmed': 2437, 'pushing': 2438, 'uniting': 2439, 'regarded': 2440, 'anger': 2441, 'willingly': 2442, 'disgrace': 2443, 'disrespectfully': 2444, 'nothingness': 2445, 'fill': 2446, 'talents': 2447, 'occupy': 2448, 'heavy': 2449, 'apprehension': 2450, 'method': 2451, 'debt': 2452, 'partially': 2453, 'custom': 2454, 'extent': 2455, 'deeper': 2456, 'efficacy': 2457, 'relinquishing': 2458, 'entire': 2459, 'market': 2460, 'remove': 2461, 'embarrassments': 2462, 'lawyer': 2463, 'advised': 2464, 'zealous': 2465, 'desirous': 2466, 'saving': 2467, 'honesty': 2468, 'benevolent': 2469, 'charitable': 2470, 'attachments': 2471, 'decorum': 2472, 'standard': 2473, 'breeding': 2474, 'cultivated': 2475, 'consistent': 2476, 'faults': 2477, 'independent': 2478, 'landlord': 2479, 'plans': 2480, 'reformation': 2481, 'regulations': 2482, 'reductions': 2483, 'prevailing': 2484, 'comprehensive': 2485, 'rated': 2486, 'sacrifice': 2487, 'started': 2488, 'dictate': 2489, 'materially': 2490, 'modes': 2491, 'household': 2492, 'groves': 2493, 'trusted': 2494, 'dissuade': 2495, 'expense': 2496, 'projected': 2497, 'mortifications': 2498, 'prejudice': 2499, 'secondly': 2500, 'larger': 2501, 'strengthened': 2502, 'degradation': 2503, 'acceptable': 2504, 'reserve': 2505, 'outward': 2506, 'observances': 2507, 'sensibly': 2508, 'discredit': 2509, 'lesser': 2510, 'occasions': 2511, 'unequal': 2512, 'newspaper': 2513, 'ashore': 2514, 'responsible': 2515, 'noble': 2516, 'presume': 2517, 'liberal': 2518, 'contemplated': 2519, 'actions': 2520, 'designs': 2521, 'tax': 2522, 'john': 2523, 'conceal': 2524, 'rumour': 2525, 'replying': 2526, 'nodded': 2527, 'neat': 2528, 'pictures': 2529, 'gardens': 2530, 'shrubberies': 2531, 'neglected': 2532, 'privileges': 2533, 'guard': 2534, 'presumed': 2535, 'rejoinder': 2536, 'offensive': 2537, 'vigour': 2538, 'ives': 2539, 'dab': 2540, 'top': 2541, 'sixty': 2542, 'yourselves': 2543, 'amazement': 2544, 'example': 2545, 'exposed': 2546, 'climate': 2547, 'toil': 2548, 'leaves': 2549, 'travelling': 2550, 'choosing': 2551, 'torment': 2552, 'gifted': 2553, 'foresight': 2554, 'shortly': 2555, 'correspondent': 2556, 'accidentally': 2557, 'action': 2558, 'beaten': 2559, 'furnished': 2560, 'inquired': 2561, 'gun': 2562, 'peculiarly': 2563, 'shrewd': 2564, 'unconnected': 2565, 'penelope': 2566, 'farmer': 2567, 'wall': 2568, 'compromise': 2569, 'term': 2570, 'perceived': 2571, 'ranked': 2572, 'dues': 2573, 'dozen': 2574, 'speaks': 2575, 'appearances': 2576, 'commander': 2577, 'brilliancy': 2578, 'modesty': 2579, 'recommendations': 2580, 'proposals': 2581, 'negative': 2582, 'coldness': 2583, 'degrading': 2584, 'tempered': 2585, 'throw': 2586, 'freely': 2587, 'confident': 2588, 'lead': 2589, 'sanguine': 2590, 'steadiness': 2591, 'advising': 2592, 'acted': 2593, 'denying': 2594, 'final': 2595, 'clouded': 2596, 'dependent': 2597, 'aid': 2598, 'limits': 2599, 'refusal': 2600, 'landed': 2601, 'partialities': 2602, 'permanently': 2603, 'fitted': 2604, 'apply': 2605, 'counsel': 2606, 'wretchedness': 2607, 'delays': 2608, 'solicitudes': 2609, 'results': 2610, 'expectations': 2611, 'justified': 2612, 'foresee': 2613, 'prosperous': 2614, 'sequel': 2615, 'revival': 2616, 'deny': 2617, 'motives': 2618, 'oblivion': 2619, 'anew': 2620, 'foreign': 2621, 'supports': 2622, 'missed': 2623, 'agreement': 2624, 'approved': 2625, 'hesitation': 2626, 'sympathetic': 2627, 'esteemed': 2628, 'dreading': 2629, 'foreseeing': 2630, 'reasoning': 2631, 'measure': 2632, 'hardened': 2633, 'keenly': 2634, 'tooth': 2635, 'assiduous': 2636, 'attractions': 2637, 'perceptible': 2638, 'conceive': 2639, 'forgets': 2640, 'strongly': 2641, 'sakes': 2642, 'induce': 2643, 'defect': 2644, 'ones': 2645, 'resenting': 2646, 'bows': 2647, 'show': 2648, 'break': 2649, 'moderate': 2650, 'squire': 2651, 'walls': 2652, 'trees': 2653, 'substantial': 2654, 'tree': 2655, 'elevated': 2656, 'veranda': 2657, 'french': 2658, 'traveller': 2659, 'lying': 2660, 'shabby': 2661, 'seized': 2662, 'bell': 2663, 'o': 2664, 'unmanageable': 2665, 'plants': 2666, 'arrange': 2667, 'divide': 2668, 'beforehand': 2669, 'uncomfortable': 2670, 'crowded': 2671, 'further': 2672, 'perseverance': 2673, 'upright': 2674, 'offence': 2675, 'floor': 2676, 'forte': 2677, 'portraits': 2678, 'blue': 2679, 'staring': 2680, 'alteration': 2681, 'educated': 2682, 'modern': 2683, 'numerous': 2684, 'enjoyments': 2685, 'unknown': 2686, 'heightened': 2687, 'dogs': 2688, 'females': 2689, 'discourse': 2690, 'parts': 2691, 'respected': 2692, 'sport': 2693, 'lowness': 2694, 'appealed': 2695, 'topics': 2696, 'requested': 2697, 'declaration': 2698, 'cross': 2699, 'healthy': 2700, 'laundry': 2701, 'interfering': 2702, 'stories': 2703, 'complaint': 2704, 'nonsensical': 2705, 'soften': 2706, 'forbearance': 2707, 'forms': 2708, 'fingers': 2709, 'imaginary': 2710, 'sincerely': 2711, 'chanced': 2712, 'fat': 2713, 'uprightness': 2714, 'outlived': 2715, 'blushing': 2716, 'declaring': 2717, 'coat': 2718, 'coach': 2719, 'apologize': 2720, 'amuse': 2721, 'twentieth': 2722, 'midshipmen': 2723, 'likewise': 2724, 'ascertaining': 2725, 'stamped': 2726, 'roof': 2727, 'reckoning': 2728, 'aside': 2729, 'collar': 2730, 'bone': 2731, 'apothecary': 2732, 'frightened': 2733, 'enquiring': 2734, 'vague': 2735, 'pressing': 2736, 'raptures': 2737, 'uneasiness': 2738, 'confirmation': 2739, 'opposed': 2740, 'confinement': 2741, 'husbands': 2742, 'wives': 2743, 'teaze': 2744, 'directions': 2745, 'properest': 2746, 'exultation': 2747, 'undertakes': 2748, 'proposal': 2749, 'pressed': 2750, 'somehow': 2751, 'curtsey': 2752, 'voices': 2753, 'visitor': 2754, 'bowed': 2755, 'finished': 2756, 'spontaneous': 2757, 'gallant': 2758, 'tendency': 2759, 'exception': 2760, 'sophia': 2761, 'foolish': 2762, 'pretence': 2763, 'reverted': 2764, 'qualified': 2765, 'utter': 2766, 'impossibility': 2767, 'filling': 2768, 'exceptions': 2769, 'estrangement': 2770, 'ridicule': 2771, 'ignorant': 2772, 'entertain': 2773, 'built': 2774, 'applying': 2775, 'pelisse': 2776, 'lent': 2777, 'wet': 2778, 'entertaining': 2779, 'nights': 2780, 'aloud': 2781, 'hunting': 2782, 'mouth': 2783, 'transient': 2784, 'insignificant': 2785, 'pensive': 2786, 'proportions': 2787, 'turns': 2788, 'lisbon': 2789, 'abused': 2790, 'efforts': 2791, 'port': 2792, 'smooth': 2793, 'crossed': 2794, 'exceed': 2795, 'disordered': 2796, 'seas': 2797, 'instrument': 2798, 'desired': 2799, 'joyous': 2800, 'universal': 2801, 'trace': 2802, 'charmed': 2803, 'unintentionally': 2804, 'madam': 2805, 'friendliness': 2806, 'flattery': 2807, 'gig': 2808, 'establishment': 2809, 'hitherto': 2810, 'orders': 2811, 'unguarded': 2812, 'marriages': 2813, 'scholar': 2814, 'envy': 2815, 'capital': 2816, 'pretensions': 2817, 'misfortune': 2818, 'connections': 2819, 'land': 2820, 'shocking': 2821, 'natured': 2822, 'mixed': 2823, 'pained': 2824, 'occasioned': 2825, 'wholly': 2826, 'infirm': 2827, 'fatigue': 2828, 'calmly': 2829, 'crossing': 2830, 'knelt': 2831, 'bit': 2832, 'resolutely': 2833, 'discovery': 2834, 'studiously': 2835, 'loves': 2836, 'opportunities': 2837, 'observations': 2838, 'fever': 2839, 'slighted': 2840, 'exposing': 2841, 'triumph': 2842, 'pitiful': 2843, 'field': 2844, 'walker': 2845, 'cordial': 2846, 'foreseen': 2847, 'exercise': 2848, 'poetical': 2849, 'poet': 2850, 'musings': 2851, 'quotations': 2852, 'hills': 2853, 'upset': 2854, 'environs': 2855, 'strolling': 2856, 'destination': 2857, 'gradual': 2858, 'ascent': 2859, 'sweets': 2860, 'barns': 2861, 'degrees': 2862, 'centre': 2863, 'middle': 2864, 'affect': 2865, 'dutiful': 2866, 'firmness': 2867, 'durable': 2868, 'firm': 2869, 'storms': 2870, 'lest': 2871, 'provoke': 2872, 'refuse': 2873, 'conjectured': 2874, 'relenting': 2875, 'devoted': 2876, 'meadow': 2877, 'ample': 2878, 'boasted': 2879, 'necessarily': 2880, 'guessed': 2881, 'decline': 2882, 'forgive': 2883, 'remainder': 2884, 'contemplate': 2885, 'compounded': 2886, 'unconsciously': 2887, 'representation': 2888, 'anticipating': 2889, 'apace': 2890, 'unseen': 2891, 'justify': 2892, 'heedless': 2893, 'punctually': 2894, 'carriages': 2895, 'descending': 2896, 'securing': 2897, 'inns': 2898, 'variety': 2899, 'bay': 2900, 'improvements': 2901, 'cliffs': 2902, 'charmouth': 2903, 'extensive': 2904, 'flow': 2905, 'tide': 2906, 'rocks': 2907, 'lingering': 2908, 'lieutenant': 2909, 'promotion': 2910, 'entreaties': 2911, 'promising': 2912, 'lodging': 2913, 'contrasted': 2914, 'articles': 2915, 'species': 2916, 'contrived': 2917, 'volumes': 2918, 'protesting': 2919, 'oppressed': 2920, 'mirth': 2921, 'captains': 2922, 'mildness': 2923, 'suggestions': 2924, 'reserved': 2925, 'giaour': 2926, 'pronounced': 2927, 'showed': 2928, 'songs': 2929, 'shewing': 2930, 'seniority': 2931, 'prose': 2932, 'moralists': 2933, 'finest': 2934, 'characters': 2935, 'rouse': 2936, 'moral': 2937, 'breeze': 2938, 'praised': 2939, 'gloried': 2940, 'acquiescence': 2941, 'interests': 2942, 'disposal': 2943, 'apartment': 2944, 'jump': 2945, 'crewkherne': 2946, 'ecstasy': 2947, 'goes': 2948, 'cousinly': 2949, 'irritation': 2950, 'slow': 2951, 'unsatisfactory': 2952, 'correspondence': 2953, 'scott': 2954, 'accomplish': 2955, 'promises': 2956, 'contented': 2957, 'jumped': 2958, 'walks': 2959, 'feet': 2960, 'reasoned': 2961, 'visible': 2962, 'immoveable': 2963, 'rub': 2964, 'obeyed': 2965, 'revived': 2966, 'flying': 2967, 'directed': 2968, 'await': 2969, 'rejoicing': 2970, 'overpowered': 2971, 'elsewhere': 2972, 'accommodate': 2973, 'perplexity': 2974, 'touched': 2975, 'consented': 2976, 'paused': 2977, 'extension': 2978, 'inevitable': 2979, 'schemes': 2980, 'vexation': 2981, 'mortifying': 2982, 'henry': 2983, 'supporting': 2984, 'fated': 2985, 'lamenting': 2986, 'comprehending': 2987, 'assisting': 2988, 'symptoms': 2989, 'sarah': 2990, 'dreaded': 2991, 'privy': 2992, 'preparations': 2993, 'reflections': 2994, 'humble': 2995, 'apartments': 2996, 'hoping': 2997, 'converse': 2998, 'composedly': 2999, 'improving': 3000, 'fortunate': 3001, 'dated': 3002, 'exclaiming': 3003, 'suits': 3004, 'butler': 3005, 'lend': 3006, 'quarters': 3007, 'blows': 3008, 'hereabouts': 3009, 'shot': 3010, 'dull': 3011, 'graciously': 3012, 'bred': 3013, 'checked': 3014, 'maintained': 3015, 'charity': 3016, 'innoxious': 3017, 'persisted': 3018, 'dim': 3019, 'pointedly': 3020, 'deceive': 3021, 'becomes': 3022, 'unexpected': 3023, 'faint': 3024, 'threw': 3025, 'extenuation': 3026, 'request': 3027, 'accomplished': 3028, 'allowances': 3029, 'sounded': 3030, 'extravagant': 3031, 'origin': 3032, 'penetrated': 3033, 'gentlemanlike': 3034, 'sharp': 3035, 'sandy': 3036, 'haired': 3037, 'red': 3038, 'hat': 3039, 'ushered': 3040, 'start': 3041, 'discerning': 3042, 'introduce': 3043, 'witnessing': 3044, 'watchfulness': 3045, 'using': 3046, 'ha': 3047, 'overlooked': 3048, 'publications': 3049, 'conversing': 3050, 'violent': 3051, 'possess': 3052, 'require': 3053, 'process': 3054, 'imaginations': 3055, 'unfortunately': 3056, 'contact': 3057, 'reduced': 3058, 'viscount': 3059, 'suspension': 3060, 'condolence': 3061, 'ireland': 3062, 'apprehend': 3063, 'preserving': 3064, 'toils': 3065, 'collect': 3066, 'fastidious': 3067, 'vex': 3068, 'promote': 3069, 'renewing': 3070, 'governess': 3071, 'contend': 3072, 'invariably': 3073, 'ruined': 3074, 'buried': 3075, 'bedroom': 3076, 'reaching': 3077, 'finances': 3078, 'landlady': 3079, 'pin': 3080, 'gossip': 3081, 'relate': 3082, 'likes': 3083, 'treat': 3084, 'lessons': 3085, 'impatience': 3086, 'generosity': 3087, 'visiting': 3088, 'smiths': 3089, 'associations': 3090, 'defence': 3091, 'dissimilar': 3092, 'ladyship': 3093, 'collecting': 3094, 'blushed': 3095, 'virtues': 3096, 'pretended': 3097, 'subdue': 3098, 'sunday': 3099, 'hasty': 3100, 'tongue': 3101, 'slipped': 3102, 'february': 3103, 'intently': 3104, 'thicker': 3105, 'vacant': 3106, 'gouty': 3107, 'butcher': 3108, 'throat': 3109, 'situated': 3110, 'brings': 3111, 'gout': 3112, 'ours': 3113, 'treachery': 3114, 'usage': 3115, 'derive': 3116, 'shares': 3117, 'address': 3118, 'heartily': 3119, 'brigden': 3120, 'd': 3121, 'ye': 3122, 'tied': 3123, 'trick': 3124, 'archibald': 3125, 'brain': 3126, 'uneasy': 3127, 'wounded': 3128, 'stepped': 3129, 'boots': 3130, 'distinctly': 3131, 'commission': 3132, 'rained': 3133, 'betraying': 3134, 'embarrassment': 3135, 'arch': 3136, 'internal': 3137, 'announce': 3138, 'crowd': 3139, 'wallises': 3140, 'withdraw': 3141, 'alicia': 3142, 'disdain': 3143, 'theatre': 3144, 'solely': 3145, 'whispering': 3146, 'ear': 3147, 'simple': 3148, 'acknowledgement': 3149, 'reluctant': 3150, 'consequences': 3151, 'behaving': 3152, 'disparity': 3153, 'attaching': 3154, 'surprises': 3155, 'buzz': 3156, 'wear': 3157, 'compatible': 3158, 'generous': 3159, 'glowed': 3160, 'seats': 3161, 'inferiority': 3162, 'visions': 3163, 'discern': 3164, 'benches': 3165, 'bill': 3166, 'curtailed': 3167, 'raise': 3168, 'trivial': 3169, 'irish': 3170, 'orchestra': 3171, 'wore': 3172, 'chiefly': 3173, 'scheming': 3174, 'larolles': 3175, 'shape': 3176, 'irresolute': 3177, 'glances': 3178, 'sacrificed': 3179, 'succeed': 3180, 'situations': 3181, 'wrought': 3182, 'sporting': 3183, 'conclude': 3184, 'penetration': 3185, 'penetrating': 3186, 'build': 3187, 'plead': 3188, 'unfounded': 3189, 'designing': 3190, 'cruelty': 3191, 'facts': 3192, 'entertained': 3193, 'explains': 3194, 'hesitated': 3195, 'assertion': 3196, 'asserted': 3197, 'papers': 3198, 'overpowers': 3199, 'w': 3200, 'hypocrite': 3201, 'repeats': 3202, 'contradict': 3203, 'states': 3204, 'omitted': 3205, 'artful': 3206, 'guide': 3207, 'cunning': 3208, 'revolting': 3209, 'unqualified': 3210, 'creditable': 3211, 'dwelt': 3212, 'bodily': 3213, 'offices': 3214, 'losing': 3215, 'reward': 3216, 'omit': 3217, 'thornberry': 3218, 'prime': 3219, 'deception': 3220, 'consisted': 3221, 'wedding': 3222, 'clothes': 3223, 'gaiety': 3224, 'pump': 3225, 'thorough': 3226, 'parcel': 3227, 'argument': 3228, 'heavens': 3229, 'unconcerned': 3230, 'concerning': 3231, 'haste': 3232, 'unpardonable': 3233, 'exerted': 3234, 'materials': 3235, 'compliance': 3236, 'weaken': 3237, 'inconstant': 3238, 'bearing': 3239, 'hardship': 3240, 'division': 3241, 'sentence': 3242, 'gloves': 3243, 'protection': 3244, 'tones': 3245, 'doctor': 3246, 'preventing': 3247, 'prepare': 3248, 'yielded': 3249, 'fearless': 3250, 'activity': 3251, 'flatter': 3252, 'jane': 3253, 'austen': 3254, '1818': 3255, 'faculties': 3256, 'contemplating': 3257, 'remnant': 3258, 'patents': 3259, 'endless': 3260, 'century': 3261, 'leaf': 3262, 'powerless': 3263, 'march': 3264, '1760': 3265, '1784': 3266, 'stevenson': 3267, 'gloucester': 3268, '1800': 3269, 'issue': 3270, '1785': 3271, '1787': 3272, '1789': 3273, '1791': 3274, 'printer': 3275, 'december': 3276, '1810': 3277, 'inserting': 3278, 'accurately': 3279, 'cheshire': 3280, 'dugdale': 3281, 'serving': 3282, 'sheriff': 3283, 'borough': 3284, 'parliaments': 3285, 'loyalty': 3286, 'ii': 3287, 'marys': 3288, 'elizabeths': 3289, 'duodecimo': 3290, 'pages': 3291, 'handwriting': 3292, 'finale': 3293, 'valet': 3294, 'gifts': 3295, 'youthful': 3296, 'infatuation': 3297, 'failings': 3298, 'promoted': 3299, 'legacy': 3300, 'bequeath': 3301, 'confide': 3302, 'conceited': 3303, 'mainly': 3304, 'maintenance': 3305, 'instruction': 3306, 'unreasonably': 3307, 'discontented': 3308, 'singleness': 3309, 'unreasonable': 3310, 'prided': 3311, 'revive': 3312, 'vanished': 3313, 'mild': 3314, 'indulged': 3315, 'equality': 3316, 'suitably': 3317, 'wreck': 3318, 'plainly': 3319, 'haggard': 3320, 'worsting': 3321, 'crow': 3322, 'contentment': 3323, 'winters': 3324, 'frosts': 3325, 'scanty': 3326, 'springs': 3327, 'blossoms': 3328, 'annual': 3329, 'pushed': 3330, 'generously': 3331, 'overtures': 3332, 'persevered': 3333, 'excursions': 3334, 'tidings': 3335, 'purchased': 3336, 'resented': 3337, 'publicly': 3338, 'tattersall': 3339, 'lobby': 3340, 'commons': 3341, 'unsolicitous': 3342, 'z': 3343, 'miserably': 3344, 'conducted': 3345, '1814': 3346, 'ribbons': 3347, 'perpetuated': 3348, 'offspring': 3349, 'accustomary': 3350, 'intervention': 3351, 'slightingly': 3352, 'contemptuously': 3353, 'vary': 3354, 'sameness': 3355, 'uneventful': 3356, 'vacancies': 3357, 'bills': 3358, 'tradespeople': 3359, 'agent': 3360, 'possessor': 3361, 'moderation': 3362, 'mindedness': 3363, 'constantly': 3364, 'exceeding': 3365, 'imperiously': 3366, 'blameless': 3367, 'concealing': 3368, 'branches': 3369, 'charities': 3370, 'refrain': 3371, 'furnishing': 3372, 'expedients': 3373, 'yearly': 3374, 'insufficient': 3375, 'devise': 3376, 'compromising': 3377, 'dispose': 3378, 'acre': 3379, 'alienable': 3380, 'condescended': 3381, 'mortgage': 3382, 'condescend': 3383, 'sell': 3384, 'transmitted': 3385, 'confidential': 3386, 'neighbouring': 3387, 'advise': 3388, 'reduce': 3389, 'expenditure': 3390, '2': 3391, 'implicit': 3392, 'integrity': 3393, 'aristocratic': 3394, 'prejudices': 3395, 'ancestry': 3396, 'blinded': 3397, 'knight': 3398, 'marking': 3399, 'retrenchment': 3400, 'emendation': 3401, 'vigorous': 3402, 'release': 3403, 'equity': 3404, 'adopt': 3405, 'singular': 3406, 'singularity': 3407, 'contracted': 3408, 'debts': 3409, 'honest': 3410, 'urging': 3411, 'indispensable': 3412, 'creditors': 3413, 'expedition': 3414, 'retrenchments': 3415, 'prescribed': 3416, 'denial': 3417, 'persuading': 3418, 'pair': 3419, 'rigid': 3420, 'requisitions': 3421, 'journeys': 3422, 'contractions': 3423, 'decencies': 3424, 'disgraceful': 3425, 'reality': 3426, 'retrenching': 3427, 'abode': 3428, 'confessing': 3429, 'regulating': 3430, 'indecision': 3431, 'whither': 3432, 'outline': 3433, 'alternatives': 3434, 'lawns': 3435, 'ambition': 3436, 'disliked': 3437, 'skilful': 3438, 'safer': 3439, 'predicament': 3440, 'descend': 3441, 'foresaw': 3442, 'undesirableness': 3443, 'engrafted': 3444, 'profound': 3445, 'letting': 3446, 'advertise': 3447, 'spurned': 3448, 'forbad': 3449, 'spontaneously': 3450, 'unexceptionable': 3451, 'applicant': 3452, 'reasons': 3453, 'approving': 3454, 'unprosperous': 3455, 'burden': 3456, 'selection': 3457, 'intimates': 3458, '3': 3459, 'juncture': 3460, 'hey': 3461, 'methods': 3462, 'rumours': 3463, 'elude': 3464, 'wealthy': 3465, 'commanders': 3466, 'pacing': 3467, 'sarcastically': 3468, 'rejoined': 3469, 'annexed': 3470, 'impose': 3471, 'approachable': 3472, 'soldier': 3473, 'usages': 3474, 'obscure': 3475, 'undue': 3476, 'fathers': 3477, 'grandfathers': 3478, 'dreamt': 3479, 'cuts': 3480, 'horribly': 3481, 'grows': 3482, 'insulted': 3483, 'disdained': 3484, 'prematurely': 3485, 'striking': 3486, 'bread': 3487, 'deplorable': 3488, 'personage': 3489, 'mahogany': 3490, 'rugged': 3491, 'wrinkles': 3492, 'grey': 3493, 'hairs': 3494, 'powder': 3495, 'morley': 3496, 'faring': 3497, 'mercy': 3498, 'beautifier': 3499, 'betimes': 3500, 'soldiers': 3501, 'quieter': 3502, 'labour': 3503, 'plods': 3504, 'physician': 3505, 'stopt': 3506, 'infected': 3507, 'expose': 3508, 'poisonous': 3509, 'atmosphere': 3510, 'personableness': 3511, 'bespeak': 3512, 'sessions': 3513, 'native': 3514, 'advertised': 3515, 'foretold': 3516, 'inquiries': 3517, 'explicit': 3518, 'eligible': 3519, 'inquiry': 3520, 'rear': 3521, 'trafalgar': 3522, 'granted': 3523, 'orange': 3524, 'cuffs': 3525, 'capes': 3526, 'hale': 3527, 'manor': 3528, 'deputation': 3529, 'killed': 3530, 'preserver': 3531, 'genteel': 3532, 'taxes': 3533, 'conversant': 3534, 'conception': 3535, 'governor': 3536, 'trent': 3537, 'trespass': 3538, 'orchard': 3539, 'torn': 3540, 'apples': 3541, 'stolen': 3542, 'amicable': 3543, 'strafford': 3544, 'indisputably': 3545, 'renting': 3546, 'anyone': 3547, 'intending': 3548, 'inhabit': 3549, 'permitted': 3550, 'allowing': 3551, 'treaty': 3552, 'authorising': 3553, 'unobjectionable': 3554, 'essentials': 3555, 'soothing': 3556, 'dealings': 3557, 'expedited': 3558, 'suspend': 3559, 'empowered': 3560, 'flushed': 3561, 'grove': 3562, '4': 3563, 'domingo': 3564, '1806': 3565, 'sum': 3566, 'lavish': 3567, 'rapidly': 3568, 'declarations': 3569, 'troubles': 3570, 'withholding': 3571, 'pardonable': 3572, 'attaining': 3573, 'chances': 3574, 'snatched': 3575, 'killing': 3576, 'representations': 3577, 'realized': 3578, 'fearlessness': 3579, 'operated': 3580, 'brilliant': 3581, 'headstrong': 3582, 'approaching': 3583, 'deprecated': 3584, 'combat': 3585, 'unsoftened': 3586, 'indiscreet': 3587, 'consulting': 3588, 'unconvinced': 3589, 'unbending': 3590, 'relinquishment': 3591, 'sorrowful': 3592, 'rupture': 3593, 'enlargement': 3594, 'fastidiousness': 3595, 'lamented': 3596, 'respectably': 3597, 'undone': 3598, 'borders': 3599, 'hopelessness': 3600, 'disadvantage': 3601, 'bestowed': 3602, 'reasonably': 3603, 'genius': 3604, 'captures': 3605, 'lists': 3606, 'futurity': 3607, 'prudence': 3608, 'romance': 3609, 'unnatural': 3610, 'dispel': 3611, 'harden': 3612, 'sufficiently': 3613, 'unconsciousness': 3614, 'sprung': 3615, 'syllable': 3616, 'residing': 3617, 'accompanying': 3618, 'satisfactory': 3619, 'trusting': 3620, 'assurances': 3621, 'clerks': 3622, 'preliminary': 3623, 'modify': 3624, 'indenture': 3625, 'sheweth': 3626, 'arranging': 3627, 'hair': 3628, 'thames': 3629, 'reciprocal': 3630, 'heats': 3631, 'glare': 3632, 'forego': 3633, 'autumnal': 3634, 'claiming': 3635, 'indisposed': 3636, 'rejected': 3637, 'intervening': 3638, 'assistant': 3639, 'resorted': 3640, 'affront': 3641, 'contained': 3642, 'affronts': 3643, 'projecting': 3644, 'clumsy': 3645, 'wrist': 3646, 'acute': 3647, 'impressed': 3648, 'pitied': 3649, 'warning': 3650, 'offend': 3651, 'indignantly': 3652, 'reprobates': 3653, 'inequality': 3654, 'reckoned': 3655, 'misfortunes': 3656, 'disfigured': 3657, 'abominates': 3658, 'stake': 3659, 'condescending': 3660, 'tenantry': 3661, 'cottagers': 3662, 'desolate': 3663, 'anticipate': 3664, 'solitariness': 3665, 'sized': 3666, 'yeomen': 3667, 'labourers': 3668, 'gates': 3669, 'unmodernized': 3670, 'compact': 3671, 'tight': 3672, 'parsonage': 3673, 'enclosed': 3674, 'vine': 3675, 'pear': 3676, 'trained': 3677, 'casements': 3678, 'prettiness': 3679, 'aspect': 3680, 'premises': 3681, 'endowed': 3682, 'elder': 3683, 'resources': 3684, 'inheriting': 3685, 'prone': 3686, 'summers': 3687, 'greeted': 3688, 'laugh': 3689, 'cheerfullest': 3690, 'conveniently': 3691, 'duplicate': 3692, 'catalogue': 3693, 'mackenzie': 3694, 'trunks': 3695, 'repack': 3696, 'waggons': 3697, 'pooles': 3698, 'louise': 3699, 'owing': 3700, 'beautifying': 3701, 'nosegay': 3702, 'ate': 3703, 'meat': 3704, 'check': 3705, 'square': 3706, 'carpet': 3707, 'shining': 3708, 'grand': 3709, 'stands': 3710, 'tables': 3711, 'originals': 3712, 'wainscot': 3713, 'brown': 3714, 'velvet': 3715, 'satin': 3716, 'overthrow': 3717, 'neatness': 3718, 'exeter': 3719, 'stock': 3720, 'unembarrassed': 3721, 'favourites': 3722, 'exchange': 3723, 'envied': 3724, 'seemingly': 3725, 'chatted': 3726, '6': 3727, 'include': 3728, 'unconsidered': 3729, 'publicity': 3730, 'pervading': 3731, 'lesson': 3732, 'queen': 3733, 'squares': 3734, 'supplement': 3735, 'delusion': 3736, 'sympathising': 3737, 'destroy': 3738, 'housekeeping': 3739, 'social': 3740, 'commonwealth': 3741, 'member': 3742, 'transplanted': 3743, 'incumbent': 3744, 'clothe': 3745, 'repulsive': 3746, 'unsisterly': 3747, 'inaccessible': 3748, 'component': 3749, 'inimical': 3750, 'wholesome': 3751, 'rationality': 3752, 'trifled': 3753, 'occasional': 3754, 'unreasonableness': 3755, 'disagreement': 3756, 'contended': 3757, 'uses': 3758, 'management': 3759, 'theory': 3760, 'manage': 3761, 'spoils': 3762, 'temptation': 3763, 'mood': 3764, 'dying': 3765, 'grandmamma': 3766, 'humours': 3767, 'indulges': 3768, 'gives': 3769, 'trash': 3770, 'managing': 3771, 'dears': 3772, 'prevents': 3773, 'obligated': 3774, 'cake': 3775, 'treason': 3776, 'exaggeration': 3777, 'gadding': 3778, 'trustiest': 3779, 'steadiest': 3780, 'spoil': 3781, 'tempting': 3782, 'rule': 3783, 'gad': 3784, 'swears': 3785, 'tenacious': 3786, 'insisting': 3787, 'patiently': 3788, 'grievance': 3789, 'broadest': 3790, 'ailments': 3791, 'refresh': 3792, 'appreciation': 3793, 'callers': 3794, 'popular': 3795, 'evenings': 3796, 'unpremeditated': 3797, 'affluent': 3798, 'dance': 3799, 'musician': 3800, 'dances': 3801, 'musical': 3802, 'fly': 3803, '29th': 3804, 'alertness': 3805, 'deplored': 3806, 'likeness': 3807, 'squareness': 3808, 'teeth': 3809, 'reddened': 3810, 'coarseness': 3811, 'symptom': 3812, 'electrified': 3813, 'forgetfulness': 3814, 'attacks': 3815, 'clinging': 3816, 'carrying': 3817, 'pockets': 3818, 'finishing': 3819, 'folks': 3820, 'affronted': 3821, 'unluckily': 3822, 'dwelling': 3823, 'gloomy': 3824, 'pathetic': 3825, 'stupid': 3826, 'headed': 3827, 'unprofitable': 3828, 'entitle': 3829, 'abbreviation': 3830, 'unobservant': 3831, 'incurious': 3832, 'bursts': 3833, 'perusal': 3834, 'puzzling': 3835, 'clifton': 3836, 'inure': 3837, 'teach': 3838, 'speedily': 3839, 'spelt': 3840, 'dashing': 3841, 'felow': 3842, 'perticular': 3843, 'schoolmaster': 3844, 'introducing': 3845, 'helped': 3846, '7': 3847, 'welcoming': 3848, 'cellars': 3849, 'dislocated': 3850, 'hysterics': 3851, 'control': 3852, 'banish': 3853, 'soothe': 3854, 'accession': 3855, 'assistants': 3856, 'replaced': 3857, 'rubbed': 3858, 'aunts': 3859, 'digress': 3860, 'nephew': 3861, 'individual': 3862, 'male': 3863, 'glee': 3864, 'gloom': 3865, 'protestations': 3866, 'spine': 3867, 'bold': 3868, 'shift': 3869, 'suddenness': 3870, 'province': 3871, 'scolding': 3872, 'teazing': 3873, 'kicking': 3874, 'brightening': 3875, 'harasses': 3876, 'tapping': 3877, 'urged': 3878, 'unpersuadable': 3879, 'oddly': 3880, 'constructed': 3881, 'shyness': 3882, 'shoot': 3883, 'slightly': 3884, 'actuated': 3885, 'escaping': 3886, 'proposing': 3887, 'rushed': 3888, 'consoling': 3889, 'resolving': 3890, 'sportsmen': 3891, 'resuming': 3892, 'banished': 3893, 'indistinctness': 3894, 'alienations': 3895, 'comprised': 3896, 'retentive': 3897, 'hating': 3898, 'wisdom': 3899, 'unsuspicious': 3900, 'inflicting': 3901, 'doubtless': 3902, 'revenge': 3903, 'manly': 3904, 'sobering': 3905, 'allayed': 3906, 'wretchedly': 3907, 'feebleness': 3908, 'oblige': 3909, 'timidity': 3910, 'suppositions': 3911, 'contradicted': 3912, '8': 3913, 'absenting': 3914, 'dinings': 3915, 'narratives': 3916, 'falter': 3917, 'wandering': 3918, 'unvisited': 3919, 'association': 3920, 'conceiving': 3921, 'commonest': 3922, 'couples': 3923, 'tastes': 3924, 'unison': 3925, 'countenances': 3926, 'throughout': 3927, 'food': 3928, 'reminded': 3929, 'accused': 3930, 'cook': 3931, 'knife': 3932, 'fork': 3933, 'pace': 3934, 'fetching': 3935, 'pore': 3936, 'reported': 3937, 'admiralty': 3938, 'provide': 3939, 'stuff': 3940, 'afloat': 3941, 'discoveries': 3942, 'privateers': 3943, 'gale': 3944, 'lasted': 3945, 'shudderings': 3946, 'beckoning': 3947, 'mindful': 3948, 'probabilities': 3949, 'statement': 3950, 'non': 3951, 'commissioned': 3952, 'cruise': 3953, 'western': 3954, 'islands': 3955, 'mediterranean': 3956, 'curl': 3957, 'sharing': 3958, 'detected': 3959, 'unabsurd': 3960, 'barrier': 3961, 'cheer': 3962, 'slender': 3963, 'screened': 3964, 'sighings': 3965, 'destiny': 3966, 'bulky': 3967, 'graceful': 3968, 'unbecoming': 3969, 'conjunctions': 3970, 'patronize': 3971, 'tolerate': 3972, 'seize': 3973, 'refreshing': 3974, 'interrupting': 3975, 'grierson': 3976, 'defended': 3977, 'professing': 3978, 'rating': 3979, 'refinement': 3980, 'superfine': 3981, 'merged': 3982, 'idly': 3983, 'sing': 3984, 'tune': 3985, 'attack': 3986, 'atlantic': 3987, 'cork': 3988, 'streights': 3989, 'bermuda': 3990, 'bahama': 3991, 'dissent': 3992, 'accuse': 3993, 'rates': 3994, 'disagrees': 3995, 'fright': 3996, 'ailed': 3997, 'aye': 3998, 'attends': 3999, 'assizes': 4000, 'tears': 4001, 'unobserved': 4002, 'elevate': 4003, 'credible': 4004, 'rivals': 4005, 'mechanically': 4006, 'error': 4007, 'ruins': 4008, 'partner': 4009, 'danced': 4010, 'studied': 4011, 'speeches': 4012, 'ceremonious': 4013, 'fraternal': 4014, 'perfections': 4015, 'possessions': 4016, 'grass': 4017, 'sheep': 4018, 'dawdling': 4019, 'endurable': 4020, 'dependencies': 4021, 'unvarying': 4022, 'disturbed': 4023, 'critical': 4024, 'unpolished': 4025, 'defective': 4026, 'excepted': 4027, 'cultivation': 4028, 'prettiest': 4029, 'attract': 4030, 'speculate': 4031, 'reappeared': 4032, 'agreeing': 4033, 'creation': 4034, 'existing': 4035, 'alliances': 4036, 'spicers': 4037, 'bishop': 4038, 'uncle': 4039, 'dies': 4040, 'acres': 4041, 'contemptible': 4042, 'freehold': 4043, 'pleases': 4044, 'plea': 4045, 'headache': 4046, 'avoiding': 4047, 'umpire': 4048, 'endangering': 4049, 'impeaching': 4050, 'lightness': 4051, 'sympathize': 4052, 'alternation': 4053, 'disquiet': 4054, 'mortify': 4055, 'estranged': 4056, 'extinguish': 4057, 'sundays': 4058, 'obtaining': 4059, 'rector': 4060, 'zealously': 4061, 'discharging': 4062, 'injurious': 4063, 'negotiation': 4064, 'deprived': 4065, 'behave': 4066, 'kneel': 4067, 'vestibule': 4068, 'seating': 4069, 'stout': 4070, 'tease': 4071, 'fasten': 4072, 'insisted': 4073, 'contrive': 4074, 'push': 4075, 'sturdy': 4076, 'unfastened': 4077, 'neck': 4078, 'speechless': 4079, 'hang': 4080, 'thanks': 4081, 'testify': 4082, 'varying': 4083, 'jealousies': 4084, 'vext': 4085, 'minded': 4086, '10': 4087, 'attribute': 4088, 'guile': 4089, 'occasioning': 4090, 'studying': 4091, 'dismissal': 4092, 'undesired': 4093, 'dog': 4094, 'junction': 4095, 'retract': 4096, 'narrow': 4097, 'paths': 4098, 'fields': 4099, 'separations': 4100, 'arise': 4101, 'tawny': 4102, 'withered': 4103, 'hedges': 4104, 'extant': 4105, 'inexhaustible': 4106, 'praises': 4107, 'bursting': 4108, 'glorious': 4109, 'hail': 4110, 'whereabouts': 4111, 'lieve': 4112, 'tossed': 4113, 'overturned': 4114, 'quotation': 4115, 'sonnet': 4116, 'fraught': 4117, 'images': 4118, 'enclosures': 4119, 'ploughs': 4120, 'counteracting': 4121, 'despondence': 4122, 'summit': 4123, 'stretched': 4124, 'hemmed': 4125, 'arguing': 4126, 'meanwhile': 4127, 'fearfully': 4128, 'resting': 4129, 'succession': 4130, 'debates': 4131, 'consultations': 4132, 'arranger': 4133, 'scornfully': 4134, 'assenting': 4135, 'contemptuous': 4136, 'brow': 4137, 'gleaning': 4138, 'nuts': 4139, 'quarrelled': 4140, 'dry': 4141, 'sunny': 4142, 'bank': 4143, 'overtook': 4144, 'channel': 4145, 'airs': 4146, 'comprehension': 4147, 'woe': 4148, 'betide': 4149, 'requiring': 4150, 'infuse': 4151, 'indecisive': 4152, 'sway': 4153, 'bough': 4154, 'exemplify': 4155, 'glossy': 4156, 'original': 4157, 'puncture': 4158, 'playful': 4159, 'solemnity': 4160, 'brethren': 4161, 'trodden': 4162, 'hazel': 4163, 'cherish': 4164, 'unanswered': 4165, 'bush': 4166, 'rambling': 4167, 'holly': 4168, 'protected': 4169, 'bookish': 4170, 'retreating': 4171, 'proverbial': 4172, 'import': 4173, 'numbers': 4174, 'withdrawing': 4175, 'plainer': 4176, 'divisions': 4177, 'strip': 4178, 'distinct': 4179, 'disobliging': 4180, 'reap': 4181, 'dropping': 4182, 'nettles': 4183, 'switch': 4184, 'according': 4185, 'incommoded': 4186, 'hunt': 4187, 'weasel': 4188, 'bordered': 4189, 'footpath': 4190, 'exit': 4191, 'advancing': 4192, 'offended': 4193, 'surmounting': 4194, 'urgency': 4195, 'compressed': 4196, 'completion': 4197, 'condemning': 4198, 'pure': 4199, 'unacknowledged': 4200, 'awake': 4201, 'courtships': 4202, 'canvass': 4203, 'reins': 4204, 'judiciously': 4205, 'rut': 4206, 'dung': 4207, 'cart': 4208, 'deposited': 4209, '11': 4210, 'resettled': 4211, 'thence': 4212, 'gainer': 4213, 'painfully': 4214, 'renewal': 4215, 'gaining': 4216, 'diversified': 4217, 'unheard': 4218, 'unknowingly': 4219, 'acquittal': 4220, 'feelingly': 4221, 'project': 4222, 'armed': 4223, 'rationally': 4224, 'deducting': 4225, 'amendment': 4226, 'noon': 4227, 'steeper': 4228, 'ordering': 4229, 'lodgers': 4230, 'residents': 4231, 'hurrying': 4232, 'skirting': 4233, 'bathing': 4234, 'machines': 4235, 'stretching': 4236, 'sweeps': 4237, 'backed': 4238, 'fragments': 4239, 'rock': 4240, 'unwearied': 4241, 'woody': 4242, 'pinny': 4243, 'green': 4244, 'chasms': 4245, 'romantic': 4246, 'forest': 4247, 'orchards': 4248, 'luxuriant': 4249, 'growth': 4250, 'generation': 4251, 'partial': 4252, 'falling': 4253, 'cliff': 4254, 'exhibited': 4255, 'resembling': 4256, 'famed': 4257, 'isle': 4258, 'wight': 4259, 'linger': 4260, 'gaze': 4261, 'pier': 4262, 'heavily': 4263, 'retiring': 4264, 'sedentary': 4265, 'augmented': 4266, 'inexpensive': 4267, 'retirement': 4268, 'adapted': 4269, 'sorrowing': 4270, 'blighted': 4271, 'rally': 4272, 'lame': 4273, 'equalling': 4274, 'unwillingly': 4275, 'hurt': 4276, 'uncommon': 4277, 'formality': 4278, 'benefited': 4279, 'accommodating': 4280, 'sprang': 4281, 'ingenious': 4282, 'contrivances': 4283, 'deficiencies': 4284, 'defend': 4285, 'necessaries': 4286, 'plight': 4287, 'rare': 4288, 'wood': 4289, 'excellently': 4290, 'countries': 4291, 'fruit': 4292, 'labours': 4293, 'reader': 4294, 'shelves': 4295, 'collection': 4296, 'lameness': 4297, 'ingenuity': 4298, 'varnished': 4299, 'carpentered': 4300, 'glued': 4301, 'toys': 4302, 'netting': 4303, 'needles': 4304, 'pins': 4305, 'fishing': 4306, 'net': 4307, 'brotherliness': 4308, 'thoroughfare': 4309, 'recurring': 4310, 'anecdotes': 4311, 'abundance': 4312, 'apart': 4313, 'abstraction': 4314, 'repaid': 4315, 'struggling': 4316, 'richness': 4317, 'brief': 4318, 'poets': 4319, 'marmion': 4320, 'lake': 4321, 'bride': 4322, 'abydos': 4323, 'tenderest': 4324, 'impassioned': 4325, 'tremulous': 4326, 'imaged': 4327, 'sparingly': 4328, 'allusion': 4329, 'emboldened': 4330, 'particularize': 4331, 'works': 4332, 'collections': 4333, 'memoirs': 4334, 'fortify': 4335, 'precepts': 4336, 'religious': 4337, 'endurances': 4338, 'attentively': 4339, 'sighs': 4340, 'noted': 4341, 'preach': 4342, 'preachers': 4343, 'examination': 4344, '12': 4345, 'flowing': 4346, 'easterly': 4347, 'flat': 4348, 'sympathized': 4349, 'declares': 4350, 'medicine': 4351, 'medical': 4352, 'seizure': 4353, 'procuring': 4354, 'dispensation': 4355, 'performed': 4356, 'amazingly': 4357, 'upwards': 4358, 'beach': 4359, 'ascended': 4360, 'freshness': 4361, 'blowing': 4362, 'noticing': 4363, 'brightness': 4364, 'loitering': 4365, 'groom': 4366, 'stable': 4367, 'front': 4368, 'issuing': 4369, 'sidmouth': 4370, 'smart': 4371, 'baronight': 4372, 'publish': 4373, 'panel': 4374, 'hid': 4375, 'attempting': 4376, 'luckily': 4377, 'excuses': 4378, 'disincline': 4379, 'readers': 4380, 'deed': 4381, 'mourner': 4382, 'rowed': 4383, 'renew': 4384, 'accompany': 4385, 'accompanied': 4386, 'cling': 4387, 'adieus': 4388, 'perforce': 4389, 'carefully': 4390, 'steep': 4391, 'flight': 4392, 'stiles': 4393, 'hardness': 4394, 'jar': 4395, 'precipitate': 4396, 'lifeless': 4397, 'bruise': 4398, 'pallid': 4399, 'screamed': 4400, 'contributing': 4401, 'despair': 4402, 'salts': 4403, 'disengaging': 4404, 'firmly': 4405, 'staggering': 4406, 'bitterest': 4407, 'darting': 4408, 'resigned': 4409, 'corpse': 4410, 'sobs': 4411, 'witness': 4412, 'instinct': 4413, 'assuage': 4414, 'workmen': 4415, 'boatmen': 4416, 'consigned': 4417, 'treading': 4418, 'unutterable': 4419, 'cordials': 4420, 'restoratives': 4421, 'needed': 4422, 'incapable': 4423, 'insensibility': 4424, 'contusion': 4425, 'injuries': 4426, 'desperate': 4427, 'reprieve': 4428, 'ejaculations': 4429, 'folded': 4430, 'prayer': 4431, 'silenced': 4432, 'swinging': 4433, 'cot': 4434, 'experienced': 4435, 'consultation': 4436, 'terror': 4437, 'lateness': 4438, 'exerting': 4439, 'incumbrance': 4440, 'stays': 4441, 'restoring': 4442, 'coloured': 4443, 'vehement': 4444, 'complained': 4445, 'stead': 4446, 'reluctantly': 4447, 'spots': 4448, 'wrapt': 4449, 'welfare': 4450, 'considerately': 4451, 'lowest': 4452, 'substitution': 4453, 'emulating': 4454, 'emma': 4455, 'unnecessarily': 4456, 'handed': 4457, 'governing': 4458, 'bitterly': 4459, 'fatal': 4460, 'justness': 4461, 'qualities': 4462, 'persuadable': 4463, 'recognise': 4464, 'dusk': 4465, 'shawl': 4466, 'sleep': 4467, 'baited': 4468, '13': 4469, 'speedy': 4470, 'multiply': 4471, 'petted': 4472, 'harry': 4473, 'mend': 4474, 'stockings': 4475, 'blains': 4476, 'bruises': 4477, 'resolved': 4478, 'indebted': 4479, 'obtain': 4480, 'comforters': 4481, 'impart': 4482, 'relieve': 4483, 'blotting': 4484, 'adieu': 4485, 'dripping': 4486, 'comfortless': 4487, 'misty': 4488, 'tenements': 4489, 'saddened': 4490, 'record': 4491, 'breathings': 4492, 'evade': 4493, 'resume': 4494, 'gladden': 4495, 'frequenting': 4496, 'plumpness': 4497, 'connecting': 4498, 'compelled': 4499, 'smother': 4500, 'secondary': 4501, 'expedient': 4502, 'briefly': 4503, 'internally': 4504, 'revelled': 4505, 'receipt': 4506, 'fainter': 4507, 'threatenings': 4508, 'reconciled': 4509, 'inured': 4510, 'owners': 4511, 'convictions': 4512, 'precluded': 4513, 'unworthily': 4514, 'preside': 4515, 'heave': 4516, 'topic': 4517, 'latest': 4518, 'yestermorn': 4519, 'catastrophe': 4520, 'canvassed': 4521, 'judgements': 4522, 'thoughtlessness': 4523, 'concussion': 4524, 'summarily': 4525, 'plaster': 4526, 'simplicity': 4527, 'rousing': 4528, 'reverie': 4529, 'slip': 4530, 'shrubbery': 4531, 'umbrellas': 4532, 'gratefully': 4533, 'earth': 4534, 'alterations': 4535, 'dressy': 4536, 'shifted': 4537, 'shaving': 4538, 'glass': 4539, 'chimney': 4540, 'smokes': 4541, 'wasted': 4542, '14': 4543, 'susceptible': 4544, 'lighten': 4545, 'library': 4546, 'balance': 4547, 'bathed': 4548, 'undertook': 4549, 'behold': 4550, 'misunderstood': 4551, 'discovered': 4552, 'boldly': 4553, 'admires': 4554, 'overheard': 4555, 'dullest': 4556, 'differ': 4557, 'deficiency': 4558, 'tauntingly': 4559, 'poring': 4560, 'scissors': 4561, 'conjecture': 4562, 'missing': 4563, 'extraordinarily': 4564, 'disfavour': 4565, 'hazarded': 4566, 'voluntary': 4567, 'ride': 4568, 'herald': 4569, 'contrast': 4570, 'surrounding': 4571, 'sedulously': 4572, 'guarding': 4573, 'tyranny': 4574, 'expressly': 4575, 'chattering': 4576, 'cutting': 4577, 'silk': 4578, 'gold': 4579, 'tressels': 4580, 'trays': 4581, 'bending': 4582, 'brawn': 4583, 'pies': 4584, 'riotous': 4585, 'holding': 4586, 'revel': 4587, 'completed': 4588, 'roaring': 4589, 'clamour': 4590, 'knees': 4591, 'temperament': 4592, 'hurricane': 4593, 'restorative': 4594, 'shaken': 4595, 'cordially': 4596, 'recapitulation': 4597, 'reseated': 4598, 'quantity': 4599, 'bridge': 4600, 'dash': 4601, 'rumble': 4602, 'carts': 4603, 'drays': 4604, 'bawling': 4605, 'newspapermen': 4606, 'muffin': 4607, 'milkmen': 4608, 'clink': 4609, 'pattens': 4610, 'rose': 4611, 'disinclination': 4612, 'smoking': 4613, 'bustles': 4614, 'seclusion': 4615, 'proclaim': 4616, 'recanting': 4617, 'branch': 4618, 'dismembered': 4619, 'paternal': 4620, 'pitch': 4621, 'lofty': 4622, 'dignified': 4623, 'imprisonment': 4624, 'fourth': 4625, 'courtesies': 4626, 'unlooked': 4627, 'causes': 4628, 'assuring': 4629, 'introductions': 4630, 'perpetually': 4631, 'funds': 4632, 'landholder': 4633, 'littlenesses': 4634, 'boasting': 4635, 'avail': 4636, 'endeavours': 4637, 'originated': 4638, 'misapprehension': 4639, 'carelessly': 4640, 'indignant': 4641, 'unfeudal': 4642, 'refute': 4643, 'refer': 4644, 'placing': 4645, 'embellishment': 4646, 'irrational': 4647, 'relators': 4648, 'variance': 4649, 'title': 4650, 'solution': 4651, 'investigation': 4652, 'glimpses': 4653, 'describing': 4654, 'shaped': 4655, 'feature': 4656, 'amends': 4657, 'proportion': 4658, 'frequently': 4659, 'frights': 4660, 'bond': 4661, 'counted': 4662, 'eighty': 4663, 'frosty': 4664, 'frost': 4665, 'test': 4666, 'multitude': 4667, 'ugly': 4668, 'scarecrows': 4669, 'military': 4670, 'hinting': 4671, 'nose': 4672, 'accidental': 4673, 'tempt': 4674, 'winds': 4675, 'gown': 4676, 'cap': 4677, 'misuse': 4678, 'suspended': 4679, 'lansdown': 4680, 'crescent': 4681, 'unusual': 4682, 'becomingly': 4683, 'brightened': 4684, 'welcomed': 4685, 'certify': 4686, 'respecting': 4687, 'guests': 4688, 'route': 4689, 'possessing': 4690, 'shadow': 4691, 'serve': 4692, 'ungenteel': 4693, 'beings': 4694, 'equalled': 4695, 'diffused': 4696, 'length': 4697, 'unfelt': 4698, 'mantel': 4699, 'eleven': 4700, 'silver': 4701, 'watchman': 4702, 'tale': 4703, 'stealing': 4704, 'yield': 4705, 'chancing': 4706, 'skin': 4707, 'clearer': 4708, 'fresher': 4709, 'continue': 4710, 'diminished': 4711, 'provocation': 4712, 'drinks': 4713, 'gets': 4714, 'solid': 4715, 'superficial': 4716, 'exclaim': 4717, 'estimable': 4718, 'defying': 4719, 'candid': 4720, 'felicities': 4721, 'unhappiness': 4722, 'sour': 4723, 'outweighed': 4724, 'plague': 4725, 'inconsistent': 4726, 'mature': 4727, 'simplest': 4728, 'erring': 4729, 'heyday': 4730, 'determine': 4731, 'observance': 4732, 'particularity': 4733, 'crape': 4734, 'inexcusable': 4735, 'attributing': 4736, 'existed': 4737, 'dissolved': 4738, 'pleasantest': 4739, 'earnestness': 4740, 'swept': 4741, 'ears': 4742, 'unlucky': 4743, 'omission': 4744, 'sinner': 4745, 'unimportant': 4746, 'scrawl': 4747, 'created': 4748, 'accomplishment': 4749, 'tolerated': 4750, 'confessed': 4751, 'shakes': 4752, 'depends': 4753, 'investigated': 4754, 'equals': 4755, 'superiors': 4756, 'diverting': 4757, 'defeating': 4758, '17': 4759, 'assiduously': 4760, 'periods': 4761, 'dearly': 4762, 'considerably': 4763, 'distresses': 4764, 'rheumatic': 4765, 'legs': 4766, 'cripple': 4767, 'hot': 4768, 'baths': 4769, 'excluded': 4770, 'kindled': 4771, 'unformed': 4772, 'consciously': 4773, 'transformed': 4774, 'protegee': 4775, 'dissipations': 4776, 'cheerless': 4777, 'connect': 4778, 'perplexed': 4779, 'supportable': 4780, 'noisy': 4781, 'languor': 4782, 'depression': 4783, 'reflected': 4784, 'submissive': 4785, 'elasticity': 4786, 'comforted': 4787, 'choicest': 4788, 'gift': 4789, 'viewed': 4790, 'merciful': 4791, 'designed': 4792, 'counterbalance': 4793, 'pitiable': 4794, 'weathered': 4795, 'unemployed': 4796, 'admirably': 4797, 'invaluable': 4798, 'taught': 4799, 'knit': 4800, 'thread': 4801, 'cushions': 4802, 'racks': 4803, 'professionally': 4804, 'disposes': 4805, 'merchandise': 4806, 'understands': 4807, 'fund': 4808, 'profitable': 4809, 'au': 4810, 'fait': 4811, 'newest': 4812, 'trifling': 4813, 'cavil': 4814, 'follies': 4815, 'affecting': 4816, 'ardent': 4817, 'heroism': 4818, 'conflicts': 4819, 'ennoble': 4820, 'doubtingly': 4821, 'describe': 4822, 'hears': 4823, 'tremulously': 4824, 'mankind': 4825, 'edify': 4826, 'expensive': 4827, 'lace': 4828, 'finery': 4829, 'profit': 4830, 'intend': 4831, 'priced': 4832, 'disdainful': 4833, 'sickly': 4834, 'revolts': 4835, 'paltry': 4836, 'disgusting': 4837, 'approves': 4838, 'equipage': 4839, 'barely': 4840, 'advisable': 4841, 'surname': 4842, 'compassionate': 4843, 'create': 4844, 'calculate': 4845, 'widowhood': 4846, 'desirableness': 4847, 'maker': 4848, 'uncertainty': 4849, 'popularity': 4850, 'dearest': 4851, 'bewitched': 4852, 'image': 4853, 'adverse': 4854, 'possibilities': 4855, 'transgressed': 4856, 'distrusted': 4857, 'dropt': 4858, 'associates': 4859, 'allusions': 4860, 'practices': 4861, 'suspicions': 4862, 'appreciate': 4863, 'cleansed': 4864, 'discreet': 4865, 'imperfection': 4866, 'incurable': 4867, 'prized': 4868, 'frank': 4869, 'captivate': 4870, 'varied': 4871, 'tempers': 4872, 'endured': 4873, 'sweeter': 4874, '18': 4875, 'delivered': 4876, 'quicken': 4877, 'passports': 4878, '1st': 4879, 'affords': 4880, 'reckon': 4881, 'grandchildren': 4882, 'pavements': 4883, 'january': 4884, 'fatigued': 4885, 'immense': 4886, 'gross': 4887, 'inattention': 4888, 'joins': 4889, 'm': 4890, 'throats': 4891, 'envelope': 4892, 'astonish': 4893, 'protests': 4894, 'solemnly': 4895, 'feels': 4896, 'nursed': 4897, 'admirer': 4898, 'incomprehensible': 4899, 'million': 4900, 'effort': 4901, 'decrepitude': 4902, 'renter': 4903, 'embarrass': 4904, 'approve': 4905, 'signify': 4906, 'level': 4907, 'associate': 4908, 'tribute': 4909, 'levity': 4910, 'akin': 4911, 'severed': 4912, 'spirited': 4913, 'dejected': 4914, 'depending': 4915, 'inconsolable': 4916, 'served': 4917, 'dawning': 4918, 'toward': 4919, 'gratify': 4920, 'fervour': 4921, 'enthusiast': 4922, 'literary': 4923, 'sentimental': 4924, 'beat': 4925, 'unshackled': 4926, 'investigate': 4927, 'senseless': 4928, 'attractive': 4929, 'encountered': 4930, 'knot': 4931, 'keen': 4932, 'printshop': 4933, 'print': 4934, 'frankness': 4935, 'treating': 4936, 'stopping': 4937, 'queer': 4938, 'painters': 4939, 'shapeless': 4940, 'cockleshell': 4941, 'stuck': 4942, 'mightily': 4943, 'mountains': 4944, 'horsepond': 4945, 'lies': 4946, 'stares': 4947, 'leg': 4948, 'blister': 4949, 'heels': 4950, 'shilling': 4951, 'brand': 4952, 'kisses': 4953, 'younker': 4954, 'chairs': 4955, 'cupboards': 4956, 'ascending': 4957, 'sophys': 4958, 'courting': 4959, 'minehead': 4960, 'strangest': 4961, 'bears': 4962, 'soft': 4963, 'augur': 4964, 'judges': 4965, 'incompatible': 4966, 'represent': 4967, 'violence': 4968, 'oath': 4969, 'murmur': 4970, 'hide': 4971, 'whine': 4972, 'subsisted': 4973, 'fling': 4974, 'handsomely': 4975, 'unforgiving': 4976, 'useless': 4977, 'bespoke': 4978, 'parson': 4979, '19': 4980, 'expressing': 4981, 'shelter': 4982, 'molland': 4983, 'successful': 4984, 'barouche': 4985, 'whoever': 4986, 'discussed': 4987, 'deciding': 4988, 'thickest': 4989, 'descried': 4990, 'simpleton': 4991, 'unaccountable': 4992, 'scolded': 4993, 'outer': 4994, 'below': 4995, 'obviously': 4996, 'blinding': 4997, 'bewildering': 4998, 'dint': 4999, 'significance': 5000, 'feign': 5001, 'recognition': 5002, 'unalterable': 5003, 'bustle': 5004, 'unattended': 5005, 'rains': 5006, 'equipped': 5007, 'umbrella': 5008, 'privileged': 5009, 'apologised': 5010, 'atkinson': 5011, 'wont': 5012, 'discriminating': 5013, 'insinuations': 5014, 'likelihood': 5015, 'cost': 5016, 'imperfect': 5017, 'shade': 5018, 'incessant': 5019, 'pulteney': 5020, 'groups': 5021, 'mistaking': 5022, 'mad': 5023, 'recognising': 5024, 'fascination': 5025, 'climes': 5026, 'robbing': 5027, 'frankland': 5028, 'handsomest': 5029, 'provoked': 5030, 'producing': 5031, 'amusements': 5032, 'stupidity': 5033, 'wearied': 5034, 'stagnation': 5035, 'patronised': 5036, 'partly': 5037, 'foreboding': 5038, 'fires': 5039, 'advance': 5040, 'formidable': 5041, 'comprehended': 5042, 'ungracious': 5043, 'flag': 5044, 'eventually': 5045, 'sides': 5046, 'ends': 5047, 'resemblance': 5048, 'caprice': 5049, 'honourably': 5050, 'parental': 5051, 'reddening': 5052, 'clearing': 5053, 'untaught': 5054, 'pierced': 5055, 'slam': 5056, 'deviated': 5057, 'obstinate': 5058, 'rode': 5059, 'inspire': 5060, 'stretch': 5061, 'escorted': 5062, 'advanced': 5063, 'needful': 5064, 'subdued': 5065, 'marshal': 5066, 'whispers': 5067, 'disturb': 5068, 'broad': 5069, 'sentences': 5070, 'expressive': 5071, 'avoidance': 5072, 'implying': 5073, 'attendant': 5074, 'flurried': 5075, 'glimpse': 5076, 'humbler': 5077, 'contiguous': 5078, 'foremost': 5079, 'manoeuvred': 5080, 'entertainment': 5081, 'scientific': 5082, 'wearisome': 5083, 'translate': 5084, 'inverted': 5085, 'transposed': 5086, 'comprehensible': 5087, 'proficient': 5088, 'mystery': 5089, 'nameless': 5090, 'inspired': 5091, 'bowing': 5092, 'rents': 5093, 'cluster': 5094, 'withdrawn': 5095, 'recommencing': 5096, 'restore': 5097, 'beneficial': 5098, 'quest': 5099, 'tea': 5100, 'unproductively': 5101, 'reclaimed': 5102, 'repossessed': 5103, 'gapes': 5104, 'passer': 5105, 'inimitable': 5106, 'abdication': 5107, 'indubitable': 5108, 'strikingly': 5109, 'owned': 5110, 'shoulder': 5111, 'sung': 5112, 'consumed': 5113, 'accosted': 5114, 'farewell': 5115, 'impressively': 5116, 'quieted': 5117, 'disadvantages': 5118, 'respective': 5119, 'incalculable': 5120, '21': 5121, 'prepossession': 5122, 'flattering': 5123, 'prettier': 5124, 'eternal': 5125, 'purification': 5126, 'perfume': 5127, 'enquirer': 5128, 'laundress': 5129, 'notoriety': 5130, 'durands': 5131, 'mouths': 5132, 'unfledged': 5133, 'sparrows': 5134, 'fed': 5135, 'ibbotsons': 5136, 'beauties': 5137, 'maclean': 5138, 'misses': 5139, 'chooses': 5140, 'informs': 5141, 'overspread': 5142, 'instantaneously': 5143, 'assuming': 5144, 'willingness': 5145, 'imbibed': 5146, 'notion': 5147, 'hesitate': 5148, 'premature': 5149, 'official': 5150, 'occurs': 5151, 'offers': 5152, 'objections': 5153, 'archly': 5154, 'ninety': 5155, 'shipwrecked': 5156, 'astray': 5157, 'failure': 5158, 'semblance': 5159, 'bye': 5160, 'pursue': 5161, 'doubting': 5162, 'hates': 5163, 'officious': 5164, 'surface': 5165, 'unprejudiced': 5166, 'wary': 5167, 'blooded': 5168, 'guilty': 5169, 'perpetrated': 5170, 'desert': 5171, 'compunction': 5172, 'hollow': 5173, 'exclamation': 5174, 'startle': 5175, 'injured': 5176, 'abuse': 5177, 'chambers': 5178, 'temple': 5179, 'farthing': 5180, 'purse': 5181, 'fors': 5182, 'againsts': 5183, 'confided': 5184, 'mar': 5185, 'justly': 5186, 'wealth': 5187, 'concealments': 5188, 'boast': 5189, 'vouch': 5190, 'associated': 5191, 'thoughtless': 5192, 'rules': 5193, 'reprehensible': 5194, 'objected': 5195, 'grazier': 5196, 'grandfather': 5197, 'amount': 5198, 'committed': 5199, 'cheap': 5200, 'dirt': 5201, 'baronetcies': 5202, 'saleable': 5203, 'repeat': 5204, 'contradictory': 5205, 'inlaid': 5206, 'shelf': 5207, 'closet': 5208, 'sighing': 5209, 'unlocked': 5210, 'immethodical': 5211, 'examine': 5212, 'memorandums': 5213, 'burn': 5214, 'document': 5215, 'tunbridge': 5216, 'wells': 5217, '1803': 5218, 'cash': 5219, 'swear': 5220, 'surveyor': 5221, 'hammer': 5222, 'nevertheless': 5223, 'unlikely': 5224, 'equivalent': 5225, 'reversion': 5226, 'wm': 5227, 'disrespectful': 5228, 'shows': 5229, 'violation': 5230, 'laws': 5231, 'testimonies': 5232, 'meditating': 5233, 'authentic': 5234, 'oral': 5235, 'testimony': 5236, 'bend': 5237, 'stream': 5238, 'rubbish': 5239, 'collects': 5240, 'turnings': 5241, 'unreservedly': 5242, 'overflowing': 5243, 'secrets': 5244, 'romancing': 5245, 'prior': 5246, 'misconceived': 5247, 'supposes': 5248, 'inducement': 5249, 'historian': 5250, 'triumphantly': 5251, 'false': 5252, 'improbable': 5253, 'insinuating': 5254, 'plausible': 5255, 'blind': 5256, 'reports': 5257, 'prevail': 5258, 'avarice': 5259, 'circumventing': 5260, 'accord': 5261, 'details': 5262, 'manoeuvres': 5263, 'duplicity': 5264, 'considers': 5265, 'absurdity': 5266, 'strenuous': 5267, 'opposer': 5268, 'favourer': 5269, 'matrimony': 5270, 'intrude': 5271, 'thoughtfulness': 5272, 'disingenuous': 5273, 'recital': 5274, 'bitterness': 5275, 'unimpaired': 5276, 'extravagance': 5277, 'despised': 5278, 'prompting': 5279, 'executor': 5280, 'heaped': 5281, 'anguish': 5282, 'corresponding': 5283, 'urgent': 5284, 'stern': 5285, 'fruitless': 5286, 'ingratitude': 5287, 'inhumanity': 5288, 'flagrant': 5289, 'crime': 5290, 'conversations': 5291, 'hinted': 5292, 'grievances': 5293, 'sequestration': 5294, 'payment': 5295, 'incumbrances': 5296, 'recoverable': 5297, 'disabled': 5298, 'employing': 5299, 'purchase': 5300, 'straitened': 5301, 'weakening': 5302, 'anticipation': 5303, 'apprehensive': 5304, 'refutation': 5305, 'favourably': 5306, 'bled': 5307, 'giddy': 5308, 'fare': 5309, 'shudder': 5310, 'miserable': 5311, 'disclosed': 5312, 'deceived': 5313, '22': 5314, 'obtrusiveness': 5315, 'irremediable': 5316, 'unperplexed': 5317, 'avert': 5318, 'slighting': 5319, 'springing': 5320, 'extended': 5321, 'anxieties': 5322, 'congratulated': 5323, 'carelessness': 5324, 'spell': 5325, 'harder': 5326, 'lay': 5327, 'embargo': 5328, 'lifting': 5329, 'assume': 5330, 'placid': 5331, 'license': 5332, 'devoting': 5333, 'insincerity': 5334, 'odious': 5335, 'remonstrance': 5336, 'eclat': 5337, 'retrace': 5338, 'guarded': 5339, 'solicitation': 5340, 'heat': 5341, 'kindle': 5342, 'hazard': 5343, 'commanding': 5344, 'surmised': 5345, 'saturday': 5346, 'destruction': 5347, 'humiliating': 5348, 'practised': 5349, 'sources': 5350, 'complicate': 5351, 'subtleties': 5352, 'endeavouring': 5353, 'friday': 5354, 'tiresome': 5355, 'plaguing': 5356, 'poems': 5357, 'bores': 5358, 'hideous': 5359, 'regards': 5360, 'rouge': 5361, 'blinds': 5362, 'preconcerted': 5363, 'regaling': 5364, 'ostentatiously': 5365, 'beside': 5366, 'selves': 5367, 'narration': 5368, 'characteristic': 5369, 'forwardness': 5370, 'permanent': 5371, 'dorsetshire': 5372, 'preserves': 5373, 'kingdom': 5374, 'proprietors': 5375, 'special': 5376, 'dimming': 5377, 'streightens': 5378, 'confer': 5379, 'ambitious': 5380, 'misconduct': 5381, 'hesitatingly': 5382, 'jumping': 5383, 'starts': 5384, 'wriggles': 5385, 'chick': 5386, 'elbow': 5387, 'verses': 5388, 'illiberal': 5389, 'fought': 5390, 'brave': 5391, 'famous': 5392, 'rat': 5393, 'mirrors': 5394, 'china': 5395, 'risen': 5396, 'enjoying': 5397, 'superiorities': 5398, 'detailed': 5399, 'reduction': 5400, 'betray': 5401, 'persuasions': 5402, 'profess': 5403, 'fortunately': 5404, 'gratifying': 5405, 'contributed': 5406, 'won': 5407, 'heartiness': 5408, 'wonted': 5409, 'shops': 5410, 'altering': 5411, 'ribbon': 5412, 'keys': 5413, 'assorting': 5414, 'trinkets': 5415, 'overlooking': 5416, 'imagining': 5417, 'hotel': 5418, 'ensured': 5419, 'changing': 5420, 'unsettled': 5421, 'spacious': 5422, 'seated': 5423, 'derived': 5424, 'governed': 5425, 'captiously': 5426, 'irritable': 5427, 'inadvertence': 5428, 'wantonly': 5429, 'inadvertencies': 5430, 'misconstructions': 5431, 'mischievous': 5432, 'colonnade': 5433, 'positively': 5434, 'perceiving': 5435, 'ensure': 5436, 'shaking': 5437, 'pacify': 5438, 'screen': 5439, 'recomposed': 5440, 'acquitted': 5441, 'civilly': 5442, 'n': 5443, 'humouredly': 5444, 'forgetful': 5445, 'abominable': 5446, 'smirked': 5447, 'representative': 5448, 'heirs': 5449, 'representatives': 5450, 'reigning': 5451, 'sun': 5452, 'scandalous': 5453, 'jesting': 5454, 'opposing': 5455, 'omitting': 5456, 'interposed': 5457, 'impediment': 5458, 'trembled': 5459, 'reserving': 5460, 'teasing': 5461, 'persisting': 5462, 'bare': 5463, 'faced': 5464, 'player': 5465, 'misconstruction': 5466, 'ponder': 5467, 'reluctance': 5468, 'security': 5469, 'wherewith': 5470, 'chill': 5471, 'oppression': 5472, 'freedom': 5473, 'hushed': 5474, 'insipid': 5475, 'heartless': 5476, 'nothings': 5477, 'comprise': 5478, 'gracefully': 5479, 'interruption': 5480, 'acceptance': 5481, 'atonement': 5482, 'insolence': 5483, 'sank': 5484, 'including': 5485, 'audibly': 5486, 'separated': 5487, 'fatigues': 5488, 'toilsome': 5489, 'enumeration': 5490, 'detail': 5491, 'embellishments': 5492, 'harassing': 5493, 'ending': 5494, 'gnawing': 5495, 'appeased': 5496, 'defy': 5497, 'broodings': 5498, 'restless': 5499, 'intimation': 5500, 'guilt': 5501, 'complication': 5502, 'overbearing': 5503, 'lectures': 5504, 'imitation': 5505, 'delayed': 5506, '23': 5507, 'defer': 5508, 'explanatory': 5509, 'plighted': 5510, 'sultaness': 5511, 'scheherazade': 5512, 'unfavourable': 5513, 'strictest': 5514, 'injunctions': 5515, 'outwardly': 5516, 'plunged': 5517, 'tasting': 5518, 'audible': 5519, 'undesirable': 5520, 'principals': 5521, 'abominate': 5522, 'unsafe': 5523, 'unwise': 5524, 'thrill': 5525, 'glanced': 5526, 'pausing': 5527, 'urge': 5528, 'truths': 5529, 'enforce': 5530, 'denoted': 5531, 'enforced': 5532, 'assumed': 5533, 'unfolding': 5534, 'displaying': 5535, 'miniature': 5536, 'painting': 5537, 'german': 5538, 'artist': 5539, 'quivering': 5540, 'lip': 5541, 'doted': 5542, 'prey': 5543, 'granting': 5544, 'frames': 5545, 'bodies': 5546, 'riding': 5547, 'heaviest': 5548, 'authorise': 5549, 'assert': 5550, 'robust': 5551, 'privations': 5552, 'dangers': 5553, 'labouring': 5554, 'toiling': 5555, 'faltering': 5556, 'striving': 5557, 'anchorage': 5558, 'signal': 5559, 'lowering': 5560, 'histories': 5561, 'verse': 5562, 'inconstancy': 5563, 'proverbs': 5564, 'fickleness': 5565, 'suffers': 5566, 'watches': 5567, 'calculates': 5568, 'pretending': 5569, 'wings': 5570, 'glories': 5571, 'treasures': 5572, 'resemble': 5573, 'forbid': 5574, 'undervalue': 5575, 'faithful': 5576, 'privilege': 5577, 'enviable': 5578, 'covet': 5579, 'loving': 5580, 'longest': 5581, 'breath': 5582, 'quarrelling': 5583, 'disengaged': 5584, 'sealed': 5585, 'closer': 5586, 'footsteps': 5587, 'revolution': 5588, 'legible': 5589, 'e': 5590, 'contents': 5591, 'defied': 5592, 'leaned': 5593, 'devoured': 5594, 'pierce': 5595, 'broke': 5596, 'resentful': 5597, 'sink': 5598, 'undeviating': 5599, 'f': 5600, 'hither': 5601, 'tranquillized': 5602, 'distracting': 5603, 'desperation': 5604, 'blow': 5605, 'precaution': 5606, 'struggled': 5607, 'll': 5608, 'prophesied': 5609, 'mischance': 5610, 'damp': 5611, 'ungrateful': 5612, 'sacrificing': 5613, 'gunsmith': 5614, 'familiar': 5615, 'repulsively': 5616, 'pale': 5617, 'movements': 5618, 'unpacked': 5619, 'barrel': 5620, 'reined': 5621, 'rapture': 5622, 'gravel': 5623, 'immortality': 5624, 'exchanged': 5625, 'exquisitely': 5626, 'slowly': 5627, 'paced': 5628, 'sauntering': 5629, 'politicians': 5630, 'bustling': 5631, 'housekeepers': 5632, 'flirting': 5633, 'maids': 5634, 'indulge': 5635, 'retrospections': 5636, 'acknowledgements': 5637, 'explanations': 5638, 'preceded': 5639, 'poignant': 5640, 'variations': 5641, 'today': 5642, 'retarding': 5643, 'operate': 5644, 'vanquished': 5645, 'governance': 5646, 'sheet': 5647, 'poured': 5648, 'retracted': 5649, 'supplanted': 5650, 'sufferer': 5651, 'loveliest': 5652, 'medium': 5653, 'unrivalled': 5654, 'obstinacy': 5655, 'darings': 5656, 'heedlessness': 5657, 'exalt': 5658, 'estimation': 5659, 'deplore': 5660, 'madness': 5661, 'regain': 5662, 'remorse': 5663, 'excessive': 5664, 'grossly': 5665, 'abide': 5666, 'entangled': 5667, 'caring': 5668, 'speculations': 5669, 'personally': 5670, 'blunder': 5671, 'homage': 5672, 'inexpressibly': 5673, 'blindness': 5674, 'blunders': 5675, 'astonishing': 5676, 'felicitous': 5677, 'inaction': 5678, 'wednesday': 5679, 'retain': 5680, 'encouragement': 5681, 'tearing': 5682, 'subsequent': 5683, 'despondency': 5684, 'energy': 5685, 'wishers': 5686, 'horrible': 5687, 'eligibilities': 5688, 'proprieties': 5689, 'indelible': 5690, 'incurred': 5691, 'violated': 5692, 'overwhelmed': 5693, 'smarting': 5694, 'force': 5695, 'rallied': 5696, 'dissipated': 5697, 'meditation': 5698, 'corrective': 5699, 'steadfast': 5700, 'thankfulness': 5701, 'lighted': 5702, 'assembled': 5703, 'mixture': 5704, 'commonplace': 5705, 'shorter': 5706, 'forbearing': 5707, 'delicious': 5708, 'communications': 5709, 'occurring': 5710, 'greenhouse': 5711, 'impartially': 5712, 'err': 5713, 'decides': 5714, 'similarity': 5715, 'submitting': 5716, 'allowable': 5717, 'deliberation': 5718, 'enemy': 5719, 'posted': 5720, 'accent': 5721, 'decisive': 5722, 'crown': 5723, 'earn': 5724, 'rewards': 5725, 'reverses': 5726, 'brook': 5727, '24': 5728, 'ultimate': 5729, 'morality': 5730, 'maturity': 5731, 'graciousness': 5732, 'spendthrift': 5733, 'maintain': 5734, 'daylight': 5735, 'eyed': 5736, 'balanced': 5737, 'sounding': 5738, 'insertion': 5739, 'struggles': 5740, 'indicate': 5741, 'impetuosity': 5742, 'correctness': 5743, 'suavity': 5744, 'regulated': 5745, 'quickness': 5746, 'nicety': 5747, 'discernment': 5748, 'instrumental': 5749, 'landaulette': 5750, 'headship': 5751, 'unexpectedly': 5752, 'deranged': 5753, 'discomfited': 5754, 'wheedled': 5755, 'caressed': 5756, 'doubted': 5757, 'mortified': 5758, 'resort': 5759, 'disproportion': 5760, 'harmony': 5761, 'prompt': 5762, 'source': 5763, 'transgressions': 5764, 'dividing': 5765, 'kinds': 5766, 'depriving': 5767, 'petty': 5768, 'requited': 5769, 'render': 5770, 'spoiled': 5771, 'acquisition': 5772, 'supplies': 5773, 'defiance': 5774, 'accessions': 5775, 'sunshine': 5776, 'national': 5777, 'finis': 5778}\n"
          ]
        }
      ]
    },
    {
      "cell_type": "code",
      "execution_count": null,
      "metadata": {
        "id": "nUDkjy80c77h",
        "colab": {
          "base_uri": "https://localhost:8080/"
        },
        "outputId": "4d92c484-244c-4880-fe4f-20ad268bdf4d"
      },
      "outputs": [
        {
          "output_type": "stream",
          "name": "stdout",
          "text": [
            "defaultdict(<class 'int'>, {'austen': 1, 'persuasion': 6, 'jane': 1, 'by': 359, '1818': 1, '1': 3, 'chapter': 24, 'contemplating': 1, 'turned': 21, 'century': 1, 'baronetage': 2, 'took': 19, 'man': 124, 'and': 1567, 'creations': 2, 'a': 1149, 'last': 86, 'book': 8, 'interest': 43, 'unwelcome': 3, 'contempt': 5, 'idle': 3, 'walter': 133, 'patents': 1, 'the': 1643, 'were': 380, 'affairs': 8, 'with': 571, 'consolation': 3, 'which': 364, 'somersetshire': 4, 'earliest': 4, 'was': 1036, 'pity': 13, 'occupation': 5, 'distressed': 6, 'faculties': 1, 'respect': 17, 'in': 1024, 'never': 144, 'kellynch': 70, 'other': 139, 'if': 194, 'every': 94, 'naturally': 6, 'history': 16, 'of': 1470, 'up': 88, 'domestic': 11, 'leaf': 1, 'sir': 141, 'found': 81, 'arising': 2, 'over': 82, 'hour': 32, 'own': 147, 'any': 177, 'could': 412, 'one': 220, 'who': 174, 'failed': 5, 'an': 228, 'sensations': 9, 'he': 677, 'limited': 2, 'his': 473, 'roused': 8, 'hall': 28, 'read': 13, 'remnant': 1, 'for': 601, 'as': 563, 'from': 263, 'into': 95, 'amusement': 10, 'elliot': 271, 'admiration': 10, 'changed': 7, 'there': 265, 'powerless': 1, 'but': 637, 'almost': 59, 'endless': 1, 'opened': 10, 'page': 2, 'always': 100, 'volume': 4, 'favourite': 8, 'at': 466, 'this': 245, 'stevenson': 1, '15': 2, 'daughter': 21, 'march': 1, 'married': 23, 'esq': 5, 'james': 6, 'elizabeth': 83, '1784': 1, 'born': 3, 'july': 2, '1760': 1, 'gloucester': 1, 'has': 94, '1789': 1, '1800': 1, 'died': 7, '5': 3, '1787': 1, 'son': 15, '9': 2, '1785': 1, '20': 2, '1791': 1, 'anne': 477, 'south': 2, 'june': 3, 'county': 4, 'lady': 203, 'issue': 1, 'still': 71, 'mary': 130, 'park': 4, 'november': 8, 'august': 2, 'hands': 20, 'these': 51, '1810': 1, 'paragraph': 2, 'charles': 157, 'heir': 13, 'december': 1, 'it': 854, 'himself': 89, 'originally': 3, 'had': 828, 'family': 76, 'such': 194, '16': 2, 'adding': 4, 'improved': 12, \"'\": 467, 'after': 95, 'musgrove': 122, 'printer': 1, 'birth': 10, 'information': 6, 's': 416, 'words': 23, 'date': 3, 'precisely': 6, 'stood': 12, 'most': 118, 'lost': 18, 'somerset': 2, 'accurately': 1, 'wife': 44, 'inserting': 1, 'uppercross': 74, 'day': 75, 'on': 347, 'month': 9, 'dugdale': 1, 'respectable': 5, 'again': 127, 'forming': 4, 'how': 113, 'handsome': 19, 'elizabeths': 1, 'been': 419, 'pages': 1, 'seat': 14, 'usual': 20, 'mentioned': 13, 'first': 111, 'high': 26, 'dignity': 11, 'successive': 2, 'ii': 1, 'exertions': 3, 'sheriff': 1, 'two': 111, 'concluding': 2, 'finale': 1, 'borough': 1, 'office': 5, 'settled': 22, 'parliaments': 1, 'altogether': 13, 'followed': 15, 'rise': 6, 'cheshire': 1, 'three': 39, 'motto': 2, 'handwriting': 1, 'serving': 1, 'then': 66, 'baronet': 11, 'terms': 18, 'marys': 1, 'duodecimo': 1, 'principal': 8, 'they': 360, 'loyalty': 1, 'representing': 2, 'ancient': 3, 'arms': 8, 'year': 25, 'all': 465, 'second': 17, 'presumptive': 3, 'william': 4, 'great': 125, 'grandson': 2, 'beginning': 26, 'situation': 27, 'character': 49, 'end': 32, 'person': 30, 'vanity': 8, 'fifty': 6, 'youth': 15, 'very': 389, 'four': 22, 'remarkably': 3, 'fine': 31, 'appearance': 24, 'held': 7, 'than': 227, 'did': 156, 'valet': 1, 'society': 13, 'personal': 13, 'delighted': 17, 'women': 22, 'made': 94, 'lord': 8, 'think': 145, 'be': 785, 'their': 230, 'place': 82, 'nor': 34, 'new': 25, 'few': 58, 'more': 245, 'object': 30, 'inferior': 9, 'to': 1624, 'united': 4, 'only': 210, 'baronetcy': 2, 'blessing': 8, 'warmest': 2, 'constant': 10, 'considered': 26, 'devotion': 2, 'beauty': 10, 'gifts': 1, 'have': 519, 'superior': 9, 'claim': 9, 'must': 210, 'deserved': 8, 'thing': 41, 'attachment': 23, 'looks': 14, 'rank': 8, 'fair': 12, 'owed': 4, 'since': 44, 'them': 243, 'good': 172, 'required': 11, 'years': 55, 'friends': 29, 'excellent': 22, 'might': 157, 'sensible': 26, 'her': 811, 'children': 35, 'infatuation': 1, 'though': 111, 'judgement': 8, 'make': 85, 'promoted': 1, 'woman': 66, 'seventeen': 3, 'indulgence': 11, 'herself': 152, 'conduct': 19, 'humoured': 6, 'being': 200, 'or': 232, 'real': 22, 'called': 28, 'concealed': 2, 'duties': 4, 'whose': 20, 'happiest': 6, 'respectability': 5, 'attach': 4, 'no': 306, 'not': 813, 'afterwards': 36, 'failings': 1, 'world': 35, 'when': 215, 'youthful': 1, 'amiable': 7, 'she': 819, 'pardoned': 3, 'matter': 21, 'life': 48, 'quit': 9, 'enough': 70, 'indifference': 10, 'softened': 3, 'awful': 2, 'confide': 1, 'authority': 7, 'father': 113, 'legacy': 1, 'sixteen': 2, 'rather': 59, 'guidance': 3, 'girls': 14, 'silly': 4, 'charge': 2, 'eldest': 11, 'mother': 40, 'conceited': 1, 'fourteen': 3, 'bequeath': 1, 'advice': 4, 'maintenance': 1, 'however': 89, 'brought': 32, 'best': 43, 'kindness': 15, 'settle': 7, 'anxiously': 4, 'mainly': 1, 'instruction': 1, 'giving': 19, 'close': 7, 'help': 21, 'daughters': 10, 'deserving': 4, 'principles': 3, 'strong': 29, 'relied': 2, 'village': 9, 'intimate': 9, 'friend': 79, 'head': 34, 'whatever': 8, 'marry': 24, 'that': 706, 'anticipated': 2, 'acquaintance': 60, 'neighbours': 7, 'thirteen': 5, 'near': 45, 'away': 77, 'death': 11, 'remained': 12, 'widower': 2, 'widow': 9, 'passed': 39, 'thought': 88, 'discontented': 1, 'public': 8, 'steady': 7, 'needs': 2, 'does': 39, 'is': 341, 'continuing': 5, 'age': 10, 'russell': 141, 'apology': 5, 'requires': 2, 'explanation': 6, 'unreasonably': 1, 'apt': 3, 'provided': 3, 'well': 156, 'singleness': 1, 'extremely': 16, 'should': 164, 'marriage': 26, 'applications': 4, 'unreasonable': 1, 'remaining': 7, 'single': 6, 'having': 87, 'met': 26, 'dear': 55, 'private': 6, 'like': 80, 'disappointments': 2, 'known': 46, 'prided': 1, 'sake': 12, 'would': 321, 'given': 33, 'really': 43, 'much': 198, 'tempted': 4, 'do': 198, 'rights': 10, 'together': 54, 'happily': 6, 'consequence': 31, 'succeeded': 6, 'possible': 43, 'influence': 20, 'gone': 49, 'value': 19, 'sister': 79, 'weight': 4, 'word': 32, 'artificial': 4, 'little': 171, 'either': 36, 'acquired': 4, 'understanding': 20, 'becoming': 5, 'way': 78, 'convenience': 5, 'placed': 12, 'mrs': 265, 'elegance': 7, 'give': 79, 'importance': 11, 'mind': 63, 'sweetness': 4, 'people': 39, 'nobody': 18, 'highly': 15, 'god': 10, 'valued': 5, 'indeed': 63, 'loved': 15, 'fancy': 7, 'revive': 1, 'pretty': 27, 'nothing': 133, 'admire': 7, 'its': 61, 'now': 157, 'excite': 9, 'different': 24, 'faded': 3, 'delicate': 3, 'even': 69, 'height': 3, 'thin': 2, 'esteem': 3, 'eyes': 33, 'features': 9, 'before': 110, 'girl': 10, 'so': 303, 'totally': 6, 'early': 26, 'mild': 1, 'bloom': 7, 'vanished': 1, 'dark': 8, 'name': 40, 'reading': 8, 'ever': 75, 'none': 20, 'work': 9, 'indulged': 1, 'hope': 52, 'rest': 20, 'large': 19, 'old': 46, 'equality': 1, 'suitably': 1, 'alliance': 5, 'honour': 14, 'country': 33, 'fortune': 28, 'connected': 5, 'received': 34, 'merely': 10, 'therefore': 27, 'handsomer': 2, 'ten': 12, 'scarcely': 11, 'generally': 17, 'nine': 7, 'sometimes': 18, 'neither': 24, 'anxiety': 11, 'health': 19, 'happens': 3, 'twenty': 20, 'speaking': 21, 'ill': 34, 'time': 146, 'charm': 10, 'half': 54, 'forgetting': 2, 'growing': 12, 'plainly': 1, 'least': 41, 'amidst': 3, 'wreck': 1, 'everybody': 18, 'else': 27, 'fool': 4, 'thinking': 28, 'same': 77, 'deemed': 3, 'begun': 11, 'miss': 120, 'blooming': 2, 'see': 121, 'ago': 15, 'excused': 3, 'increase': 5, 'distress': 14, 'him': 395, 'long': 92, 'about': 93, 'foot': 7, 'haggard': 1, 'worsting': 1, 'face': 21, 'rapid': 4, 'crow': 1, 'coarse': 2, 'neighbourhood': 14, 'temples': 2, 'equal': 22, 'contentment': 1, 'quite': 110, 'mistress': 7, 'self': 19, 'decision': 7, 'presiding': 2, 'seen': 58, 'possession': 8, 'idea': 40, 'directing': 2, 'younger': 5, 'law': 8, 'dining': 4, 'immediately': 29, 'drawing': 18, 'out': 90, 'rooms': 17, 'honours': 7, 'home': 81, 'walking': 20, 'chaise': 5, 'laying': 2, 'leading': 5, 'doing': 28, 'down': 57, 'travelled': 5, 'opening': 4, 'weeks': 10, 'revolving': 2, 'london': 13, 'frosts': 1, 'winters': 1, 'ball': 3, 'credit': 10, 'annual': 1, 'springs': 1, 'scanty': 1, 'enjoyment': 13, 'shewn': 8, 'blossoms': 1, 'afforded': 2, 'properly': 10, 'within': 22, 'apprehensions': 3, 'approach': 5, 'next': 40, 'felt': 78, 'rejoiced': 5, 'remembrance': 6, 'consciousness': 12, 'satisfied': 22, 'some': 126, 'danger': 13, 'certain': 12, 'solicited': 3, 'twelvemonth': 2, 'regrets': 3, 'fully': 14, 'blood': 4, 'liked': 15, 'books': 10, 'take': 49, 'averted': 2, 'presented': 6, 'closed': 9, 'open': 21, 'pushed': 1, 'evil': 14, 'table': 15, 'follow': 9, 'youngest': 5, 'once': 53, 'left': 48, 'especially': 13, 'moreover': 6, 'present': 64, 'disappointment': 4, 'supported': 3, 'generously': 1, 'disappointed': 6, 'young': 80, 'event': 8, 'brother': 32, 'soon': 118, 'meant': 15, 'future': 13, 'while': 69, 'introduction': 6, 'spring': 11, 'boy': 14, 'mr': 238, 'sought': 7, 'making': 23, 'modest': 4, 'warmth': 11, 'persevered': 1, 'allowance': 3, 'seeking': 3, 'overtures': 1, 'excursions': 1, 'forced': 10, 'back': 69, 'plan': 12, 'confirmed': 2, 'engaged': 19, 'just': 66, 'study': 2, 'favour': 17, 'agreeable': 38, 'invited': 10, 'talked': 32, 'expected': 18, 'came': 66, 'come': 72, 'town': 14, 'following': 9, 'encouraged': 4, 'tidings': 1, 'equally': 9, 'purchased': 1, 'house': 87, 'pushing': 2, 'instead': 15, 'independence': 6, 'uniting': 2, 'line': 8, 'marked': 4, 'rich': 11, 'resented': 1, 'taking': 24, 'tattersall': 1, 'commons': 1, 'twice': 6, 'lobby': 1, 'hand': 23, 'ought': 51, 'observed': 17, 'publicly': 1, 'consulted': 4, 'regarded': 2, 'apparently': 6, 'expressed': 7, 'disapprobation': 3, 'unsolicitous': 1, 'between': 54, 'noticed': 3, 'ceased': 8, 'attempted': 3, 'unworthy': 4, 'longer': 26, 'match': 20, 'pride': 16, 'anger': 2, 'interval': 9, 'proper': 17, 'awkward': 3, 'several': 10, 'z': 1, 'feelings': 71, 'willingly': 2, 'acknowledged': 8, 'whom': 34, 'miserably': 1, 'worth': 22, 'conducted': 1, '1814': 1, 'admit': 9, 'black': 4, 'summer': 10, 'ribbons': 1, 'wearing': 3, 'yet': 58, 'accustomary': 1, 'hereafter': 5, 'perpetuated': 1, 'offspring': 1, 'slightingly': 1, 'done': 73, 'contemptuously': 1, 'disrespectfully': 2, 'intervention': 1, 'informed': 4, 'perhaps': 57, 'worse': 24, 'belonged': 6, 'kind': 20, 'reason': 21, 'disgrace': 2, 'suppose': 24, 'got': 21, 'spoken': 21, 'uneventful': 1, 'abroad': 4, 'prosperity': 5, 'circle': 8, 'accomplishments': 4, 'sentiments': 10, 'nothingness': 2, 'occupy': 2, 'habits': 7, 'cares': 3, 'fill': 2, 'utility': 3, 'vary': 1, 'residence': 5, 'sameness': 1, 'vacancies': 1, 'talents': 2, 'alloy': 3, 'scene': 5, 'agitations': 4, 'solicitude': 9, 'added': 24, 'another': 64, 'money': 15, 'shepherd': 29, 'tradespeople': 1, 'hints': 10, 'agent': 1, 'thoughts': 9, 'knew': 60, 'drive': 5, 'heavy': 2, 'bills': 1, 'apprehension': 2, 'possessor': 1, 'state': 31, 'property': 12, 'lived': 20, 'constantly': 1, 'period': 15, 'income': 5, 'mindedness': 1, 'exceeding': 1, 'kept': 16, 'method': 2, 'moderation': 1, 'right': 41, 'economy': 3, 'attempt': 5, 'less': 30, 'spend': 11, 'vain': 16, 'partially': 2, 'became': 13, 'concealing': 1, 'what': 187, 'often': 30, 'blameless': 1, 'hearing': 16, 'dreadfully': 3, 'imperiously': 1, 'debt': 2, 'retrench': 3, 'can': 104, 'far': 32, 'say': 90, 'we': 134, 'article': 4, 'occur': 5, 'you': 500, 'custom': 2, 'ardour': 3, 'set': 32, 'seriously': 7, 'unnecessary': 4, 'justice': 14, 'off': 66, 'alarm': 6, 'furnishing': 1, 'branches': 1, 'yearly': 1, 'room': 80, 'cut': 6, 'expedients': 1, 'refrain': 1, 'finally': 5, 'proposed': 7, 'happy': 64, 'charities': 1, 'female': 3, 'confess': 10, 'obliged': 29, 'themselves': 37, 'whole': 42, 'insufficient': 1, 'measures': 4, 'extent': 2, 'deeper': 2, 'propose': 4, 'efficacy': 2, 'used': 26, 'able': 29, 'relinquishing': 2, 'compromising': 1, 'without': 96, 'comforts': 4, 'unfortunate': 3, 'expenses': 3, 'lessening': 5, 'borne': 6, 'means': 21, 'devise': 1, 'small': 18, 'difference': 13, 'part': 41, 'dispose': 1, 'acre': 1, 'alienable': 1, 'estate': 6, 'power': 13, 'mortgage': 1, 'sell': 1, 'condescend': 1, 'condescended': 1, 'entire': 2, 'transmitted': 1, 'confidential': 1, 'advise': 1, 'both': 40, 'taste': 24, 'neighbouring': 1, 'reduce': 1, 'expenditure': 1, 'remove': 2, 'loss': 8, 'involving': 3, 'expect': 10, 'market': 2, 'embarrassments': 2, 'seemed': 90, 'something': 61, 'struck': 14, '2': 1, 'advised': 2, 'hold': 8, 'adopted': 3, 'civil': 5, 'anybody': 21, 'leave': 45, 'implicit': 1, 'disagreeable': 4, 'views': 9, 'cautious': 4, 'begged': 4, 'resolute': 3, 'hint': 13, 'sense': 15, 'reference': 5, 'slightest': 3, 'recommend': 9, 'offering': 5, 'prompted': 3, 'lawyer': 2, 'zealous': 2, 'subject': 27, 'gave': 29, 'consideration': 6, 'serious': 17, 'quick': 8, 'coming': 33, 'instance': 3, 'opposition': 7, 'abilities': 3, 'difficulties': 12, 'sound': 11, 'honesty': 2, 'saving': 2, 'desirous': 2, 'integrity': 1, 'solicitous': 3, 'ideas': 10, 'aristocratic': 1, 'due': 12, 'strict': 5, 'charitable': 2, 'manners': 31, 'decorum': 2, 'breeding': 2, 'correct': 3, 'benevolent': 2, 'standard': 2, 'capable': 9, 'attachments': 2, 'notions': 8, 'faults': 2, 'prejudices': 1, 'possessed': 4, 'side': 46, 'blinded': 1, 'ancestry': 1, 'those': 66, 'rational': 7, 'cultivated': 2, 'consistent': 2, 'landlord': 2, 'knight': 1, 'husband': 34, 'deal': 45, 'compassion': 5, 'neighbour': 3, 'independent': 2, 'entitled': 3, 'under': 44, 'obliging': 6, 'attentive': 6, 'claims': 15, 'sisters': 15, 'doubt': 26, 'pain': 19, 'anxious': 18, 'exact': 4, 'drew': 16, 'others': 53, 'calculations': 4, 'plans': 2, 'question': 21, 'influenced': 5, 'submitted': 5, 'marking': 1, 'scheme': 8, 'retrenchment': 1, 'degree': 24, 'against': 27, 'emendation': 1, 'tone': 18, 'vigorous': 1, 'complete': 9, 'equity': 1, 'reformation': 2, 'everything': 42, 'higher': 6, 'release': 1, 'quicker': 3, 'wanted': 32, 'said': 170, 'looking': 44, 'may': 81, 'your': 117, 'paper': 5, 'persuade': 8, 'i': 787, 'lessened': 5, 'true': 21, 'reductions': 2, 'regulations': 2, 'cannot': 41, 'convince': 6, 'principle': 7, 'itself': 13, 'acting': 5, 'will': 150, 'affected': 10, 'clear': 13, 'seven': 10, 'adopt': 1, 'our': 51, 'fact': 15, 'families': 8, 'many': 79, 'singular': 1, 'makes': 6, 'suffering': 17, 'worst': 6, 'singularity': 1, 'case': 25, 'prevailing': 2, 'pay': 8, 'decided': 22, 'honest': 1, 'debts': 1, 'gentleman': 29, 'contracted': 1, 'urging': 1, 'proceeding': 4, 'retrenchments': 1, 'saw': 47, 'secure': 7, 'comprehensive': 2, 'indispensable': 1, 'duty': 12, 'anything': 47, 'expedition': 1, 'act': 8, 'creditors': 1, 'short': 46, 'prescribed': 1, 'conscience': 6, 'persuading': 1, 'difficulty': 7, 'denial': 1, 'severe': 13, 'believed': 21, 'rated': 2, 'pair': 1, 'hardly': 40, 'horses': 10, 'painful': 10, 'inclined': 5, 'list': 3, 'knowledge': 22, 'too': 115, 'sacrifice': 2, 'gentle': 7, 'through': 34, 'rigid': 1, 'requisitions': 1, 'taken': 25, 'put': 31, 'success': 5, 'comfort': 21, 'knocked': 3, 'contractions': 1, 'servants': 6, 'where': 47, 'restrictions': 4, 'journeys': 1, 'live': 14, 'decencies': 1, 'disgraceful': 1, 'remain': 15, 'sooner': 8, 'perfectly': 43, 'involved': 5, 'change': 34, 'reality': 1, 'abode': 1, 'persuaded': 14, 'retrenching': 1, 'entirely': 17, 'scruple': 5, 'quarter': 7, 'started': 2, 'confessing': 1, 'dictate': 2, 'support': 7, 'appear': 13, 'alter': 3, 'materially': 2, 'style': 19, 'hospitality': 3, 'living': 21, 'looked': 40, 'household': 2, 'regulating': 1, 'choose': 4, 'judge': 8, 'model': 3, 'modes': 2, 'whither': 1, 'days': 24, 'indecision': 1, 'outline': 1, 'go': 82, 'important': 7, 'bath': 96, 'alternatives': 1, 'wishes': 11, 'latter': 6, 'ambition': 1, 'lawns': 1, 'pleasure': 38, 'seeing': 36, 'groves': 2, 'opposite': 6, 'inclination': 11, 'fate': 5, 'attended': 6, 'fixed': 13, 'disliked': 1, 'agreed': 15, 'dissuade': 2, 'skilful': 1, 'trusted': 2, 'preferred': 5, 'expense': 2, 'comparatively': 4, 'safer': 1, 'predicament': 1, 'advantages': 5, 'distance': 9, 'spending': 5, 'induced': 6, 'believe': 48, 'projected': 2, 'satisfaction': 11, 'miles': 12, 'lose': 7, 'settling': 4, 'material': 6, 'winter': 10, 'course': 42, 'convenient': 4, 'oppose': 4, 'descend': 1, 'foresaw': 1, 'mortifications': 2, 'dreadful': 9, 'circumstance': 18, 'school': 10, 'happening': 3, 'spent': 8, 'mistake': 5, 'prejudice': 2, 'secondly': 2, 'regard': 25, 'dislike': 3, 'spirits': 41, 'suit': 9, 'lodge': 5, 'avoided': 3, 'months': 16, 'fond': 11, 'warm': 17, 'disposed': 18, 'passing': 7, 'larger': 2, 'improve': 4, 'strengthened': 2, 'engrafted': 1, 'certainly': 48, 'undesirableness': 1, 'trial': 5, 'stronger': 5, 'fortitude': 6, 'heads': 5, 'let': 27, 'profound': 1, 'secret': 9, 'breathed': 3, 'beyond': 23, 'design': 3, 'letting': 1, 'degradation': 2, 'advertise': 1, 'dared': 5, 'spontaneously': 1, 'supposition': 3, 'manner': 42, 'intention': 7, 'applicant': 1, 'offered': 5, 'forbad': 1, 'spurned': 1, 'dropped': 3, 'unexceptionable': 1, 'reasons': 1, 'approving': 1, 'glad': 30, 'intimacy': 9, 'lately': 9, 'interrupted': 8, 'wished': 27, 'returned': 27, 'burden': 1, 'unprosperous': 1, 'additional': 3, 'clever': 7, 'understood': 20, 'spite': 10, 'friendship': 14, 'art': 2, 'acceptable': 2, 'caution': 6, 'staying': 14, 'reserve': 2, 'pleasing': 10, 'already': 20, 'because': 24, 'love': 38, 'observances': 2, 'previous': 3, 'complaisance': 5, 'carry': 5, 'point': 28, 'outward': 2, 'attention': 25, 'advantage': 22, 'turning': 14, 'selection': 1, 'experience': 5, 'included': 5, 'clay': 57, 'distant': 6, 'lesser': 2, 'arrangements': 6, 'repeatedly': 4, 'bestow': 4, 'visit': 35, 'injustice': 3, 'get': 36, 'civility': 8, 'discredit': 2, 'trying': 15, 'selfish': 4, 'shut': 11, 'confidence': 11, 'better': 85, 'pursued': 3, 'endeavoured': 3, 'occasions': 2, 'earnest': 6, 'affection': 9, 'sensibly': 2, 'reach': 10, 'choice': 7, 'intimates': 1, 'suitable': 3, 'estimate': 4, 'behind': 15, 'unequal': 2, 'companion': 9, 'bring': 13, 'removal': 9, 'dangerous': 9, 'rate': 7, '3': 1, 'observe': 10, 'newspaper': 2, 'morning': 59, 'juncture': 1, 'laid': 3, 'naval': 6, 'ashore': 2, 'officers': 4, 'peace': 10, 'wanting': 9, 'tenants': 4, 'responsible': 2, 'during': 7, 'war': 9, 'noble': 2, 'admiral': 65, 'lucky': 6, 'replied': 30, 'remark': 4, 'hey': 1, 'prize': 2, 'greatest': 8, 'laughed': 3, 'wit': 3, 'gentlemen': 11, 'presume': 2, 'are': 138, 'navy': 12, 'business': 25, 'am': 126, 'free': 5, 'likely': 24, 'meet': 23, 'methods': 1, 'liberal': 2, 'desirable': 11, 'keep': 14, 'designs': 2, 'notice': 19, 'save': 6, 'unquestionably': 3, 'curiosity': 17, 'surprise': 23, 'replying': 2, 'venture': 9, 'chose': 5, 'conceal': 2, 'know': 123, 'thus': 9, 'greatly': 6, 'john': 2, 'hours': 28, 'particularly': 21, 'getting': 14, 'rumour': 2, 'contemplated': 2, 'add': 6, 'going': 64, 'difficult': 4, 'upon': 69, 'actions': 2, 'tax': 2, 'attending': 15, 'matters': 9, 'elude': 1, 'wealthy': 1, 'commanders': 1, 'rumours': 1, 'me': 179, 'trouble': 14, 'truth': 14, 'suggest': 5, 'beg': 7, 'nodded': 2, 'sarcastically': 1, 'rising': 3, 'pacing': 1, 'imagine': 18, 'find': 23, 'description': 16, 'surprised': 12, 'among': 37, 'look': 54, 'agree': 7, 'sailor': 6, 'driven': 4, 'around': 12, 'bless': 8, 'my': 203, 'tenant': 13, 'use': 28, 'besides': 14, 'profession': 14, 'careful': 5, 'neat': 2, 'liberality': 3, 'ways': 6, 'pictures': 2, 'valuable': 5, 'yours': 13, 'safe': 8, 'care': 22, 'order': 9, 'shrubberies': 2, 'gardens': 2, 'flower': 3, 'neglected': 2, 'sweet': 7, 'need': 20, 'afraid': 14, 'coolly': 3, 'annexed': 1, 'privileges': 2, 'rejoined': 1, 'supposing': 6, 'impose': 1, 'range': 3, 'men': 32, 'grounds': 7, 'garden': 3, 'approachable': 1, 'guard': 2, 'grant': 6, 'assure': 25, 'extraordinary': 13, 'soldier': 1, 'pause': 9, 'presumed': 2, 'established': 6, 'easy': 14, 'plain': 7, 'cases': 4, 'usages': 1, 'depend': 11, 'jealous': 5, 'spoke': 31, 'here': 60, 'us': 46, 'hard': 9, 'allow': 9, 'sailors': 7, 'oh': 56, 'rejoinder': 2, 'says': 7, 'mine': 10, 'belonging': 5, 'sorry': 20, 'reply': 11, 'yes': 41, 'points': 6, 'objection': 5, 'offensive': 2, 'cuts': 1, 'obscure': 1, 'raising': 3, 'grandfathers': 1, 'fathers': 1, 'grows': 1, 'vigour': 2, 'dreamt': 1, 'bringing': 11, 'undue': 1, 'distinction': 3, 'horribly': 1, 'persons': 9, 'disdained': 1, 'insulted': 1, 'speak': 26, 'prematurely': 1, 'disgust': 3, 'greater': 13, 'rough': 4, 'colour': 3, 'deplorable': 1, 'instances': 4, 'mahogany': 1, 'baldwin': 4, 'top': 2, 'lines': 6, 'bread': 1, 'wrinkles': 1, 'hairs': 1, 'striking': 1, 'curate': 7, 'powder': 1, 'eat': 4, 'grey': 1, 'ives': 1, 'dab': 2, 'st': 2, 'company': 34, 'rugged': 1, 'personage': 1, 'talking': 24, 'fellow': 18, 'heaven': 7, 'basil': 3, 'standing': 8, 'morley': 1, 'cried': 47, 'sixty': 1, 'forty': 5, 'forget': 12, 'shall': 57, 'easily': 6, 'picture': 8, 'amazement': 2, 'yourselves': 2, 'till': 50, 'weather': 11, 'exposed': 2, 'example': 2, 'wretched': 6, 'faring': 1, 'sea': 20, 'fit': 10, 'climate': 2, 'nay': 10, 'mercy': 1, 'poor': 52, 'grow': 3, 'betimes': 1, 'beautifier': 1, 'professions': 3, 'toil': 2, 'seldom': 4, 'labour': 1, 'body': 7, 'soldiers': 1, 'quieter': 1, 'leaves': 2, 'natural': 19, 'effect': 11, 'service': 10, 'active': 5, 'expose': 1, 'stopt': 1, 'travelling': 2, 'consider': 12, 'moment': 70, 'worn': 4, 'infected': 1, 'poisonous': 1, 'physician': 1, 'clergyman': 2, 'injury': 5, 'plods': 1, 'atmosphere': 1, 'choosing': 2, 'regular': 6, 'torment': 2, 'lot': 2, 'utmost': 3, 'turn': 17, 'necessary': 14, 'convinced': 9, 'cease': 3, 'pursuits': 6, 'personableness': 1, 'blessings': 3, 'honourable': 5, 'foresight': 2, 'gifted': 2, 'sessions': 1, 'croft': 58, 'shortly': 2, 'officer': 6, 'towards': 32, 'bespeak': 1, 'taunton': 6, 'application': 4, 'correspondent': 2, 'fell': 9, 'accidentally': 1, 'feel': 43, 'native': 1, 'immediate': 8, 'possibility': 9, 'concerns': 5, 'introduced': 12, 'advertised': 1, 'particular': 16, 'suited': 6, 'eligible': 1, 'wishing': 12, 'owner': 4, 'proof': 12, 'connection': 5, 'explicit': 1, 'conference': 3, 'inquiries': 1, 'account': 37, 'foretold': 1, 'hastened': 4, 'places': 5, 'report': 9, 'cold': 13, 'suspicious': 3, 'inquiry': 1, 'answered': 15, 'rear': 1, 'white': 5, 'action': 2, 'trafalgar': 1, 'indies': 7, 'stationed': 3, 'east': 3, 'cuffs': 1, 'granted': 1, 'orange': 1, 'livery': 3, 'capes': 1, 'beaten': 2, 'hale': 1, 'killed': 1, 'behaviour': 4, 'rent': 3, 'manor': 1, 'hearty': 4, 'smallest': 15, 'ready': 22, 'inquired': 2, 'asked': 26, 'sure': 72, 'deputation': 1, 'gun': 2, 'furnished': 2, 'fetch': 3, 'comfortable': 14, 'peculiarly': 2, 'pointing': 4, 'eloquent': 4, 'circumstances': 25, 'whether': 29, 'furniture': 8, 'preserver': 1, 'genteel': 1, 'amongst': 3, 'continued': 15, 'unconnected': 2, 'told': 25, 'monkford': 7, 'questions': 3, 'conversant': 1, 'shrewd': 2, 'taxes': 1, 'recollect': 12, 'heard': 64, 'penelope': 2, 'eagerly': 7, 'appeal': 4, 'hear': 38, 'remember': 15, 'resident': 4, 'trent': 1, 'mean': 23, 'conception': 1, 'governor': 1, 'odd': 6, 'sight': 22, 'farmer': 2, 'orchard': 1, 'stolen': 1, 'consult': 3, 'trespass': 1, 'acquainted': 26, 'amicable': 1, 'breaking': 3, 'torn': 1, 'times': 16, 'wall': 2, 'caught': 16, 'compromise': 2, 'apples': 1, 'contrary': 9, 'hundred': 5, 'waiting': 16, 'wentworth': 203, 'gratitude': 10, 'curacy': 5, 'ay': 8, 'term': 2, 'misled': 3, 'strafford': 1, 'names': 8, 'nobility': 3, 'wonders': 3, 'become': 13, 'common': 15, 'ranked': 2, 'number': 8, 'happiness': 31, 'dues': 2, 'formed': 6, 'extreme': 3, 'supposed': 19, 'perceived': 2, 'dwell': 3, 'connexion': 10, 'indisputably': 1, 'crofts': 24, 'returning': 11, 'zeal': 5, 'renting': 1, 'eye': 23, 'proceed': 6, 'treaty': 1, 'inhabit': 1, 'allowing': 1, 'highest': 9, 'fix': 4, 'infinitely': 7, 'intending': 1, 'authorising': 1, 'permitted': 1, 'wait': 12, 'anyone': 1, 'essentials': 1, 'unobjectionable': 1, 'offer': 6, 'bid': 3, 'wise': 6, 'supplied': 5, 'soothing': 1, 'went': 29, 'mere': 11, 'note': 6, 'dozen': 2, 'nation': 3, 'speaks': 2, 'intercourse': 11, 'dealings': 1, 'precedence': 4, 'expedited': 1, 'uttered': 5, 'suspend': 1, 'reached': 16, 'cool': 6, 'listener': 3, 'along': 13, 'seek': 4, 'flushed': 1, 'air': 20, 'sigh': 6, 'completely': 17, 'walked': 28, 'empowered': 1, 'grove': 1, 'cheeks': 8, '4': 1, 'appearances': 2, '1806': 1, 'employed': 5, 'commander': 2, 'parent': 3, 'former': 25, 'captain': 265, 'domingo': 1, 'frederick': 22, 'modesty': 2, 'gentleness': 5, 'spirit': 12, 'feeling': 37, 'intelligence': 6, 'brilliancy': 2, 'attraction': 5, 'lavish': 1, 'fail': 8, 'recommendations': 2, 'encounter': 3, 'sum': 1, 'rapidly': 1, 'deeply': 6, 'gradually': 8, 'receiving': 6, 'declarations': 1, 'proposals': 2, 'accepted': 3, 'perfection': 3, 'exquisite': 6, 'felicity': 7, 'arose': 4, 'troubles': 1, 'negative': 2, 'applied': 5, 'coldness': 2, 'astonishment': 10, 'professed': 3, 'consent': 6, 'silence': 11, 'resolution': 11, 'actually': 10, 'saying': 25, 'withholding': 1, 'degrading': 2, 'pardonable': 1, 'tempered': 2, 'throwing': 3, 'grieved': 5, 'hopes': 9, 'chances': 1, 'uncertain': 5, 'farther': 16, 'engagement': 23, 'affluence': 3, 'attaining': 1, 'nineteen': 5, 'involve': 3, 'throw': 2, 'connexions': 7, 'killing': 1, 'snatched': 1, 'dependence': 4, 'sunk': 4, 'stranger': 3, 'prevented': 5, 'representations': 1, 'interference': 6, 'freely': 1, 'realized': 1, 'full': 27, 'lead': 2, 'confident': 2, 'ship': 6, 'station': 6, 'differently': 11, 'bewitching': 3, 'powerful': 4, 'temper': 12, 'fearlessness': 1, 'sanguine': 2, 'operated': 1, 'aggravation': 3, 'headstrong': 1, 'brilliant': 1, 'horror': 7, 'imprudence': 4, 'approaching': 1, 'deprecated': 1, 'light': 7, 'combat': 1, 'produced': 10, 'continually': 10, 'opinion': 23, 'withstand': 3, 'tenderness': 10, 'advising': 2, 'unsoftened': 1, 'steadiness': 2, 'indiscreet': 1, 'wrong': 10, 'improper': 3, 'putting': 12, 'acted': 2, 'consulting': 1, 'imagined': 9, 'chief': 3, 'unbending': 1, 'final': 2, 'opinions': 11, 'relinquishment': 1, 'prudent': 3, 'belief': 5, 'principally': 4, 'denying': 2, 'parting': 3, 'unconvinced': 1, 'misery': 9, 'ended': 10, 'share': 12, 'clouded': 2, 'lasting': 3, 'alone': 20, 'peculiar': 5, 'rupture': 1, 'nearly': 14, 'except': 9, 'enlargement': 1, 'sorrowful': 1, 'novelty': 3, 'aid': 2, 'dependent': 2, 'bear': 21, 'memory': 6, 'comparison': 6, 'thoroughly': 6, 'limits': 2, 'fastidiousness': 1, 'nice': 11, 'sufficient': 7, 'cure': 6, 'respectably': 1, 'lamented': 1, 'landed': 2, 'removed': 4, 'refusal': 2, 'general': 33, 'willing': 5, 'partialities': 2, 'permanently': 2, 'borders': 1, 'fitted': 2, 'affections': 3, 'undone': 1, 'hopelessness': 1, 'past': 25, 'began': 33, 'discretion': 3, 'enter': 6, 'alluded': 3, 'constancy': 5, 'each': 42, 'counsel': 2, 'wretchedness': 2, 'guided': 3, 'blame': 4, 'similar': 3, 'receive': 8, 'apply': 2, 'delays': 2, 'actual': 4, 'calculated': 3, 'bestowed': 1, 'theirs': 8, 'happier': 5, 'maintaining': 5, 'solicitudes': 2, 'disadvantage': 1, 'happened': 11, 'fears': 4, 'results': 2, 'earlier': 8, 'suspense': 10, 'probable': 6, 'reasonably': 1, 'justified': 2, 'expectations': 2, 'foresee': 2, 'prosperous': 2, 'path': 4, 'genius': 1, 'command': 7, 'employ': 4, 'distinguished': 8, 'gained': 4, 'step': 3, 'captures': 1, 'newspapers': 3, 'lists': 1, 'providence': 3, 'seems': 11, 'distrust': 4, 'insult': 3, 'exertion': 8, 'futurity': 1, 'cheerful': 9, 'unnatural': 1, 'learned': 4, 'romance': 1, 'older': 4, 'grew': 4, 'sequel': 2, 'prudence': 1, 'revival': 2, 'agitation': 14, 'stroll': 4, 'recollections': 4, 'dispel': 1, 'discussion': 3, 'continual': 3, 'harden': 1, 'nerves': 9, 'sufficiently': 1, 'folly': 5, 'recollection': 9, 'unconsciousness': 1, 'deny': 2, 'apparent': 7, 'assisted': 5, 'perfect': 15, 'sprung': 1, 'conviction': 8, 'anew': 2, 'residing': 1, 'oblivion': 2, 'superiority': 9, 'grateful': 4, 'syllable': 1, 'whispered': 3, 'trust': 4, 'calmness': 4, 'motives': 2, 'human': 6, 'creature': 11, 'england': 6, 'occurred': 11, 'accompanying': 1, 'admitted': 13, 'foreign': 2, 'delicacy': 4, 'hoped': 18, 'awkwardness': 4, 'supports': 2, 'opportunity': 13, 'walk': 33, 'appointed': 3, 'missed': 2, 'daily': 6, 'satisfactory': 1, 'proved': 8, 'parties': 8, 'meeting': 21, 'agreement': 2, 'trusting': 1, 'humour': 10, 'previously': 8, 'flattered': 4, 'polished': 4, 'assurances': 1, 'indenture': 1, 'clerks': 1, 'preliminary': 1, 'sheweth': 1, 'modify': 1, 'approved': 1, 'cordiality': 6, 'sympathetic': 2, 'hesitation': 2, 'declared': 6, 'hair': 1, 'drove': 5, 'arranging': 1, 'ashamed': 13, 'fire': 3, 'thames': 1, 'harm': 4, 'esteemed': 2, 'reciprocal': 1, 'compliments': 9, 'arrangement': 5, 'preceding': 4, 'michaelmas': 3, 'removing': 3, 'unable': 6, 'grieving': 4, 'christmas': 6, 'september': 4, 'heats': 1, 'allowed': 15, 'forego': 1, 'unwilling': 3, 'autumnal': 1, 'dreading': 2, 'glare': 1, 'convey': 8, 'stay': 23, 'engagements': 3, 'sad': 6, 'invitation': 13, 'hurried': 6, 'autumn': 10, 'foreseeing': 2, 'cottage': 21, 'claiming': 1, 'want': 31, 'indisposed': 1, 'entreated': 4, 'entreaty': 3, 'complaints': 3, 'unwell': 5, 'habit': 8, 'possibly': 4, 'reasoning': 2, 'readily': 6, 'claimed': 3, 'rejected': 1, 'consequently': 8, 'intervening': 1, 'divided': 9, 'assistant': 1, 'burst': 8, 'startled': 5, 'contained': 1, 'measure': 2, 'sore': 3, 'resorted': 1, 'affront': 1, 'wondered': 3, 'feared': 6, 'affronts': 1, 'keenly': 2, 'hardened': 2, 'observation': 8, 'quiet': 15, 'freckles': 6, 'assiduous': 2, 'acute': 1, 'absence': 9, 'wrist': 1, 'tooth': 2, 'attractions': 2, 'clumsy': 1, 'projecting': 1, 'remarks': 3, 'perceptible': 2, 'impressed': 1, 'excuse': 7, 'warning': 1, 'reverse': 3, 'pitied': 1, 'reproach': 4, 'offend': 1, 'party': 62, 'indignantly': 1, 'knowing': 15, 'suspicion': 4, 'conceive': 2, 'absurd': 6, 'condition': 3, 'inequality': 1, 'forgets': 2, 'strongly': 2, 'warmly': 9, 'reprobates': 1, 'suspected': 4, 'sakes': 2, 'beautiful': 6, 'induce': 2, 'unhappy': 4, 'rendered': 6, 'safety': 3, 'tolerably': 3, 'reckoned': 1, 'merits': 5, 'misfortunes': 1, 'abominates': 1, 'disfigured': 1, 'defect': 2, 'reconcile': 3, 'ones': 2, 'stake': 1, 'hopeless': 6, 'absolutely': 5, 'observant': 3, 'resenting': 2, 'draw': 6, 'carriage': 26, 'show': 2, 'condescending': 1, 'tenantry': 1, 'prepared': 3, 'sort': 39, 'desolate': 1, 'tranquillity': 3, 'afflicted': 3, 'cottagers': 1, 'week': 23, 'bows': 2, 'exceedingly': 12, 'break': 2, 'precious': 6, 'solitariness': 1, 'begin': 10, 'melancholy': 4, 'anticipate': 1, 'fall': 8, 'deserted': 5, 'escape': 9, 'determined': 33, 'altered': 12, 'arrived': 9, 'accordingly': 6, 'stage': 3, 'journey': 5, 'farm': 3, 'gates': 1, 'prettiness': 1, 'trees': 2, 'considerable': 7, 'round': 15, 'english': 3, 'substantial': 2, 'unmodernized': 1, 'veranda': 2, 'mile': 5, 'pear': 1, 'traveller': 2, 'aspect': 1, 'elevated': 2, 'vine': 1, 'labourers': 1, 'french': 2, 'improvement': 6, 'yeomen': 1, 'moderate': 2, 'premises': 1, 'casements': 1, 'tree': 2, 'catch': 7, 'trained': 1, 'enclosed': 1, 'tight': 1, 'walls': 2, 'windows': 3, 'sized': 1, 'containing': 3, 'squire': 1, 'mansion': 5, 'compact': 1, 'parsonage': 1, 'houses': 6, 'running': 5, 'elder': 1, 'endowed': 1, 'indisposition': 3, 'fancying': 4, 'solitude': 4, 'inheriting': 1, 'resources': 1, 'prone': 1, 'lying': 2, 'greeted': 1, 'summers': 1, 'sofa': 7, 'appearing': 3, 'elegant': 11, 'shabby': 2, 'sent': 13, 'yourself': 14, 'thursday': 3, 'unfit': 4, 'seized': 2, 'bell': 2, 'sudden': 7, 'ring': 3, 'enquired': 4, 'shooting': 5, 'o': 2, 'clock': 3, 'soul': 9, 'boys': 7, 'unmanageable': 2, 'noise': 5, 'bad': 28, 'cheerfully': 3, 'stopped': 9, 'window': 17, 'horse': 3, 'musgroves': 41, 'happen': 10, 'talk': 27, 'laugh': 1, 'unkind': 3, 'busy': 4, 'wrote': 4, 'conveniently': 1, 'wish': 56, 'aware': 15, 'cheerfullest': 1, 'hurry': 6, 'things': 24, 'tell': 33, 'catalogue': 1, 'duplicate': 1, 'mackenzie': 1, 'plants': 2, 'understand': 28, 'waggons': 1, 'intended': 7, 'arrange': 2, 'parish': 3, 'repack': 1, 'divide': 2, 'trunks': 1, 'music': 7, 'nature': 24, 'dinner': 19, 'pooles': 1, 'yesterday': 14, 'concluded': 3, 'enquiries': 9, 'strange': 3, 'pleasant': 13, 'remarkable': 4, 'uncomfortable': 2, 'knows': 7, 'beforehand': 2, 'crowded': 2, 'sits': 3, 'forward': 25, 'illness': 7, 'louise': 1, 'owing': 1, 'henrietta': 70, 'further': 2, 'perseverance': 2, 'cheerfulness': 6, 'patience': 4, 'sit': 14, 'upright': 2, 'ate': 1, 'nosegay': 1, 'meat': 1, 'beautifying': 1, 'call': 19, 'ceremony': 4, 'enjoy': 8, 'endeavour': 3, 'imprudent': 3, 'offence': 2, 'check': 1, 'believing': 4, 'subjects': 9, 'harp': 4, 'fashioned': 4, 'tables': 1, 'direction': 11, 'stands': 1, 'square': 1, 'piano': 3, 'forte': 2, 'confusion': 8, 'floor': 2, 'carpet': 1, 'grand': 1, 'parlour': 3, 'shining': 1, 'originals': 1, 'ladies': 25, 'satin': 1, 'velvet': 1, 'wainscot': 1, 'conscious': 7, 'portraits': 2, 'brown': 1, 'overthrow': 1, 'neatness': 1, 'blue': 2, 'staring': 2, 'alteration': 2, 'educated': 2, 'friendly': 7, 'hospitable': 4, 'modern': 2, 'minds': 3, 'louisa': 105, 'fashionable': 3, 'grown': 5, 'numerous': 2, 'thousands': 3, 'excepting': 10, 'stock': 1, 'merry': 3, 'exeter': 1, 'faces': 3, 'favourites': 1, 'dress': 9, 'unembarrassed': 1, 'exchange': 1, 'enjoyments': 2, 'mutual': 6, 'envied': 1, 'seemingly': 1, 'creatures': 4, 'saved': 3, 'amiss': 3, 'chatted': 1, 'pleasantly': 4, 'joined': 10, '6': 1, 'include': 1, 'learn': 6, 'conversation': 30, 'total': 4, 'occupying': 4, 'lesson': 1, 'treated': 3, 'unconsidered': 1, 'publicity': 1, 'heart': 41, 'sympathy': 3, 'elliots': 6, 'unknown': 2, 'pervading': 1, 'separate': 4, 'submit': 3, 'papa': 5, 'addition': 5, 'squares': 1, 'queen': 1, 'answer': 31, 'supplement': 1, 'avoid': 10, 'delusion': 1, 'resolve': 3, 'sympathising': 1, 'heightened': 2, 'truly': 12, 'destroy': 1, 'dancing': 7, 'engage': 3, 'dogs': 2, 'game': 3, 'females': 2, 'occupied': 13, 'housekeeping': 1, 'member': 1, 'ere': 3, 'transplanted': 1, 'fitting': 3, 'discourse': 2, 'social': 1, 'commonwealth': 1, 'imagination': 3, 'clothe': 1, 'prospect': 4, 'incumbent': 1, 'dread': 4, 'unsisterly': 1, 'component': 1, 'inaccessible': 1, 'parts': 2, 'repulsive': 1, 'hers': 11, 'inimical': 1, 'respected': 2, 'wholesome': 1, 'usefulness': 5, 'contemplation': 3, 'rationality': 1, 'grace': 6, 'powers': 5, 'undoubtedly': 5, 'benefit': 5, 'otherwise': 9, 'trifled': 1, 'sport': 2, 'occasional': 1, 'unreasonableness': 1, 'appealed': 2, 'pass': 12, 'disagreement': 1, 'couple': 5, 'lowness': 2, 'bore': 3, 'shame': 4, 'topics': 2, 'contended': 1, 'uses': 1, 'practice': 3, 'theory': 1, 'management': 1, 'manage': 1, 'spoils': 1, 'temptation': 1, 'listening': 9, 'faith': 3, 'exert': 4, 'requested': 2, 'practicable': 3, 'mood': 1, 'dying': 1, 'language': 6, 'humours': 1, 'hate': 4, 'declaration': 2, 'grandmamma': 1, 'trash': 1, 'sending': 6, 'sick': 12, 'indulges': 1, 'cross': 2, 'gives': 1, 'spoilt': 3, 'managing': 1, 'dears': 1, 'healthy': 2, 'partiality': 4, 'troublesome': 3, 'prevents': 1, 'don': 3, 'oftener': 4, 'checking': 3, 'obligated': 1, 't': 4, 'cake': 1, 'tolerable': 8, 'pleased': 20, 'inviting': 4, 'communication': 6, 'exaggeration': 1, 'laundry': 2, 'upper': 3, 'thinks': 6, 'gadding': 1, 'treason': 1, 'maid': 7, 'wherever': 5, 'declare': 11, 'nursery': 5, 'steadiest': 1, 'tells': 4, 'spoil': 1, 'tempting': 1, 'jemima': 4, 'trustiest': 1, 'ruin': 5, 'comes': 7, 'interfering': 2, 'dressing': 3, 'rule': 1, 'stories': 2, 'gad': 1, 'watch': 7, 'swears': 1, 'mentioning': 3, 'why': 20, 'complaint': 2, 'dined': 5, 'nonsensical': 2, 'mamma': 8, 'indifferent': 9, 'observing': 8, 'jealousy': 5, 'tenacious': 1, 'doubts': 3, 'insisting': 1, 'grievance': 1, 'patiently': 1, 'soften': 2, 'broadest': 1, 'forbearance': 2, 'listen': 13, 'respects': 6, 'proceeded': 6, 'employment': 4, 'ailments': 1, 'carried': 7, 'forms': 2, 'evening': 52, 'singing': 3, 'laughing': 7, 'asunder': 3, 'played': 5, 'performance': 4, 'voice': 18, 'parents': 4, 'refresh': 1, 'sensation': 5, 'listened': 16, 'appreciation': 1, 'mortification': 5, 'increased': 8, 'visitors': 4, 'callers': 1, 'visited': 8, 'chance': 11, 'popular': 1, 'evenings': 1, 'occasionally': 6, 'unpremeditated': 1, 'wild': 6, 'musician': 1, 'recommended': 3, 'affluent': 1, 'musical': 1, 'compliment': 4, 'play': 12, 'dance': 1, 'dances': 1, 'preferring': 3, 'post': 3, 'pleasures': 3, 'anywhere': 9, 'depended': 4, 'cousins': 18, 'fly': 1, 'fingers': 2, 'prospects': 3, 'limbs': 3, 'beloved': 3, 'exclaimed': 8, '29th': 1, 'occasion': 12, 'touch': 4, 'low': 15, 'alertness': 1, 'necessity': 9, 'deplored': 1, 'suffer': 10, 'imaginary': 2, 'animated': 4, 'driving': 4, 'sincerely': 2, 'master': 5, 'expression': 8, 'sentiment': 6, 'chanced': 2, 'likeness': 1, 'sat': 14, 'form': 8, 'tall': 3, 'uprightness': 2, 'squareness': 1, 'fat': 2, 'complexion': 4, 'eight': 11, 'bright': 5, 'thirty': 8, 'seem': 16, 'teeth': 1, 'reddened': 1, 'coarseness': 1, 'related': 5, 'symptom': 1, 'bias': 2, 'minute': 8, 'instant': 11, 'suddenly': 7, 'electrified': 1, 'strength': 13, 'courage': 7, 'emotion': 8, 'outlived': 2, 'blushing': 2, 'explained': 4, 'reasonable': 5, 'forgetfulness': 1, 'edward': 5, 'moving': 3, 'expecting': 3, 'dare': 13, 'eager': 10, 'pockets': 1, 'clinging': 1, 'finishing': 1, 'carrying': 1, 'attacks': 1, 'recollecting': 3, 'coat': 2, 'c': 3, 'engrossed': 3, 'declaring': 2, 'certainty': 5, 'calling': 13, 'late': 15, 'visits': 7, 'coach': 2, 'folks': 1, 'affronted': 1, 'apologize': 2, 'richard': 5, 'amuse': 2, 'unluckily': 1, 'directly': 12, 'paid': 6, 'letters': 10, 'dwelling': 1, 'gloomy': 1, 'worked': 3, 'regretted': 4, 'shore': 5, 'pathetic': 1, 'piece': 5, 'stupid': 1, 'twentieth': 2, 'cared': 5, 'thick': 3, 'dead': 5, 'entitle': 1, 'unprofitable': 1, 'dick': 5, 'headed': 1, 'abbreviation': 1, 'unfeeling': 6, 'removals': 3, 'written': 11, 'six': 11, 'frigate': 3, 'laconia': 7, 'liable': 4, 'midshipmen': 1, 'disinterested': 4, 'rid': 5, 'board': 10, 'letter': 31, 'impression': 8, 'incurious': 1, 'ships': 3, 'bursts': 1, 'unobservant': 1, 'grief': 3, 'perusal': 1, 'forgotten': 9, 're': 9, 'thrown': 7, 'evidently': 10, 'companions': 7, 'relief': 6, 'likewise': 2, 'repeating': 3, 'recollected': 6, 'puzzling': 1, 'ascertaining': 2, 'clifton': 1, 'probably': 18, 'inure': 1, 'insensible': 3, 'teach': 1, 'bent': 4, 'schoolmaster': 1, 'spelt': 1, 'praise': 9, 'arrival': 9, 'dashing': 1, 'introducing': 1, 'felow': 1, 'perticular': 1, 'stamped': 2, 'speedily': 1, 'helped': 1, '7': 1, 'dine': 12, 'welcoming': 1, 'strongest': 5, 'impatient': 6, 'roof': 2, 'shew': 4, 'cellars': 1, 'reckoning': 2, 'return': 28, 'setting': 8, 'learnt': 7, 'inevitably': 3, 'midst': 3, 'aside': 2, 'child': 23, 'bone': 2, 'dislocated': 1, 'collar': 2, 'alarming': 4, 'frightened': 2, 'apothecary': 2, 'enquiring': 2, 'hysterics': 1, 'accession': 1, 'send': 9, 'useful': 11, 'control': 1, 'soothe': 1, 'afternoon': 3, 'banish': 1, 'attend': 9, 'assistants': 1, 'ease': 8, 'individual': 1, 'replaced': 1, 'aunt': 8, 'digress': 1, 'five': 12, 'parted': 7, 'vague': 2, 'express': 5, 'examined': 3, 'nephew': 1, 'minutes': 26, 'aunts': 1, 'rubbed': 1, 'robinson': 3, 'male': 1, 'grave': 3, 'morrow': 23, 'motive': 9, 'invite': 4, 'pressing': 2, 'promised': 10, 'invitations': 4, 'ran': 3, 'glee': 1, 'uneasiness': 2, 'story': 8, 'raptures': 2, 'repeated': 7, 'gloom': 1, 'confirmation': 2, 'protestations': 1, 'joy': 4, 'recent': 3, 'leaving': 11, 'join': 10, 'shewed': 8, 'opposed': 2, 'night': 24, 'spine': 1, 'confinement': 2, 'ascertain': 4, 'amused': 5, 'bed': 5, 'quietly': 9, 'bold': 1, 'meaning': 15, 'husbands': 2, 'wives': 2, 'teaze': 2, 'ourselves': 7, 'shift': 1, 'luck': 7, 'talks': 4, 'hence': 3, 'stir': 5, 'tried': 11, 'hysterical': 4, 'suddenness': 1, 'shock': 3, 'directions': 2, 'wonder': 18, 'province': 1, 'belong': 4, 'nursing': 3, 'scolding': 1, 'kicking': 1, 'teazing': 1, 'alarmed': 4, 'brightening': 1, 'harasses': 1, 'properest': 2, 'excessively': 7, 'stairs': 4, 'tapping': 1, 'exultation': 2, 'door': 23, 'myself': 29, 'undertakes': 2, 'tuesday': 5, 'proposal': 2, 'nurse': 14, 'scruples': 3, 'cause': 6, 'urged': 1, 'unpersuadable': 1, 'sincerity': 4, 'kindly': 6, 'oddly': 1, 'constructed': 1, 'exist': 3, 'waited': 5, 'events': 6, 'shyness': 1, 'charming': 4, 'shoot': 1, 'pressed': 2, 'breakfast': 13, 'somehow': 2, 'actuated': 1, 'slight': 5, 'escaping': 1, 'slightly': 1, 'acknowledge': 8, 'view': 17, 'seeming': 3, 'also': 18, 'proposing': 1, 'inconvenient': 5, 'later': 5, 'consoling': 1, 'gratified': 5, 'thousand': 8, 'rushed': 1, 'preparation': 3, 'appeared': 20, 'footing': 5, 'voices': 2, 'mark': 3, 'curtsey': 2, 'bow': 5, 'cleared': 5, 'finish': 4, 'resolving': 1, 'visitor': 2, 'bowed': 2, 'sportsmen': 1, 'nervous': 3, 'try': 9, 'banished': 1, 'indistinctness': 1, 'resuming': 1, 'changes': 4, 'comprised': 1, 'alienations': 1, 'third': 4, 'alas': 5, 'retentive': 1, 'hating': 1, 'spared': 4, 'finished': 2, 'wisdom': 1, 'spontaneous': 2, 'gallant': 2, 'unsuspicious': 1, 'inflicting': 1, 'wound': 5, 'silent': 11, 'deep': 8, 'revenge': 1, 'doubtless': 1, 'destroyed': 4, 'glowing': 4, 'manly': 1, 'rejoice': 4, 'tendency': 2, 'sobering': 1, 'composed': 5, 'allayed': 1, 'wretchedly': 1, 'forgiven': 4, 'feebleness': 1, 'endure': 4, 'oblige': 1, 'timidity': 1, 'weakness': 4, 'desire': 9, 'attached': 5, 'speed': 3, 'suppositions': 1, 'exception': 2, 'sophia': 2, 'foolish': 2, 'fifteen': 3, 'asking': 4, 'smiles': 7, 'contradicted': 1, 'proud': 5, 'described': 5, '8': 1, 'meetings': 4, 'absenting': 1, 'pretence': 2, 'supply': 6, 'dinings': 1, 'named': 3, 'descriptions': 3, 'reverted': 2, 'renewed': 6, 'forth': 4, 'narratives': 1, 'wandering': 1, 'unvisited': 1, 'utter': 2, 'disposition': 7, 'falter': 1, 'impossibility': 2, 'qualified': 2, 'conceiving': 1, 'association': 1, 'commonest': 1, 'filling': 2, 'tastes': 1, 'hearts': 5, 'countenances': 1, 'couples': 1, 'unison': 1, 'exceptions': 2, 'strangers': 4, 'perpetual': 3, 'estrangement': 2, 'discerned': 3, 'ignorant': 2, 'accounts': 5, 'accused': 1, 'learning': 3, 'fork': 1, 'servant': 11, 'questioned': 3, 'reminded': 1, 'accommodation': 3, 'ridicule': 2, 'knife': 1, 'ignorance': 3, 'cook': 1, 'throughout': 1, 'food': 1, 'whisper': 4, 'overcome': 4, 'ah': 9, 'spare': 3, 'pace': 1, 'relieved': 3, 'suppressed': 3, 'smile': 12, 'sitting': 11, 'pore': 1, 'fetching': 1, 'commanded': 4, 'finding': 18, 'asp': 5, 'broken': 7, 'west': 6, 'reported': 1, 'entertain': 2, 'admiralty': 1, 'provide': 1, 'distinguish': 6, 'impossible': 15, 'bottom': 3, 'phoo': 4, 'stuff': 1, 'fellows': 3, 'sloop': 3, 'built': 2, 'applying': 2, 'appointment': 5, 'wants': 5, 'afloat': 1, 'vexed': 3, 'smiling': 12, 'fashion': 3, 'pelisse': 2, 'lent': 1, 'wet': 2, 'discoveries': 1, 'privateers': 1, 'passage': 3, 'foul': 3, 'entertaining': 2, 'plymouth': 7, 'gale': 1, 'nights': 2, 'lasted': 1, 'corner': 6, 'sincere': 4, 'shudderings': 1, 'exclamations': 3, 'aloud': 2, 'ask': 10, 'beckoning': 1, 'forgot': 4, 'gibraltar': 3, 'recommendation': 6, 'mindful': 1, 'somewhat': 3, 'probabilities': 1, 'class': 3, 'statement': 1, 'hunting': 2, 'commissioned': 1, 'non': 1, 'fast': 4, 'lovely': 5, 'islands': 1, 'western': 1, 'cruise': 1, 'harville': 73, 'mediterranean': 1, 'instantly': 14, 'pains': 3, 'detected': 1, 'sharing': 1, 'mouth': 2, 'glance': 13, 'collected': 7, 'kindest': 4, 'momentary': 7, 'curl': 1, 'unabsurd': 1, 'transient': 2, 'entered': 9, 'speech': 7, 'barrier': 1, 'insignificant': 2, 'slender': 1, 'size': 3, 'alive': 3, 'destiny': 1, 'screened': 1, 'pensive': 2, 'sighings': 1, 'cheer': 1, 'proportions': 2, 'sorrow': 3, 'mental': 4, 'graceful': 1, 'affliction': 3, 'figure': 4, 'bulky': 1, 'conjunctions': 1, 'patronize': 1, 'tolerate': 1, 'seize': 1, 'unbecoming': 1, 'turns': 2, 'interrupting': 1, 'refreshing': 1, 'grierson': 1, 'lisbon': 2, 'abused': 2, 'gallantry': 5, 'defended': 1, 'comprehend': 9, 'professing': 1, 'accommodations': 6, 'sacrifices': 3, 'efforts': 2, 'rating': 1, 'refinement': 1, 'purpose': 8, 'portsmouth': 3, 'cousin': 28, 'superfine': 1, 'merged': 1, 'assist': 5, 'idly': 1, 'conveyed': 6, 'port': 2, 'pray': 9, 'prevent': 7, 'water': 4, 'smooth': 2, 'sing': 1, 'tune': 1, 'thankful': 3, 'attack': 1, 'moved': 7, 'ma': 11, 'crossed': 2, 'atlantic': 1, 'cork': 1, 'streights': 1, 'bermuda': 1, 'bahama': 1, 'dissent': 1, 'accuse': 1, 'rates': 1, 'exceed': 2, 'safely': 7, 'confined': 3, 'thank': 11, 'blessed': 4, 'disagrees': 1, 'disordered': 2, 'sickness': 3, 'fancied': 8, 'north': 6, 'suffered': 8, 'seas': 2, 'ailed': 1, 'inconvenience': 4, 'fright': 1, 'aye': 1, 'separation': 4, 'assizes': 1, 'attends': 1, 'unobserved': 1, 'tears': 1, 'instrument': 2, 'desired': 2, 'services': 4, 'joyous': 2, 'deference': 3, 'elevate': 1, 'rivals': 1, 'hayters': 5, 'credible': 1, 'universal': 2, 'error': 1, 'mechanically': 1, 'partner': 1, 'ruins': 1, 'danced': 1, 'charmed': 2, 'trace': 2, 'playing': 3, 'tired': 9, 'politeness': 6, 'unintentionally': 2, 'studied': 1, 'madam': 2, 'pardon': 7, 'speeches': 1, 'ceremonious': 1, 'fraternal': 1, 'shropshire': 3, 'arriving': 3, 'friendliness': 2, 'perfections': 1, 'reception': 3, 'flattery': 2, 'charms': 3, 'grass': 1, 'sheep': 1, 'gig': 2, 'doors': 5, 'endurable': 1, 'possessions': 1, 'establishment': 2, 'dawdling': 1, 'interesting': 12, 'hitherto': 2, 'dependencies': 1, 'hayter': 36, 'disturbed': 1, 'unvarying': 1, 'everywhere': 3, 'orders': 2, 'attentions': 9, 'unguarded': 2, 'critical': 1, 'marriages': 2, 'chosen': 3, 'defective': 1, 'compared': 5, 'retired': 3, 'cultivation': 1, 'unpolished': 1, 'excepted': 1, 'scholar': 2, 'education': 5, 'envy': 2, 'doubtful': 4, 'lively': 6, 'prettiest': 1, 'attract': 1, 'above': 6, 'speculate': 1, 'reappeared': 1, 'delightful': 7, 'agreeing': 1, 'pounds': 5, 'pleasanter': 3, 'capital': 2, 'sounds': 9, 'creation': 1, 'pretensions': 2, 'decidedly': 7, 'existing': 1, 'misfortune': 2, 'alliances': 1, 'considering': 11, 'connections': 2, 'nonsense': 4, 'steps': 8, 'please': 5, 'whenever': 7, 'dies': 1, 'uncle': 1, 'spicers': 1, 'bishop': 1, 'acres': 1, 'winthrop': 10, 'land': 2, 'freehold': 1, 'shocking': 2, 'contemptible': 1, 'natured': 2, 'pleases': 1, 'liking': 5, 'positive': 3, 'unless': 4, 'headache': 1, 'staid': 4, 'plea': 1, 'mixed': 2, 'umpire': 1, 'avoiding': 1, 'impeaching': 1, 'endangering': 1, 'prefer': 3, 'probability': 3, 'affectionate': 3, 'sympathize': 1, 'alternation': 1, 'sufferings': 3, 'lightness': 1, 'pained': 2, 'mistaken': 9, 'occasioned': 2, 'mortify': 1, 'disquiet': 1, 'wholly': 2, 'estranged': 1, 'extinguish': 1, 'obtaining': 1, 'sundays': 1, 'quitting': 6, 'absent': 4, 'interested': 3, 'zealously': 1, 'promise': 10, 'dr': 9, 'nearest': 3, 'discharging': 1, 'afford': 9, 'engaging': 3, 'shirley': 10, 'infirm': 2, 'rector': 1, 'injurious': 1, 'fatigue': 2, 'negotiation': 1, 'secured': 4, 'invalid': 3, 'behave': 1, 'composure': 5, 'deprived': 1, 'moments': 13, 'released': 3, 'politely': 3, 'calmly': 2, 'vestibule': 1, 'crossing': 2, 'patient': 3, 'kneel': 1, 'satisfy': 3, 'presently': 5, 'seating': 1, 'attempts': 4, 'straight': 4, 'stout': 1, 'tease': 1, 'knelt': 2, 'shake': 3, 'fasten': 1, 'insisted': 1, 'ordered': 3, 'push': 1, 'contrive': 1, 'angry': 5, 'bit': 2, 'sturdy': 1, 'unfastened': 1, 'resolutely': 2, 'neck': 1, 'discovery': 2, 'speechless': 1, 'hang': 1, 'varying': 1, 'recover': 6, 'enabled': 3, 'stepping': 3, 'studiously': 2, 'thanks': 1, 'particulars': 6, 'testify': 1, 'entrance': 5, 'jealousies': 1, 'loves': 2, 'watching': 4, 'evident': 10, 'vext': 1, 'minded': 1, 'regretting': 3, 'arranged': 6, 'reflection': 8, 'trifle': 4, '10': 1, 'opportunities': 2, 'observations': 2, 'fever': 2, 'slighted': 2, 'evils': 5, 'longed': 4, 'exposing': 2, 'attribute': 1, 'guile': 1, 'occasioning': 1, 'triumph': 1, 'pitiful': 2, 'accepting': 2, 'field': 2, 'struggle': 7, 'studying': 1, 'refused': 7, 'dismissal': 1, 'walker': 2, 'admired': 5, 'produce': 4, 'undesired': 1, 'communicated': 4, 'cordial': 2, 'accept': 6, 'dog': 1, 'exactly': 15, 'foreseen': 2, 'junction': 1, 'retract': 1, 'across': 3, 'narrow': 1, 'fields': 1, 'paths': 1, 'separations': 1, 'hedges': 1, 'extant': 1, 'exercise': 2, 'drawn': 6, 'worthy': 5, 'inexhaustible': 1, 'season': 3, 'withered': 1, 'poet': 2, 'arise': 1, 'poetical': 2, 'tawny': 1, 'quotations': 2, 'musings': 2, 'chat': 3, 'bursting': 1, 'praises': 1, 'glorious': 1, 'hills': 2, 'hail': 1, 'whereabouts': 1, 'upset': 2, 'tossed': 1, 'lieve': 1, 'overturned': 1, 'enthusiasm': 3, 'catching': 3, 'quotation': 1, 'fraught': 1, 'sonnet': 1, 'scenes': 5, 'declining': 2, 'images': 1, 'tender': 5, 'analogy': 3, 'strolling': 2, 'counteracting': 1, 'despondence': 1, 'hill': 8, 'environs': 2, 'enclosures': 1, 'summit': 1, 'gradual': 2, 'ploughs': 1, 'destination': 2, 'sweets': 2, 'fresh': 6, 'ascent': 2, 'hemmed': 1, 'barns': 2, 'stretched': 1, 'yard': 4, 'buildings': 15, 'gate': 3, 'leaning': 4, 'arguing': 1, 'meanwhile': 1, 'fearfully': 1, 'resting': 1, 'consultations': 1, 'run': 6, 'succession': 1, 'debates': 1, 'arranger': 1, 'scornfully': 1, 'unpleasant': 4, 'assenting': 1, 'contemptuous': 1, 'brow': 1, 'nuts': 1, 'stile': 3, 'adjoining': 3, 'spot': 8, 'gleaning': 1, 'quarrelled': 1, 'somewhere': 5, 'row': 3, 'degrees': 2, 'hedge': 5, 'dry': 1, 'sunny': 1, 'bank': 1, 'overtook': 1, 'centre': 2, 'channel': 1, 'middle': 2, 'airs': 1, 'affect': 2, 'comprehension': 1, 'confirm': 3, 'dutiful': 2, 'woe': 1, 'resist': 3, 'betide': 1, 'requiring': 1, 'firmness': 2, 'infuse': 1, 'indecisive': 1, 'yielding': 3, 'durable': 2, 'sway': 1, 'firm': 2, 'nut': 3, 'bough': 1, 'storms': 2, 'exemplify': 1, 'glossy': 1, 'original': 1, 'weak': 4, 'puncture': 1, 'fallen': 7, 'trodden': 1, 'playful': 1, 'brethren': 1, 'hazel': 1, 'solemnity': 1, 'cherish': 1, 'unanswered': 1, 'move': 9, 'lest': 2, 'bush': 1, 'holly': 1, 'rambling': 1, 'protected': 1, 'provoke': 2, 'refuse': 2, 'bookish': 1, 'retreating': 1, 'emotions': 3, 'import': 1, 'proverbial': 1, 'motion': 4, 'numbers': 1, 'conjectured': 2, 'minutiae': 3, 'withdrawing': 1, 'relenting': 2, 'devoted': 2, 'divisions': 1, 'plainer': 1, 'meadow': 2, 'necessarily': 2, 'animation': 5, 'ample': 2, 'boasted': 2, 'space': 6, 'distinct': 1, 'strip': 1, 'arm': 9, 'nettles': 1, 'weasel': 1, 'complain': 4, 'reap': 1, 'disobliging': 1, 'dropping': 1, 'switch': 1, 'incommoded': 1, 'hunt': 1, 'lament': 3, 'according': 1, 'exit': 1, 'lane': 4, 'bordered': 1, 'advancing': 1, 'footpath': 1, 'declined': 4, 'offended': 1, 'surmounting': 1, 'effects': 6, 'guessed': 2, 'decline': 2, 'instinctively': 3, 'compressed': 1, 'urgency': 1, 'perception': 3, 'completion': 1, 'forgive': 2, 'resentment': 3, 'careless': 6, 'unjust': 5, 'condemning': 1, 'unacknowledged': 1, 'impulse': 3, 'remainder': 2, 'pure': 1, 'prevailed': 3, 'contemplate': 2, 'compounded': 2, 'unconsciously': 2, 'answers': 3, 'awake': 1, 'sophy': 6, 'courtships': 1, 'lodgings': 11, 'yarmouth': 3, 'canvass': 1, 'spread': 4, 'keener': 3, 'unaffected': 3, 'calmer': 4, 'suspect': 6, 'representation': 2, 'cart': 1, 'reins': 1, 'judiciously': 1, 'deposited': 1, 'rut': 1, 'dung': 1, '11': 1, 'approached': 3, 'resettled': 1, 'church': 4, 'frequent': 3, 'thence': 1, 'gainer': 1, 'witnessed': 4, 'painfully': 1, 'renewal': 1, 'anticipating': 2, 'apace': 2, 'gaining': 1, 'diversified': 1, 'conclusion': 5, 'unheard': 1, 'unseen': 2, 'relation': 5, 'justify': 2, 'lyme': 63, 'unknowingly': 1, 'thither': 3, 'acquittal': 1, 'project': 1, 'honoured': 3, 'excited': 7, 'feelingly': 1, 'armed': 1, 'merit': 4, 'rationally': 1, 'heedless': 2, 'deducting': 1, 'entering': 7, 'curricle': 3, 'punctually': 2, 'carriages': 2, 'steeper': 1, 'noon': 1, 'descending': 2, 'street': 25, 'amendment': 1, 'inns': 2, 'securing': 2, 'ordering': 1, 'variety': 2, 'machines': 1, 'residents': 1, 'improvements': 2, 'skirting': 1, 'bathing': 1, 'cobb': 12, 'stretching': 1, 'hurrying': 1, 'bay': 2, 'cliffs': 2, 'lodgers': 1, 'tide': 2, 'sweeps': 1, 'cliff': 1, 'charmouth': 2, 'ground': 5, 'luxuriant': 1, 'exhibited': 1, 'woody': 1, 'forest': 1, 'resembling': 1, 'varieties': 3, 'falling': 1, 'chasms': 1, 'rock': 1, 'unwearied': 1, 'extensive': 2, 'backed': 1, 'fragments': 1, 'romantic': 1, 'partial': 1, 'orchards': 1, 'scattered': 3, 'flow': 2, 'green': 1, 'wonderful': 3, 'isle': 1, 'wight': 1, 'rocks': 2, 'sands': 3, 'pinny': 1, 'generation': 1, 'famed': 1, 'growth': 1, 'gaze': 1, 'lingering': 2, 'harvilles': 15, 'pier': 1, 'linger': 1, 'admiring': 3, 'benwick': 68, 'wondering': 3, 'lieutenant': 2, 'mourning': 6, 'promotion': 2, 'fanny': 4, 'sedentary': 1, 'heavily': 1, 'retiring': 1, 'augmented': 1, 'adapted': 1, 'grandeur': 3, 'retirement': 1, 'inexpensive': 1, 'sorrowing': 1, 'blighted': 1, 'rally': 1, 'lame': 1, 'countenance': 15, 'equalling': 1, 'entreaties': 2, 'promising': 2, 'hurt': 1, 'unwillingly': 1, 'inn': 13, 'formality': 1, 'display': 3, 'unlike': 3, 'dinners': 3, 'benefited': 1, 'uncommon': 1, 'increasing': 3, 'accommodating': 1, 'defend': 1, 'sprang': 1, 'lodging': 2, 'contrivances': 1, 'deficiencies': 1, 'ingenious': 1, 'amusing': 3, 'countries': 1, 'curious': 4, 'species': 2, 'fruit': 1, 'necessaries': 1, 'gratification': 8, 'plight': 1, 'contrasted': 2, 'labours': 1, 'rare': 1, 'excellently': 1, 'articles': 2, 'repose': 3, 'wood': 1, 'bound': 3, 'reader': 1, 'shelves': 1, 'contrived': 2, 'collection': 1, 'volumes': 2, 'furnish': 3, 'ingenuity': 1, 'lameness': 1, 'fishing': 1, 'net': 1, 'varnished': 1, 'pins': 1, 'needles': 1, 'toys': 1, 'netting': 1, 'glued': 1, 'carpentered': 1, 'quitted': 6, 'brotherliness': 1, 'protesting': 2, 'openness': 4, 'delight': 6, 'expectation': 4, 'thoroughfare': 1, 'apologies': 3, 'interchange': 4, 'civilities': 4, 'oppressed': 2, 'presence': 4, 'ventured': 6, 'mirth': 2, 'abundance': 1, 'apart': 1, 'recurring': 1, 'captains': 2, 'anecdotes': 1, 'led': 7, 'mildness': 2, 'abstraction': 1, 'shy': 3, 'repaid': 1, 'concern': 5, 'suggestions': 2, 'poetry': 3, 'struggling': 1, 'various': 6, 'sparingly': 1, 'abydos': 1, 'imaged': 1, 'enjoyed': 2, 'tenderest': 1, 'tremulous': 1, 'bride': 1, 'marmion': 1, 'agony': 6, 'pronounced': 2, 'poets': 1, 'brief': 1, 'songs': 2, 'intimately': 4, 'impassioned': 1, 'giaour': 1, 'richness': 1, 'lake': 1, 'restraints': 3, 'showed': 2, 'reserved': 2, 'seniority': 2, 'examples': 3, 'finest': 2, 'particularize': 1, 'shewing': 2, 'rouse': 2, 'fortify': 1, 'endurances': 1, 'emboldened': 1, 'memoirs': 1, 'collections': 1, 'works': 1, 'religious': 1, 'prose': 2, 'precepts': 1, 'moral': 2, 'allusion': 1, 'moralists': 2, 'characters': 2, 'procure': 3, 'attentively': 1, 'sighs': 1, 'implied': 3, 'noted': 1, 'preachers': 1, 'resignation': 3, 'fearing': 4, 'examination': 1, 'preach': 1, '12': 1, 'flat': 1, 'breeze': 2, 'flowing': 1, 'easterly': 1, 'gloried': 2, 'sympathized': 1, 'praised': 2, 'twelve': 5, 'medicine': 1, 'declares': 1, 'seizure': 1, 'attendance': 3, 'medical': 1, 'lives': 7, 'dispensation': 1, 'procuring': 1, 'scrupulous': 3, 'performed': 1, 'smiled': 10, 'acquiescence': 2, 'lower': 5, 'courteous': 3, 'amazingly': 1, 'interests': 2, 'shop': 4, 'disposal': 2, 'beach': 1, 'upwards': 1, 'preparing': 5, 'ascended': 1, 'restored': 5, 'freshness': 1, 'wind': 4, 'blowing': 1, 'noticing': 1, 'brightness': 1, 'quickly': 4, 'chamber': 3, 'loitering': 1, 'apartment': 2, 'groom': 1, 'propriety': 5, 'readiness': 3, 'stable': 1, 'somebody': 5, 'front': 1, 'compare': 4, 'issuing': 1, 'jump': 2, 'watched': 4, 'waiter': 4, 'sidmouth': 1, 'crewkherne': 2, 'smart': 1, 'rapidity': 3, 'mention': 12, 'baronight': 1, 'ecstasy': 2, 'goes': 2, 'publish': 1, 'strike': 4, 'hid': 1, 'panel': 1, 'hanging': 3, 'attempting': 1, 'excuses': 1, 'luckily': 1, 'polite': 4, 'interview': 3, 'cousinly': 2, 'write': 6, 'direct': 3, 'irritation': 2, 'keeping': 3, 'correspondence': 2, 'slow': 2, 'unsatisfactory': 2, 'fairly': 4, 'byron': 3, 'scott': 2, 'readers': 1, 'alike': 4, 'disincline': 1, 'deed': 1, 'mourner': 1, 'grappler': 3, 'cape': 3, 'news': 9, 'rowed': 1, 'renew': 1, 'accomplish': 2, 'accompany': 1, 'adieus': 1, 'accompanied': 1, 'cling': 1, 'promises': 2, 'gladly': 3, 'perforce': 1, 'flight': 1, 'contented': 2, 'steep': 1, 'jumped': 2, 'carefully': 1, 'stiles': 1, 'walks': 2, 'hardness': 1, 'pavement': 4, 'feet': 2, 'precipitate': 1, 'lifeless': 1, 'reasoned': 2, 'jar': 1, 'visible': 2, 'bruise': 1, 'pallid': 1, 'screamed': 1, 'contributing': 1, 'senses': 3, 'sinking': 4, 'immoveable': 2, 'despair': 1, 'salts': 1, 'rub': 1, 'disengaging': 1, 'firmly': 1, 'staggering': 1, 'raised': 5, 'bitterest': 1, 'obeyed': 2, 'surgeon': 6, 'suggested': 3, 'darting': 1, 'resigned': 1, 'corpse': 1, 'sobs': 1, 'witness': 1, 'hung': 3, 'assuage': 1, 'instinct': 1, 'intervals': 5, 'animate': 3, 'gently': 3, 'boatmen': 1, 'accident': 6, 'workmen': 1, 'revived': 2, 'helpless': 3, 'unutterable': 1, 'treading': 1, 'consigned': 1, 'flying': 2, 'directed': 2, 'shocked': 5, 'await': 2, 'needed': 1, 'restoratives': 1, 'assistance': 6, 'beneath': 3, 'cordials': 1, 'fear': 3, 'incapable': 1, 'insensibility': 1, 'injuries': 1, 'recovered': 7, 'contusion': 1, 'ejaculations': 1, 'rejoicing': 2, 'conceived': 3, 'fervent': 3, 'desperate': 1, 'reprieve': 1, 'overpowered': 2, 'calm': 5, 'folded': 1, 'prayer': 1, 'escaped': 4, 'distressing': 4, 'silenced': 1, 'reflect': 3, 'elsewhere': 2, 'concerned': 7, 'cot': 1, 'swinging': 1, 'accommodate': 2, 'experienced': 1, 'irresistible': 4, 'perplexity': 2, 'terror': 1, 'consultation': 1, 'lateness': 1, 'exerting': 1, 'incumbrance': 1, 'touched': 2, 'consented': 2, 'stays': 1, 'paused': 2, 'glow': 7, 'restoring': 1, 'coloured': 1, 'delay': 6, 'extension': 2, 'stead': 1, 'vehement': 1, 'complained': 1, 'inevitable': 2, 'judging': 3, 'reluctantly': 1, 'spots': 1, 'wrapt': 1, 'welfare': 1, 'schemes': 2, 'considerately': 1, 'mortifying': 2, 'lowest': 1, 'substitution': 1, 'vexation': 2, 'expressions': 4, 'henry': 2, 'shrink': 3, 'unnecessarily': 1, 'emulating': 1, 'emma': 1, 'handed': 1, 'supporting': 2, 'governing': 1, 'bitterly': 1, 'lamenting': 2, 'judged': 4, 'fated': 2, 'fatal': 1, 'justness': 1, 'qualities': 1, 'persuadable': 1, 'recognise': 1, 'astonished': 7, 'objects': 3, 'road': 3, 'addressed': 3, 'dusk': 1, 'shawl': 1, 'sleep': 1, 'stand': 5, 'lessen': 3, 'announced': 4, 'baited': 1, '13': 1, 'assisting': 2, 'comprehending': 2, 'symptoms': 2, 'speedy': 1, 'multiply': 1, 'mend': 1, 'bruises': 1, 'harry': 1, 'blains': 1, 'brothers': 3, 'petted': 1, 'stockings': 1, 'sarah': 2, 'resolved': 1, 'obtain': 1, 'indebted': 1, 'essential': 6, 'encouraging': 4, 'dreaded': 2, 'comforters': 1, 'privy': 2, 'impart': 1, 'solitary': 4, 'preparations': 2, 'relieve': 1, 'filled': 4, 'recovery': 6, 'gay': 5, 'misty': 1, 'tenements': 1, 'rain': 9, 'humble': 2, 'comfortless': 1, 'adieu': 1, 'dripping': 1, 'leisure': 4, 'reflections': 2, 'glasses': 3, 'saddened': 1, 'welcome': 9, 'blotting': 1, 'record': 1, 'breathings': 1, 'reconciliation': 5, 'evade': 1, 'resume': 1, 'gladden': 1, 'apartments': 2, 'frequenting': 1, 'hoping': 2, 'connecting': 1, 'plumpness': 1, 'converse': 2, 'secondary': 1, 'compelled': 1, 'smother': 1, 'camden': 28, 'regret': 13, 'result': 5, 'expedient': 1, 'telling': 6, 'briefly': 1, 'internally': 1, 'composedly': 2, 'revelled': 1, 'receipt': 1, 'improving': 2, 'threatenings': 1, 'fainter': 1, 'reconciled': 1, 'inured': 1, 'fortunate': 2, 'owners': 1, 'precluded': 1, 'convictions': 1, 'unworthily': 1, 'remembered': 4, 'preside': 1, 'heave': 1, 'dated': 2, 'latest': 1, 'comparing': 3, 'topic': 1, 'yestermorn': 1, 'thoughtlessness': 1, 'concussion': 1, 'judgements': 1, 'ascertained': 3, 'frightful': 3, 'canvassed': 1, 'catastrophe': 1, 'exclaiming': 2, 'summarily': 1, 'plaster': 1, 'goodness': 3, 'simplicity': 1, 'reverie': 1, 'rousing': 1, 'suits': 2, 'umbrellas': 1, 'shrubbery': 1, 'slip': 1, 'butler': 2, 'gratefully': 1, 'earth': 1, 'alterations': 1, 'dressy': 1, 'shaving': 1, 'quarters': 2, 'glass': 1, 'shifted': 1, 'snug': 3, 'lend': 2, 'fault': 4, 'chimney': 1, 'smokes': 1, 'blows': 2, 'hereabouts': 2, 'wasted': 1, '14': 1, 'holidays': 4, 'susceptible': 1, 'lighten': 1, 'balance': 1, 'library': 1, 'bathed': 1, 'fortnight': 4, 'undertook': 1, 'behold': 1, 'misunderstood': 1, 'shot': 2, 'dull': 2, 'discovered': 1, 'graciously': 2, 'boldly': 1, 'admires': 1, 'overheard': 1, 'pretend': 6, 'decide': 5, 'formal': 3, 'joint': 3, 'dullest': 1, 'bred': 2, 'differ': 1, 'deficiency': 1, 'tauntingly': 1, 'poring': 1, 'scissors': 1, 'drop': 3, 'conjecture': 1, 'extraordinarily': 1, 'missing': 1, 'disfavour': 1, 'eagerness': 5, 'checked': 2, 'voluntary': 1, 'hazarded': 1, 'recovering': 8, 'press': 3, 'fearful': 3, 'maintained': 2, 'ride': 1, 'herald': 1, 'charity': 2, 'contrast': 1, 'surrounding': 1, 'tyranny': 1, 'sedulously': 1, 'guarding': 1, 'expressly': 1, 'tressels': 1, 'revel': 1, 'bending': 1, 'silk': 1, 'chattering': 1, 'completed': 1, 'roaring': 1, 'riotous': 1, 'holding': 1, 'trays': 1, 'brawn': 1, 'cutting': 1, 'gold': 1, 'pies': 1, 'knees': 1, 'paying': 3, 'clamour': 1, 'temperament': 1, 'restorative': 1, 'shaken': 1, 'hurricane': 1, 'cordially': 1, 'recapitulation': 1, 'reseated': 1, 'innoxious': 2, 'quantity': 1, 'noises': 3, 'bridge': 1, 'newspapermen': 1, 'ceaseless': 3, 'bawling': 1, 'rumble': 1, 'pattens': 1, 'drays': 1, 'carts': 1, 'streets': 6, 'muffin': 1, 'dash': 1, 'clink': 1, 'milkmen': 1, 'rose': 1, 'disinclination': 1, 'smoking': 1, 'persisted': 2, 'progress': 3, 'dim': 2, 'bustles': 1, 'seclusion': 1, 'pointedly': 2, 'proclaim': 1, 'formerly': 5, 'neglect': 5, 'deceive': 2, 'recanting': 1, 'dismembered': 1, 'branch': 1, 'paternal': 1, 'pitch': 1, 'rivers': 4, 'lofty': 1, 'becomes': 2, 'dignified': 1, 'imprisonment': 1, 'unexpected': 2, 'fourth': 1, 'courtesies': 1, 'unlooked': 1, 'causes': 1, 'faint': 2, 'assuring': 1, 'introductions': 1, 'cards': 4, 'perpetually': 1, 'funds': 1, 'threw': 2, 'landholder': 1, 'littlenesses': 1, 'boasting': 1, 'folding': 3, 'avail': 1, 'card': 10, 'endeavours': 1, 'misapprehension': 1, 'originated': 1, 'carelessly': 1, 'indignant': 1, 'unfeudal': 1, 'refute': 1, 'refer': 1, 'extenuation': 2, 'marlborough': 5, 'relative': 3, 'colonel': 17, 'wallis': 27, 'request': 2, 'accomplished': 2, 'assured': 5, 'favourable': 4, 'placing': 1, 'allowances': 1, 'embellishment': 1, 'sounded': 2, 'irrational': 1, 'extravagant': 2, 'origin': 2, 'relators': 1, 'risk': 6, 'worldly': 5, 'gain': 3, 'variance': 1, 'surely': 4, 'richer': 3, 'title': 1, 'solution': 1, 'addresses': 3, 'penetrated': 2, 'investigation': 1, 'earnestly': 5, 'glimpses': 1, 'describing': 1, 'gentlemanlike': 2, 'shaped': 1, 'feature': 1, 'embarrassed': 4, 'amends': 1, 'proportion': 1, 'counted': 1, 'bond': 1, 'eighty': 1, 'frights': 1, 'frequently': 1, 'sharp': 2, 'frost': 1, 'frosty': 1, 'test': 1, 'ugly': 1, 'multitude': 1, 'scarecrows': 1, 'decent': 6, 'military': 1, 'haired': 2, 'sandy': 2, 'hinting': 1, 'red': 2, 'nose': 1, 'accidental': 1, 'hat': 2, 'tempt': 1, 'winds': 1, 'knock': 4, 'gown': 1, 'misuse': 1, 'cap': 1, 'suspended': 1, 'lansdown': 1, 'crescent': 1, 'stop': 4, 'ushered': 2, 'unusual': 1, 'start': 2, 'becomingly': 1, 'remembering': 4, 'brightened': 1, 'relationship': 5, 'welcomed': 1, 'alacrity': 4, 'excellence': 3, 'certify': 1, 'operation': 3, 'discerning': 2, 'respecting': 1, 'route': 1, 'guests': 1, 'possessing': 1, 'introduce': 2, 'shadow': 1, 'serve': 1, 'ungenteel': 1, 'beings': 1, 'equalled': 1, 'addressing': 3, 'diffused': 1, 'length': 1, 'unfelt': 1, 'witnessing': 2, 'watchman': 1, 'silver': 1, 'eleven': 1, 'mantel': 1, 'tale': 1, 'stealing': 1, 'watchfulness': 2, 'yield': 1, 'chancing': 1, 'fresher': 1, 'clearer': 1, 'skin': 1, 'using': 2, 'gowland': 2, 'ha': 2, 'continue': 1, 'diminished': 1, 'drinks': 1, 'overlooked': 2, 'publications': 2, 'gets': 1, 'provocation': 1, 'exclaim': 1, 'conversing': 2, 'superficial': 1, 'solid': 1, 'estimable': 1, 'defying': 1, 'felicities': 1, 'selfishness': 5, 'candid': 1, 'possess': 2, 'sensibility': 4, 'violent': 2, 'unhappiness': 1, 'sour': 1, 'plague': 1, 'outweighed': 1, 'require': 2, 'inconsistent': 1, 'mature': 1, 'simplest': 1, 'heyday': 1, 'erring': 1, 'process': 2, 'explain': 5, 'determine': 1, 'observance': 1, 'particularity': 1, 'excusable': 3, 'attributing': 1, 'existed': 1, 'crape': 1, 'imaginations': 2, 'dissolved': 1, 'inexcusable': 1, 'pleasantest': 1, 'earnestness': 1, 'dalrymple': 25, 'carteret': 11, 'unfortunately': 2, 'swept': 1, 'dowager': 4, 'viscountess': 4, 'dalrymples': 4, 'contact': 2, 'ears': 1, 'reduced': 2, 'viscount': 1, 'omission': 1, 'unlucky': 1, 'suspension': 2, 'ireland': 2, 'condolence': 2, 'sinner': 1, 'apprehend': 2, 'unimportant': 1, 'preserving': 2, 'laura': 6, 'scrawl': 1, 'toils': 2, 'created': 1, 'accomplishment': 1, 'tolerated': 1, 'collect': 2, 'confessed': 1, 'shakes': 1, 'fastidious': 2, 'wiser': 3, 'fixing': 4, 'sighed': 3, 'vex': 2, 'depends': 1, 'indignation': 3, 'investigated': 1, 'equals': 1, 'diverting': 1, 'superiors': 1, 'defeating': 1, 'promote': 2, '17': 1, 'assiduously': 1, 'renewing': 2, 'governess': 2, 'periods': 1, 'hamilton': 4, 'smith': 66, 'dearly': 1, 'considerably': 1, 'relations': 5, 'contend': 2, 'legs': 1, 'distresses': 1, 'rheumatic': 1, 'cripple': 1, 'excluded': 1, 'hot': 1, 'baths': 1, 'westgate': 7, 'kindled': 1, 'transformed': 1, 'protegee': 1, 'invariably': 2, 'unformed': 1, 'consciously': 1, 'dissipations': 1, 'ruined': 2, 'cheerless': 1, 'buried': 2, 'connect': 1, 'supportable': 1, 'perplexed': 1, 'bedroom': 2, 'noisy': 1, 'depression': 1, 'languor': 1, 'reflected': 1, 'elasticity': 1, 'comforted': 1, 'submissive': 1, 'merciful': 1, 'designed': 1, 'choicest': 1, 'counterbalance': 1, 'viewed': 1, 'gift': 1, 'reaching': 2, 'pitiable': 1, 'finances': 2, 'absolute': 3, 'weathered': 1, 'landlady': 1, 'unemployed': 1, 'preserve': 3, 'liberty': 5, 'admirably': 1, 'invaluable': 1, 'taught': 1, 'racks': 1, 'knit': 1, 'cushions': 1, 'pin': 2, 'thread': 1, 'disposes': 1, 'buy': 3, 'professionally': 1, 'merchandise': 1, 'takes': 4, 'understands': 1, 'recently': 3, 'rooke': 6, 'intelligent': 4, 'fund': 1, 'relate': 2, 'gossip': 2, 'profitable': 1, 'au': 1, 'newest': 1, 'trifling': 1, 'likes': 2, 'fait': 1, 'treat': 2, 'cavil': 1, 'follies': 1, 'affecting': 1, 'heroism': 1, 'ennoble': 1, 'ardent': 1, 'conflicts': 1, 'doubtingly': 1, 'lessons': 2, 'describe': 1, 'hears': 1, 'impatience': 2, 'appears': 3, 'generosity': 2, 'tremulously': 1, 'mankind': 1, 'shook': 3, 'edify': 1, 'lace': 1, 'finery': 1, 'expensive': 1, 'profit': 1, 'priced': 1, 'plenty': 3, 'intend': 1, 'existence': 3, 'schoolfellow': 3, 'disdainful': 1, 'visiting': 2, 'smiths': 2, 'sickly': 1, 'disgusting': 1, 'associations': 2, 'paltry': 1, 'revolts': 1, 'sees': 5, 'approves': 1, 'equipage': 1, 'barely': 1, 'defence': 2, 'advisable': 1, 'dissimilar': 2, 'surname': 1, 'ladyship': 2, 'collecting': 2, 'compassionate': 1, 'create': 1, 'widowhood': 1, 'calculate': 1, 'desirableness': 1, 'blushed': 2, 'uncertainty': 1, 'maker': 1, 'popularity': 1, 'succeeding': 4, 'virtues': 2, 'dearest': 1, 'subdue': 2, 'pretended': 2, 'bewitched': 1, 'image': 1, 'adverse': 1, 'possibilities': 1, 'transgressed': 1, 'distrusted': 1, 'practices': 1, 'dropt': 1, 'suspicions': 1, 'associates': 1, 'allusions': 1, 'sunday': 2, 'appreciate': 1, 'cleansed': 1, 'discreet': 1, 'imperfection': 1, 'impressions': 6, 'incurable': 1, 'hearted': 6, 'frank': 1, 'prized': 1, 'captivate': 1, 'slipped': 2, 'tongue': 2, 'hasty': 2, 'varied': 1, 'tempers': 1, 'endured': 1, 'sweeter': 1, '18': 1, 'february': 2, 'intently': 2, 'delivered': 1, 'thicker': 2, 'quicken': 1, 'passports': 1, '1st': 1, 'affords': 1, 'reckon': 1, 'grandchildren': 1, 'pavements': 1, 'january': 1, 'fatigued': 1, 'immense': 1, 'vacant': 2, 'gouty': 2, 'gross': 1, 'inattention': 1, 'joins': 1, 'affectionately': 3, 'm': 1, 'butcher': 2, 'throat': 2, 'throats': 1, 'envelope': 1, 'communicate': 3, 'astonish': 1, 'protests': 1, 'solemnly': 1, 'marrying': 8, 'feels': 1, 'nursed': 1, 'admirer': 1, 'incomprehensible': 1, 'million': 1, 'effort': 1, 'situated': 2, 'brings': 2, 'decrepitude': 1, 'gout': 2, 'renter': 1, 'approve': 1, 'embarrass': 1, 'signify': 1, 'ours': 2, 'level': 1, 'associate': 1, 'tribute': 1, 'enquiry': 5, 'treachery': 2, 'akin': 1, 'usage': 2, 'levity': 1, 'severed': 1, 'unfairly': 3, 'spirited': 1, 'dejected': 1, 'depending': 1, 'inconsolable': 1, 'toward': 1, 'suspecting': 4, 'dawning': 1, 'served': 1, 'gratify': 1, 'derive': 2, 'fervour': 1, 'enthusiast': 1, 'literary': 1, 'sentimental': 1, 'unshackled': 1, 'beat': 1, 'investigate': 1, 'senseless': 1, 'shares': 2, 'attractive': 1, 'knot': 1, 'encountered': 1, 'keen': 1, 'milsom': 5, 'print': 1, 'address': 2, 'printshop': 1, 'perceive': 4, 'frankness': 1, 'treating': 1, 'stopping': 1, 'boat': 4, 'painters': 1, 'shapeless': 1, 'cockleshell': 1, 'queer': 1, 'mightily': 1, 'mountains': 1, 'stuck': 1, 'horsepond': 1, 'heartily': 2, 'lies': 1, 'ye': 2, 'brigden': 2, 'd': 2, 'stares': 1, 'tied': 2, 'leg': 1, 'heels': 1, 'shilling': 1, 'blister': 1, 'brand': 1, 'trick': 2, 'archibald': 2, 'kisses': 1, 'younker': 1, 'chairs': 1, 'cupboards': 1, 'belmont': 3, 'ascending': 1, 'christian': 2, 'sophys': 1, 'courting': 1, 'brain': 2, 'minehead': 1, 'strangest': 1, 'bears': 1, 'soft': 1, 'augur': 1, 'judges': 1, 'represent': 1, 'incompatible': 1, 'uneasy': 2, 'violence': 1, 'breathe': 3, 'murmur': 1, 'oath': 1, 'hide': 1, 'whine': 1, 'writing': 8, 'subsisted': 1, 'wounded': 2, 'fling': 1, 'guess': 5, 'handsomely': 1, 'unforgiving': 1, 'useless': 1, 'parson': 1, 'bespoke': 1, '19': 1, 'expressing': 1, 'stepped': 2, 'shelter': 1, 'molland': 1, 'successful': 1, 'barouche': 1, 'whoever': 1, 'boots': 2, 'thickest': 1, 'deciding': 1, 'discussed': 1, 'distinctly': 2, 'descried': 1, 'unaccountable': 1, 'simpleton': 1, 'scolded': 1, 'commission': 2, 'union': 6, 'rained': 2, 'outer': 1, 'below': 1, 'confused': 3, 'obviously': 1, 'betraying': 2, 'overpowering': 3, 'bewildering': 1, 'blinding': 1, 'embarrassment': 2, 'portion': 3, 'dint': 1, 'significance': 1, 'feign': 1, 'arch': 2, 'recognition': 1, 'internal': 2, 'unalterable': 1, 'announce': 2, 'crowd': 2, 'bustle': 1, 'unattended': 1, 'rains': 1, 'chair': 7, 'umbrella': 1, 'equipped': 1, 'privileged': 1, 'apologised': 1, 'atkinson': 1, 'wallises': 2, 'wont': 1, 'insinuations': 1, 'discriminating': 1, 'likelihood': 1, 'cost': 1, 'imperfect': 1, 'shade': 1, 'incessant': 1, 'pulteney': 1, 'mistaking': 1, 'groups': 1, 'mad': 1, 'recognising': 1, 'daring': 4, 'robbing': 1, 'withdraw': 2, 'climes': 1, 'fascination': 1, 'curtains': 2, 'frankland': 1, 'alicia': 2, 'handsomest': 1, 'disdain': 2, 'provoked': 1, 'waste': 3, 'producing': 1, 'stagnation': 1, 'amusements': 1, 'stupidity': 1, 'wearied': 1, 'solely': 2, 'theatre': 2, 'concert': 19, 'patronised': 1, 'partly': 1, 'foreboding': 1, 'octagon': 3, 'fires': 1, 'advance': 1, 'formidable': 1, 'whispering': 2, 'ear': 2, 'acknowledgement': 2, 'simple': 2, 'comprehended': 1, 'reluctant': 2, 'ungracious': 1, 'flag': 1, 'consequences': 2, 'eventually': 1, 'sides': 1, 'resemblance': 1, 'ends': 1, 'caprice': 1, 'behaving': 2, 'honourably': 1, 'parental': 1, 'reddening': 1, 'clearing': 1, 'disparity': 1, 'deficient': 4, 'attaching': 2, 'untaught': 1, 'surprises': 2, 'pierced': 1, 'slam': 1, 'agitated': 3, 'buzz': 2, 'deviated': 1, 'mischief': 4, 'obstinate': 1, 'rode': 1, 'inspire': 1, 'stretch': 1, 'wear': 2, 'blush': 4, 'compatible': 2, 'arrive': 4, 'escorted': 1, 'advanced': 1, 'group': 3, 'penance': 3, 'needful': 1, 'demands': 3, 'subdued': 1, 'disappeared': 3, 'disturb': 1, 'marshal': 1, 'whispers': 1, 'generous': 2, 'broad': 1, 'glowed': 2, 'seats': 2, 'sentences': 1, 'avoidance': 1, 'inferiority': 2, 'expressive': 1, 'implying': 1, 'glimpse': 1, 'visions': 2, 'flurried': 1, 'attendant': 1, 'discern': 2, 'humbler': 1, 'foremost': 1, 'benches': 2, 'manoeuvred': 1, 'contiguous': 1, 'surrounded': 3, 'wearisome': 1, 'entertainment': 1, 'scientific': 1, 'song': 3, 'italian': 5, 'bill': 2, 'inverted': 1, 'comprehensible': 1, 'transposed': 1, 'translate': 1, 'curtailed': 2, 'proficient': 1, 'raise': 2, 'mystery': 1, 'nameless': 1, 'inspired': 1, 'trivial': 2, 'irish': 2, 'bowing': 1, 'rents': 1, 'cluster': 1, 'withdrawn': 1, 'restore': 1, 'recommencing': 1, 'orchestra': 2, 'nearer': 4, 'beneficial': 1, 'tea': 1, 'quest': 1, 'unproductively': 1, 'wore': 2, 'gapes': 1, 'reclaimed': 1, 'repossessed': 1, 'chiefly': 2, 'scheming': 2, 'bench': 3, 'passer': 1, 'larolles': 1, 'abdication': 1, 'shape': 2, 'inimitable': 1, 'irresolute': 2, 'indubitable': 1, 'strikingly': 1, 'glances': 2, 'owned': 1, 'gravely': 3, 'shoulder': 1, 'sung': 1, 'sacrificed': 2, 'farewell': 1, 'accosted': 1, 'consumed': 1, 'impressively': 1, 'intelligible': 3, 'succeed': 2, 'quieted': 1, 'situations': 2, 'disadvantages': 1, 'respective': 1, 'incalculable': 1, '21': 1, 'prepossession': 1, 'flattering': 1, 'eternal': 1, 'sporting': 2, 'prettier': 1, 'wrought': 2, 'perfume': 1, 'purification': 1, 'laundress': 1, 'enquirer': 1, 'notoriety': 1, 'unfledged': 1, 'conclude': 2, 'sparrows': 1, 'durands': 1, 'fed': 1, 'mouths': 1, 'ibbotsons': 1, 'beauties': 1, 'maclean': 1, 'misses': 1, 'chooses': 1, 'informs': 1, 'overspread': 1, 'penetration': 2, 'instantaneously': 1, 'assuming': 1, 'willingness': 1, 'imbibed': 1, 'notion': 1, 'hesitate': 1, 'penetrating': 2, 'premature': 1, 'official': 1, 'build': 2, 'cruel': 5, 'occurs': 1, 'offers': 1, 'plead': 2, 'objections': 1, 'archly': 1, 'ninety': 1, 'shipwrecked': 1, 'astray': 1, 'failure': 1, 'semblance': 1, 'bye': 1, 'monday': 3, 'unfounded': 2, 'message': 3, 'pursue': 1, 'thoughtful': 3, 'doubting': 1, 'officious': 1, 'hates': 1, 'surface': 1, 'unprejudiced': 1, 'blooded': 1, 'cruelty': 2, 'perpetrated': 1, 'guilty': 1, 'wary': 1, 'designing': 2, 'compunction': 1, 'desert': 1, 'hollow': 1, 'exclamation': 1, 'startle': 1, 'injured': 1, 'abuse': 1, 'facts': 2, 'entertained': 2, 'chambers': 1, 'temple': 1, 'farthing': 1, 'purse': 1, 'confided': 1, 'fors': 1, 'againsts': 1, 'wealth': 1, 'justly': 1, 'mar': 1, 'concealments': 1, 'vouch': 1, 'boast': 1, 'explains': 2, 'hesitated': 2, 'associated': 1, 'rules': 1, 'thoughtless': 1, 'reprehensible': 1, 'objected': 1, 'grazier': 1, 'grandfather': 1, 'committed': 1, 'amount': 1, 'dirt': 1, 'cheap': 1, 'saleable': 1, 'repeat': 1, 'baronetcies': 1, 'assertion': 2, 'contradictory': 1, 'asserted': 2, 'box': 5, 'shelf': 1, 'inlaid': 1, 'closet': 1, 'unlocked': 1, 'sighing': 1, 'papers': 2, 'memorandums': 1, 'immethodical': 1, 'examine': 1, 'burn': 1, 'document': 1, 'tunbridge': 1, 'wells': 1, '1803': 1, 'overpowers': 2, 'cash': 1, 'swear': 1, 'surveyor': 1, 'hammer': 1, 'unlikely': 1, 'nevertheless': 1, 'reversion': 1, 'equivalent': 1, 'wm': 1, 'w': 2, 'disrespectful': 1, 'shows': 1, 'laws': 1, 'meditating': 1, 'violation': 1, 'testimonies': 1, 'testimony': 1, 'oral': 1, 'authentic': 1, 'hypocrite': 2, 'bend': 1, 'collects': 1, 'turnings': 1, 'stream': 1, 'rubbish': 1, 'unreservedly': 1, 'repeats': 2, 'overflowing': 1, 'secrets': 1, 'romancing': 1, 'prior': 1, 'misconceived': 1, 'contradict': 2, 'supposes': 1, 'inducement': 1, 'historian': 1, 'triumphantly': 1, 'double': 3, 'false': 1, 'improbable': 1, 'blind': 1, 'states': 2, 'plausible': 1, 'insinuating': 1, 'reports': 1, 'prevail': 1, 'avarice': 1, 'circumventing': 1, 'omitted': 2, 'artful': 2, 'guide': 2, 'accord': 1, 'cunning': 2, 'details': 1, 'duplicity': 1, 'revolting': 2, 'manoeuvres': 1, 'considers': 1, 'holds': 3, 'absurdity': 1, 'strenuous': 1, 'opposer': 1, 'intrude': 1, 'matrimony': 1, 'favourer': 1, 'thoughtfulness': 1, 'disingenuous': 1, 'recital': 1, 'bitterness': 1, 'unqualified': 2, 'unimpaired': 1, 'extravagance': 1, 'despised': 1, 'prompting': 1, 'prove': 4, 'anguish': 1, 'executor': 1, 'corresponding': 1, 'heaped': 1, 'creditable': 2, 'fruitless': 1, 'urgent': 1, 'stern': 1, 'crime': 1, 'flagrant': 1, 'ingratitude': 1, 'inhumanity': 1, 'dwelt': 2, 'conversations': 1, 'hinted': 1, 'grievances': 1, 'recoverable': 1, 'incumbrances': 1, 'sequestration': 1, 'payment': 1, 'employing': 1, 'disabled': 1, 'bodily': 2, 'purchase': 1, 'straitened': 1, 'weakening': 1, 'offices': 2, 'hastily': 3, 'losing': 2, 'anticipation': 1, 'apprehensive': 1, 'refutation': 1, 'favourably': 1, 'bled': 1, 'giddy': 1, 'fare': 1, 'shudder': 1, 'miserable': 1, 'disclosed': 1, 'deceived': 1, '22': 1, 'irremediable': 1, 'unperplexed': 1, 'obtrusiveness': 1, 'avert': 1, 'reward': 1, 'springing': 1, 'slighting': 1, 'extended': 1, 'anxieties': 1, 'congratulated': 1, 'carelessness': 1, 'harder': 1, 'spell': 1, 'omit': 2, 'embargo': 1, 'lay': 1, 'lifting': 1, 'thornberry': 2, 'prime': 2, 'placid': 1, 'license': 1, 'assume': 1, 'devoting': 1, 'insincerity': 1, 'odious': 1, 'remonstrance': 1, 'eclat': 1, 'retrace': 1, 'guarded': 1, 'commanding': 1, 'kindle': 1, 'heat': 1, 'solicitation': 1, 'hazard': 1, 'surmised': 1, 'saturday': 1, 'destruction': 1, 'humiliating': 1, 'practised': 1, 'deception': 2, 'sources': 1, 'complicate': 1, 'endeavouring': 1, 'subtleties': 1, 'friday': 1, 'tiresome': 1, 'plaguing': 1, 'poems': 1, 'bores': 1, 'hideous': 1, 'regards': 1, 'blinds': 1, 'rouge': 1, 'preconcerted': 1, 'hart': 3, 'ostentatiously': 1, 'consisted': 2, 'regaling': 1, 'selves': 1, 'beside': 1, 'characteristic': 1, 'narration': 1, 'clothes': 2, 'wedding': 2, 'forwardness': 1, 'permanent': 1, 'dorsetshire': 1, 'preserves': 1, 'special': 1, 'kingdom': 1, 'proprietors': 1, 'deserve': 3, 'dimming': 1, 'streightens': 1, 'confer': 1, 'ambitious': 1, 'misconduct': 1, 'jumping': 1, 'hesitatingly': 1, 'starts': 1, 'wriggles': 1, 'verses': 1, 'elbow': 1, 'chick': 1, 'illiberal': 1, 'fought': 1, 'brave': 1, 'famous': 1, 'rat': 1, 'china': 1, 'mirrors': 1, 'risen': 1, 'detailed': 1, 'superiorities': 1, 'enjoying': 1, 'gaiety': 2, 'betray': 1, 'reduction': 1, 'persuasions': 1, 'profess': 1, 'fortunately': 1, 'gratifying': 1, 'contributed': 1, 'won': 1, 'heartiness': 1, 'keys': 1, 'overlooking': 1, 'pump': 2, 'ribbon': 1, 'altering': 1, 'shops': 1, 'trinkets': 1, 'imagining': 1, 'assorting': 1, 'wonted': 1, 'thorough': 2, 'hotel': 1, 'changing': 1, 'unsettled': 1, 'ensured': 1, 'seated': 1, 'parcel': 2, 'spacious': 1, 'derived': 1, 'governed': 1, 'argument': 2, 'captiously': 1, 'inadvertence': 1, 'wantonly': 1, 'irritable': 1, 'misconstructions': 1, 'inadvertencies': 1, 'mischievous': 1, 'colonnade': 1, 'heavens': 2, 'unconcerned': 2, 'positively': 1, 'perceiving': 1, 'concerning': 2, 'ensure': 1, 'haste': 2, 'shaking': 1, 'screen': 1, 'pacify': 1, 'recomposed': 1, 'acquitted': 1, 'civilly': 1, 'n': 1, 'humouredly': 1, 'forgetful': 1, 'abominable': 1, 'smirked': 1, 'unpardonable': 2, 'representative': 1, 'representatives': 1, 'heirs': 1, 'sun': 1, 'reigning': 1, 'scandalous': 1, 'opposing': 1, 'jesting': 1, 'omitting': 1, 'interposed': 1, 'impediment': 1, 'trembled': 1, 'reserving': 1, 'teasing': 1, 'persisting': 1, 'faced': 1, 'bare': 1, 'player': 1, 'misconstruction': 1, 'ponder': 1, 'reluctance': 1, 'security': 1, 'wherewith': 1, 'chill': 1, 'oppression': 1, 'hushed': 1, 'heartless': 1, 'freedom': 1, 'insipid': 1, 'comprise': 1, 'nothings': 1, 'gracefully': 1, 'interruption': 1, 'acceptance': 1, 'insolence': 1, 'atonement': 1, 'sank': 1, 'including': 1, 'audibly': 1, 'separated': 1, 'exerted': 2, 'detail': 1, 'embellishments': 1, 'ending': 1, 'harassing': 1, 'toilsome': 1, 'fatigues': 1, 'enumeration': 1, 'appeased': 1, 'gnawing': 1, 'defy': 1, 'intimation': 1, 'restless': 1, 'broodings': 1, 'guilt': 1, 'lectures': 1, 'overbearing': 1, 'complication': 1, 'imitation': 1, 'delayed': 1, '23': 1, 'explanatory': 1, 'defer': 1, 'sultaness': 1, 'scheherazade': 1, 'plighted': 1, 'unfavourable': 1, 'strictest': 1, 'injunctions': 1, 'outwardly': 1, 'tasting': 1, 'plunged': 1, 'materials': 2, 'audible': 1, 'undesirable': 1, 'principals': 1, 'abominate': 1, 'protested': 3, 'unsafe': 1, 'unwise': 1, 'pen': 4, 'glanced': 1, 'thrill': 1, 'pausing': 1, 'enforce': 1, 'truths': 1, 'urge': 1, 'denoted': 1, 'enforced': 1, 'assumed': 1, 'displaying': 1, 'painting': 1, 'miniature': 1, 'unfolding': 1, 'compliance': 2, 'german': 1, 'artist': 1, 'quivering': 1, 'lip': 1, 'doted': 1, 'sex': 3, 'prey': 1, 'weaken': 2, 'granting': 1, 'inconstant': 2, 'bearing': 2, 'riding': 1, 'heaviest': 1, 'frames': 1, 'bodies': 1, 'assert': 1, 'authorise': 1, 'robust': 1, 'dangers': 1, 'privations': 1, 'labouring': 1, 'hardship': 2, 'toiling': 1, 'faltering': 1, 'division': 2, 'striving': 1, 'anchorage': 1, 'signal': 1, 'lowering': 1, 'histories': 1, 'verse': 1, 'inconstancy': 1, 'proverbs': 1, 'fickleness': 1, 'suffers': 1, 'watches': 1, 'calculates': 1, 'pretending': 1, 'wings': 1, 'treasures': 1, 'glories': 1, 'resemble': 1, 'forbid': 1, 'undervalue': 1, 'faithful': 1, 'enviable': 1, 'privilege': 1, 'longest': 1, 'covet': 1, 'loving': 1, 'sentence': 2, 'breath': 1, 'quarrelling': 1, 'disengaged': 1, 'sealed': 1, 'footsteps': 1, 'closer': 1, 'gloves': 1, 'revolution': 1, 'e': 1, 'legible': 1, 'contents': 1, 'defied': 1, 'devoured': 1, 'leaned': 1, 'protection': 2, 'pierce': 1, 'broke': 1, 'resentful': 1, 'sink': 1, 'tones': 2, 'f': 1, 'undeviating': 1, 'hither': 1, 'tranquillized': 1, 'desperation': 1, 'distracting': 1, 'doctor': 1, 'blow': 1, 'struggled': 1, 'precaution': 1, 'll': 1, 'damp': 1, 'mischance': 1, 'prophesied': 1, 'preventing': 2, 'ungrateful': 1, 'gunsmith': 1, 'sacrificing': 1, 'familiar': 1, 'repulsively': 1, 'pale': 1, 'movements': 1, 'unpacked': 1, 'barrel': 1, 'rapture': 1, 'reined': 1, 'immortality': 1, 'prepare': 2, 'gravel': 1, 'exchanged': 1, 'exquisitely': 1, 'poignant': 1, 'bustling': 1, 'preceded': 1, 'indulge': 1, 'explanations': 1, 'flirting': 1, 'maids': 1, 'acknowledgements': 1, 'housekeepers': 1, 'slowly': 1, 'sauntering': 1, 'politicians': 1, 'paced': 1, 'retrospections': 1, 'today': 1, 'variations': 1, 'retarding': 1, 'operate': 1, 'sheet': 1, 'poured': 1, 'vanquished': 1, 'governance': 1, 'retracted': 1, 'supplanted': 1, 'sufferer': 1, 'medium': 1, 'loveliest': 1, 'unrivalled': 1, 'obstinacy': 1, 'darings': 1, 'heedlessness': 1, 'deplore': 1, 'estimation': 1, 'madness': 1, 'exalt': 1, 'regain': 1, 'remorse': 1, 'excessive': 1, 'abide': 1, 'grossly': 1, 'entangled': 1, 'caring': 1, 'speculations': 1, 'personally': 1, 'blunder': 1, 'inexpressibly': 1, 'homage': 1, 'felicitous': 1, 'blindness': 1, 'astonishing': 1, 'blunders': 1, 'inaction': 1, 'wednesday': 1, 'encouragement': 1, 'retain': 1, 'tearing': 1, 'despondency': 1, 'energy': 1, 'subsequent': 1, 'horrible': 1, 'wishers': 1, 'proprieties': 1, 'eligibilities': 1, 'indelible': 1, 'yielded': 2, 'violated': 1, 'incurred': 1, 'overwhelmed': 1, 'smarting': 1, 'force': 1, 'rallied': 1, 'dissipated': 1, 'thankfulness': 1, 'fearless': 2, 'meditation': 1, 'steadfast': 1, 'corrective': 1, 'assembled': 1, 'lighted': 1, 'shorter': 1, 'mixture': 1, 'commonplace': 1, 'forbearing': 1, 'occurring': 1, 'communications': 1, 'delicious': 1, 'greenhouse': 1, 'impartially': 1, 'err': 1, 'similarity': 1, 'decides': 1, 'submitting': 1, 'allowable': 1, 'deliberation': 1, 'enemy': 1, 'posted': 1, 'decisive': 1, 'accent': 1, 'crown': 1, 'earn': 1, 'rewards': 1, 'reverses': 1, 'brook': 1, '24': 1, 'ultimate': 1, 'morality': 1, 'maturity': 1, 'graciousness': 1, 'activity': 2, 'maintain': 1, 'spendthrift': 1, 'insertion': 1, 'balanced': 1, 'eyed': 1, 'daylight': 1, 'sounding': 1, 'struggles': 1, 'correctness': 1, 'impetuosity': 1, 'suavity': 1, 'regulated': 1, 'indicate': 1, 'nicety': 1, 'discernment': 1, 'quickness': 1, 'instrumental': 1, 'flatter': 2, 'landaulette': 1, 'headship': 1, 'unexpectedly': 1, 'deranged': 1, 'discomfited': 1, 'caressed': 1, 'wheedled': 1, 'doubted': 1, 'mortified': 1, 'resort': 1, 'disproportion': 1, 'harmony': 1, 'source': 1, 'prompt': 1, 'transgressions': 1, 'dividing': 1, 'kinds': 1, 'depriving': 1, 'render': 1, 'petty': 1, 'requited': 1, 'acquisition': 1, 'accessions': 1, 'defiance': 1, 'spoiled': 1, 'supplies': 1, 'sunshine': 1, 'national': 1, 'finis': 1})\n"
          ]
        }
      ],
      "source": [
        "# Cantidad de veces quea aparece cada palabra en cada \"documento\"\n",
        "# (1 documento = 1 caso de entrada)\n",
        "print(tok.word_docs)"
      ]
    },
    {
      "cell_type": "markdown",
      "metadata": {
        "id": "uYfhWVLLzKVO"
      },
      "source": [
        "\n",
        "### Definir el modelo"
      ]
    },
    {
      "cell_type": "code",
      "execution_count": null,
      "metadata": {
        "id": "5UXA5hQfWVX1",
        "colab": {
          "base_uri": "https://localhost:8080/",
          "height": 312
        },
        "outputId": "2f9c69c6-3c43-41cd-b10a-d4f50fb0cb7e"
      },
      "outputs": [
        {
          "output_type": "stream",
          "name": "stderr",
          "text": [
            "/usr/local/lib/python3.10/dist-packages/keras/src/layers/core/embedding.py:93: UserWarning: Do not pass an `input_shape`/`input_dim` argument to a layer. When using Sequential models, prefer using an `Input(shape)` object as the first layer in the model instead.\n",
            "  super().__init__(**kwargs)\n"
          ]
        },
        {
          "output_type": "display_data",
          "data": {
            "text/plain": [
              "\u001b[1mModel: \"sequential\"\u001b[0m\n"
            ],
            "text/html": [
              "<pre style=\"white-space:pre;overflow-x:auto;line-height:normal;font-family:Menlo,'DejaVu Sans Mono',consolas,'Courier New',monospace\"><span style=\"font-weight: bold\">Model: \"sequential\"</span>\n",
              "</pre>\n"
            ]
          },
          "metadata": {}
        },
        {
          "output_type": "display_data",
          "data": {
            "text/plain": [
              "┏━━━━━━━━━━━━━━━━━━━━━━━━━━━━━━━━━━━━━━┳━━━━━━━━━━━━━━━━━━━━━━━━━━━━━┳━━━━━━━━━━━━━━━━━┓\n",
              "┃\u001b[1m \u001b[0m\u001b[1mLayer (type)                        \u001b[0m\u001b[1m \u001b[0m┃\u001b[1m \u001b[0m\u001b[1mOutput Shape               \u001b[0m\u001b[1m \u001b[0m┃\u001b[1m \u001b[0m\u001b[1m        Param #\u001b[0m\u001b[1m \u001b[0m┃\n",
              "┡━━━━━━━━━━━━━━━━━━━━━━━━━━━━━━━━━━━━━━╇━━━━━━━━━━━━━━━━━━━━━━━━━━━━━╇━━━━━━━━━━━━━━━━━┩\n",
              "│ embedding (\u001b[38;5;33mEmbedding\u001b[0m)                │ (\u001b[38;5;45mNone\u001b[0m, \u001b[38;5;34m29\u001b[0m, \u001b[38;5;34m30\u001b[0m)              │         \u001b[38;5;34m173,370\u001b[0m │\n",
              "├──────────────────────────────────────┼─────────────────────────────┼─────────────────┤\n",
              "│ lstm (\u001b[38;5;33mLSTM\u001b[0m)                          │ (\u001b[38;5;45mNone\u001b[0m, \u001b[38;5;34m29\u001b[0m, \u001b[38;5;34m100\u001b[0m)             │          \u001b[38;5;34m52,400\u001b[0m │\n",
              "├──────────────────────────────────────┼─────────────────────────────┼─────────────────┤\n",
              "│ lstm_1 (\u001b[38;5;33mLSTM\u001b[0m)                        │ (\u001b[38;5;45mNone\u001b[0m, \u001b[38;5;34m29\u001b[0m, \u001b[38;5;34m50\u001b[0m)              │          \u001b[38;5;34m30,200\u001b[0m │\n",
              "├──────────────────────────────────────┼─────────────────────────────┼─────────────────┤\n",
              "│ dense (\u001b[38;5;33mDense\u001b[0m)                        │ (\u001b[38;5;45mNone\u001b[0m, \u001b[38;5;34m29\u001b[0m, \u001b[38;5;34m5779\u001b[0m)            │         \u001b[38;5;34m294,729\u001b[0m │\n",
              "└──────────────────────────────────────┴─────────────────────────────┴─────────────────┘\n"
            ],
            "text/html": [
              "<pre style=\"white-space:pre;overflow-x:auto;line-height:normal;font-family:Menlo,'DejaVu Sans Mono',consolas,'Courier New',monospace\">┏━━━━━━━━━━━━━━━━━━━━━━━━━━━━━━━━━━━━━━┳━━━━━━━━━━━━━━━━━━━━━━━━━━━━━┳━━━━━━━━━━━━━━━━━┓\n",
              "┃<span style=\"font-weight: bold\"> Layer (type)                         </span>┃<span style=\"font-weight: bold\"> Output Shape                </span>┃<span style=\"font-weight: bold\">         Param # </span>┃\n",
              "┡━━━━━━━━━━━━━━━━━━━━━━━━━━━━━━━━━━━━━━╇━━━━━━━━━━━━━━━━━━━━━━━━━━━━━╇━━━━━━━━━━━━━━━━━┩\n",
              "│ embedding (<span style=\"color: #0087ff; text-decoration-color: #0087ff\">Embedding</span>)                │ (<span style=\"color: #00d7ff; text-decoration-color: #00d7ff\">None</span>, <span style=\"color: #00af00; text-decoration-color: #00af00\">29</span>, <span style=\"color: #00af00; text-decoration-color: #00af00\">30</span>)              │         <span style=\"color: #00af00; text-decoration-color: #00af00\">173,370</span> │\n",
              "├──────────────────────────────────────┼─────────────────────────────┼─────────────────┤\n",
              "│ lstm (<span style=\"color: #0087ff; text-decoration-color: #0087ff\">LSTM</span>)                          │ (<span style=\"color: #00d7ff; text-decoration-color: #00d7ff\">None</span>, <span style=\"color: #00af00; text-decoration-color: #00af00\">29</span>, <span style=\"color: #00af00; text-decoration-color: #00af00\">100</span>)             │          <span style=\"color: #00af00; text-decoration-color: #00af00\">52,400</span> │\n",
              "├──────────────────────────────────────┼─────────────────────────────┼─────────────────┤\n",
              "│ lstm_1 (<span style=\"color: #0087ff; text-decoration-color: #0087ff\">LSTM</span>)                        │ (<span style=\"color: #00d7ff; text-decoration-color: #00d7ff\">None</span>, <span style=\"color: #00af00; text-decoration-color: #00af00\">29</span>, <span style=\"color: #00af00; text-decoration-color: #00af00\">50</span>)              │          <span style=\"color: #00af00; text-decoration-color: #00af00\">30,200</span> │\n",
              "├──────────────────────────────────────┼─────────────────────────────┼─────────────────┤\n",
              "│ dense (<span style=\"color: #0087ff; text-decoration-color: #0087ff\">Dense</span>)                        │ (<span style=\"color: #00d7ff; text-decoration-color: #00d7ff\">None</span>, <span style=\"color: #00af00; text-decoration-color: #00af00\">29</span>, <span style=\"color: #00af00; text-decoration-color: #00af00\">5779</span>)            │         <span style=\"color: #00af00; text-decoration-color: #00af00\">294,729</span> │\n",
              "└──────────────────────────────────────┴─────────────────────────────┴─────────────────┘\n",
              "</pre>\n"
            ]
          },
          "metadata": {}
        },
        {
          "output_type": "display_data",
          "data": {
            "text/plain": [
              "\u001b[1m Total params: \u001b[0m\u001b[38;5;34m550,699\u001b[0m (2.10 MB)\n"
            ],
            "text/html": [
              "<pre style=\"white-space:pre;overflow-x:auto;line-height:normal;font-family:Menlo,'DejaVu Sans Mono',consolas,'Courier New',monospace\"><span style=\"font-weight: bold\"> Total params: </span><span style=\"color: #00af00; text-decoration-color: #00af00\">550,699</span> (2.10 MB)\n",
              "</pre>\n"
            ]
          },
          "metadata": {}
        },
        {
          "output_type": "display_data",
          "data": {
            "text/plain": [
              "\u001b[1m Trainable params: \u001b[0m\u001b[38;5;34m550,699\u001b[0m (2.10 MB)\n"
            ],
            "text/html": [
              "<pre style=\"white-space:pre;overflow-x:auto;line-height:normal;font-family:Menlo,'DejaVu Sans Mono',consolas,'Courier New',monospace\"><span style=\"font-weight: bold\"> Trainable params: </span><span style=\"color: #00af00; text-decoration-color: #00af00\">550,699</span> (2.10 MB)\n",
              "</pre>\n"
            ]
          },
          "metadata": {}
        },
        {
          "output_type": "display_data",
          "data": {
            "text/plain": [
              "\u001b[1m Non-trainable params: \u001b[0m\u001b[38;5;34m0\u001b[0m (0.00 B)\n"
            ],
            "text/html": [
              "<pre style=\"white-space:pre;overflow-x:auto;line-height:normal;font-family:Menlo,'DejaVu Sans Mono',consolas,'Courier New',monospace\"><span style=\"font-weight: bold\"> Non-trainable params: </span><span style=\"color: #00af00; text-decoration-color: #00af00\">0</span> (0.00 B)\n",
              "</pre>\n"
            ]
          },
          "metadata": {}
        }
      ],
      "source": [
        "model = Sequential()\n",
        "\n",
        "# la primera capa es de embedding entrenable. Recordar que se puede variar el tamaño\n",
        "# del embedding a entrenar\n",
        "model.add(Embedding(input_dim=vocab_size+1, output_dim=30, input_shape=(max_context_size,)))\n",
        "\n",
        "model.add((LSTM(100, return_sequences=True)))\n",
        "model.add((LSTM(50, return_sequences=True)))\n",
        "\n",
        "model.add(Dense(vocab_size+1, activation='softmax'))\n",
        "\n",
        "\n",
        "#optimizador = Adam(learning_rate=0.001)\n",
        "model.compile(loss=SparseCategoricalCrossentropy(), optimizer='adam')\n",
        "\n",
        "model.summary()\n"
      ]
    },
    {
      "cell_type": "code",
      "source": [
        "class PplCallback(keras.callbacks.Callback):\n",
        "\n",
        "    '''\n",
        "    Este callback es una solución ad-hoc para calcular al final de cada epoch de\n",
        "    entrenamiento la métrica de Perplejidad sobre un conjunto de datos de validación.\n",
        "    La perplejidad es una métrica cuantitativa para evaluar la calidad de la generación de secuencias.\n",
        "    Además implementa la finalización del entrenamiento (Early Stopping)\n",
        "    si la perplejidad no mejora después de `patience` epochs.\n",
        "    '''\n",
        "\n",
        "    def __init__(self, val_data, history_ppl, patience=10 ,max_val_size=2500):\n",
        "      # El callback lo inicializamos con secuencias de validación sobre las cuales\n",
        "      # mediremos la perplejidad y la paciencia para detener el entrenamiento.\n",
        "      self.val_data = val_data\n",
        "\n",
        "      self.target = []\n",
        "      self.padded = []\n",
        "\n",
        "      count = 0\n",
        "      self.info = []\n",
        "      self.history_ppl = []\n",
        "      self.min_score = np.inf\n",
        "      self.patience_counter = 0\n",
        "      self.patience = patience\n",
        "\n",
        "      # nos movemos en todas las secuencias de los datos de validación\n",
        "      for seq in self.val_data:\n",
        "\n",
        "        len_seq = len(seq)\n",
        "        # armamos todas las subsecuencias\n",
        "        subseq = [seq[:i] for i in range(len_seq)]\n",
        "        self.target.extend([seq[i] for i in range(len_seq)])\n",
        "\n",
        "        if len(subseq)!=0:\n",
        "\n",
        "          self.padded.append(pad_sequences(subseq, maxlen=max_context_size, padding='pre'))\n",
        "\n",
        "          self.info.append((count,count+len_seq))\n",
        "          count += len_seq\n",
        "\n",
        "      self.padded = np.vstack(self.padded)\n",
        "\n",
        "      # Limitar `self.padded` a un máximo de observaciones\n",
        "      if len(self.padded) > max_val_size:\n",
        "          self.padded = self.padded[:max_val_size]\n",
        "          self.target = self.target[:max_val_size]\n",
        "          self.info = self.info[:max_val_size]\n",
        "\n",
        "\n",
        "    def on_epoch_end(self, epoch, logs=None):\n",
        "\n",
        "        # en `scores` iremos guardando la perplejidad de cada secuencia\n",
        "        scores = []\n",
        "\n",
        "        predictions = self.model.predict(self.padded,verbose=0)\n",
        "\n",
        "        # para cada secuencia de validación\n",
        "        for start,end in self.info:\n",
        "\n",
        "          # en `probs` iremos guardando las probabilidades de los términos target\n",
        "          probs = [predictions[idx_seq,-1,idx_vocab] for idx_seq, idx_vocab in zip(range(start,end),self.target[start:end])]\n",
        "\n",
        "          # calculamos la perplejidad por medio de logaritmos\n",
        "          scores.append(np.exp(-np.sum(np.log(probs))/(end-start)))\n",
        "\n",
        "        # promediamos todos los scores e imprimimos el valor promedio\n",
        "        current_score = np.mean(scores)\n",
        "        history_ppl.append(current_score)\n",
        "        print(f'\\n mean perplexity: {current_score} \\n')\n",
        "\n",
        "        # chequeamos si tenemos que detener el entrenamiento\n",
        "        if current_score < self.min_score:\n",
        "          self.min_score = current_score\n",
        "          self.model.save(\"my_model2.keras\")\n",
        "          print(\"Saved new model!\")\n",
        "          self.patience_counter = 0\n",
        "        else:\n",
        "          self.patience_counter += 1\n",
        "          if self.patience_counter == self.patience:\n",
        "            print(\"Stopping training...\")\n",
        "            self.model.stop_training = True\n"
      ],
      "metadata": {
        "id": "ddKCdfVXWcoN"
      },
      "execution_count": null,
      "outputs": []
    },
    {
      "cell_type": "markdown",
      "metadata": {
        "id": "8HBZIwR0gruA"
      },
      "source": [
        "### Entrenamiento"
      ]
    },
    {
      "cell_type": "code",
      "execution_count": null,
      "metadata": {
        "id": "oQq1PHDkxDvN",
        "colab": {
          "base_uri": "https://localhost:8080/"
        },
        "outputId": "45f6d0f9-2803-4a63-b82f-dae90920fac0"
      },
      "outputs": [
        {
          "output_type": "stream",
          "name": "stdout",
          "text": [
            "Epoch 1/20\n",
            "\u001b[1m1255/1255\u001b[0m \u001b[32m━━━━━━━━━━━━━━━━━━━━\u001b[0m\u001b[37m\u001b[0m \u001b[1m0s\u001b[0m 7ms/step - loss: 6.4412\n",
            " mean perplexity: 3599.624878134552 \n",
            "\n",
            "Saved new model!\n",
            "\u001b[1m1255/1255\u001b[0m \u001b[32m━━━━━━━━━━━━━━━━━━━━\u001b[0m\u001b[37m\u001b[0m \u001b[1m19s\u001b[0m 10ms/step - loss: 6.4410\n",
            "Epoch 2/20\n",
            "\u001b[1m1252/1255\u001b[0m \u001b[32m━━━━━━━━━━━━━━━━━━━\u001b[0m\u001b[37m━\u001b[0m \u001b[1m0s\u001b[0m 8ms/step - loss: 6.0622\n",
            " mean perplexity: 6154.249442425538 \n",
            "\n",
            "\u001b[1m1255/1255\u001b[0m \u001b[32m━━━━━━━━━━━━━━━━━━━━\u001b[0m\u001b[37m\u001b[0m \u001b[1m18s\u001b[0m 10ms/step - loss: 6.0622\n",
            "Epoch 3/20\n",
            "\u001b[1m1248/1255\u001b[0m \u001b[32m━━━━━━━━━━━━━━━━━━━\u001b[0m\u001b[37m━\u001b[0m \u001b[1m0s\u001b[0m 9ms/step - loss: 6.0686\n",
            " mean perplexity: 7179.095254230632 \n",
            "\n",
            "\u001b[1m1255/1255\u001b[0m \u001b[32m━━━━━━━━━━━━━━━━━━━━\u001b[0m\u001b[37m\u001b[0m \u001b[1m14s\u001b[0m 11ms/step - loss: 6.0686\n",
            "Epoch 4/20\n",
            "\u001b[1m1255/1255\u001b[0m \u001b[32m━━━━━━━━━━━━━━━━━━━━\u001b[0m\u001b[37m\u001b[0m \u001b[1m0s\u001b[0m 8ms/step - loss: 6.0051\n",
            " mean perplexity: 108114.47812964262 \n",
            "\n",
            "\u001b[1m1255/1255\u001b[0m \u001b[32m━━━━━━━━━━━━━━━━━━━━\u001b[0m\u001b[37m\u001b[0m \u001b[1m16s\u001b[0m 12ms/step - loss: 6.0049\n",
            "Epoch 5/20\n",
            "\u001b[1m1252/1255\u001b[0m \u001b[32m━━━━━━━━━━━━━━━━━━━\u001b[0m\u001b[37m━\u001b[0m \u001b[1m0s\u001b[0m 8ms/step - loss: 5.2699\n",
            " mean perplexity: 280719.92850396415 \n",
            "\n",
            "\u001b[1m1255/1255\u001b[0m \u001b[32m━━━━━━━━━━━━━━━━━━━━\u001b[0m\u001b[37m\u001b[0m \u001b[1m17s\u001b[0m 10ms/step - loss: 5.2696\n",
            "Epoch 6/20\n",
            "\u001b[1m1249/1255\u001b[0m \u001b[32m━━━━━━━━━━━━━━━━━━━\u001b[0m\u001b[37m━\u001b[0m \u001b[1m0s\u001b[0m 8ms/step - loss: 4.9355\n",
            " mean perplexity: 85869.38602754564 \n",
            "\n",
            "\u001b[1m1255/1255\u001b[0m \u001b[32m━━━━━━━━━━━━━━━━━━━━\u001b[0m\u001b[37m\u001b[0m \u001b[1m24s\u001b[0m 12ms/step - loss: 4.9352\n",
            "Epoch 7/20\n",
            "\u001b[1m1255/1255\u001b[0m \u001b[32m━━━━━━━━━━━━━━━━━━━━\u001b[0m\u001b[37m\u001b[0m \u001b[1m0s\u001b[0m 9ms/step - loss: 4.7006\n",
            " mean perplexity: 14611.136946681945 \n",
            "\n",
            "\u001b[1m1255/1255\u001b[0m \u001b[32m━━━━━━━━━━━━━━━━━━━━\u001b[0m\u001b[37m\u001b[0m \u001b[1m19s\u001b[0m 11ms/step - loss: 4.7006\n",
            "Epoch 8/20\n",
            "\u001b[1m1255/1255\u001b[0m \u001b[32m━━━━━━━━━━━━━━━━━━━━\u001b[0m\u001b[37m\u001b[0m \u001b[1m0s\u001b[0m 8ms/step - loss: 4.4966\n",
            " mean perplexity: 4549.32678672191 \n",
            "\n",
            "\u001b[1m1255/1255\u001b[0m \u001b[32m━━━━━━━━━━━━━━━━━━━━\u001b[0m\u001b[37m\u001b[0m \u001b[1m12s\u001b[0m 10ms/step - loss: 4.4965\n",
            "Epoch 9/20\n",
            "\u001b[1m1249/1255\u001b[0m \u001b[32m━━━━━━━━━━━━━━━━━━━\u001b[0m\u001b[37m━\u001b[0m \u001b[1m0s\u001b[0m 8ms/step - loss: 4.3082\n",
            " mean perplexity: 2755.983591127525 \n",
            "\n",
            "Saved new model!\n",
            "\u001b[1m1255/1255\u001b[0m \u001b[32m━━━━━━━━━━━━━━━━━━━━\u001b[0m\u001b[37m\u001b[0m \u001b[1m21s\u001b[0m 10ms/step - loss: 4.3079\n",
            "Epoch 10/20\n",
            "\u001b[1m1254/1255\u001b[0m \u001b[32m━━━━━━━━━━━━━━━━━━━\u001b[0m\u001b[37m━\u001b[0m \u001b[1m0s\u001b[0m 8ms/step - loss: 4.1358\n",
            " mean perplexity: 2089.560258811275 \n",
            "\n",
            "Saved new model!\n",
            "\u001b[1m1255/1255\u001b[0m \u001b[32m━━━━━━━━━━━━━━━━━━━━\u001b[0m\u001b[37m\u001b[0m \u001b[1m20s\u001b[0m 9ms/step - loss: 4.1357\n",
            "Epoch 11/20\n",
            "\u001b[1m1252/1255\u001b[0m \u001b[32m━━━━━━━━━━━━━━━━━━━\u001b[0m\u001b[37m━\u001b[0m \u001b[1m0s\u001b[0m 10ms/step - loss: 3.9777\n",
            " mean perplexity: 2068.377560515874 \n",
            "\n",
            "Saved new model!\n",
            "\u001b[1m1255/1255\u001b[0m \u001b[32m━━━━━━━━━━━━━━━━━━━━\u001b[0m\u001b[37m\u001b[0m \u001b[1m24s\u001b[0m 12ms/step - loss: 3.9777\n",
            "Epoch 12/20\n",
            "\u001b[1m1253/1255\u001b[0m \u001b[32m━━━━━━━━━━━━━━━━━━━\u001b[0m\u001b[37m━\u001b[0m \u001b[1m0s\u001b[0m 8ms/step - loss: 3.8373\n",
            " mean perplexity: 2152.7631082910266 \n",
            "\n",
            "\u001b[1m1255/1255\u001b[0m \u001b[32m━━━━━━━━━━━━━━━━━━━━\u001b[0m\u001b[37m\u001b[0m \u001b[1m17s\u001b[0m 10ms/step - loss: 3.8372\n",
            "Epoch 13/20\n",
            "\u001b[1m1252/1255\u001b[0m \u001b[32m━━━━━━━━━━━━━━━━━━━\u001b[0m\u001b[37m━\u001b[0m \u001b[1m0s\u001b[0m 8ms/step - loss: 3.7130\n",
            " mean perplexity: 1940.0416119024567 \n",
            "\n",
            "Saved new model!\n",
            "\u001b[1m1255/1255\u001b[0m \u001b[32m━━━━━━━━━━━━━━━━━━━━\u001b[0m\u001b[37m\u001b[0m \u001b[1m21s\u001b[0m 10ms/step - loss: 3.7129\n",
            "Epoch 14/20\n",
            "\u001b[1m1251/1255\u001b[0m \u001b[32m━━━━━━━━━━━━━━━━━━━\u001b[0m\u001b[37m━\u001b[0m \u001b[1m0s\u001b[0m 7ms/step - loss: 3.5957\n",
            " mean perplexity: 1951.5081300961692 \n",
            "\n",
            "\u001b[1m1255/1255\u001b[0m \u001b[32m━━━━━━━━━━━━━━━━━━━━\u001b[0m\u001b[37m\u001b[0m \u001b[1m22s\u001b[0m 11ms/step - loss: 3.5956\n",
            "Epoch 15/20\n",
            "\u001b[1m1251/1255\u001b[0m \u001b[32m━━━━━━━━━━━━━━━━━━━\u001b[0m\u001b[37m━\u001b[0m \u001b[1m0s\u001b[0m 8ms/step - loss: 3.4970\n",
            " mean perplexity: 2663.595587615571 \n",
            "\n",
            "\u001b[1m1255/1255\u001b[0m \u001b[32m━━━━━━━━━━━━━━━━━━━━\u001b[0m\u001b[37m\u001b[0m \u001b[1m12s\u001b[0m 10ms/step - loss: 3.4969\n",
            "Epoch 16/20\n",
            "\u001b[1m1253/1255\u001b[0m \u001b[32m━━━━━━━━━━━━━━━━━━━\u001b[0m\u001b[37m━\u001b[0m \u001b[1m0s\u001b[0m 8ms/step - loss: 3.3995\n",
            " mean perplexity: 1628.1754205348007 \n",
            "\n",
            "Saved new model!\n",
            "\u001b[1m1255/1255\u001b[0m \u001b[32m━━━━━━━━━━━━━━━━━━━━\u001b[0m\u001b[37m\u001b[0m \u001b[1m20s\u001b[0m 10ms/step - loss: 3.3994\n",
            "Epoch 17/20\n",
            "\u001b[1m1248/1255\u001b[0m \u001b[32m━━━━━━━━━━━━━━━━━━━\u001b[0m\u001b[37m━\u001b[0m \u001b[1m0s\u001b[0m 8ms/step - loss: 3.2886\n",
            " mean perplexity: 1741.192712549726 \n",
            "\n",
            "\u001b[1m1255/1255\u001b[0m \u001b[32m━━━━━━━━━━━━━━━━━━━━\u001b[0m\u001b[37m\u001b[0m \u001b[1m20s\u001b[0m 9ms/step - loss: 3.2886\n",
            "Epoch 18/20\n",
            "\u001b[1m1252/1255\u001b[0m \u001b[32m━━━━━━━━━━━━━━━━━━━\u001b[0m\u001b[37m━\u001b[0m \u001b[1m0s\u001b[0m 7ms/step - loss: 3.2142\n",
            " mean perplexity: 1748.735673840392 \n",
            "\n",
            "\u001b[1m1255/1255\u001b[0m \u001b[32m━━━━━━━━━━━━━━━━━━━━\u001b[0m\u001b[37m\u001b[0m \u001b[1m20s\u001b[0m 9ms/step - loss: 3.2142\n",
            "Epoch 19/20\n",
            "\u001b[1m1249/1255\u001b[0m \u001b[32m━━━━━━━━━━━━━━━━━━━\u001b[0m\u001b[37m━\u001b[0m \u001b[1m0s\u001b[0m 8ms/step - loss: 3.1161\n",
            " mean perplexity: 1878.5479961548097 \n",
            "\n",
            "\u001b[1m1255/1255\u001b[0m \u001b[32m━━━━━━━━━━━━━━━━━━━━\u001b[0m\u001b[37m\u001b[0m \u001b[1m22s\u001b[0m 10ms/step - loss: 3.1161\n",
            "Epoch 20/20\n",
            "\u001b[1m1254/1255\u001b[0m \u001b[32m━━━━━━━━━━━━━━━━━━━\u001b[0m\u001b[37m━\u001b[0m \u001b[1m0s\u001b[0m 8ms/step - loss: 3.0435\n",
            " mean perplexity: 1537.057056011529 \n",
            "\n",
            "Saved new model!\n",
            "\u001b[1m1255/1255\u001b[0m \u001b[32m━━━━━━━━━━━━━━━━━━━━\u001b[0m\u001b[37m\u001b[0m \u001b[1m21s\u001b[0m 10ms/step - loss: 3.0434\n"
          ]
        }
      ],
      "source": [
        "# Entrenamos el modelo\n",
        "history_ppl = []\n",
        "hist = model.fit(X, y, epochs=20,callbacks=[PplCallback(tokenized_sentences_val,history_ppl)], batch_size=16)"
      ]
    },
    {
      "cell_type": "code",
      "execution_count": null,
      "metadata": {
        "id": "K30JHB3Dv-mx",
        "colab": {
          "base_uri": "https://localhost:8080/",
          "height": 430
        },
        "outputId": "ff97d6e4-5b9a-47e1-a887-43fa062c3cfe"
      },
      "outputs": [
        {
          "output_type": "display_data",
          "data": {
            "text/plain": [
              "<Figure size 640x480 with 1 Axes>"
            ],
            "image/png": "[encoded data removed]"
          },
          "metadata": {}
        }
      ],
      "source": [
        "import matplotlib.pyplot as plt\n",
        "import seaborn as sns\n",
        "\n",
        "# Podemos graficar la evolución de la perplejidad con las épocas.\n",
        "# Recordar que el valor de perplejidad del modelo trivial es el tamaño del vocabulario.\n",
        "epoch_count = range(1, len(history_ppl) + 1)\n",
        "sns.lineplot(x=epoch_count,  y=history_ppl)\n",
        "plt.show()"
      ]
    },
    {
      "cell_type": "markdown",
      "source": [
        "La gráfica muestra que el modelo inicialmente tiene dificultades de aprendizaje, alcanzando valores muy altos de perplejidad en las primeras epocas. Sin embargo, a medida que avanza el entrenamiento, el modelo mejora significativamente su capacidad de predicción, reduciendo la perplejidad hacia el final del proceso."
      ],
      "metadata": {
        "id": "BcMhczyZpkyP"
      }
    },
    {
      "cell_type": "code",
      "execution_count": null,
      "metadata": {
        "id": "Rhy5hZN38qfO"
      },
      "outputs": [],
      "source": [
        "# Cargamos el mejor modelo guardado del entrenamiento para hacer inferencia\n",
        "model = keras.models.load_model('my_model2.keras')"
      ]
    },
    {
      "cell_type": "markdown",
      "metadata": {
        "id": "KN6Fg_BsxJe6"
      },
      "source": [
        "\n",
        "### Predicción de próxima palabra"
      ]
    },
    {
      "cell_type": "code",
      "execution_count": null,
      "metadata": {
        "id": "iy_AXWQWzeeE"
      },
      "outputs": [],
      "source": [
        "# Se puede usar gradio para probar el modelo\n",
        "# Gradio es una herramienta muy útil para crear interfaces para ensayar modelos\n",
        "# https://gradio.app/\n",
        "\n",
        "!pip install -q gradio"
      ]
    },
    {
      "cell_type": "code",
      "execution_count": null,
      "metadata": {
        "id": "IBvKHFPmzpy2",
        "colab": {
          "base_uri": "https://localhost:8080/",
          "height": 695
        },
        "outputId": "c8e804d9-ad82-47a9-ae57-7012c55f7db6"
      },
      "outputs": [
        {
          "output_type": "stream",
          "name": "stdout",
          "text": [
            "Running Gradio in a Colab notebook requires sharing enabled. Automatically setting `share=True` (you can turn this off by setting `share=False` in `launch()` explicitly).\n",
            "\n",
            "Colab notebook detected. This cell will run indefinitely so that you can see errors and logs. To turn off, set debug=False in launch().\n",
            "* Running on public URL: https://dbc558cf306e887197.gradio.live\n",
            "\n",
            "This share link expires in 72 hours. For free permanent hosting and GPU upgrades, run `gradio deploy` from the terminal in the working directory to deploy to Hugging Face Spaces (https://huggingface.co/spaces)\n"
          ]
        },
        {
          "output_type": "display_data",
          "data": {
            "text/plain": [
              "<IPython.core.display.HTML object>"
            ],
            "text/html": [
              "<div><iframe src=\"https://dbc558cf306e887197.gradio.live\" width=\"100%\" height=\"500\" allow=\"autoplay; camera; microphone; clipboard-read; clipboard-write;\" frameborder=\"0\" allowfullscreen></iframe></div>"
            ]
          },
          "metadata": {}
        },
        {
          "output_type": "stream",
          "name": "stdout",
          "text": [
            "\u001b[1m1/1\u001b[0m \u001b[32m━━━━━━━━━━━━━━━━━━━━\u001b[0m\u001b[37m\u001b[0m \u001b[1m0s\u001b[0m 217ms/step\n",
            "\u001b[1m1/1\u001b[0m \u001b[32m━━━━━━━━━━━━━━━━━━━━\u001b[0m\u001b[37m\u001b[0m \u001b[1m0s\u001b[0m 26ms/step\n",
            "Keyboard interruption in main thread... closing server.\n",
            "Killing tunnel 127.0.0.1:7860 <> https://dbc558cf306e887197.gradio.live\n"
          ]
        },
        {
          "output_type": "execute_result",
          "data": {
            "text/plain": []
          },
          "metadata": {},
          "execution_count": 40
        }
      ],
      "source": [
        "import gradio as gr\n",
        "\n",
        "def model_response(human_text):\n",
        "\n",
        "    # Encodeamos\n",
        "    encoded = tok.texts_to_sequences([human_text])[0]\n",
        "    # Si tienen distinto largo\n",
        "    encoded = pad_sequences([encoded], maxlen=max_context_size, padding='pre')\n",
        "\n",
        "    # Predicción softmax\n",
        "    y_hat = np.argmax(model.predict(encoded)[0,-1,:])\n",
        "\n",
        "\n",
        "    # Debemos buscar en el vocabulario la palabra\n",
        "    # que corresopnde al indice (y_hat) predicho por le modelo\n",
        "    out_word = ''\n",
        "    for word, index in tok.word_index.items():\n",
        "        if index == y_hat:\n",
        "            out_word = word\n",
        "            break\n",
        "\n",
        "    # Agrego la palabra a la frase predicha\n",
        "    return human_text + ' ' + out_word\n",
        "\n",
        "iface = gr.Interface(\n",
        "    fn=model_response,\n",
        "    inputs=[\"textbox\"],\n",
        "    outputs=\"text\")\n",
        "\n",
        "iface.launch(debug=True)"
      ]
    },
    {
      "cell_type": "markdown",
      "metadata": {
        "id": "mCeMWWupxN1-"
      },
      "source": [
        "### Generación de secuencias"
      ]
    },
    {
      "cell_type": "code",
      "execution_count": null,
      "metadata": {
        "id": "bwbS_pfhxvB3"
      },
      "outputs": [],
      "source": [
        "def generate_seq(model, tokenizer, seed_text, max_length, n_words):\n",
        "    \"\"\"\n",
        "        Exec model sequence prediction\n",
        "\n",
        "        Args:\n",
        "            model (keras): modelo entrenado\n",
        "            tokenizer (keras tokenizer): tonenizer utilizado en el preprocesamiento\n",
        "            seed_text (string): texto de entrada (input_seq)\n",
        "            max_length (int): máxima longitud de la sequencia de entrada\n",
        "            n_words (int): números de palabras a agregar a la sequencia de entrada\n",
        "        returns:\n",
        "            output_text (string): sentencia con las \"n_words\" agregadas\n",
        "    \"\"\"\n",
        "    output_text = seed_text\n",
        "\t  # generate a fixed number of words\n",
        "    for _ in range(n_words):\n",
        "\t\t  # Tokenizamos\n",
        "      encoded = tokenizer.texts_to_sequences([output_text])[0]\n",
        "\n",
        "\t\t  # Si tienen distinto largo\n",
        "      encoded = pad_sequences([encoded], maxlen=max_length, padding='pre')\n",
        "\n",
        "\t\t  # Predicción softmax\n",
        "      y_hat = np.argmax(model.predict(encoded)[0,-1,:])\n",
        "\n",
        "      # Vamos concatenando las predicciones\n",
        "      out_word = ''\n",
        "\n",
        "      # Debemos buscar en el vocabulario la palabra\n",
        "      # que corresopnde al indice (y_hat) predicho por le modelo\n",
        "      for word, index in tokenizer.word_index.items():\n",
        "        if index == y_hat:\n",
        "          out_word = word\n",
        "          break\n",
        "\n",
        "\t\t  # Agrego las palabras a la frase predicha\n",
        "      output_text += ' ' + out_word\n",
        "\n",
        "    return output_text"
      ]
    },
    {
      "cell_type": "code",
      "execution_count": null,
      "metadata": {
        "id": "JoFqRC5pxzqS",
        "colab": {
          "base_uri": "https://localhost:8080/",
          "height": 209
        },
        "outputId": "b442f4e6-9548-4edb-8864-c0c2b632dea2"
      },
      "outputs": [
        {
          "output_type": "stream",
          "name": "stdout",
          "text": [
            "\u001b[1m1/1\u001b[0m \u001b[32m━━━━━━━━━━━━━━━━━━━━\u001b[0m\u001b[37m\u001b[0m \u001b[1m0s\u001b[0m 18ms/step\n",
            "\u001b[1m1/1\u001b[0m \u001b[32m━━━━━━━━━━━━━━━━━━━━\u001b[0m\u001b[37m\u001b[0m \u001b[1m0s\u001b[0m 22ms/step\n",
            "\u001b[1m1/1\u001b[0m \u001b[32m━━━━━━━━━━━━━━━━━━━━\u001b[0m\u001b[37m\u001b[0m \u001b[1m0s\u001b[0m 18ms/step\n",
            "\u001b[1m1/1\u001b[0m \u001b[32m━━━━━━━━━━━━━━━━━━━━\u001b[0m\u001b[37m\u001b[0m \u001b[1m0s\u001b[0m 16ms/step\n",
            "\u001b[1m1/1\u001b[0m \u001b[32m━━━━━━━━━━━━━━━━━━━━\u001b[0m\u001b[37m\u001b[0m \u001b[1m0s\u001b[0m 19ms/step\n",
            "\u001b[1m1/1\u001b[0m \u001b[32m━━━━━━━━━━━━━━━━━━━━\u001b[0m\u001b[37m\u001b[0m \u001b[1m0s\u001b[0m 23ms/step\n",
            "\u001b[1m1/1\u001b[0m \u001b[32m━━━━━━━━━━━━━━━━━━━━\u001b[0m\u001b[37m\u001b[0m \u001b[1m0s\u001b[0m 21ms/step\n",
            "\u001b[1m1/1\u001b[0m \u001b[32m━━━━━━━━━━━━━━━━━━━━\u001b[0m\u001b[37m\u001b[0m \u001b[1m0s\u001b[0m 20ms/step\n",
            "\u001b[1m1/1\u001b[0m \u001b[32m━━━━━━━━━━━━━━━━━━━━\u001b[0m\u001b[37m\u001b[0m \u001b[1m0s\u001b[0m 17ms/step\n",
            "\u001b[1m1/1\u001b[0m \u001b[32m━━━━━━━━━━━━━━━━━━━━\u001b[0m\u001b[37m\u001b[0m \u001b[1m0s\u001b[0m 17ms/step\n"
          ]
        },
        {
          "output_type": "execute_result",
          "data": {
            "text/plain": [
              "'Her eyes were fixed on her own complaints and not a very man of it'"
            ],
            "application/vnd.google.colaboratory.intrinsic+json": {
              "type": "string"
            }
          },
          "metadata": {},
          "execution_count": 42
        }
      ],
      "source": [
        "\n",
        "input_text='Her eyes were fixed on'\n",
        "\n",
        "generate_seq(model, tok, input_text, max_length=max_context_size, n_words=10)"
      ]
    },
    {
      "cell_type": "markdown",
      "metadata": {
        "id": "drJ6xn5qW1Hl"
      },
      "source": [
        "###  Beam search y muestreo aleatorio"
      ]
    },
    {
      "cell_type": "code",
      "execution_count": null,
      "metadata": {
        "id": "_vovn9XZW1Hl"
      },
      "outputs": [],
      "source": [
        "# funcionalidades para hacer encoding y decoding\n",
        "\n",
        "def encode(text,max_length=max_context_size):\n",
        "\n",
        "    encoded = tok.texts_to_sequences([text])[0]\n",
        "    encoded = pad_sequences([encoded], maxlen=max_length, padding='pre')\n",
        "\n",
        "    return encoded\n",
        "\n",
        "def decode(seq):\n",
        "    return tok.sequences_to_texts([seq])"
      ]
    },
    {
      "cell_type": "code",
      "execution_count": null,
      "metadata": {
        "id": "I_lZiQwkW1Hl"
      },
      "outputs": [],
      "source": [
        "from scipy.special import softmax\n",
        "\n",
        "# función que selecciona candidatos para el beam search\n",
        "def select_candidates(pred,num_beams,vocab_size,history_probs,history_tokens,temp,mode):\n",
        "\n",
        "  # colectar todas las probabilidades para la siguiente búsqueda\n",
        "  pred_large = []\n",
        "\n",
        "  for idx,pp in enumerate(pred):\n",
        "    pred_large.extend(np.log(pp+1E-10)+history_probs[idx])\n",
        "\n",
        "  pred_large = np.array(pred_large)\n",
        "\n",
        "  # criterio de selección\n",
        "  if mode == 'det':\n",
        "    idx_select = np.argsort(pred_large)[::-1][:num_beams] # beam search determinista\n",
        "  elif mode == 'sto':\n",
        "    idx_select = np.random.choice(np.arange(pred_large.shape[0]), num_beams, p=softmax(pred_large/temp)) # beam search con muestreo aleatorio\n",
        "  else:\n",
        "    raise ValueError(f'Wrong selection mode. {mode} was given. det and sto are supported.')\n",
        "\n",
        "  # traducir a índices de token en el vocabulario\n",
        "  new_history_tokens = np.concatenate((np.array(history_tokens)[idx_select//vocab_size],\n",
        "                        np.array([idx_select%vocab_size]).T),\n",
        "                      axis=1)\n",
        "\n",
        "  # devolver el producto de las probabilidades (log) y la secuencia de tokens seleccionados\n",
        "  return pred_large[idx_select.astype(int)], new_history_tokens.astype(int)\n",
        "\n",
        "\n",
        "def beam_search(model,num_beams,num_words,input,temp=1,mode='det'):\n",
        "\n",
        "    # first iteration\n",
        "\n",
        "    # encode\n",
        "    encoded = encode(input)\n",
        "\n",
        "    # first prediction\n",
        "    y_hat = model.predict(encoded,verbose=0)[0,-1,:]\n",
        "\n",
        "    # get vocabulary size\n",
        "    vocab_size = y_hat.shape[0]\n",
        "\n",
        "    # initialize history\n",
        "    history_probs = [0]*num_beams\n",
        "    history_tokens = [encoded[0]]*num_beams\n",
        "\n",
        "    # select num_beams candidates\n",
        "    history_probs, history_tokens = select_candidates([y_hat],\n",
        "                                        num_beams,\n",
        "                                        vocab_size,\n",
        "                                        history_probs,\n",
        "                                        history_tokens,\n",
        "                                        temp,\n",
        "                                        mode)\n",
        "\n",
        "    # beam search loop\n",
        "    for i in range(num_words-1):\n",
        "\n",
        "      preds = []\n",
        "\n",
        "      for hist in history_tokens:\n",
        "\n",
        "        # actualizar secuencia de tokens\n",
        "        input_update = np.array([hist[i+1:]]).copy()\n",
        "\n",
        "        # predicción\n",
        "        y_hat = model.predict(input_update,verbose=0)[0,-1,:]\n",
        "\n",
        "        preds.append(y_hat)\n",
        "\n",
        "      history_probs, history_tokens = select_candidates(preds,\n",
        "                                                        num_beams,\n",
        "                                                        vocab_size,\n",
        "                                                        history_probs,\n",
        "                                                        history_tokens,\n",
        "                                                        temp,\n",
        "                                                        mode)\n",
        "\n",
        "    return history_tokens\n"
      ]
    },
    {
      "cell_type": "code",
      "execution_count": null,
      "metadata": {
        "id": "GeLqAoOYW1Hm"
      },
      "outputs": [],
      "source": [
        "# predicción con beam search.\n",
        "# Se pueden cambiar los modos entre 'det' (determinista) y\n",
        "# 'sto' (estocástico)\n",
        "# para el caso estocástico también se puede variar la temperatura\n",
        "salidas = beam_search(model,num_beams=10,num_words=6,input=\"Her eyes were fixed on\",temp=1,mode='sto')"
      ]
    },
    {
      "cell_type": "code",
      "source": [
        "# tenemos `num_beams` salidas ordenadas de mayor a menor likelihood\n",
        "salidas.shape"
      ],
      "metadata": {
        "id": "BTXmGihmcOaL",
        "colab": {
          "base_uri": "https://localhost:8080/"
        },
        "outputId": "c1487bf6-3621-4121-e92c-2d51f6581bb0"
      },
      "execution_count": null,
      "outputs": [
        {
          "output_type": "execute_result",
          "data": {
            "text/plain": [
              "(10, 35)"
            ]
          },
          "metadata": {},
          "execution_count": 46
        }
      ]
    },
    {
      "cell_type": "code",
      "execution_count": null,
      "metadata": {
        "id": "2S3_I3S1W1Hm",
        "colab": {
          "base_uri": "https://localhost:8080/"
        },
        "outputId": "c4df73b6-63df-4b6b-857d-782828662013"
      },
      "outputs": [
        {
          "output_type": "execute_result",
          "data": {
            "text/plain": [
              "['her eyes were fixed on one others and to be called']"
            ]
          },
          "metadata": {},
          "execution_count": 47
        }
      ],
      "source": [
        "# veamos las salidas\n",
        "decode(salidas[0])"
      ]
    },
    {
      "cell_type": "code",
      "source": [
        "# predicción con beam search.\n",
        "# Se pueden cambiar los modos entre 'det' (determinista) y\n",
        "# 'sto' (estocástico)\n",
        "# para el caso estocástico también se puede variar la temperatura\n",
        "salidas = beam_search(model,num_beams=10,num_words=6,input=\"Her eyes were fixed on\",temp=1,mode='det')"
      ],
      "metadata": {
        "id": "-VyX1g9ue8oV"
      },
      "execution_count": null,
      "outputs": []
    },
    {
      "cell_type": "code",
      "source": [
        "# tenemos `num_beams` salidas ordenadas de mayor a menor likelihood\n",
        "salidas.shape"
      ],
      "metadata": {
        "id": "RNVwlvsle-rF",
        "colab": {
          "base_uri": "https://localhost:8080/"
        },
        "outputId": "e0d13d8f-d89d-455b-93fa-fa3689a7ddf4"
      },
      "execution_count": null,
      "outputs": [
        {
          "output_type": "execute_result",
          "data": {
            "text/plain": [
              "(10, 35)"
            ]
          },
          "metadata": {},
          "execution_count": 49
        }
      ]
    },
    {
      "cell_type": "code",
      "source": [
        "# veamos las salidas\n",
        "decode(salidas[0])"
      ],
      "metadata": {
        "id": "xshjt53ge_tq",
        "colab": {
          "base_uri": "https://localhost:8080/"
        },
        "outputId": "59d70e34-e0fc-49df-cb61-ee6f3820bca2"
      },
      "execution_count": null,
      "outputs": [
        {
          "output_type": "execute_result",
          "data": {
            "text/plain": [
              "[\"her eyes were fixed on mr elliot ' s being the\"]"
            ]
          },
          "metadata": {},
          "execution_count": 50
        }
      ]
    },
    {
      "cell_type": "markdown",
      "metadata": {
        "id": "Q_LlqmtEW1Hn"
      },
      "source": [
        "Se llega a un buen resultado cuando se intenta predecir la siguiente palabra.\n",
        "\n",
        "Oración de prueba -> 'Her eyes were fixed on'\n",
        "Predicción -> 'her'\n",
        "\n",
        "Lo cual tiene sentido semántico.\n",
        "\n",
        "No obstante, cuando se trata de predecir secuencias más largas, el modelo parece tener más dificultades y perder el sentido hacia el final de la oración.\n",
        "\n",
        "Si bien el modelo hace una buena predicción a nivel de palabras individuales, tiene dificultades en mantener la coherencia y el significado cuando se trata de generar predicciones más extensas.\n",
        "\n"
      ]
    },
    {
      "cell_type": "code",
      "source": [],
      "metadata": {
        "id": "ltqRi8Ky0VDh"
      },
      "execution_count": null,
      "outputs": []
    }
  ],
  "metadata": {
    "colab": {
      "provenance": [],
      "gpuType": "T4"
    },
    "kernelspec": {
      "display_name": "Python 3",
      "name": "python3"
    },
    "language_info": {
      "name": "python"
    },
    "accelerator": "GPU"
  },
  "nbformat": 4,
  "nbformat_minor": 0
}